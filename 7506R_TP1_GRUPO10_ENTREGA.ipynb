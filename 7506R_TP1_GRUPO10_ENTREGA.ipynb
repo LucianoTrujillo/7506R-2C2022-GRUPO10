{
  "nbformat": 4,
  "nbformat_minor": 0,
  "metadata": {
    "colab": {
      "provenance": [],
      "collapsed_sections": [],
      "private_outputs": true,
      "include_colab_link": true
    },
    "kernelspec": {
      "name": "python3",
      "display_name": "Python 3"
    },
    "language_info": {
      "name": "python"
    }
  },
  "cells": [
    {
      "cell_type": "markdown",
      "metadata": {
        "id": "view-in-github",
        "colab_type": "text"
      },
      "source": [
        "<a href=\"https://colab.research.google.com/github/LucianoTrujillo/7506R-2C2022-GRUPO10/blob/main/7506R_TP1_GRUPO10_ENTREGA.ipynb\" target=\"_parent\"><img src=\"https://colab.research.google.com/assets/colab-badge.svg\" alt=\"Open In Colab\"/></a>"
      ]
    },
    {
      "cell_type": "markdown",
      "source": [
        "\n",
        "#**TP1: Propiedades en Venta**\n",
        "\n",
        "\n",
        "\n",
        "---\n",
        "\n",
        "\n",
        "---\n",
        "\n",
        "\n",
        "## *Facultad de Ingeniería, Universidad de Buenos Aires*\n",
        "\n",
        "---\n",
        "### *2do Cuatrimestre de 2022*\n",
        "\n",
        "---\n",
        "### *Organización de Datos*\n",
        "\n",
        "### *Curso: Rodriguez*\n",
        "\n",
        "### *Integrantes:*\n",
        "\n",
        "* Luciano Leon Trujillo Palomo ltrujillo@fi.uba.ar 105664\n",
        "* María Pilar Gaddi mgaddi@fi.uba.ar 105682\n",
        "* Federico Adrian Solari Vazquez fsolariv@fi.uba.ar 106895\n",
        "\n",
        "---"
      ],
      "metadata": {
        "id": "MmbC-hjg-VgY"
      }
    },
    {
      "cell_type": "markdown",
      "source": [
        "## **Objetivo del trabajo**\n",
        "\n",
        "---\n",
        "---\n",
        "\n",
        "El objetivo de la siguiente investigación es comparar:\n",
        "\n",
        "* bla\n",
        "\n",
        "---\n",
        "\n",
        "\n",
        "\n"
      ],
      "metadata": {
        "id": "EjceJ-FBO2FD"
      }
    },
    {
      "cell_type": "code",
      "source": [
        "import pandas as pd\n",
        "\n",
        "url='https://drive.google.com/file/d/1z05Y6UwTu8fz1DpeE4JlRoyjJx_vPKmM/view'\n",
        "file_id=url.split('/')[-2]\n",
        "dwn_url='https://drive.google.com/uc?id=' + file_id\n",
        "\n",
        "df = pd.read_csv(dwn_url, iterator=True)\n",
        "df = pd.concat(df, ignore_index=True)\n",
        "df.head(20)"
      ],
      "metadata": {
        "id": "cjU1vXHUIZ82"
      },
      "execution_count": null,
      "outputs": []
    }
  ]
}