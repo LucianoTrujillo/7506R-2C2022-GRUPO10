{
  "cells": [
    {
      "cell_type": "markdown",
      "metadata": {
        "id": "view-in-github",
        "colab_type": "text"
      },
      "source": [
        "<a href=\"https://colab.research.google.com/github/LucianoTrujillo/7506R-2C2022-GRUPO10/blob/main/7506R_TP1_GRUPO10_ENTREGA.ipynb\" target=\"_parent\"><img src=\"https://colab.research.google.com/assets/colab-badge.svg\" alt=\"Open In Colab\"/></a>"
      ]
    },
    {
      "cell_type": "markdown",
      "source": [
        "\n",
        "#**TP1: Propiedades en Venta**\n",
        "\n",
        "\n",
        "\n",
        "---\n",
        "\n",
        "\n",
        "---\n",
        "\n",
        "\n",
        "## *Facultad de Ingeniería, Universidad de Buenos Aires*\n",
        "\n",
        "---\n",
        "### *2do Cuatrimestre de 2022*\n",
        "\n",
        "---\n",
        "### *Organización de Datos*\n",
        "\n",
        "### *Curso: Rodriguez*\n",
        "\n",
        "### *Integrantes:*\n",
        "\n",
        "* Luciano Leon Trujillo Palomo ltrujillo@fi.uba.ar 105664\n",
        "* María Pilar Gaddi mgaddi@fi.uba.ar 105682\n",
        "* Federico Adrian Solari Vazquez fsolariv@fi.uba.ar 106895\n",
        "* Maria Vazquez Navarro mvazquezn@fi.uba.ar 105576\n",
        "* Mateo Bulnes mbulnes@fi.uba.ar 106211\n",
        "---"
      ],
      "metadata": {
        "id": "MmbC-hjg-VgY",
        "cell_id": "23b00fb618554707860e5029d93ca2e2",
        "deepnote_cell_type": "markdown"
      }
    },
    {
      "cell_type": "markdown",
      "source": [
        "## **Objetivo del trabajo**\n",
        "\n",
        "---\n",
        "---\n",
        "\n",
        "El objetivo de la siguiente investigación es aplicar técnicas de análisis exploratorio, preprocesamiento\n",
        "de datos, agrupamiento, clasificación y regresión sobre un dataset real y poder obtener conclusiones y predicciones útiles. En especial, identificamos tres objetivos individuales:\n",
        "* analizar si es posible agrupar los datos en función de\n",
        "algún criterio, identificando a qué obedece el mismo.\n",
        "* clasificar cada anuncio en tres categorías relacionadas al\n",
        "precio de venta (alto, medio y bajo).\n",
        "* predecir el precio de venta en dólares de una propiedad tipo\n",
        "vivienda ubicada en Capital Federal.\n",
        "\n",
        "---\n",
        "\n",
        "\n",
        "\n"
      ],
      "metadata": {
        "id": "EjceJ-FBO2FD",
        "cell_id": "033735ab41184ed39f7f664cd459bcc2",
        "deepnote_cell_type": "markdown"
      }
    },
    {
      "cell_type": "markdown",
      "source": [
        "## **Setup previo**\n"
      ],
      "metadata": {
        "id": "5_KX0EDafNjW"
      }
    },
    {
      "cell_type": "markdown",
      "source": [
        "Importamos todas las librerías a utilizar a lo largo del trabajo:"
      ],
      "metadata": {
        "id": "k2xOFAXeeCwG"
      }
    },
    {
      "cell_type": "code",
      "source": [
        "import pandas as pd\n",
        "import numpy as np\n",
        "import seaborn as sns\n",
        "import matplotlib.pyplot as plt\n",
        "from matplotlib import cm\n",
        "\n",
        "# para pca\n",
        "from sklearn import datasets\n",
        "import warnings\n",
        "warnings.simplefilter(action='ignore', category=FutureWarning)\n",
        "from sklearn.preprocessing import StandardScaler\n",
        "\n"
      ],
      "metadata": {
        "id": "ZUd0sPK1eBJf"
      },
      "execution_count": 773,
      "outputs": []
    },
    {
      "cell_type": "markdown",
      "source": [
        "Importamos el dataset original y lo guardamos para su posterior uso:"
      ],
      "metadata": {
        "id": "Mq6gr4q3eXGj"
      }
    },
    {
      "cell_type": "code",
      "source": [
        "\n",
        "dwn_url='https://drive.google.com/uc?id=1z05Y6UwTu8fz1DpeE4JlRoyjJx_vPKmM'\n",
        "ds_original = pd.read_csv(dwn_url)\n",
        "ds_original.head(5)"
      ],
      "metadata": {
        "id": "cjU1vXHUIZ82",
        "cell_id": "90985f28856d4efbbdea7a3e2f18a7d7",
        "source_hash": "ad61b692",
        "execution_start": 1665162061506,
        "execution_millis": 8294,
        "deepnote_table_state": {
          "sortBy": [],
          "filters": [],
          "pageSize": 10,
          "pageIndex": 0
        },
        "deepnote_table_loading": false,
        "deepnote_to_be_reexecuted": false,
        "deepnote_cell_type": "code"
      },
      "outputs": [],
      "execution_count": null
    },
    {
      "cell_type": "code",
      "source": [
        "def mostrar_metadata_grafico(titulo, ylabel=None, xlabel=None, leyendas=None):\n",
        "  plt.title(titulo)\n",
        "  if ylabel:\n",
        "    plt.ylabel = ylabel\n",
        "  if xlabel:\n",
        "    plt.xlabel = xlabel\n",
        "  if leyendas:\n",
        "    plt.legend = leyendas\n",
        "  plt.show()\n"
      ],
      "metadata": {
        "id": "3bMl4XWeoL2F"
      },
      "execution_count": null,
      "outputs": []
    },
    {
      "cell_type": "markdown",
      "source": [
        "\n",
        "---\n",
        "---\n",
        "\n",
        "\n",
        "# Análisis Exploratorio y Preprocesamiento de Datos\n",
        "---\n",
        "---\n",
        "\n"
      ],
      "metadata": {
        "tags": [],
        "cell_id": "86abdee2-9e00-4cd8-87b0-ab9ccdf7153c",
        "is_collapsed": false,
        "formattedRanges": [],
        "deepnote_cell_type": "text-cell-h1",
        "id": "m6vyz_spbf0l"
      }
    },
    {
      "cell_type": "markdown",
      "source": [
        "## Pre-selección de datos\n",
        "---\n",
        "El primer paso consiste en la selección de los datos que se van a utilizar, se deben filtrar\n",
        "únicamente los anuncios de propiedades de tipo vivienda ( Casa, PH y Departamento ) ubicados\n",
        "en Capital Federal cuyo tipo de operación sea venta y su precio se encuentre en dólares (USD)."
      ],
      "metadata": {
        "id": "IekUD2nHfY-0"
      }
    },
    {
      "cell_type": "markdown",
      "source": [
        "Primero filtramos por tipo de vivienda:"
      ],
      "metadata": {
        "tags": [],
        "cell_id": "f387f88f55fb4a3ca01065c45467e008",
        "is_collapsed": false,
        "formattedRanges": [],
        "deepnote_cell_type": "text-cell-p",
        "id": "U1gzaAMrbf0n"
      }
    },
    {
      "cell_type": "code",
      "source": [
        "ds = ds_original.copy()\n",
        "ds = ds.query('property_type == \"Casa\" or property_type == \"Departamento\" or property_type == \"PH\"')"
      ],
      "metadata": {
        "tags": [],
        "cell_id": "addae4a31d3b440e97911cf619d651af",
        "source_hash": "2a3230ed",
        "execution_start": 1665162069813,
        "execution_millis": 213,
        "deepnote_table_state": {
          "sortBy": [],
          "filters": [],
          "pageSize": 10,
          "pageIndex": 0
        },
        "deepnote_table_loading": false,
        "deepnote_to_be_reexecuted": false,
        "deepnote_cell_type": "code",
        "id": "hGACwI9vbf0o"
      },
      "outputs": [],
      "execution_count": null
    },
    {
      "cell_type": "markdown",
      "source": [
        "Luego filtramos los ubicados en Capital Federal: \n",
        "\n"
      ],
      "metadata": {
        "tags": [],
        "cell_id": "6e9e412dd7cd472aa135cee0b7d61f4e",
        "is_collapsed": false,
        "formattedRanges": [],
        "deepnote_cell_type": "text-cell-p",
        "id": "I2xkdjUUbf0o"
      }
    },
    {
      "cell_type": "code",
      "source": [
        "ds.query('\\\n",
        "place_l3==\"Capital Federal\" or \\\n",
        "place_l4==\"Capital Federal\" or \\\n",
        "place_l5==\"Capital Federal\" or \\\n",
        "place_l6==\"Capital Federal\"').size"
      ],
      "metadata": {
        "tags": [],
        "cell_id": "a9df9fa7007e43bba78a2cde97ba45bf",
        "source_hash": "91aee36e",
        "execution_start": 1665162070031,
        "execution_millis": 141,
        "deepnote_to_be_reexecuted": false,
        "deepnote_cell_type": "code",
        "id": "lbK_kzxJbf0p"
      },
      "outputs": [],
      "execution_count": null
    },
    {
      "cell_type": "markdown",
      "source": [
        "Observamos que la única columna que contiene a la clasificación de Capital Federal es place_l2, con lo cual con filtrar por l2, nos aseguramos de únicamente quedarnos con las filas que cumplan ser de Capital Federal."
      ],
      "metadata": {
        "tags": [],
        "cell_id": "23bb6881-d080-4a3c-b080-fc0b5f1b28e5",
        "is_collapsed": false,
        "formattedRanges": [],
        "deepnote_cell_type": "text-cell-p",
        "id": "2zRHit3Obf0p"
      }
    },
    {
      "cell_type": "code",
      "source": [
        "ds = ds.query('place_l2 == \"Capital Federal\"')"
      ],
      "metadata": {
        "tags": [],
        "cell_id": "0ede58039a264dd5b7e95c50b31c64f2",
        "source_hash": "727b074b",
        "execution_start": 1665162070214,
        "execution_millis": 0,
        "deepnote_to_be_reexecuted": false,
        "deepnote_cell_type": "code",
        "id": "uowHta4Dbf0p"
      },
      "outputs": [],
      "execution_count": null
    },
    {
      "cell_type": "markdown",
      "source": [
        "Filtramos por tipo de operación (Venta):"
      ],
      "metadata": {
        "tags": [],
        "cell_id": "437c236680ae4350b8effdc1799aac87",
        "is_collapsed": false,
        "formattedRanges": [],
        "deepnote_cell_type": "text-cell-p",
        "id": "YTrdzSq4bf0q"
      }
    },
    {
      "cell_type": "code",
      "source": [
        "ds = ds.query('operation == \"Venta\"')"
      ],
      "metadata": {
        "tags": [],
        "cell_id": "fdce103e1a4f4a1a8cfbe926177dde98",
        "source_hash": "16db664b",
        "execution_start": 1665162070272,
        "execution_millis": 0,
        "deepnote_to_be_reexecuted": false,
        "deepnote_cell_type": "code",
        "id": "1eCxcVAYbf0q"
      },
      "outputs": [],
      "execution_count": null
    },
    {
      "cell_type": "markdown",
      "source": [
        "Filtramos por moneda (USD):"
      ],
      "metadata": {
        "tags": [],
        "cell_id": "a1cf204fae9a452085d97229eb4427a6",
        "is_collapsed": false,
        "formattedRanges": [],
        "deepnote_cell_type": "text-cell-p",
        "id": "86Ccldl9bf0q"
      }
    },
    {
      "cell_type": "code",
      "source": [
        "ds = ds.query('property_currency == \"USD\"')"
      ],
      "metadata": {
        "tags": [],
        "cell_id": "c3ffb7db724f496a9b255c251b208e2f",
        "source_hash": "b1138978",
        "execution_start": 1665162070274,
        "execution_millis": 32,
        "deepnote_table_state": {
          "sortBy": [],
          "filters": [],
          "pageSize": 25,
          "pageIndex": 0
        },
        "deepnote_table_loading": false,
        "deepnote_to_be_reexecuted": false,
        "deepnote_cell_type": "code",
        "id": "oZMEKbqSbf0q"
      },
      "outputs": [],
      "execution_count": null
    },
    {
      "cell_type": "markdown",
      "source": [
        "Comparamos el tamaño del ds original y el que utilizaremos para el análisis en el trabajo:"
      ],
      "metadata": {
        "id": "4Z78PNVBgwm-"
      }
    },
    {
      "cell_type": "code",
      "source": [
        "print(\"Tamaño original:\", ds_original.shape, \"Tamaño actual\", ds.shape)"
      ],
      "metadata": {
        "id": "oI6lUo5Ag48m"
      },
      "execution_count": null,
      "outputs": []
    },
    {
      "cell_type": "markdown",
      "source": [
        "#### Filtrado de valores inválidos"
      ],
      "metadata": {
        "id": "KfF6n4Zpe_9t"
      }
    },
    {
      "cell_type": "markdown",
      "source": [
        "#####Duplicados"
      ],
      "metadata": {
        "id": "OyVuxP-Jlmxy"
      }
    },
    {
      "cell_type": "markdown",
      "source": [
        "Analizaremos la cantidad de duplicados del dataset."
      ],
      "metadata": {
        "id": "33diO702lpKD"
      }
    },
    {
      "cell_type": "code",
      "source": [
        "ds[ds.duplicated(subset=['id'])].shape[0]"
      ],
      "metadata": {
        "id": "j3i506-StHyw"
      },
      "execution_count": null,
      "outputs": []
    },
    {
      "cell_type": "markdown",
      "source": [
        "Observamos que no hay datos duplicados segun el id. "
      ],
      "metadata": {
        "id": "qlSfhnR7tGom"
      }
    },
    {
      "cell_type": "code",
      "source": [
        "columnas = ds.columns.to_list()#\n",
        "columnas.remove('id')\n",
        "ds_aux=ds[ds.duplicated(subset=columnas)]\n",
        "ds_aux.shape[0]*100/ds.shape[0]"
      ],
      "metadata": {
        "id": "1-Ytd9GatmBe"
      },
      "execution_count": null,
      "outputs": []
    },
    {
      "cell_type": "markdown",
      "source": [
        "\n",
        "Con lo observado asumimos que el id se genera automaticamente al ingresar datos, sin antes verificar que los mismos no hayan sido ingresados antes.\n",
        "Siendo que la proporcion de los datos duplicados resulta ser muy chica, nos parece correcto eliminarlos. \n",
        "\n",
        "Sin embargo notamos el hecho de que podrian presentarse casos de departamentos en los cuales todo sea igual, y se trate de dos departamentos en distintos pisos de un edificio, por lo tanto a continuacion analizaremos la frecuencia de esos casos."
      ],
      "metadata": {
        "id": "MnQrgyc4tt6F"
      }
    },
    {
      "cell_type": "code",
      "source": [
        "dup_casa_bool=ds_aux.property_type != \"Departamento\"\n",
        "dup_casa_bool.sum()\n",
        "\n",
        "ds_solo_deptos_duplicados=ds_aux.drop(ds_aux[dup_casa_bool].index) #dejamos esta variable, porque nos interesan las cantidad para anlaizar LO QUE FALTA\n",
        "print(ds_aux.property_title.unique().size)\n",
        "print(ds_solo_deptos_duplicados.property_title.unique().size)"
      ],
      "metadata": {
        "id": "k5U_U7WrXGRY"
      },
      "execution_count": null,
      "outputs": []
    },
    {
      "cell_type": "markdown",
      "source": [
        "Vemos que los datos de departamentos que se encuentran duplicados son 688, mientras que si eliminamos los duplicados, nos quedariamos con un total de 600 casos unicos. \n",
        "\n",
        "Nos parece razonable eliminar esos 88, siendo que en el peor de los casos solo estariamos perdiendo 88 departamentos que en realidad se encuentren en el mismo edificio, lo cual no nos parece que aporte tanto a nuestro modelo. \n",
        "\n",
        "Con los casos de PH y Casa no nos parece necesario hacer el analisis anteior, siendo que en estos casos la latitud y longitud si deberian cambiar en caso de tratarse de casas o PHs diferentes. Por lo tanto eliminamos los casos duplicados."
      ],
      "metadata": {
        "id": "qNWJD6ldaw-i"
      }
    },
    {
      "cell_type": "code",
      "source": [
        "print(ds.shape[0])\n",
        "ds_a=ds.drop(ds[ds.duplicated(subset=columnas, keep='first')].index)\n",
        "print(ds_a.shape[0])"
      ],
      "metadata": {
        "id": "wlzJZi5dc-D9"
      },
      "execution_count": null,
      "outputs": []
    },
    {
      "cell_type": "markdown",
      "source": [
        "##### tener mas superficie cubierta que superficie total"
      ],
      "metadata": {
        "id": "57E9Mf9GfCqe"
      }
    },
    {
      "cell_type": "markdown",
      "source": [
        "Notamos que los registros que tengan mas superficie cubierta que total seran invalidos, siendo que no se puede cubrir mas superficie que con la que se cuenta. Analizamos esos registros:"
      ],
      "metadata": {
        "id": "vQfOFPhrfFpu"
      }
    },
    {
      "cell_type": "code",
      "source": [
        "print(ds[ds['property_surface_total'] < ds['property_surface_covered']].shape[0])\n",
        "print(ds[ds['property_surface_total'] < ds['property_surface_covered']].shape[0]*100/ds.shape[0])"
      ],
      "metadata": {
        "id": "RxqoxZiifO9W"
      },
      "execution_count": null,
      "outputs": []
    },
    {
      "cell_type": "markdown",
      "source": [
        "Observando bajas cantidades de estos registros decidimos eliminarlos del dataset."
      ],
      "metadata": {
        "id": "50M_nptjf2U1"
      }
    },
    {
      "cell_type": "code",
      "source": [
        "ds.drop(ds[ds['property_surface_total'] < ds['property_surface_covered']].index, inplace=True)"
      ],
      "metadata": {
        "id": "JfoZCrpNf-yJ"
      },
      "execution_count": null,
      "outputs": []
    },
    {
      "cell_type": "markdown",
      "source": [
        "##### tener cubierta de 1.0 "
      ],
      "metadata": {
        "id": "YZwmpXJ6cuFk"
      }
    },
    {
      "cell_type": "code",
      "source": [
        "print(ds[ds['property_surface_covered'] == 1.0].property_surface_total)\n",
        "print('porcentaje: ', ds[ds['property_surface_covered'] == 1.0].property_surface_total.shape[0]*100/ds.shape[0])\n",
        "\n"
      ],
      "metadata": {
        "id": "KIUOwxracyCD"
      },
      "execution_count": null,
      "outputs": []
    },
    {
      "cell_type": "code",
      "source": [
        "ds.drop(ds[ds['property_surface_covered'] == 1.0].index , inplace=True)\n"
      ],
      "metadata": {
        "id": "HSXhqrnwdkbi"
      },
      "execution_count": null,
      "outputs": []
    },
    {
      "cell_type": "markdown",
      "source": [
        "Notamos que una cubierta de 1.0 no tiene sentido. Al analizar la total vemos que la mayoria so datos invalidos. Siendo que las cantidades de registros con estas caracteristicas es razonablemente pequeña a comparacion de la totalidad de los datos, decidimos eliminar los registros. "
      ],
      "metadata": {
        "id": "rf9neW9yc7rm"
      }
    },
    {
      "cell_type": "markdown",
      "source": [
        "##### tener mas habitaciones que ambientes"
      ],
      "metadata": {
        "id": "AB4OZU8bz3cE"
      }
    },
    {
      "cell_type": "markdown",
      "source": [
        "Realizamos un análisis sobre los posibles registros que podrían llegar a generar valores atípicos en  property_bedrooms. \n",
        "\n",
        "Debido a la alta correlación que tienen property_bedrooms y property_rooms, consideramos que property_rooms es el mejor candidato para determinar los valores atípicos de property_bedrooms. "
      ],
      "metadata": {
        "id": "Ibz4_pp80rad"
      }
    },
    {
      "cell_type": "code",
      "source": [
        "pd.crosstab(ds.property_rooms, ds.property_bedrooms) "
      ],
      "metadata": {
        "id": "IQaurMOO1hg3"
      },
      "execution_count": null,
      "outputs": []
    },
    {
      "cell_type": "markdown",
      "source": [
        "Viendo la tabla, pudimos visulizar que en caso de que la cantidad de ambientes sea menor a la cantidad de habitaciones, property_bedrooms seria un valor atipico."
      ],
      "metadata": {
        "id": "2mSTCoD-3yK9"
      }
    },
    {
      "cell_type": "markdown",
      "source": [
        "Se puede visualizar que una gran cantidad de registros de property_bedrooms son valores atípicos ya que los valores de los mismos son mayores a los valores de los registros de property_rooms. \n",
        "\n",
        "Además, notamos que hay valores de property_bedrooms negativos, con lo cual esos valores también serían atípicos."
      ],
      "metadata": {
        "id": "EIFeQT4X7s-i"
      }
    },
    {
      "cell_type": "code",
      "source": [
        "cond_mas_bedrooms_que_rooms = ds['property_bedrooms'] > ds['property_rooms']\n",
        "\n",
        "reg_mas_bed_que_rooms = ds[cond_mas_bedrooms_que_rooms]\n",
        "reg_mas_bed_que_rooms.shape"
      ],
      "metadata": {
        "id": "WH0BlfYlsEaI"
      },
      "execution_count": null,
      "outputs": []
    },
    {
      "cell_type": "markdown",
      "source": [
        "Como podemos observar hay 16604 registros de los cuales hay mas habitaciones en la propiedad que cantidad de ambientes, por lo tanto serian valores atipicos por lo que consideramos que hay que eliminarlos"
      ],
      "metadata": {
        "id": "lERH4gJxv-hL"
      }
    },
    {
      "cell_type": "code",
      "source": [
        "# sns.set(rc={\"figure.figsize\":(8, 8)}) #aumenta el tamaño del grafico\n",
        "sns.scatterplot(data = ds, x = \"property_rooms\", y = \"property_bedrooms\")\n",
        "sns.scatterplot(data = reg_mas_bed_que_rooms, x = \"property_rooms\", y = \"property_bedrooms\")#grafico de valores atipicos"
      ],
      "metadata": {
        "id": "yB-wHvpq4gH0"
      },
      "execution_count": null,
      "outputs": []
    },
    {
      "cell_type": "code",
      "source": [
        "ds.drop(reg_mas_bed_que_rooms.index, inplace=True)# elimino las filas con mas bedrooms que rooms"
      ],
      "metadata": {
        "id": "dkJxPbO8woq7"
      },
      "execution_count": null,
      "outputs": []
    },
    {
      "cell_type": "code",
      "source": [
        "sns.scatterplot(data = ds, x = \"property_rooms\", y = \"property_bedrooms\")"
      ],
      "metadata": {
        "id": "mvEOlQV6ne5Q"
      },
      "execution_count": null,
      "outputs": []
    },
    {
      "cell_type": "code",
      "source": [
        "cond_bedrooms_menores_a_uno = ds['property_bedrooms'] < 1\n",
        "reg_con_bedrooms_menores_a_uno = ds[cond_bedrooms_menores_a_uno]\n",
        "reg_con_bedrooms_menores_a_uno.shape"
      ],
      "metadata": {
        "id": "IJim6vkM0g2T"
      },
      "execution_count": null,
      "outputs": []
    },
    {
      "cell_type": "markdown",
      "source": [
        "Observamos que solo un registro contiene una cantidad de bedrooms menor o igual a cero, por ese motivo consideramos que debe ser eliminado"
      ],
      "metadata": {
        "id": "COT_JMsB1ILG"
      }
    },
    {
      "cell_type": "code",
      "source": [
        "ds.drop(reg_con_bedrooms_menores_a_uno.index, inplace=True)# elimino las filas con mas bedrooms menores a 1"
      ],
      "metadata": {
        "id": "mgdHTS6W1Xxx"
      },
      "execution_count": null,
      "outputs": []
    },
    {
      "cell_type": "code",
      "source": [
        "ds.columns.to_list()"
      ],
      "metadata": {
        "id": "oiVTyv7h_QXP"
      },
      "execution_count": null,
      "outputs": []
    },
    {
      "cell_type": "markdown",
      "source": [
        "A continuacion demostramos que no se encuentran valores negativos en las columnas en donde los valores siempre deben ser positivos, por lo tanto no es necesario eliminar datos."
      ],
      "metadata": {
        "id": "K5L6pB19hy7p"
      }
    },
    {
      "cell_type": "code",
      "source": [
        "ds[ds['property_price'] < 1].shape "
      ],
      "metadata": {
        "id": "DWQo5vD8E2__"
      },
      "execution_count": null,
      "outputs": []
    },
    {
      "cell_type": "code",
      "source": [
        "ds[ds['property_rooms'] < 1].shape"
      ],
      "metadata": {
        "id": "w-mcQb2SEBLv"
      },
      "execution_count": null,
      "outputs": []
    },
    {
      "cell_type": "code",
      "source": [
        "ds[ds['property_surface_total'] < 1].shape"
      ],
      "metadata": {
        "id": "NttdEAUT-jZu"
      },
      "execution_count": null,
      "outputs": []
    },
    {
      "cell_type": "code",
      "source": [
        "ds[ds['property_surface_covered'] < 1].shape"
      ],
      "metadata": {
        "id": "qyqawunZ_KLY"
      },
      "execution_count": null,
      "outputs": []
    },
    {
      "cell_type": "markdown",
      "source": [
        "##### created_on < start_date < end_date\n",
        "\n",
        "\n"
      ],
      "metadata": {
        "id": "KFcfg4j0_mxl"
      }
    },
    {
      "cell_type": "code",
      "source": [
        "ds[ds['start_date'] < ds['created_on']].shape "
      ],
      "metadata": {
        "id": "6PVTiTyq_vf6"
      },
      "execution_count": null,
      "outputs": []
    },
    {
      "cell_type": "code",
      "source": [
        "ds[ds['end_date'] < ds['start_date']].shape "
      ],
      "metadata": {
        "id": "T0BY8ePqiJG7"
      },
      "execution_count": null,
      "outputs": []
    },
    {
      "cell_type": "code",
      "source": [
        "ds[ds['end_date'] < ds['created_on']].shape "
      ],
      "metadata": {
        "id": "WXqf88q3iae5"
      },
      "execution_count": null,
      "outputs": []
    },
    {
      "cell_type": "markdown",
      "source": [
        "Como podemos observar todas las fechas de los avisos que se encuentran en el dataset cumplen con las condiciones necesarias para ser consideradas validas."
      ],
      "metadata": {
        "id": "uxPDnPRTidwF"
      }
    },
    {
      "cell_type": "markdown",
      "source": [
        "\n",
        "## Exploración Inicial\n",
        "---\n"
      ],
      "metadata": {
        "tags": [],
        "cell_id": "382388d9de3b40f78bd0830db055a738",
        "is_collapsed": false,
        "formattedRanges": [],
        "deepnote_cell_type": "text-cell-h2",
        "id": "P7hF2_aNbf0q"
      }
    },
    {
      "cell_type": "markdown",
      "source": [
        "### Clasificación  de variables \n"
      ],
      "metadata": {
        "tags": [],
        "cell_id": "8833f9ff8eb545a2a745dfff253c4420",
        "is_collapsed": false,
        "formattedRanges": [
          {
            "type": "marks",
            "marks": {
              "bold": true
            },
            "toCodePoint": 28,
            "fromCodePoint": 0
          }
        ],
        "deepnote_cell_type": "text-cell-h3",
        "id": "DciqNu2pbf0r"
      }
    },
    {
      "cell_type": "markdown",
      "source": [
        "####Variables cuantitativas discretas"
      ],
      "metadata": {
        "tags": [],
        "cell_id": "9d6aaa8f-1e96-419b-93e8-04ce9d09d5a1",
        "is_collapsed": false,
        "formattedRanges": [
          {
            "type": "marks",
            "marks": {
              "bold": true
            },
            "toCodePoint": 34,
            "fromCodePoint": 0
          }
        ],
        "deepnote_cell_type": "text-cell-p",
        "id": "OpvAI2Udbf0r"
      }
    },
    {
      "cell_type": "markdown",
      "source": [
        "- start date, end date, created on: \n",
        "\n",
        "    Las fechas pueden ser consideradas cuantitativas discretas dado que toman valores numéricos ordenables, y entre dos valores consecutivos no existen valores intermedios. "
      ],
      "metadata": {
        "tags": [],
        "cell_id": "c358422543ca48029ae112a3d4f8ac0f",
        "is_collapsed": false,
        "formattedRanges": [
          {
            "type": "marks",
            "marks": {
              "bold": true
            },
            "toCodePoint": 33,
            "fromCodePoint": 0
          }
        ],
        "deepnote_cell_type": "text-cell-bullet",
        "id": "E4jd0aPwbf0r"
      }
    },
    {
      "cell_type": "markdown",
      "source": [
        "- property_rooms, property_bedrooms: \n",
        "\n",
        "    Pueden ser consideradas cuantitativas discretas ya que pueden tomar un conjunto a lo sumo numerable de valores, y cuentan cosas."
      ],
      "metadata": {
        "tags": [],
        "cell_id": "f287318a-deac-4c9e-a221-97f92eed1ae1",
        "is_collapsed": false,
        "formattedRanges": [
          {
            "type": "marks",
            "marks": {
              "bold": true
            },
            "toCodePoint": 35,
            "fromCodePoint": 0
          }
        ],
        "deepnote_cell_type": "text-cell-bullet",
        "id": "rXhUSafFbf0r"
      }
    },
    {
      "cell_type": "markdown",
      "source": [
        "#### Variables cuantitativas continuas"
      ],
      "metadata": {
        "tags": [],
        "cell_id": "ec052077e51d466981b5f18b4aaa5bf7",
        "is_collapsed": false,
        "formattedRanges": [
          {
            "type": "marks",
            "marks": {
              "bold": true
            },
            "toCodePoint": 34,
            "fromCodePoint": 0
          }
        ],
        "deepnote_cell_type": "text-cell-p",
        "id": "RsIJB9Afbf0r"
      }
    },
    {
      "cell_type": "markdown",
      "source": [
        "- latitud y longitud:  \n",
        "\n",
        "    Estas variables al tomar valores numéricos en los cuales existen infinitos valores intermedios (son arbitrariamente fraccionables), pueden ser consideradas como continuas. "
      ],
      "metadata": {
        "tags": [],
        "cell_id": "e418d1b5-bce7-4848-bd78-0ea1185cef43",
        "is_collapsed": false,
        "formattedRanges": [
          {
            "type": "marks",
            "marks": {
              "bold": true
            },
            "toCodePoint": 20,
            "fromCodePoint": 0
          }
        ],
        "deepnote_cell_type": "text-cell-bullet",
        "id": "6ws2wRlHbf0s"
      }
    },
    {
      "cell_type": "markdown",
      "source": [
        "- property_surface_total, property_surface_covered, property_price: \n",
        "\n",
        "    Al igual que las variables anteriores, estas pueden tomar infinitos valores numéricos intermedios y por esa razón son consideradas continuas. "
      ],
      "metadata": {
        "tags": [],
        "cell_id": "2ae5b34f-d90d-4b4b-b296-93a85b4cf6d9",
        "is_collapsed": false,
        "formattedRanges": [
          {
            "type": "marks",
            "marks": {
              "bold": true
            },
            "toCodePoint": 65,
            "fromCodePoint": 0
          }
        ],
        "deepnote_cell_type": "text-cell-bullet",
        "id": "f9Ad5gNwbf0s"
      }
    },
    {
      "cell_type": "markdown",
      "source": [
        "####Variables cualitativas nominales"
      ],
      "metadata": {
        "tags": [],
        "cell_id": "bfaa4e2b-ed26-4bb1-838a-7a43cb36819f",
        "is_collapsed": false,
        "formattedRanges": [
          {
            "type": "marks",
            "marks": {
              "bold": true
            },
            "toCodePoint": 33,
            "fromCodePoint": 0
          }
        ],
        "deepnote_cell_type": "text-cell-p",
        "id": "uFlwCqyobf0s"
      }
    },
    {
      "cell_type": "markdown",
      "source": [
        "- id: \n",
        "\n",
        "    Es una variable cualitativa numérica que representa una identificación, cada una de estas es diferente y no tienen un orden visible. "
      ],
      "metadata": {
        "tags": [],
        "cell_id": "544a1f7a-a16c-49fc-a993-2e4cd2fcc3d3",
        "is_collapsed": false,
        "formattedRanges": [
          {
            "type": "marks",
            "marks": {
              "bold": true
            },
            "toCodePoint": 2,
            "fromCodePoint": 0
          }
        ],
        "deepnote_cell_type": "text-cell-bullet",
        "id": "pR4nMAIFbf0s"
      }
    },
    {
      "cell_type": "markdown",
      "source": [
        "- place_l2, place_l3, place_l4, place_l5, place_l6: \n",
        "\n",
        "    Son variables de texto no trivialmente ordenables, dado que simplemente son un nombre correspondiente a la ubicación geográfica."
      ],
      "metadata": {
        "tags": [],
        "cell_id": "9545abbe-2646-4adf-8c61-eb9cb7478614",
        "is_collapsed": false,
        "formattedRanges": [
          {
            "type": "marks",
            "marks": {
              "bold": true
            },
            "toCodePoint": 29,
            "fromCodePoint": 0
          }
        ],
        "deepnote_cell_type": "text-cell-bullet",
        "id": "zwvLWWCpbf0s"
      }
    },
    {
      "cell_type": "markdown",
      "source": [
        "- operation, property_type, property_currency: \n",
        "\n",
        "    Son variables de texto que representan características para diferenciar propiedades entre sí, pero al igual que places, no tienen un ordenamiento predefinido. "
      ],
      "metadata": {
        "tags": [],
        "cell_id": "fb82b59b-cb86-4e51-85ed-acb8ea70f458",
        "is_collapsed": false,
        "formattedRanges": [
          {
            "type": "marks",
            "marks": {
              "bold": true
            },
            "toCodePoint": 45,
            "fromCodePoint": 0
          },
          {
            "type": "marks",
            "marks": {
              "italic": true
            },
            "toCodePoint": 153,
            "fromCodePoint": 147
          }
        ],
        "deepnote_cell_type": "text-cell-bullet",
        "id": "XxJCzga-bf0s"
      }
    },
    {
      "cell_type": "markdown",
      "source": [
        "#### Variables irrelevantes\n"
      ],
      "metadata": {
        "tags": [],
        "cell_id": "140b0dd66cc3465e888188a9194b1f89",
        "is_collapsed": false,
        "formattedRanges": [],
        "deepnote_cell_type": "text-cell-h3",
        "id": "U4nJnYBcbf0x"
      }
    },
    {
      "cell_type": "markdown",
      "source": [
        "Observando las variables nombradas, consideramos las siguiente variables irrelevantes para el analisis:\n"
      ],
      "metadata": {
        "id": "cmKhmB5_cvr_"
      }
    },
    {
      "cell_type": "markdown",
      "source": [
        "\n",
        "- id: \n",
        "\n",
        "    El la campo Id es irrelevante ya que no aporta información sobre las viviendas, simplemente es utilizado para guardar la información en la base de datos.\n"
      ],
      "metadata": {
        "id": "4yvidPd6cyrs"
      }
    },
    {
      "cell_type": "markdown",
      "source": [
        "\n",
        "- place_l5, place_l6:  \n",
        "    \n",
        "    Ambos campos son irrelevantes dado que no poseen datos que brinden información de gran importancia para el dominio del problema (todos los datos son nulos).\n"
      ],
      "metadata": {
        "id": "LYWvps1Lc0Gu"
      }
    },
    {
      "cell_type": "markdown",
      "source": [
        "\n",
        "- property_title: \n",
        "    \n",
        "    Dado que no haremos un análisis de NLP, no nos es relevante este campo."
      ],
      "metadata": {
        "id": "60XP8yyjc2eF"
      }
    },
    {
      "cell_type": "markdown",
      "source": [
        "###Variables cuantitativas\n",
        "---\n"
      ],
      "metadata": {
        "id": "XK8X6I0mbT_M"
      }
    },
    {
      "cell_type": "markdown",
      "source": [
        "#### Cálculo medidas de resumen"
      ],
      "metadata": {
        "id": "kr-1fGynbW9F"
      }
    },
    {
      "cell_type": "markdown",
      "source": [
        "Como debemos calcular la media, mediana, q1, q3 y moda para las variables start_date, end_date, created_on y las mismas son fechas, debemos convertirlas a un tipo de dato adecuado:"
      ],
      "metadata": {
        "tags": [],
        "cell_id": "92df9ff4-0570-4b35-83c1-0bcdca76e0a0",
        "is_collapsed": false,
        "formattedRanges": [
          {
            "type": "marks",
            "marks": {
              "italic": true
            },
            "toCodePoint": 84,
            "fromCodePoint": 74
          },
          {
            "type": "marks",
            "marks": {
              "italic": true
            },
            "toCodePoint": 94,
            "fromCodePoint": 86
          },
          {
            "type": "marks",
            "marks": {
              "italic": true
            },
            "toCodePoint": 107,
            "fromCodePoint": 96
          }
        ],
        "deepnote_cell_type": "text-cell-p",
        "id": "tnydttlGbf0t"
      }
    },
    {
      "cell_type": "code",
      "source": [
        "ds_filtrado = ds.copy()\n",
        "ds_filtrado['start_date']=pd.to_datetime(ds_filtrado['start_date'], errors='ignore')\n",
        "ds_filtrado['created_on']=pd.to_datetime(ds_filtrado['created_on'], errors='ignore')"
      ],
      "metadata": {
        "tags": [],
        "cell_id": "700ea060159a498bb18a56cac29236cf",
        "source_hash": "de85d17",
        "execution_start": 1665162070388,
        "execution_millis": 4,
        "deepnote_to_be_reexecuted": false,
        "deepnote_cell_type": "code",
        "id": "QJAIYhNBbf0t"
      },
      "outputs": [],
      "execution_count": null
    },
    {
      "cell_type": "code",
      "source": [
        "try: \n",
        "    pd.to_datetime(ds_filtrado['end_date'])\n",
        "except Exception as e: print(e)"
      ],
      "metadata": {
        "tags": [],
        "cell_id": "3eebdcd1465c4c9a90f87cfb1b37b128",
        "source_hash": "f62236eb",
        "execution_start": 1665162070393,
        "execution_millis": 129,
        "deepnote_to_be_reexecuted": false,
        "deepnote_cell_type": "code",
        "id": "iaIv3_debf0t"
      },
      "outputs": [],
      "execution_count": null
    },
    {
      "cell_type": "markdown",
      "source": [
        "Observamos que la columna end_date tiene una row cuyo valor es inválido: \"9999-12-31\", con lo cual averiguamos cuantos de éstos valores inválidos hay:"
      ],
      "metadata": {
        "tags": [],
        "cell_id": "2a38b974be1d40b792ec1b24a6efb0c2",
        "is_collapsed": false,
        "formattedRanges": [
          {
            "type": "marks",
            "marks": {
              "italic": true
            },
            "toCodePoint": 35,
            "fromCodePoint": 26
          }
        ],
        "deepnote_cell_type": "text-cell-p",
        "id": "WCX2lKfubf0t"
      }
    },
    {
      "cell_type": "code",
      "source": [
        "invalid_end_dates = ds_filtrado.end_date[lambda date: pd.isnull(pd.to_datetime(date, errors='coerce'))]\n",
        "invalid_end_dates.size\n"
      ],
      "metadata": {
        "tags": [],
        "cell_id": "b8cb47daf9e043f7b98065d8f0fe5b57",
        "source_hash": "255ae8c4",
        "execution_start": 1665162070396,
        "execution_millis": 126,
        "deepnote_table_state": {
          "sortBy": [],
          "filters": [],
          "pageSize": 10,
          "pageIndex": 1
        },
        "deepnote_table_loading": false,
        "deepnote_to_be_reexecuted": false,
        "deepnote_cell_type": "code",
        "id": "bOQLDOWlbf0t"
      },
      "outputs": [],
      "execution_count": null
    },
    {
      "cell_type": "markdown",
      "source": [
        "Encontramos 5041 apariciones de fecha invalidas. En la sección de Feature Engineering analizaremos que hacer con estos datos. <font color=red>Mientras tanto, hacemos un dataset que no contenga a las fechas inválidas para poder calcularle los valores pedidos.</font>"
      ],
      "metadata": {
        "tags": [],
        "cell_id": "e3dd6ab2-b9ca-4896-b990-ee467ae591b2",
        "is_collapsed": false,
        "formattedRanges": [],
        "deepnote_cell_type": "text-cell-p",
        "id": "DMc9c4rWbf0t"
      }
    },
    {
      "cell_type": "code",
      "source": [
        "ds_end_date = ds_filtrado.copy()\n",
        "cond_operacion = pd.notnull(pd.to_datetime(ds_end_date['end_date'], errors='coerce'))\n",
        "ds_end_date = ds_end_date[cond_operacion]\n",
        "ds_end_date.end_date = pd.to_datetime(ds_end_date['end_date'])"
      ],
      "metadata": {
        "tags": [],
        "cell_id": "54caf0532b484edfb4dc76653d6a60d1",
        "source_hash": "6da93fe3",
        "execution_start": 1665162070398,
        "execution_millis": 85,
        "deepnote_to_be_reexecuted": false,
        "deepnote_cell_type": "code",
        "id": "yfI0XT-Kbf0t"
      },
      "outputs": [],
      "execution_count": null
    },
    {
      "cell_type": "code",
      "source": [
        "def mostrar_medidas_resumen(columna, ylabel=None, show_boxplot=True, df=ds_filtrado):\n",
        "    mean=df[columna].mean()\n",
        "\n",
        "    measure_info=np.nanpercentile(df[columna],[25,50,75])\n",
        "    \n",
        "    mode=df[columna].mode()\n",
        "\n",
        "    print(f'Medidas de resumen para la variable {columna}:\\n\\\n",
        "    \\tMedia: {mean}\\n\\\n",
        "    \\tq1: {measure_info[0]}\\n\\\n",
        "    \\tMediana: {measure_info[1]}\\n\\\n",
        "    \\tq3: {measure_info[2]}\\n\\\n",
        "    \\tModa: {mode}')\n",
        "\n",
        "    if(show_boxplot):\n",
        "        sns.boxplot(y=df[columna], showfliers = False) # no mostramos outliers para ver mejor la distribución\n",
        "        mostrar_metadata_grafico(f\"distribución de {ylabel} en formato boxplot\", ylabel=ylabel)"
      ],
      "metadata": {
        "tags": [],
        "cell_id": "d34d501c2b1a48d1a80659d44a62e391",
        "source_hash": "f8bb6439",
        "execution_start": 1665162070486,
        "execution_millis": 1,
        "deepnote_to_be_reexecuted": false,
        "deepnote_cell_type": "code",
        "id": "_Ggo-4_qbf0t"
      },
      "outputs": [],
      "execution_count": null
    },
    {
      "cell_type": "markdown",
      "source": [
        "##### start date"
      ],
      "metadata": {
        "tags": [],
        "cell_id": "5580b94e-ff82-43ae-a7b2-f59b63f565d0",
        "is_collapsed": false,
        "formattedRanges": [
          {
            "type": "marks",
            "marks": {
              "bold": true
            },
            "toCodePoint": 11,
            "fromCodePoint": 0
          }
        ],
        "deepnote_cell_type": "text-cell-bullet",
        "id": "7iqMMZ7Mbf0u"
      }
    },
    {
      "cell_type": "code",
      "source": [
        "mostrar_medidas_resumen('start_date', show_boxplot=False)"
      ],
      "metadata": {
        "tags": [],
        "cell_id": "66e850cae4a94c6e96df1fa0d0265f43",
        "source_hash": "3d456365",
        "execution_start": 1665162070488,
        "execution_millis": 38,
        "deepnote_to_be_reexecuted": false,
        "deepnote_cell_type": "code",
        "id": "vM7_PdMYbf0u"
      },
      "outputs": [],
      "execution_count": null
    },
    {
      "cell_type": "markdown",
      "source": [
        "#####created_on"
      ],
      "metadata": {
        "tags": [],
        "cell_id": "1f4616fc-0dd6-485f-b983-d7916c94afde",
        "is_collapsed": false,
        "formattedRanges": [
          {
            "type": "marks",
            "marks": {
              "bold": true
            },
            "toCodePoint": 11,
            "fromCodePoint": 0
          }
        ],
        "deepnote_cell_type": "text-cell-bullet",
        "id": "sO_-Unblbf0u"
      }
    },
    {
      "cell_type": "code",
      "source": [
        "mostrar_medidas_resumen('created_on', show_boxplot=False)"
      ],
      "metadata": {
        "tags": [],
        "cell_id": "b2a48fb5d6f24324bb2f313ec4e320fa",
        "source_hash": "857e2c4c",
        "execution_start": 1665162070489,
        "execution_millis": 37,
        "deepnote_to_be_reexecuted": false,
        "deepnote_cell_type": "code",
        "id": "iNazL5SRbf0u"
      },
      "outputs": [],
      "execution_count": null
    },
    {
      "cell_type": "markdown",
      "source": [
        "#####end_date"
      ],
      "metadata": {
        "tags": [],
        "cell_id": "6b54c598-81fb-4485-8158-5d81fa597ad2",
        "is_collapsed": false,
        "formattedRanges": [
          {
            "type": "marks",
            "marks": {
              "bold": true
            },
            "toCodePoint": 9,
            "fromCodePoint": 0
          }
        ],
        "deepnote_cell_type": "text-cell-bullet",
        "id": "MBHAeBfkbf0u"
      }
    },
    {
      "cell_type": "code",
      "source": [
        "mostrar_medidas_resumen('end_date', show_boxplot=False, df=ds_end_date)"
      ],
      "metadata": {
        "tags": [],
        "cell_id": "013df70a99fc4b3fb86c67335150bd69",
        "source_hash": "70fc43a0",
        "execution_start": 1665162070496,
        "execution_millis": 31,
        "deepnote_to_be_reexecuted": false,
        "deepnote_cell_type": "code",
        "id": "fRoDKRQlbf0u"
      },
      "outputs": [],
      "execution_count": null
    },
    {
      "cell_type": "markdown",
      "source": [
        "#####property_rooms"
      ],
      "metadata": {
        "tags": [],
        "cell_id": "dadb0fdd-d5a4-454c-a217-056aa84b635a",
        "is_collapsed": false,
        "formattedRanges": [
          {
            "type": "marks",
            "marks": {
              "bold": true
            },
            "toCodePoint": 15,
            "fromCodePoint": 0
          }
        ],
        "deepnote_cell_type": "text-cell-bullet",
        "id": "si0U9Br1bf0u"
      }
    },
    {
      "cell_type": "code",
      "source": [
        "mostrar_medidas_resumen('property_rooms', ylabel=\"cantidad de ambientes\")"
      ],
      "metadata": {
        "tags": [],
        "cell_id": "60b626b8800c402783ba12b8fce7bbdf",
        "source_hash": "e783a134",
        "execution_start": 1665162070498,
        "execution_millis": 187,
        "deepnote_to_be_reexecuted": false,
        "deepnote_cell_type": "code",
        "id": "cXMrLGEIbf0u"
      },
      "outputs": [],
      "execution_count": null
    },
    {
      "cell_type": "markdown",
      "source": [
        "##### property_bedrooms"
      ],
      "metadata": {
        "tags": [],
        "cell_id": "377daed7-102f-45de-970c-d87b84fb7c82",
        "is_collapsed": false,
        "formattedRanges": [
          {
            "type": "marks",
            "marks": {
              "bold": true
            },
            "toCodePoint": 18,
            "fromCodePoint": 0
          }
        ],
        "deepnote_cell_type": "text-cell-bullet",
        "id": "k6VdGWewbf0v"
      }
    },
    {
      "cell_type": "code",
      "source": [
        "mostrar_medidas_resumen('property_bedrooms', ylabel=\"cantidad de habitaciones\")"
      ],
      "metadata": {
        "tags": [],
        "cell_id": "5417aceab48d40ada862e9bfb2b47f55",
        "source_hash": "6f55c18b",
        "execution_start": 1665162070717,
        "execution_millis": 984,
        "deepnote_to_be_reexecuted": false,
        "deepnote_cell_type": "code",
        "id": "xqf_6oDubf0v"
      },
      "outputs": [],
      "execution_count": null
    },
    {
      "cell_type": "markdown",
      "source": [
        "#####latitud"
      ],
      "metadata": {
        "tags": [],
        "cell_id": "9900a1b8-575f-4411-9012-bc234a92cfc0",
        "is_collapsed": false,
        "formattedRanges": [
          {
            "type": "marks",
            "marks": {
              "bold": true
            },
            "toCodePoint": 7,
            "fromCodePoint": 0
          }
        ],
        "deepnote_cell_type": "text-cell-bullet",
        "id": "gSZJIPogbf0v"
      }
    },
    {
      "cell_type": "code",
      "source": [
        "mostrar_medidas_resumen('latitud', ylabel=\"latitud (º)\")"
      ],
      "metadata": {
        "tags": [],
        "cell_id": "1a38a45a34dd403ab1d1acb40a30ef94",
        "source_hash": "235c7b9c",
        "execution_start": 1665162070939,
        "execution_millis": 779,
        "deepnote_to_be_reexecuted": false,
        "deepnote_cell_type": "code",
        "id": "z4hyy6yhbf0v"
      },
      "outputs": [],
      "execution_count": null
    },
    {
      "cell_type": "markdown",
      "source": [
        "#####longitud"
      ],
      "metadata": {
        "tags": [],
        "cell_id": "53b166c8-34ed-4eaf-b807-e627eaff3405",
        "is_collapsed": false,
        "formattedRanges": [
          {
            "type": "marks",
            "marks": {
              "bold": true
            },
            "toCodePoint": 8,
            "fromCodePoint": 0
          }
        ],
        "deepnote_cell_type": "text-cell-bullet",
        "id": "d6fsbPzubf0v"
      }
    },
    {
      "cell_type": "code",
      "source": [
        "mostrar_medidas_resumen('longitud', ylabel=\"longitud (º)\")"
      ],
      "metadata": {
        "tags": [],
        "cell_id": "1eb640e49dc74f71906bb88ea883f1fe",
        "source_hash": "6dc8d69f",
        "execution_start": 1665162071130,
        "execution_millis": 633,
        "deepnote_to_be_reexecuted": false,
        "deepnote_cell_type": "code",
        "id": "ujcsSMJ5bf0v"
      },
      "outputs": [],
      "execution_count": null
    },
    {
      "cell_type": "markdown",
      "source": [
        "#####property_surface_total"
      ],
      "metadata": {
        "tags": [],
        "cell_id": "0cd1b507-4e3f-45fb-96ee-35bc6956feda",
        "is_collapsed": false,
        "formattedRanges": [
          {
            "type": "marks",
            "marks": {
              "bold": true
            },
            "toCodePoint": 22,
            "fromCodePoint": 0
          }
        ],
        "deepnote_cell_type": "text-cell-bullet",
        "id": "X2y7Ll8Zbf0v"
      }
    },
    {
      "cell_type": "code",
      "source": [
        "mostrar_medidas_resumen('property_surface_total', ylabel=\"superficie total (m2)\")"
      ],
      "metadata": {
        "tags": [],
        "cell_id": "e708f18a0f9d4787a2b8e520f5050f98",
        "source_hash": "4891c6e8",
        "execution_start": 1665162071335,
        "execution_millis": 433,
        "deepnote_to_be_reexecuted": false,
        "deepnote_cell_type": "code",
        "id": "9OPkAa4Zbf0v"
      },
      "outputs": [],
      "execution_count": null
    },
    {
      "cell_type": "markdown",
      "source": [
        "#####property_surface_covered"
      ],
      "metadata": {
        "tags": [],
        "cell_id": "3786f47f-610f-4242-ab46-011bd786166b",
        "is_collapsed": false,
        "formattedRanges": [
          {
            "type": "marks",
            "marks": {
              "bold": true
            },
            "toCodePoint": 24,
            "fromCodePoint": 0
          }
        ],
        "deepnote_cell_type": "text-cell-bullet",
        "id": "yGEA7eg7bf0v"
      }
    },
    {
      "cell_type": "code",
      "source": [
        "mostrar_medidas_resumen('property_surface_covered', ylabel=\"superficie cubierta (m2)\")"
      ],
      "metadata": {
        "tags": [],
        "cell_id": "6588e208af7d4f0eaaea16ab76b27e5b",
        "source_hash": "a570d8bc",
        "execution_start": 1665162071571,
        "execution_millis": 207,
        "deepnote_to_be_reexecuted": false,
        "deepnote_cell_type": "code",
        "id": "P2CtXSGvbf0v"
      },
      "outputs": [],
      "execution_count": null
    },
    {
      "cell_type": "markdown",
      "source": [
        "#####property_price"
      ],
      "metadata": {
        "tags": [],
        "cell_id": "65e13c8e-4b0d-4dab-9124-188e979cc60a",
        "is_collapsed": false,
        "formattedRanges": [
          {
            "type": "marks",
            "marks": {
              "bold": true
            },
            "toCodePoint": 14,
            "fromCodePoint": 0
          }
        ],
        "deepnote_cell_type": "text-cell-bullet",
        "id": "hGLHV16kbf0v"
      }
    },
    {
      "cell_type": "code",
      "source": [
        "mostrar_medidas_resumen('property_price', ylabel=\"precio (USD$)\")"
      ],
      "metadata": {
        "tags": [],
        "cell_id": "bd0ad0c6802b4e54abf8d78725b32eb3",
        "source_hash": "cdf05375",
        "execution_start": 1665162071579,
        "execution_millis": 203,
        "deepnote_to_be_reexecuted": false,
        "deepnote_cell_type": "code",
        "id": "KSiK_uTXbf0v"
      },
      "outputs": [],
      "execution_count": null
    },
    {
      "cell_type": "markdown",
      "source": [
        "#### Análisis gráfico de distribuciones"
      ],
      "metadata": {
        "tags": [],
        "cell_id": "be42a5ac6f454fec992341d2e687776c",
        "is_collapsed": false,
        "formattedRanges": [],
        "deepnote_cell_type": "text-cell-h3",
        "id": "p8pMWsTDbf0x"
      }
    },
    {
      "cell_type": "code",
      "source": [
        "def mostrar_distribuciones_cuantitativas(variable, ds=ds_filtrado, figsize=(5,5), bins=None, binwidth=None, discrete=False, espaciado=4, rotacion=90):\n",
        "  if binwidth:\n",
        "    graph = sns.displot(ds, x=variable, discrete=discrete, bins=bins, binwidth=binwidth)\n",
        "  else:\n",
        "    graph = sns.displot(ds, x=variable, discrete=discrete, bins=bins)\n",
        "\n",
        "  graph.fig.set_figheight(figsize[1])\n",
        "  graph.fig.set_figwidth(figsize[0])\n",
        "  ax = graph.ax\n",
        "  mids = [rect.get_x() for rect in ax.patches]\n",
        "  mids = [item for index, item in enumerate(mids) if index % espaciado == 0]\n",
        "  ax.set_xticks(mids)\n",
        "  ax.tick_params(axis='x', rotation=rotacion, labelsize=12)\n",
        "\n",
        "  mostrar_metadata_grafico(f\"distribución de {variable}\", ylabel=\"frecuencia\")\n",
        "\n"
      ],
      "metadata": {
        "id": "yLGqJNT4xNXD"
      },
      "execution_count": null,
      "outputs": []
    },
    {
      "cell_type": "markdown",
      "source": [
        "##### start_date"
      ],
      "metadata": {
        "tags": [],
        "cell_id": "b0da9d61-7274-4146-b18f-3835ed004e60",
        "is_collapsed": false,
        "formattedRanges": [
          {
            "type": "marks",
            "marks": {
              "bold": true
            },
            "toCodePoint": 10,
            "fromCodePoint": 0
          }
        ],
        "deepnote_cell_type": "text-cell-bullet",
        "id": "OzrdInOGbf0x"
      }
    },
    {
      "cell_type": "code",
      "source": [
        "mostrar_distribuciones_cuantitativas(\"start_date\", figsize=(20, 8), bins=150)"
      ],
      "metadata": {
        "tags": [],
        "cell_id": "e1459dbc937f426ab8f28897eca87bc8",
        "source_hash": "94b3909b",
        "execution_start": 1665162073234,
        "execution_millis": 371,
        "deepnote_to_be_reexecuted": false,
        "deepnote_cell_type": "code",
        "id": "stkYESZObf0x"
      },
      "outputs": [],
      "execution_count": null
    },
    {
      "cell_type": "markdown",
      "source": [
        "##### end_date"
      ],
      "metadata": {
        "tags": [],
        "cell_id": "cebc904b-84a8-4c7c-a3d0-4ad586dc82f9",
        "is_collapsed": false,
        "formattedRanges": [
          {
            "type": "marks",
            "marks": {
              "bold": true
            },
            "toCodePoint": 8,
            "fromCodePoint": 0
          }
        ],
        "deepnote_cell_type": "text-cell-bullet",
        "id": "7TQdpPbPbf0y"
      }
    },
    {
      "cell_type": "code",
      "source": [
        "mostrar_distribuciones_cuantitativas(\"end_date\", ds=ds_end_date, figsize=(20, 8), bins=150, espaciado=5)"
      ],
      "metadata": {
        "tags": [],
        "cell_id": "12ff6108b82544bebda182b37837ce58",
        "source_hash": "53633fa5",
        "execution_start": 1665162073610,
        "execution_millis": 989,
        "deepnote_to_be_reexecuted": false,
        "deepnote_cell_type": "code",
        "id": "tQkbfE_Rbf0y"
      },
      "outputs": [],
      "execution_count": null
    },
    {
      "cell_type": "markdown",
      "source": [
        "#####created_on"
      ],
      "metadata": {
        "tags": [],
        "cell_id": "89f34cdf-fd99-4649-b4b4-7c57fec114f4",
        "is_collapsed": false,
        "formattedRanges": [
          {
            "type": "marks",
            "marks": {
              "bold": true
            },
            "toCodePoint": 10,
            "fromCodePoint": 0
          }
        ],
        "deepnote_cell_type": "text-cell-bullet",
        "id": "Q2gLR5r8bf0y"
      }
    },
    {
      "cell_type": "code",
      "source": [
        "mostrar_distribuciones_cuantitativas(\"created_on\", figsize=(20, 8), bins=150, espaciado=5)"
      ],
      "metadata": {
        "tags": [],
        "cell_id": "80ff54f02d7f41c4927005a8e2532cc1",
        "source_hash": "67a4312d",
        "execution_start": 1665162073911,
        "execution_millis": 740,
        "deepnote_to_be_reexecuted": false,
        "deepnote_cell_type": "code",
        "id": "9qpmegmIbf0y"
      },
      "outputs": [],
      "execution_count": null
    },
    {
      "cell_type": "markdown",
      "source": [
        "#####property_rooms"
      ],
      "metadata": {
        "tags": [],
        "cell_id": "983394f1-0cdd-423a-934c-37061b338695",
        "is_collapsed": false,
        "formattedRanges": [
          {
            "type": "marks",
            "marks": {
              "bold": true
            },
            "toCodePoint": 14,
            "fromCodePoint": 0
          }
        ],
        "deepnote_cell_type": "text-cell-bullet",
        "id": "grKb1NKEbf0y"
      }
    },
    {
      "cell_type": "code",
      "source": [
        "mostrar_distribuciones_cuantitativas(\"property_rooms\", figsize=(20, 6), bins=[*range(20)], espaciado=1, rotacion=0)"
      ],
      "metadata": {
        "tags": [],
        "cell_id": "67743cf2edf5476daf1b59b58d22beb1",
        "source_hash": "3a99d0bc",
        "execution_start": 1665162074218,
        "execution_millis": 741,
        "deepnote_to_be_reexecuted": false,
        "deepnote_cell_type": "code",
        "id": "phAhJ8Urbf0y"
      },
      "outputs": [],
      "execution_count": null
    },
    {
      "cell_type": "markdown",
      "source": [
        "#####property_bedrooms"
      ],
      "metadata": {
        "tags": [],
        "cell_id": "e9c6b691-4041-4f24-9b02-3e0d1c1f14cd",
        "is_collapsed": false,
        "formattedRanges": [
          {
            "type": "marks",
            "marks": {
              "bold": true
            },
            "toCodePoint": 17,
            "fromCodePoint": 0
          }
        ],
        "deepnote_cell_type": "text-cell-bullet",
        "id": "yFCg_5nYbf0y"
      }
    },
    {
      "cell_type": "code",
      "source": [
        "mostrar_distribuciones_cuantitativas(\"property_bedrooms\", figsize=(20, 6), espaciado=1, bins=[*range(20)], rotacion=0)"
      ],
      "metadata": {
        "tags": [],
        "cell_id": "77ab173ed26b47fd8a5a1a36affd2baa",
        "source_hash": "ec4778d1",
        "execution_start": 1665162074927,
        "execution_millis": 1004,
        "deepnote_to_be_reexecuted": false,
        "deepnote_cell_type": "code",
        "id": "jcLny0gQbf0y"
      },
      "outputs": [],
      "execution_count": null
    },
    {
      "cell_type": "markdown",
      "source": [
        "#####property_surface_total"
      ],
      "metadata": {
        "tags": [],
        "cell_id": "0708710d-6eef-4f85-bd92-1d525e23a56e",
        "is_collapsed": false,
        "formattedRanges": [
          {
            "type": "marks",
            "marks": {
              "bold": true
            },
            "toCodePoint": 22,
            "fromCodePoint": 0
          }
        ],
        "deepnote_cell_type": "text-cell-bullet",
        "id": "cNFZmQUubf0z"
      }
    },
    {
      "cell_type": "code",
      "source": [
        "ds_property_surface_total_sin_outliers = ds_filtrado[['property_surface_total']]\n",
        "ds_property_surface_total_sin_outliers = ds_property_surface_total_sin_outliers[(ds_property_surface_total_sin_outliers.property_surface_total > 0) & (ds_property_surface_total_sin_outliers.property_surface_total < 1000)]\n",
        "mostrar_distribuciones_cuantitativas(\"property_surface_total\", ds=ds_property_surface_total_sin_outliers, figsize=(20, 6), bins=[*range(0, 1000, 10)], espaciado=2)"
      ],
      "metadata": {
        "tags": [],
        "cell_id": "3e60ab02295d4763969487d60f3bdbdd",
        "source_hash": "3903f9f7",
        "execution_start": 1665162075946,
        "execution_millis": 1865,
        "deepnote_to_be_reexecuted": false,
        "deepnote_cell_type": "code",
        "id": "-D1VNP2Rbf0z"
      },
      "outputs": [],
      "execution_count": null
    },
    {
      "cell_type": "markdown",
      "source": [
        "##### property_surface_covered\n",
        "<font color='red'>REVISAR, tendría mas sentido que sea continuo el grafico </font>"
      ],
      "metadata": {
        "tags": [],
        "cell_id": "93476f13-fb3f-4db9-8f25-5ddc05e681e5",
        "is_collapsed": false,
        "formattedRanges": [
          {
            "type": "marks",
            "marks": {
              "bold": true
            },
            "toCodePoint": 24,
            "fromCodePoint": 0
          }
        ],
        "deepnote_cell_type": "text-cell-bullet",
        "id": "SNxhK8mTbf0z"
      }
    },
    {
      "cell_type": "code",
      "source": [
        "ds_property_surface_covered_sin_outliers = ds_filtrado[['property_surface_covered']]\n",
        "ds_property_surface_covered_sin_outliers = ds_property_surface_covered_sin_outliers[(ds_property_surface_covered_sin_outliers.property_surface_covered > 0) & (ds_property_surface_covered_sin_outliers.property_surface_covered < 1000)]\n",
        "mostrar_distribuciones_cuantitativas(\"property_surface_covered\", ds=ds_property_surface_covered_sin_outliers, figsize=(20, 6), bins=[*range(0, 1000, 10)])"
      ],
      "metadata": {
        "tags": [],
        "cell_id": "ff27a6ffa78d4be2bfb9eefad1cf3e86",
        "source_hash": "d740e673",
        "execution_start": 1665162077711,
        "execution_millis": 1446,
        "deepnote_to_be_reexecuted": false,
        "deepnote_cell_type": "code",
        "id": "F8H4ldwlbf0z"
      },
      "outputs": [],
      "execution_count": null
    },
    {
      "cell_type": "markdown",
      "source": [
        "##### property_price\n",
        "<font color='red'>REVISAR, tendría mas sentido que sea continuo el grafico </font>"
      ],
      "metadata": {
        "tags": [],
        "cell_id": "cf0f89e2-7ee9-488a-bdb3-12d3faa88353",
        "is_collapsed": false,
        "formattedRanges": [
          {
            "type": "marks",
            "marks": {
              "bold": true
            },
            "toCodePoint": 14,
            "fromCodePoint": 0
          }
        ],
        "deepnote_cell_type": "text-cell-bullet",
        "id": "hO-KX3PTbf0z"
      }
    },
    {
      "cell_type": "code",
      "source": [
        "ds_property_price_sin_outliers = ds_filtrado[['property_price']]\n",
        "ds_property_price_sin_outliers = ds_property_price_sin_outliers[(ds_property_price_sin_outliers.property_price > 0) & (ds_property_price_sin_outliers.property_price < 3000000)]\n",
        "mostrar_distribuciones_cuantitativas(\"property_price\", ds=ds_property_price_sin_outliers, figsize=(20, 6), bins=[*range(0, 3000000, 20000)], espaciado=4)\n"
      ],
      "metadata": {
        "tags": [],
        "cell_id": "52620fa4bdeb492887ab760b0926ab39",
        "source_hash": "ecbe9dc6",
        "execution_start": 1665162079159,
        "execution_millis": 10993,
        "deepnote_to_be_reexecuted": false,
        "deepnote_cell_type": "code",
        "id": "YA9_gYOObf0z"
      },
      "outputs": [],
      "execution_count": null
    },
    {
      "cell_type": "markdown",
      "source": [
        "#####latitud"
      ],
      "metadata": {
        "tags": [],
        "cell_id": "13e7a8ef-594c-4a12-b3f2-34ed271dcf92",
        "is_collapsed": false,
        "formattedRanges": [
          {
            "type": "marks",
            "marks": {
              "bold": true
            },
            "toCodePoint": 7,
            "fromCodePoint": 0
          }
        ],
        "deepnote_cell_type": "text-cell-bullet",
        "id": "0d_Ncc4-bf0z"
      }
    },
    {
      "cell_type": "code",
      "source": [
        "ds_latitud_sin_outliers = ds_filtrado[['latitud']]\n",
        "ds_latitud_sin_outliers = ds_latitud_sin_outliers[(ds_latitud_sin_outliers.latitud > -38) & (ds_latitud_sin_outliers.latitud < -34)]\n",
        "mostrar_distribuciones_cuantitativas(\"latitud\", ds=ds_latitud_sin_outliers, figsize=(20, 6), binwidth=0.005, espaciado=5)"
      ],
      "metadata": {
        "tags": [],
        "cell_id": "0e3c5267f50845809a4cdd85a605e7d8",
        "source_hash": "13055416",
        "execution_start": 1665162075933,
        "execution_millis": 0,
        "deepnote_to_be_reexecuted": false,
        "deepnote_cell_type": "code",
        "id": "nh9g5uuPbf0z"
      },
      "outputs": [],
      "execution_count": null
    },
    {
      "cell_type": "markdown",
      "source": [
        "#####longitud"
      ],
      "metadata": {
        "tags": [],
        "cell_id": "136a97ea-1032-4cbd-bf42-9ad68fe7640f",
        "is_collapsed": false,
        "formattedRanges": [
          {
            "type": "marks",
            "marks": {
              "bold": true
            },
            "toCodePoint": 8,
            "fromCodePoint": 0
          }
        ],
        "deepnote_cell_type": "text-cell-bullet",
        "id": "jnZkSuTIbf0z"
      }
    },
    {
      "cell_type": "code",
      "source": [
        "ds_longitud_sin_outliers = ds_filtrado[['longitud']]\n",
        "ds_longitud_sin_outliers = ds_longitud_sin_outliers[(ds_longitud_sin_outliers.longitud > -59) & (ds_longitud_sin_outliers.longitud < -58)]\n",
        "mostrar_distribuciones_cuantitativas(\"longitud\", ds=ds_longitud_sin_outliers, espaciado=5, figsize=(20, 6), binwidth=0.005)"
      ],
      "metadata": {
        "tags": [],
        "cell_id": "ae4163e4293e4240a422874155ff61db",
        "source_hash": "a6c0fbad",
        "execution_start": 1665162075934,
        "execution_millis": 9,
        "deepnote_to_be_reexecuted": false,
        "deepnote_cell_type": "code",
        "id": "XbaVybxUbf0z"
      },
      "outputs": [],
      "execution_count": null
    },
    {
      "cell_type": "markdown",
      "source": [
        "###### longitud y latitud en conjunto\n",
        "<font color='red'>REVISAR, usar el random con una seed así siempre da el mismo resultado </font>"
      ],
      "metadata": {
        "id": "Fb83Wk96UkeP"
      }
    },
    {
      "cell_type": "code",
      "source": [
        "import json\n",
        "import shapely\n",
        "import requests\n",
        "import random\n",
        "from shapely.geometry import shape, Point\n",
        "from shapely.ops import unary_union\n",
        "from shapely.ops import unary_union\n",
        "\n",
        "\n",
        "\n",
        "url='https://drive.google.com/file/d/1eeT_53CFY63d55oZo50F7mOKPTZMW--V/view?usp=sharing'\n",
        "file_id=url.split('/')[-2]\n",
        "dwn_url='https://drive.google.com/uc?id=' + file_id\n",
        "\n",
        "url=requests.get(dwn_url)\n",
        "data=url.text\n",
        "\n",
        "\n",
        "\n",
        "data=json.loads(data)\n",
        "\n",
        "\n",
        "caba_barrios = data\n",
        "barrios = dict(\n",
        "    (feature[\"properties\"][\"BARRIO\"], shape(feature[\"geometry\"])) \n",
        "    for feature in caba_barrios[\"features\"]\n",
        ")\n",
        "\n",
        "all_barrios = unary_union(barrios.values())\n",
        "\n",
        "\n",
        "\n",
        "def graficar_puntos_en_caba(longitudes, latitudes, tamano_de_punto=4,  proporcion=1):\n",
        "  lat_long = list(zip(longitudes, latitudes))\n",
        "\n",
        "  long_min, lat_min, long_max, lat_max = all_barrios.bounds\n",
        "\n",
        "  viridis = cm.get_cmap('viridis', len(barrios) // 4)\n",
        "  plasma = cm.get_cmap('plasma', len(barrios) // 4)\n",
        "  inferno = cm.get_cmap('inferno', len(barrios) // 4)\n",
        "  cividis = cm.get_cmap('cividis', len(barrios) - (len(barrios) // 4) * 3)\n",
        "  colors = sum((list(x.colors) for x in (viridis, plasma, inferno, cividis)), [])\n",
        "\n",
        "  random.shuffle(colors)\n",
        "\n",
        "\n",
        "  f = plt.figure()\n",
        "  f.set_figwidth(15)\n",
        "  f.set_figheight(15)\n",
        "\n",
        "\n",
        "\n",
        "  for idx, (barrio, shape) in enumerate(barrios.items()):\n",
        "    for polygon in shape.geoms:\n",
        "        plt.plot(*polygon.exterior.xy, color=colors[idx])\n",
        "  \n",
        "  values=lat_long.copy()\n",
        "  random.shuffle(values)\n",
        "\n",
        "  cont_outsiders=0\n",
        "  cantidad = int(latitudes.size*proporcion)\n",
        "  for dot in values[:cantidad]:     \n",
        "    if(all_barrios.contains(Point(dot))):\n",
        "       plt.scatter(x=dot[0], y=dot[1], s=tamano_de_punto, c='black')\n",
        "    else: \n",
        "      cont_outsiders= cont_outsiders+1\n",
        " \n",
        "  plt.show()\n",
        "  print(\"El porcentaje de outsiders dentro de la proporcion pedida de la muestra es:\", cont_outsiders/cantidad*100)"
      ],
      "metadata": {
        "id": "RcSSmBMuUs4_"
      },
      "execution_count": null,
      "outputs": []
    },
    {
      "cell_type": "code",
      "source": [
        "graficar_puntos_en_caba(ds_filtrado.longitud, ds_filtrado.latitud, proporcion=0.005)"
      ],
      "metadata": {
        "id": "3hhFa5bjn0ck"
      },
      "execution_count": null,
      "outputs": []
    },
    {
      "cell_type": "markdown",
      "source": [
        "Como vemos, los puntos se distribuyen de manera coherente con la realidad, donde hay mas densidad de poblacion en sectores populares. Luego analizaremos los puntos faltantes y outsiders por separado, en la secciones correspondientes.   "
      ],
      "metadata": {
        "id": "aYKMZr-7qiYw"
      }
    },
    {
      "cell_type": "markdown",
      "source": [
        "### Variables Cualitativas\n",
        "---\n"
      ],
      "metadata": {
        "tags": [],
        "cell_id": "6b99911d-8e44-4e7d-93f8-a43fa9f8fd35",
        "is_collapsed": false,
        "formattedRanges": [],
        "deepnote_cell_type": "text-cell-h3",
        "id": "v0dzO8Ngbf0w"
      }
    },
    {
      "cell_type": "markdown",
      "source": [
        "#### Cantidad de valores posibles y frecuencias"
      ],
      "metadata": {
        "id": "2oel1aLrb3ac"
      }
    },
    {
      "cell_type": "code",
      "source": [
        "def mostrar_frecuencias(columna, ancho=4, alto=4):\n",
        "    frecuencia_por_valor = ds_filtrado.groupby(columna).size().to_frame(\"frecuencia\")\n",
        "    frecuencia_por_valor = frecuencia_por_valor.sort_values(by=\"frecuencia\", ascending=False).reset_index()\n",
        "    frecuencia_por_valor.head(40).plot.bar(x=columna, y=\"frecuencia\", figsize=(ancho, alto))\n",
        "    mostrar_metadata_grafico(f\"frecuencias de valores posibles de {columna}\", ylabel=\"frecuencia\", xlabel=\"valores posibles\")\n",
        "    "
      ],
      "metadata": {
        "tags": [],
        "cell_id": "67c86e3462e642d2a693192c724302f7",
        "source_hash": "56685098",
        "execution_start": 1665162071776,
        "execution_millis": 1,
        "deepnote_to_be_reexecuted": false,
        "deepnote_cell_type": "code",
        "id": "81B7N2JAbf0w"
      },
      "outputs": [],
      "execution_count": null
    },
    {
      "cell_type": "markdown",
      "source": [
        "#####place_l2"
      ],
      "metadata": {
        "tags": [],
        "cell_id": "ce7571f4-a4e5-4074-b366-8b695b35a614",
        "is_collapsed": false,
        "formattedRanges": [
          {
            "type": "marks",
            "marks": {
              "bold": true
            },
            "toCodePoint": 8,
            "fromCodePoint": 0
          }
        ],
        "deepnote_cell_type": "text-cell-bullet",
        "id": "Pe1nr0Fubf0w"
      }
    },
    {
      "cell_type": "code",
      "source": [
        "mostrar_frecuencias('place_l2')"
      ],
      "metadata": {
        "tags": [],
        "cell_id": "a7d363823c08477eb57d170ab4096ed4",
        "source_hash": "21f1b2cf",
        "execution_start": 1665162071783,
        "execution_millis": 160,
        "deepnote_to_be_reexecuted": false,
        "deepnote_cell_type": "code",
        "id": "F1LSUCfdbf0w"
      },
      "outputs": [],
      "execution_count": null
    },
    {
      "cell_type": "markdown",
      "source": [
        "#####place_l3"
      ],
      "metadata": {
        "tags": [],
        "cell_id": "2ba82585-5bf4-444e-b7e1-fdac9f75ce04",
        "is_collapsed": false,
        "formattedRanges": [
          {
            "type": "marks",
            "marks": {
              "bold": true
            },
            "toCodePoint": 8,
            "fromCodePoint": 0
          }
        ],
        "deepnote_cell_type": "text-cell-bullet",
        "id": "rJoNsdb_bf0w"
      }
    },
    {
      "cell_type": "code",
      "source": [
        "mostrar_frecuencias('place_l3', 10, 6)"
      ],
      "metadata": {
        "tags": [],
        "cell_id": "ed458eb6e1004ccda258e59244c4e60c",
        "source_hash": "2ad33107",
        "execution_start": 1665162071944,
        "execution_millis": 532,
        "deepnote_to_be_reexecuted": false,
        "deepnote_cell_type": "code",
        "id": "OEyN1vY0bf0w"
      },
      "outputs": [],
      "execution_count": null
    },
    {
      "cell_type": "markdown",
      "source": [
        "#####place_l4"
      ],
      "metadata": {
        "tags": [],
        "cell_id": "47a5d6ec-571e-44c5-9df5-0c1fd4ba0c6f",
        "is_collapsed": false,
        "formattedRanges": [
          {
            "type": "marks",
            "marks": {
              "bold": true
            },
            "toCodePoint": 8,
            "fromCodePoint": 0
          }
        ],
        "deepnote_cell_type": "text-cell-bullet",
        "id": "7WgV5qB7bf0w"
      }
    },
    {
      "cell_type": "code",
      "source": [
        "mostrar_frecuencias('place_l4', 10, 5)"
      ],
      "metadata": {
        "tags": [],
        "cell_id": "cfc36db8d4e240dca547de24d2da343b",
        "source_hash": "18492a2f",
        "execution_start": 1665162072483,
        "execution_millis": 181,
        "deepnote_to_be_reexecuted": false,
        "deepnote_cell_type": "code",
        "id": "fNjh4muTbf0w"
      },
      "outputs": [],
      "execution_count": null
    },
    {
      "cell_type": "markdown",
      "source": [
        "#####operation"
      ],
      "metadata": {
        "tags": [],
        "cell_id": "7d050b82-3cb2-46cf-b31b-cc0a8951cf8b",
        "is_collapsed": false,
        "formattedRanges": [
          {
            "type": "marks",
            "marks": {
              "bold": true
            },
            "toCodePoint": 9,
            "fromCodePoint": 0
          }
        ],
        "deepnote_cell_type": "text-cell-bullet",
        "id": "tc013H4Obf0w"
      }
    },
    {
      "cell_type": "code",
      "source": [
        "mostrar_frecuencias('operation', 10, 5)"
      ],
      "metadata": {
        "tags": [],
        "cell_id": "5d62c8acaade4ce488e60eb823e8da7d",
        "source_hash": "7cff2b7",
        "execution_start": 1665162072667,
        "execution_millis": 171,
        "deepnote_to_be_reexecuted": false,
        "deepnote_cell_type": "code",
        "id": "_hIoOSmBbf0w"
      },
      "outputs": [],
      "execution_count": null
    },
    {
      "cell_type": "markdown",
      "source": [
        "#####property_type"
      ],
      "metadata": {
        "tags": [],
        "cell_id": "2919c6f7-3c8d-4d48-8101-04f924a7b84b",
        "is_collapsed": false,
        "formattedRanges": [
          {
            "type": "marks",
            "marks": {
              "bold": true
            },
            "toCodePoint": 13,
            "fromCodePoint": 0
          }
        ],
        "deepnote_cell_type": "text-cell-bullet",
        "id": "hCFiocYKbf0x"
      }
    },
    {
      "cell_type": "code",
      "source": [
        "mostrar_frecuencias('property_type', 10, 5)"
      ],
      "metadata": {
        "tags": [],
        "cell_id": "2e92cd1d06b2411ba25fe59890941863",
        "source_hash": "c3e8189a",
        "execution_start": 1665162072840,
        "execution_millis": 210,
        "deepnote_to_be_reexecuted": false,
        "deepnote_cell_type": "code",
        "id": "S81b7WKMbf0x"
      },
      "outputs": [],
      "execution_count": null
    },
    {
      "cell_type": "markdown",
      "source": [
        "#####property_currency"
      ],
      "metadata": {
        "tags": [],
        "cell_id": "9e3880d2-ddaa-4de7-820b-f9f1e4cd74cb",
        "is_collapsed": false,
        "formattedRanges": [
          {
            "type": "marks",
            "marks": {
              "bold": true
            },
            "toCodePoint": 17,
            "fromCodePoint": 0
          }
        ],
        "deepnote_cell_type": "text-cell-bullet",
        "id": "jiaOofWrbf0x"
      }
    },
    {
      "cell_type": "code",
      "source": [
        "mostrar_frecuencias('property_currency', 10, 5)"
      ],
      "metadata": {
        "tags": [],
        "cell_id": "c4ab5e53bbb04cda83a6843a52cb0c9d",
        "source_hash": "dd53b498",
        "execution_start": 1665162073090,
        "execution_millis": 145,
        "deepnote_to_be_reexecuted": false,
        "deepnote_cell_type": "code",
        "id": "Sl-LAlAqbf0x"
      },
      "outputs": [],
      "execution_count": null
    },
    {
      "cell_type": "markdown",
      "source": [
        "## Análisis de Correlaciones existentes entre las variables\n",
        "---\n",
        "\n"
      ],
      "metadata": {
        "tags": [],
        "cell_id": "7533e537383c4202a838bfaacce1ca5a",
        "is_collapsed": false,
        "formattedRanges": [],
        "deepnote_cell_type": "text-cell-h3",
        "id": "6-FaorWqbf0z"
      }
    },
    {
      "cell_type": "markdown",
      "source": [
        "Eliminamos place_l6 al ser que tratan de elementos de tipo float64, siendo que no son validos como para evaluar correlaciones."
      ],
      "metadata": {
        "id": "9D1FWoZjeqzk"
      }
    },
    {
      "cell_type": "code",
      "source": [
        "matriz_temp = ds_filtrado.drop(columns=['place_l6'])\n",
        "matriz_correlacion = matriz_temp.corr()"
      ],
      "metadata": {
        "id": "BV9N7TKCebA9"
      },
      "execution_count": null,
      "outputs": []
    },
    {
      "cell_type": "code",
      "source": [
        "plt.figure(figsize = (15,8))\n",
        "sns.heatmap(matriz_correlacion, annot = True, cmap='Blues')\n",
        "mostrar_metadata_grafico(\"Matriz de correlación entre los features del dataset\")"
      ],
      "metadata": {
        "tags": [],
        "cell_id": "f7fde77678a74cf9baa598cef57a01d9",
        "source_hash": "303115a3",
        "execution_start": 1665162504550,
        "execution_millis": 1293,
        "deepnote_to_be_reexecuted": false,
        "deepnote_cell_type": "code",
        "id": "CcYy_hFFbf0z"
      },
      "outputs": [],
      "execution_count": null
    },
    {
      "cell_type": "markdown",
      "source": [
        "Como observamos del heatmap, hay ciertas variables con una correlación significativa, por ejemplo:"
      ],
      "metadata": {
        "tags": [],
        "cell_id": "39acad7c459c45f6b89df041acca8289",
        "is_collapsed": false,
        "formattedRanges": [],
        "deepnote_cell_type": "text-cell-p",
        "id": "ZZhKwZR3bf00"
      }
    },
    {
      "cell_type": "markdown",
      "source": [
        "- la cantidad de habitaciones vs la cantidad de ambientes\n",
        "- superficie cubierta vs superficie total\n",
        "- precio vs cantidad de ambientes y habitaciones "
      ],
      "metadata": {
        "tags": [],
        "cell_id": "e0ca213dfc314d70aef1eceb5ecc9e06",
        "is_collapsed": false,
        "formattedRanges": [],
        "deepnote_cell_type": "text-cell-bullet",
        "id": "mySNEx0bbf00"
      }
    },
    {
      "cell_type": "markdown",
      "source": [
        "Estas relaciones tienen sentido, dado que uno esperaría que a medida aumenta la cantidad de ambientes (y/o cuartos), la propiedad sea mas cara. También tiene mucho sentido que a mas superficie total, se puede tener mas superficie cubierta."
      ],
      "metadata": {
        "tags": [],
        "cell_id": "e6c57950d1eb4842a03ec9e4f1431672",
        "is_collapsed": false,
        "formattedRanges": [],
        "deepnote_cell_type": "text-cell-p",
        "id": "MijLt1fFbf00"
      }
    },
    {
      "cell_type": "markdown",
      "source": [
        "Lo que nos sorprende es que el precio de la propiedad parece tener una correlación muy débil con la superficie total y cubierta, lo cual nos asombra puesto que uno esperaría que a medida que aumentan los m^2 de la propiedad, aumenta su precio. "
      ],
      "metadata": {
        "tags": [],
        "cell_id": "41ded356-da2c-4519-8be2-a3ae22659522",
        "is_collapsed": false,
        "formattedRanges": [],
        "deepnote_cell_type": "text-cell-p",
        "id": "F2dh62arbf00"
      }
    },
    {
      "cell_type": "markdown",
      "source": [
        "## Separacion del dataset para train y test"
      ],
      "metadata": {
        "id": "CuQ0jmUMuIML"
      }
    },
    {
      "cell_type": "markdown",
      "source": [
        "#####<font color=red>HACER TODO EN TEST Y TRAIN "
      ],
      "metadata": {
        "id": "XSkpbJ58w80N"
      }
    },
    {
      "cell_type": "markdown",
      "source": [
        "A continuacion haremos la separacion de los los conjuntos de entrenamiento y test. "
      ],
      "metadata": {
        "id": "7xbt2_WpuVCi"
      }
    },
    {
      "cell_type": "markdown",
      "source": [
        "Para respetar la idea de conservar proporciones utilizamos la herramienta de sklearn de stratify. A la misma debemos pasarle el target que nos interesa calcular en base a los datos del set. Por lo tanto a constinuacion clasificaremos dicho target.\n"
      ],
      "metadata": {
        "id": "qmKEQWdvivwU"
      }
    },
    {
      "cell_type": "markdown",
      "source": [
        "###Clasificacion del Target"
      ],
      "metadata": {
        "id": "hiGy2V2XjHv7"
      }
    },
    {
      "cell_type": "markdown",
      "source": [
        "Buscamos un target cuyo tipo sea calificativo. Seguiremos la idea presentada por el enunciado de categorizar el precio como alto, bajo o medio. \n",
        "\n",
        "Para eso nos parece necesario analizar las medidas de resumen de property_price."
      ],
      "metadata": {
        "id": "cXPTVu_sjL8M"
      }
    },
    {
      "cell_type": "code",
      "source": [
        "mostrar_medidas_resumen('property_price', show_boxplot=True, df=ds_filtrado, ylabel='property price')"
      ],
      "metadata": {
        "id": "rc_lVa2ljgM9"
      },
      "execution_count": null,
      "outputs": []
    },
    {
      "cell_type": "markdown",
      "source": [
        "Observamos que el q1 es de aproximadamente 95000. Pensando en los casos reales que conocemos, nos parece un buen limite para poner el maximo de un precio que consideramos bajo. \n",
        "\n",
        "Luego, continuando con la distribucion de la variable, nos parece razonable clasificar un precio mediano con valores que ronden desde 95000 (el q1 de la variable) hasta 235000.\n",
        "\n",
        "Por ultimo, consideramos que los valores superiores a 235000 ya se pueden clasificar como precios altos."
      ],
      "metadata": {
        "id": "SVHscCBkj4id"
      }
    },
    {
      "cell_type": "code",
      "source": [
        "def categorise(row):  \n",
        "    if row['property_price'] <= 95000:\n",
        "        return 'low_price'\n",
        "    elif row['property_price'] > 95000 and row['property_price'] <= 235000:\n",
        "        return 'medium_price'\n",
        "    elif row['property_price'] > 235000:\n",
        "        return 'high_price'\n"
      ],
      "metadata": {
        "id": "I654TYl3ojvV"
      },
      "execution_count": null,
      "outputs": []
    },
    {
      "cell_type": "markdown",
      "source": [
        "Una vez clasificados los tipos de precio en base a los precios, pasamos a crear la nueva columna."
      ],
      "metadata": {
        "id": "S8GdVWqkl1QM"
      }
    },
    {
      "cell_type": "code",
      "source": [
        "ds_filtrado['target'] = ds_filtrado.apply(lambda row: categorise(row), axis=1)\n"
      ],
      "metadata": {
        "id": "Hqsul8NwmItv"
      },
      "execution_count": null,
      "outputs": []
    },
    {
      "cell_type": "code",
      "source": [
        "ds_filtrado.target.value_counts()"
      ],
      "metadata": {
        "id": "AWgQNUpxpUH7"
      },
      "execution_count": null,
      "outputs": []
    },
    {
      "cell_type": "code",
      "source": [
        "from sklearn.model_selection import train_test_split\n",
        "\n",
        "#Creo un dataset con los features que voy a usar para clasificar\n",
        "ds_filtrado_x=ds_filtrado.drop(['property_price'], axis='columns', inplace=False)\n",
        "\n",
        "#Creo un dataset con la variable target\n",
        "ds_filtrado_y = ds_filtrado['property_price'].copy()\n",
        "\n",
        "#Genero los conjuntos de train y de test\n",
        "x_train, x_test, y_train, y_test = train_test_split(ds_filtrado_x,\n",
        "                                                    ds_filtrado_y,\n",
        "                                                    stratify=ds_filtrado['target'].values, \n",
        "                                                    test_size=0.3,  #proporcion 70/30\n",
        "                                                    random_state=2) #semilla"
      ],
      "metadata": {
        "id": "Ps2CKy_kw5QC"
      },
      "execution_count": null,
      "outputs": []
    },
    {
      "cell_type": "markdown",
      "source": [
        "<font color=red>BALANCEAR"
      ],
      "metadata": {
        "id": "GzIbsA7jvOGe"
      }
    },
    {
      "cell_type": "markdown",
      "source": [
        "## Datos Faltantes\n",
        "---\n"
      ],
      "metadata": {
        "tags": [],
        "style": "lower-alpha",
        "number": 2,
        "cell_id": "daf047b3b2f142b49cfb6fe733c319f9",
        "is_collapsed": false,
        "formattedRanges": [],
        "deepnote_cell_type": "text-cell-h2",
        "id": "zYVbNATObf00"
      }
    },
    {
      "cell_type": "markdown",
      "source": [
        "### Análisis de datos faltantes a nivel columna"
      ],
      "metadata": {
        "id": "VbCPS6tCeD75"
      }
    },
    {
      "cell_type": "code",
      "source": [
        "filas_totales = ds_filtrado.shape[0]\n",
        "(ds_filtrado.isna().sum()/filas_totales*100).plot( kind = 'bar', \n",
        "             stacked = 'True',          # Muestra las barras apiladas\n",
        "             alpha = 1,                 # nivel de transparencia\n",
        "             width = 0.9,               # Grosor de las barras para dejar espacio entre ellas\n",
        "             figsize=(9,4));            # Cambiamos el tamaño de la figura"
      ],
      "metadata": {
        "tags": [],
        "cell_id": "d2b41abb257e48b1929523ed37f11cc0",
        "source_hash": "7f6e9b30",
        "execution_start": 1665162180410,
        "execution_millis": 366,
        "deepnote_to_be_reexecuted": false,
        "deepnote_cell_type": "code",
        "id": "wHMt_1g8bf00"
      },
      "outputs": [],
      "execution_count": null
    },
    {
      "cell_type": "markdown",
      "source": [
        "Observamos que place l4 está conformado mayormente por valores vacíos, mientras que l5 y l6 están completamente vacíos. Luego tenemos varias columnas con todos sus valores, y algunas otras con un porcentaje de valores faltantes relativamente bajo."
      ],
      "metadata": {
        "tags": [],
        "cell_id": "9094ee975cc3498b950abf71c1411773",
        "is_collapsed": false,
        "formattedRanges": [],
        "deepnote_cell_type": "text-cell-p",
        "id": "QmnS4HBWbf00"
      }
    },
    {
      "cell_type": "markdown",
      "source": [
        "### Análisis de datos faltantes a nivel fila"
      ],
      "metadata": {
        "tags": [],
        "cell_id": "f60f931e-4fb1-476c-87c7-59b3be800385",
        "is_collapsed": false,
        "formattedRanges": [],
        "deepnote_cell_type": "text-cell-h3",
        "id": "os08NI3Mbf00"
      }
    },
    {
      "cell_type": "code",
      "source": [
        "temp = ds_filtrado.isna().sum(axis=1)\n",
        "temp = temp.value_counts().to_frame(\"procentaje_sobre_cantidad_de_registros\")\n",
        "temp['valores_faltantes'] = temp.index\n",
        "temp = temp.reset_index()\n",
        "temp.procentaje_sobre_cantidad_de_registros = temp.procentaje_sobre_cantidad_de_registros/filas_totales*100\n",
        "sns.barplot(data=temp, x=\"valores_faltantes\", y=\"procentaje_sobre_cantidad_de_registros\")\n",
        "plt.show()\n"
      ],
      "metadata": {
        "tags": [],
        "cell_id": "cf82b517fc3c4acb859abf43c3764a4c",
        "source_hash": "5b3abfd8",
        "execution_start": 1665162185152,
        "execution_millis": 990,
        "deepnote_to_be_reexecuted": false,
        "deepnote_cell_type": "code",
        "id": "IjbYGbInbf00"
      },
      "outputs": [],
      "execution_count": null
    },
    {
      "cell_type": "markdown",
      "source": [
        "Podemos observar que contamos con una amplia cantidad de filas con 3 datos faltantes. Se observan pocas filas con mas de 6 datos faltantes, por lo que podemos asumir por ahora que la gran mayoría de nuestro data set nos brinda al menos mas del 50% de información en cada registro. "
      ],
      "metadata": {
        "tags": [],
        "cell_id": "dac7c017d927441494f60c28243935c9",
        "is_collapsed": false,
        "formattedRanges": [],
        "deepnote_cell_type": "text-cell-p",
        "id": "mM4p4aaDbf01"
      }
    },
    {
      "cell_type": "markdown",
      "source": [
        "### Reparaciones de Datos Faltantes\n"
      ],
      "metadata": {
        "id": "_iszdGGXfrsV"
      }
    },
    {
      "cell_type": "code",
      "source": [
        "(ds_filtrado.isna().sum()/filas_totales*100)"
      ],
      "metadata": {
        "id": "l7ilptypgUy9"
      },
      "execution_count": null,
      "outputs": []
    },
    {
      "cell_type": "markdown",
      "source": [
        "Si bien esta es el porcentaje de datos faltanes NaN, hay otros datos faltantes que son inválidos, y tambien los tenemos en cuenta."
      ],
      "metadata": {
        "id": "oSF86eljIube"
      }
    },
    {
      "cell_type": "markdown",
      "source": [
        "Se observa que las columnas en las que se encuentran datos faltantes son en latitud, longitud, place_l3, place_l4, place_l5, place_l6, property_rooms, property_bedrooms, property_surface_total, y  property_surface_covered.\n",
        "En esta seccion analizaremos como manejar estos casos especiales. Comenzaremos por la clasificacion de datos faltantes. "
      ],
      "metadata": {
        "id": "m2xP-cqXfxlF"
      }
    },
    {
      "cell_type": "markdown",
      "source": [
        "* Missing completly at random:\n",
        "\n",
        "    No existe relacion entre la falta de datos y la variable donde se encuentra el dato faltante.\n",
        "\n",
        "* Missing not at random:\n",
        "\n",
        "    La falta esta asociada a la naturaleza de la variable. Depende precisamente de los mismos datos que recolectamos. \n",
        "\n",
        "\n",
        "* Missing at random: \n",
        "\n",
        "    La falta no depende de los mismos datos faltantes, sino de otras variables. \n"
      ],
      "metadata": {
        "id": "st4rLsjkhz1N"
      }
    },
    {
      "cell_type": "markdown",
      "source": [
        "####Eliminacion de datos faltantes"
      ],
      "metadata": {
        "id": "_D_eLNeIqnhD"
      }
    },
    {
      "cell_type": "markdown",
      "source": [
        "#####place_l5 y place_l6"
      ],
      "metadata": {
        "id": "FhFFgumGuB2i"
      }
    },
    {
      "cell_type": "markdown",
      "source": [
        "Se observa que place_l5 y place_l6 son datos faltantes de tipo MCAR ya que la razon de falta de datos es ajena a los datos mismos. Faltan datos en todos los registros, por lo que no se puede hacer ninguna relacion entre estos datos y otras columnas. "
      ],
      "metadata": {
        "id": "BFbPEcuDuINx"
      }
    },
    {
      "cell_type": "code",
      "source": [
        "print(ds_filtrado['place_l5'].isna().sum()/filas_totales*100)\n",
        "print(ds_filtrado['place_l6'].isna().sum()/filas_totales*100)"
      ],
      "metadata": {
        "id": "glZ5rbjCkX_s"
      },
      "execution_count": null,
      "outputs": []
    },
    {
      "cell_type": "markdown",
      "source": [
        "Dado que el porcentaje de datos faltantes es muestra una falta casi por completo de los datos, decimos eliminarlos."
      ],
      "metadata": {
        "id": "xc_tE5JGkzSC"
      }
    },
    {
      "cell_type": "code",
      "source": [
        "ds_filtrado.drop('place_l5', axis='columns', inplace=True)\n",
        "ds_filtrado.drop('place_l6', axis='columns', inplace=True)"
      ],
      "metadata": {
        "id": "_Lr5iEgdlaUr"
      },
      "execution_count": null,
      "outputs": []
    },
    {
      "cell_type": "markdown",
      "source": [
        "#####place_l4"
      ],
      "metadata": {
        "id": "5W_1_MXot7BN"
      }
    },
    {
      "cell_type": "code",
      "source": [
        "print(\"l4:\\n\", ds.place_l4.value_counts())\n",
        "print(\"\\nValores posibles de l4:\\n\", ds.place_l4.unique())"
      ],
      "metadata": {
        "id": "e_co08SzitK9"
      },
      "execution_count": null,
      "outputs": []
    },
    {
      "cell_type": "markdown",
      "source": [
        "Se visualiza que place_l4 solo presenta datos sobre secciones dentro del barrio de Palermo. Si se enlistan los valores posibles en esta variable se aprecia el hecho de que los unicos valores son nan o secciones de Palermo. Por lo que se llega a la conclusion de que los datos faltantes podrian estar relacionados a que dichas celdas no presenten lugares de Palermo. En este caso, se abre la posibilidad de contar con que la variable place_l4 puede contar con datos del tipo MNAR (Missing not at random).  "
      ],
      "metadata": {
        "id": "BU2lNUn3jUMV"
      }
    },
    {
      "cell_type": "code",
      "source": [
        "temp = ds_filtrado[ds_filtrado.place_l4.isna()]\n",
        "\n",
        "plotdata = pd.DataFrame({\n",
        "    \"place l3 con l4\":ds_filtrado.place_l3.value_counts(),\n",
        "    \"place l3 sin l4\":temp.place_l3.value_counts(),\n",
        "    }, \n",
        ")\n",
        "plotdata.plot(kind=\"bar\", figsize=(18,8))\n",
        "plt.title(\"place_l3 con falta de place_l4 vs sin la falta de place_l4 \")\n",
        "plt.xlabel = \"Place_l3\"\n"
      ],
      "metadata": {
        "id": "6wtDhrSCm_3W"
      },
      "execution_count": null,
      "outputs": []
    },
    {
      "cell_type": "markdown",
      "source": [
        "Se observa gráficamente que para que se observe un valor no nan en place_l4, place_l3 tiene que ser Palermo. Dado que vemos que aunque place_l3 sea palermo hay un gran procentaje donde falta place_l4, el hecho de que place_l3 sea Palermo es una condición necesaria pero no suficiente para observar place_l4 no nan.\n"
      ],
      "metadata": {
        "id": "H-BuCg6ksHGj"
      }
    },
    {
      "cell_type": "code",
      "source": [
        "ds_filtrado[ds_filtrado['place_l4'].notna()].place_l3.value_counts()\n"
      ],
      "metadata": {
        "id": "f4rKssPTmZQk"
      },
      "execution_count": null,
      "outputs": []
    },
    {
      "cell_type": "markdown",
      "source": [
        "Consideramos que place_l4 nos servia para verificar que la columna referente al barrio(place_l3) estuviera correcta, en este caso que fuera palermo en todas las filas que cuentan con un place_l4 con valor no nulo. \n",
        "Habiendo verificado que todas estan en palermo pordemos tomar la decision de que la columna no nos aporta informacion relevante para el dominio de nuestro problema, por lo tanto la eliminamos. "
      ],
      "metadata": {
        "id": "lnZ1OfkWnDpN"
      }
    },
    {
      "cell_type": "code",
      "source": [
        "ds_filtrado.drop('place_l4', axis='columns', inplace=True)"
      ],
      "metadata": {
        "id": "IeNaQv8kn1fT"
      },
      "execution_count": null,
      "outputs": []
    },
    {
      "cell_type": "markdown",
      "source": [
        "##### latitud y longitud"
      ],
      "metadata": {
        "id": "8wrqeChhsHOi"
      }
    },
    {
      "cell_type": "markdown",
      "source": [
        "Analizaremos estos dos datos juntos dado que tienen una relación lógica y tienen además el mismo procentaje de nans.\n",
        "\n",
        "Primero analizamos si los registros que tienen nan en latitud son los mismos que tienen nan en longitud (y viceversa)"
      ],
      "metadata": {
        "id": "oKdsVKcDUafz"
      }
    },
    {
      "cell_type": "code",
      "source": [
        "cond_longitud_nan = ds_filtrado['longitud'].isna()\n",
        "cond_latitud_nan = ds_filtrado['latitud'].isna()\n",
        "print(ds_filtrado[cond_longitud_nan].shape)\n",
        "print(ds_filtrado[cond_latitud_nan].shape)\n",
        "print(ds_filtrado[cond_longitud_nan & cond_latitud_nan].shape)"
      ],
      "metadata": {
        "id": "HKCph2hWUiPk"
      },
      "execution_count": null,
      "outputs": []
    },
    {
      "cell_type": "markdown",
      "source": [
        "Observamos que los registros que tienen alguno de los dos datos faltantes, también tiene su par faltante. Con lo cual, tiene sentido analizarlos juntos. Ademas consideramos apropiado clasificar estos datos faltantes, como MAR. Siendo que la falta de uno dependende del otro y viceversa.\n",
        "\n",
        "Ahora analizaremos si los registros con estos datos faltantes corresponden a un barrio en específico, o si tienen alguna relación con la columna de barrio en general."
      ],
      "metadata": {
        "id": "3KEQS7YBVprb"
      }
    },
    {
      "cell_type": "code",
      "source": [
        "registros_sin_coord = ds_filtrado[cond_longitud_nan & cond_latitud_nan]\n",
        "registros_sin_coord.place_l3.value_counts()"
      ],
      "metadata": {
        "id": "6zFVPlSnWAnf"
      },
      "execution_count": null,
      "outputs": []
    },
    {
      "cell_type": "markdown",
      "source": [
        "Buscamos ahora cuantos registros no tienen ningún valor respecto a la ubicación:"
      ],
      "metadata": {
        "id": "F2tVMhDUZGx-"
      }
    },
    {
      "cell_type": "code",
      "source": [
        "cond_barrio_nan = ds_filtrado['place_l3'].isna()\n",
        "# cond_sector_barrial_nan = ds_filtrado['place_l4'].isna()\n",
        "registros_sin_ubi = ds_filtrado[cond_longitud_nan & cond_latitud_nan & cond_barrio_nan ]#& cond_sector_barrial_nan]\n",
        "registros_sin_ubi.shape"
      ],
      "metadata": {
        "id": "GZQ8hAqCYNti"
      },
      "execution_count": null,
      "outputs": []
    },
    {
      "cell_type": "markdown",
      "source": [
        "Tendría sentido remover estos registros dado que no hay variables con uan relación suficientemente fuerte para poder predecir la ubicación a partir de los otros datos. "
      ],
      "metadata": {
        "id": "1ngDJR6jZk8U"
      }
    },
    {
      "cell_type": "code",
      "source": [
        "ds_filtrado.drop(registros_sin_ubi.index, inplace=True)"
      ],
      "metadata": {
        "id": "Yi_a8jS9Z5FT"
      },
      "execution_count": null,
      "outputs": []
    },
    {
      "cell_type": "markdown",
      "source": [
        "A pesar de haber eliminado parte de los datos faltantes d eestas variables, continuaremos con el tratamiento de los restantes en la seccion de imputacion."
      ],
      "metadata": {
        "id": "Rcmm7nOFsZib"
      }
    },
    {
      "cell_type": "markdown",
      "source": [
        "#### start_date, end_date, crated_on"
      ],
      "metadata": {
        "id": "Rb48bNpmIIAQ"
      }
    },
    {
      "cell_type": "markdown",
      "source": [
        "Como vimos en la sección de exploración inicial -> variables cuantitativas -> medidas de resumen, teníamos 5041 registros inválidos de end_date dado que tenían una fecha \"9999-12-31\". \n",
        "\n",
        "Dado que esta fecha esta lejos de cualquier valor válido, no podemos aproximarla o transformarla en una fecha válida. "
      ],
      "metadata": {
        "id": "cwbGWWk0IgIz"
      }
    },
    {
      "cell_type": "markdown",
      "source": [
        "#### <font color=red>Fechas"
      ],
      "metadata": {
        "id": "t4sabIca42xK"
      }
    },
    {
      "cell_type": "markdown",
      "source": [
        "#### Imputacion de datos faltantes"
      ],
      "metadata": {
        "id": "Mck3knt6rGg7"
      }
    },
    {
      "cell_type": "markdown",
      "source": [
        "#####property_bedrooms\n"
      ],
      "metadata": {
        "id": "lvVQtizjv0bT"
      }
    },
    {
      "cell_type": "code",
      "source": [
        "cond_habitaciones_nan = ds_filtrado['property_bedrooms'].isna()\n",
        "cond_ambientes_nan = ds_filtrado['property_rooms'].isna()\n",
        "registros_sin_rooms_ni_bedrooms = ds_filtrado[cond_habitaciones_nan & cond_ambientes_nan]\n",
        "registros_sin_rooms_ni_bedrooms.shape"
      ],
      "metadata": {
        "id": "OxJr7JYvqEnu"
      },
      "execution_count": null,
      "outputs": []
    },
    {
      "cell_type": "markdown",
      "source": [
        "Consideramos que las filas que tienen cantidad de habitaciones y ambientes con valores nan habria que eliminarlas ya que no hay forma de obtener ambos datos con precision de una sin la otra debido a su alta correlacion."
      ],
      "metadata": {
        "id": "-FCH15kdqv2F"
      }
    },
    {
      "cell_type": "code",
      "source": [
        "ds_filtrado.drop(registros_sin_rooms_ni_bedrooms.index, inplace=True)"
      ],
      "metadata": {
        "id": "2DSRfaCbrxD-"
      },
      "execution_count": null,
      "outputs": []
    },
    {
      "cell_type": "code",
      "source": [
        "temp_sin_bedrooms = ds_filtrado[ds_filtrado.property_bedrooms.isna()]\n",
        "\n",
        "plotdata = pd.DataFrame({\n",
        "    \"frecuencia de rooms\":ds_filtrado.property_rooms.value_counts(),\n",
        "    \"frecuencia de rooms sin bedrooms\":temp_sin_bedrooms.property_rooms.value_counts(),\n",
        "    }, \n",
        ")\n",
        "\n",
        "plotdata.plot(kind=\"bar\", figsize=(18,8))\n",
        "plt.title(\"property_bedrooms vs property_rooms sin property_bedrooms \")\n",
        "plt.xlabel = \"property_rooms\""
      ],
      "metadata": {
        "id": "Zy1bAIofwbbK"
      },
      "execution_count": null,
      "outputs": []
    },
    {
      "cell_type": "markdown",
      "source": [
        "Del grafico se puede analizar que en la vasta mayoria de los casos donde falta el dato sobre la cantidad de habitaciones es mayoritariamente en el caso de que se trate de monoambientes."
      ],
      "metadata": {
        "id": "GmbQGd5Ey2ea"
      }
    },
    {
      "cell_type": "code",
      "source": [
        "temp_sin_bedrooms = ds_filtrado[ds_filtrado.property_bedrooms.isna()]\n",
        "\n",
        "plotdata = pd.DataFrame({\n",
        "    \"sup_total con bedrooms\":ds_filtrado.property_surface_total.value_counts(),\n",
        "    \"sup_total sin bedrooms\":temp_sin_bedrooms.property_surface_total.value_counts(),\n",
        "    }, \n",
        ")\n",
        "plot_ = plotdata.plot(kind=\"bar\", figsize=(18,8))\n",
        "plt.title(\"property_surface_total con falta de property_bedrooms vs sin la falta de property_bedrooms \")\n",
        "plt.xlabel = \"property_surface_total\"\n",
        "\n",
        "for ind, label in enumerate(plot_.get_xticklabels()):\n",
        "    if ind % 30 == 0:  # every 10th label is kept\n",
        "        label.set_visible(True)\n",
        "    else:\n",
        "        label.set_visible(False)"
      ],
      "metadata": {
        "id": "YV8lBt6Zzh9B"
      },
      "execution_count": null,
      "outputs": []
    },
    {
      "cell_type": "markdown",
      "source": [
        "En este grafico se puede observar que la mayoria de los registros en donde falta property_bedrooms es en las propiedades con superficie mas chica, fortaleciendo asi la hipótesis de que se encuentra una falta de datos en la columna de cantidad de habitaciones al tratarse de monoambientes. \n"
      ],
      "metadata": {
        "id": "iWlrselQ11r7"
      }
    },
    {
      "cell_type": "code",
      "source": [
        "ds_filtrado[(ds_filtrado['property_rooms']==1)].property_bedrooms.value_counts()"
      ],
      "metadata": {
        "id": "bQJeIuKVjRti"
      },
      "execution_count": null,
      "outputs": []
    },
    {
      "cell_type": "markdown",
      "source": [
        "\n",
        "<font color='red'>los valores atípicos serán tratados en su respectiva sección</font> \n"
      ],
      "metadata": {
        "id": "ALt00WgANIp-"
      }
    },
    {
      "cell_type": "markdown",
      "source": [
        "Dado que tener más de 1 habitación en un monoambiente es incoherente, y que la vasta mayoría de los monoambientes que no tienen dato faltante en propert_bedrooms tienen su valor en 1, reemplazamos lo registros monoambientes faltantes con 1 (asumiendo el supuesto de que las propiedades analizadas son hogares). \n",
        "\n",
        "Para los casos donde no son monoambientes, cuando predigamos la cantidad de habitaciones, reemplazaremos los 0's por 1's de igual manera mediante el mismo razonamiento. "
      ],
      "metadata": {
        "id": "knDbCL_YGZlp"
      }
    },
    {
      "cell_type": "code",
      "source": [
        "columnas = ['property_rooms','property_bedrooms']\n",
        "ds_property_bedrooms_sin_nan = ds_filtrado[columnas].copy()\n",
        "cond_monoambiente = ds_property_bedrooms_sin_nan['property_rooms']==1\n",
        "cond_bedroom_nan = ds_property_bedrooms_sin_nan['property_bedrooms'].isna()\n",
        "ds_property_bedrooms_sin_nan.loc[cond_monoambiente & cond_bedroom_nan, 'property_bedrooms'] = 1 # reemplazamos monoambientes con bedrooms nan por 1\n"
      ],
      "metadata": {
        "id": "m98UIl66HkDF"
      },
      "execution_count": null,
      "outputs": []
    },
    {
      "cell_type": "code",
      "source": [
        "print('El porcentaje de viviendas con mas de un ambiente (property_rooms) que no tienen habiaciones (property_bedrooms) es:', ds_filtrado['property_bedrooms'].isna().sum()/filas_totales*100)"
      ],
      "metadata": {
        "id": "18YYSAoZe4Dm"
      },
      "execution_count": null,
      "outputs": []
    },
    {
      "cell_type": "markdown",
      "source": [
        "Por lo tanto, la mayoría de los casos en los cuales faltan habitaciones (property_bedrooms) es en monoambientes. Con lo cual, podemos asumir que los datos faltantes de esta variable son de tipo MAR. \n",
        "\n",
        "Para los casos donde se tiene mas de un ambiente, podemos aplicar el imputador iterativo. "
      ],
      "metadata": {
        "id": "Av0oS5Rp_Ry1"
      }
    },
    {
      "cell_type": "code",
      "source": [
        "from sklearn.experimental import enable_iterative_imputer\n",
        "from sklearn.impute import IterativeImputer\n",
        "from sklearn.linear_model import LinearRegression\n",
        "\n",
        "columnas=['property_surface_total','property_surface_covered','property_bedrooms','property_rooms']\n",
        "df_eliminar_nans_en_bedrooms_y_rooms = ds_filtrado[columnas].copy()\n",
        "\n",
        "lr = LinearRegression()\n",
        "imp = IterativeImputer(estimator=lr,missing_values=np.nan, max_iter=20, verbose=0, random_state=2) #imputation_order='roman'\n",
        "array_sin_nans_en_bedrooms_y_rooms = imp.fit_transform(df_eliminar_nans_en_bedrooms_y_rooms)"
      ],
      "metadata": {
        "id": "Q-Ojs7CcUNL2"
      },
      "execution_count": null,
      "outputs": []
    },
    {
      "cell_type": "code",
      "source": [
        "ds_sin_nans_en_bedrooms_y_rooms = pd.DataFrame(array_sin_nans_en_bedrooms_y_rooms, columns = columnas) #imp.fit_transfor devuelve un arrar sin nans en las columnas\n",
        "ds_sin_nans_en_bedrooms_y_rooms = ds_sin_nans_en_bedrooms_y_rooms.round(0)"
      ],
      "metadata": {
        "id": "bXZmiNwACqy4"
      },
      "execution_count": null,
      "outputs": []
    },
    {
      "cell_type": "code",
      "source": [
        "plotdata = pd.DataFrame({\n",
        "    \"frecuencia de bedrooms con manejo de valores faltantes en general\":ds_sin_nans_en_bedrooms_y_rooms.property_bedrooms.value_counts(),\n",
        "    \"frecuencia de bedrooms con manejo de valores faltantes en monoambiente \":ds_property_bedrooms_sin_nan.property_bedrooms.value_counts(),\n",
        "    \"frecuencia de bedrooms antes de manejo de valores faltantes\":ds_filtrado.property_bedrooms.value_counts(),\n",
        "    }, \n",
        ")\n",
        "\n",
        "plotdata.plot(kind=\"bar\", figsize=(18,8))\n",
        "plt.title(\"frecuencias de bedrooms pre reemplazo vs post reemplazo de nans\")\n",
        "plt.xlabel = \"property_bedrooms\""
      ],
      "metadata": {
        "id": "csy-s-AJC32T"
      },
      "execution_count": null,
      "outputs": []
    },
    {
      "cell_type": "code",
      "source": [
        "print(\"Porcentaje de valores nan en property_bedrooms antes de manejar los valores faltantes:\", ds_filtrado['property_bedrooms'].isna().sum()/filas_totales*100)\n",
        "\n",
        "ds_filtrado['property_bedrooms'] = ds_property_bedrooms_sin_nan['property_bedrooms']\n",
        "ds_filtrado.loc[:,\"property_bedrooms\"].replace(to_replace=[ds_filtrado['property_bedrooms']],value=[ds_sin_nans_en_bedrooms_y_rooms['property_bedrooms']],inplace=True)\n",
        "\n",
        "print(\"Porcentaje de valores nan en property_bedrooms despues de manejar los valores faltantes:\", ds_filtrado['property_bedrooms'].isna().sum()/filas_totales*100)"
      ],
      "metadata": {
        "id": "8jQp_6MJZ23v"
      },
      "execution_count": null,
      "outputs": []
    },
    {
      "cell_type": "markdown",
      "source": [
        "##### Latitud y Longitud"
      ],
      "metadata": {
        "id": "GDvxE8WWR0CF"
      }
    },
    {
      "cell_type": "code",
      "source": [
        "cond_longitud_nan = ds_filtrado['longitud'].isna()\n",
        "cond_latitud_nan = ds_filtrado['latitud'].isna()\n",
        "print(ds_filtrado[cond_longitud_nan & cond_latitud_nan].shape)"
      ],
      "metadata": {
        "id": "_zlCkAANs3Hc"
      },
      "execution_count": null,
      "outputs": []
    },
    {
      "cell_type": "markdown",
      "source": [
        "\n",
        "\n",
        "Recordamos la cantidad de datos faltantes restantes que hay en estas dos variables, a continuacion efectuamos la imputacion de los datos."
      ],
      "metadata": {
        "id": "uVI-Rx8-s5jC"
      }
    },
    {
      "cell_type": "markdown",
      "source": [
        "Debido a que latitud y longitud son variables utilizadas para representar una ubicacion en especifico, pensamos en utilizar place_l3 y <font color='red'>place_l4</font> para predecir los valores faltantes siendo que estas tambien representan ubicaciones. Al ser ambas variables categoricas no es posible utilizarlas en <font color='red'>metodos que utilicen regresion lineal. </font> \n",
        "Por este motivo, decidimos solo utilizar para predecir el valor de las mismas a property_surface_total y property_price dado que el m^2 en una determinada ubicacion varia con respecto a el de otras. \n"
      ],
      "metadata": {
        "id": "IcENqw6GlxXC"
      }
    },
    {
      "cell_type": "markdown",
      "source": [
        "A continuacion vamos a hacer el proceso de imputacion de los datos faltantes de latitud y longitud, pero no lo haremos con las dos variables al simultaneo ya que al hacerlo por separado podemos obtener mejores resultados."
      ],
      "metadata": {
        "id": "ufjfgHWhc7V0"
      }
    },
    {
      "cell_type": "code",
      "source": [
        "ds_a_imputar= ds_filtrado.copy()"
      ],
      "metadata": {
        "id": "DCRlbcuYNSCR"
      },
      "execution_count": null,
      "outputs": []
    },
    {
      "cell_type": "code",
      "source": [
        "columnas=['latitud', 'property_price', 'property_surface_total']\n",
        "df_eliminar_nans_en_latitud = ds_a_imputar[columnas].copy()\n",
        "\n",
        "imp = IterativeImputer(missing_values=np.nan, max_iter=20, verbose=0, random_state=2) #imputation_order='roman'\n",
        "array_sin_nans_en_latitud = imp.fit_transform(df_eliminar_nans_en_latitud)"
      ],
      "metadata": {
        "id": "hgR22oCPhiyv"
      },
      "execution_count": null,
      "outputs": []
    },
    {
      "cell_type": "code",
      "source": [
        "ds_sin_nans_en_latitud = pd.DataFrame(array_sin_nans_en_latitud, columns = columnas) #imp.fit_transfor devuelve un arrar sin nans en las columnas\n",
        "ds_a_imputar.loc[:,\"latitud\"].replace(to_replace=[ds_a_imputar['latitud']],value=[ds_sin_nans_en_latitud['latitud']],inplace=True)"
      ],
      "metadata": {
        "id": "gw5F7hUJcKNq"
      },
      "execution_count": null,
      "outputs": []
    },
    {
      "cell_type": "code",
      "source": [
        "columnas=['latitud','longitud', 'property_price', 'property_surface_total']\n",
        "df_eliminar_nans_en_latitud_y_longitud = ds_a_imputar[columnas].copy()\n",
        "\n",
        "array_sin_nans_en_latitud_y_longitud = imp.fit_transform(df_eliminar_nans_en_latitud_y_longitud)"
      ],
      "metadata": {
        "id": "3FowogofcGlj"
      },
      "execution_count": null,
      "outputs": []
    },
    {
      "cell_type": "code",
      "source": [
        "ds_sin_nans_en_latitud_y_longitud = pd.DataFrame(array_sin_nans_en_latitud_y_longitud, columns = columnas) #imp.fit_transfor devuelve un arrar sin nans en las columnas\n",
        "ds_a_imputar.loc[:,\"longitud\"].replace(to_replace=[ds_a_imputar['longitud']],value=[ds_sin_nans_en_latitud_y_longitud['longitud']],inplace=True)"
      ],
      "metadata": {
        "id": "-ttK5fS2cJVr"
      },
      "execution_count": null,
      "outputs": []
    },
    {
      "cell_type": "code",
      "source": [
        "#accedemos a los indices de las filas que tienen nans\n",
        "filas=ds_a_imputar[ds_filtrado['longitud'].isna()].index\n",
        "\n",
        "graficar_puntos_en_caba(ds_sin_nans_en_latitud_y_longitud.longitud, ds_sin_nans_en_latitud_y_longitud.latitud, proporcion=0.005)"
      ],
      "metadata": {
        "id": "OvZi3GFhwOeS"
      },
      "execution_count": null,
      "outputs": []
    },
    {
      "cell_type": "code",
      "source": [
        "#ACA HAY QUE VER SI LAS COORDENADAS QUE PREDIJO EL ALGORITMO PERTENECEN AL PLACE L3 DE LA FILA CORRESPONDIENTE"
      ],
      "metadata": {
        "id": "xPqpK4Qlevn7"
      },
      "execution_count": null,
      "outputs": []
    },
    {
      "cell_type": "markdown",
      "source": [
        "<font color=red>LUEGO COMPLETAR EL DS_FILTRADO</font>"
      ],
      "metadata": {
        "id": "7oYCbUpbib3d"
      }
    },
    {
      "cell_type": "markdown",
      "source": [
        "#####place_l3"
      ],
      "metadata": {
        "id": "O6-vIf_rwB2-"
      }
    },
    {
      "cell_type": "code",
      "source": [
        "print(\"cantidad de registros place_l3 nulos:\", ds_filtrado.place_l3.isna().sum())"
      ],
      "metadata": {
        "id": "eeZPED6vwIHX"
      },
      "execution_count": null,
      "outputs": []
    },
    {
      "cell_type": "code",
      "source": [
        "cond_barrio_nan = ds_filtrado['place_l3'].isna()\n",
        "# cond_sector_barrial_nan = ds_filtrado['place_l4'].isna()\n",
        "registros_sin_ubi = ds_filtrado[cond_barrio_nan]\n",
        "registros_sin_ubi.shape"
      ],
      "metadata": {
        "id": "LOeIekmhxnGX"
      },
      "execution_count": null,
      "outputs": []
    },
    {
      "cell_type": "code",
      "source": [
        "graficar_puntos_en_caba(registros_sin_ubi.longitud, registros_sin_ubi.latitud, proporcion=1)"
      ],
      "metadata": {
        "id": "U42Qi3IXklxt"
      },
      "execution_count": null,
      "outputs": []
    },
    {
      "cell_type": "markdown",
      "source": [
        "Observando las latitudes y longitudes de los registros de los cuales place_l3 sus valores son nan, notamos que sus respectivas coordenadas se encuentran fuera de los limites de Capital Federal. Acontinuacion analizaremos como manejar estas incongruencias."
      ],
      "metadata": {
        "id": "7KKiwSzWn55V"
      }
    },
    {
      "cell_type": "markdown",
      "source": [
        "<font color='red'>CREEMOS QUE EL 80% QUE NO ESTA EN CABA HAY QUE ELIINARLO PERO TENEMOS QUE JUSTIFICAR BIEN. EL 20% QUE ESTA EN CABA HAY QUE, EN BASE A LA LAT Y LONG DETERMINAR EL PLACE_L3 MEDIANTE EL GRAFIQUITO. LUCIANO DIBUJE MAESTRO.</font> "
      ],
      "metadata": {
        "id": "TGzmRUIuoyHG"
      }
    },
    {
      "cell_type": "markdown",
      "source": [
        "#####property_rooms"
      ],
      "metadata": {
        "id": "xnExC-Kyu8MB"
      }
    },
    {
      "cell_type": "code",
      "source": [
        "print(\"Cantidad de valores faltantes de property_rooms:\",ds_filtrado['property_rooms'].isna().sum())"
      ],
      "metadata": {
        "id": "qvkqL29tpltl"
      },
      "execution_count": null,
      "outputs": []
    },
    {
      "cell_type": "markdown",
      "source": [
        "Consideramos que podemos utilizar un metodo de regresion lineal para llenar los datos nan de property_rooms. Debido a la fuerte correlacion observada en la matriz de correlaciones, entre esta variable con property_bedrooms, decidimos utilizar esa columna para el entrenamiento de este modelo.\n"
      ],
      "metadata": {
        "id": "PcOmnWxKB6a8"
      }
    },
    {
      "cell_type": "code",
      "source": [
        "# Guardamos un auxiliar de las dos columnas a tratar\n",
        "ds_aux = ds_filtrado[['property_rooms', 'property_bedrooms']].copy()\n",
        "ds_aux = ds_aux.query('property_rooms  > 0')\n",
        "ds_aux.shape"
      ],
      "metadata": {
        "id": "h3EvffsMGNUm"
      },
      "execution_count": null,
      "outputs": []
    },
    {
      "cell_type": "code",
      "source": [
        "modelo_lineal_rooms = LinearRegression()\n",
        "\n",
        "#Doy el formato adecuado a las variables dependiente e independiente\n",
        "bedrooms=ds_aux['property_bedrooms'].values.reshape(-1, 1)\n",
        "rooms=ds_aux['property_rooms'].values.reshape(-1, 1)\n",
        "\n",
        "#Ajusto el modelo\n",
        "modelo_lineal_rooms.fit(bedrooms, rooms)\n",
        "\n",
        "#Coeficientes Estimados\n",
        "intercepcion=round(modelo_lineal_rooms.intercept_[0],2)\n",
        "coef_bedroom=round(modelo_lineal_rooms.coef_[0][0],2)\n",
        "\n",
        "#Muestro el modelo\n",
        "print(f\" El modelo lineal simple ajustado es: rooms = {coef_bedroom} * bedrooms  + {intercepcion}\")"
      ],
      "metadata": {
        "id": "HQJhCF0aDSYC"
      },
      "execution_count": null,
      "outputs": []
    },
    {
      "cell_type": "code",
      "source": [
        "rooms_estim_segun_bedrooms= coef_bedroom * bedrooms + intercepcion\n",
        "\n",
        "ds_aux['rooms_estimadas_bedrooms']= coef_bedroom * bedrooms + intercepcion #Lo agregamos en el dataframe\n",
        "ds_aux.head()"
      ],
      "metadata": {
        "id": "VWocrbRMDZfQ"
      },
      "execution_count": null,
      "outputs": []
    },
    {
      "cell_type": "markdown",
      "source": [
        "Siendo que las variables de room son de tipo entera, debemos redondear los resultados."
      ],
      "metadata": {
        "id": "o9u45_67PkAd"
      }
    },
    {
      "cell_type": "code",
      "source": [
        "ds_aux = ds_aux.round(0) #los resultados deben ser numeros enteros"
      ],
      "metadata": {
        "id": "riMb7VqqPjul"
      },
      "execution_count": null,
      "outputs": []
    },
    {
      "cell_type": "code",
      "source": [
        "plt.scatter(ds_filtrado['property_bedrooms'],ds_filtrado['property_rooms'],color='blue',alpha=0.5)\n",
        "plt.scatter(ds_aux['property_bedrooms'],ds_aux['rooms_estimadas_bedrooms'], color='red',alpha=0.5)"
      ],
      "metadata": {
        "id": "FhDIwGu4IAGW"
      },
      "execution_count": null,
      "outputs": []
    },
    {
      "cell_type": "code",
      "source": [
        "ds_antes_de_imputar = ds_filtrado.copy()"
      ],
      "metadata": {
        "id": "oRsdkyKI7uTv"
      },
      "execution_count": null,
      "outputs": []
    },
    {
      "cell_type": "code",
      "source": [
        "#ahora calculo los valores de las rooms en base a las bedrooms\n",
        "bedrooms_con_rooms_nan = ds_filtrado[ds_filtrado['property_rooms'].isna()]['property_bedrooms']\n",
        "bedrooms_con_rooms_nan = bedrooms_con_rooms_nan.values.reshape(-1, 1)\n",
        "\n",
        "rooms_estimadas_segun_bedrooms = modelo_lineal_rooms.predict(bedrooms_con_rooms_nan) #prediccion de valores\n",
        "rooms_estimadas_segun_bedrooms = rooms_estimadas_segun_bedrooms.round(0)\n",
        "\n",
        "ds_antes_de_imputar.loc[ds_antes_de_imputar['property_rooms'].isnull(), 'property_rooms'] = rooms_estimadas_segun_bedrooms"
      ],
      "metadata": {
        "id": "qVBL_6sg190i"
      },
      "execution_count": null,
      "outputs": []
    },
    {
      "cell_type": "code",
      "source": [
        "plotdata = pd.DataFrame({\n",
        "    \"frecuencia de rooms con manejo de valores faltantes en general\":ds_antes_de_imputar['property_rooms'].value_counts(),\n",
        "    \"frecuencia de rooms antes de manejo de valores faltantes\":ds_filtrado['property_rooms'].value_counts(),\n",
        "    }, \n",
        ")\n",
        "\n",
        "plotdata.plot(kind=\"bar\", figsize=(18,8))\n",
        "plt.title(\"frecuencias de rooms pre reemplazo vs post reemplazo de nans\")\n",
        "plt.xlabel = \"property_rooms\""
      ],
      "metadata": {
        "id": "dec_hDTCtLYe"
      },
      "execution_count": null,
      "outputs": []
    },
    {
      "cell_type": "code",
      "source": [
        "# remplazo de columna property_rooms\n",
        "ds_filtrado.loc[:,\"property_rooms\"].replace(to_replace=[ds_filtrado['property_rooms']],value=[ds_antes_de_imputar['property_rooms']],inplace=True)"
      ],
      "metadata": {
        "id": "ETQArHdCFk5t"
      },
      "execution_count": null,
      "outputs": []
    },
    {
      "cell_type": "markdown",
      "source": [
        "#####property_surface_total"
      ],
      "metadata": {
        "id": "pZspyZefvBTh"
      }
    },
    {
      "cell_type": "markdown",
      "source": [
        "Dado que property_surface_total y property_surfae_covered tienen una alta correlacion, analizamos los casos en los cuales ambas variables tiene valores nan."
      ],
      "metadata": {
        "id": "dQOORlYe1QPH"
      }
    },
    {
      "cell_type": "code",
      "source": [
        "cond_superficie_total_nan = ds_filtrado['property_surface_total'].isna()\n",
        "cond_superfice_cubierta_nan = ds_filtrado['property_surface_covered'].isna()\n",
        "registros_sin_superficie_cubierta_ni_total = ds_filtrado[cond_superficie_total_nan & cond_superfice_cubierta_nan]\n",
        "registros_sin_superficie_cubierta_ni_total.shape"
      ],
      "metadata": {
        "id": "bhpwSxUTz3pv"
      },
      "execution_count": null,
      "outputs": []
    },
    {
      "cell_type": "markdown",
      "source": [
        "Como ningun registro tiene ambas variables con valor en nan, no eliminamos ningun registro. "
      ],
      "metadata": {
        "id": "5JqHCe8DqEHO"
      }
    },
    {
      "cell_type": "code",
      "source": [
        "from sklearn.experimental import enable_iterative_imputer\n",
        "from sklearn.impute import IterativeImputer\n",
        "from sklearn.linear_model import LinearRegression\n",
        "\n",
        "columnas=['property_surface_total','property_surface_covered','property_rooms']\n",
        "df_eliminar_nans_en_sup_total_y_cubierta = ds_filtrado[columnas].copy()\n",
        "\n",
        "lr = LinearRegression()\n",
        "imp = IterativeImputer(estimator=lr,missing_values=np.nan, max_iter=20, verbose=0, random_state=2) #imputation_order='roman'\n",
        "array_sin_nans_en_sup_total_y_cubierta = imp.fit_transform(df_eliminar_nans_en_sup_total_y_cubierta)"
      ],
      "metadata": {
        "id": "uqspq6Tt1p0S"
      },
      "execution_count": null,
      "outputs": []
    },
    {
      "cell_type": "code",
      "source": [
        "ds_sin_nans_en_sup_total_y_cubierta = pd.DataFrame(array_sin_nans_en_sup_total_y_cubierta, columns = columnas) #imp.fit_transfor devuelve un arrar sin nans en las columnas"
      ],
      "metadata": {
        "id": "N-PCWYRd1so4"
      },
      "execution_count": null,
      "outputs": []
    },
    {
      "cell_type": "code",
      "source": [
        "ds_sin_nans_acotado = ds_sin_nans_en_sup_total_y_cubierta.query('property_surface_total < 250')\n",
        "ds_filtrado_acotado = ds_filtrado.query('property_surface_total < 250')\n",
        "\n",
        "plotdata = pd.DataFrame({\n",
        "    \"frecuencia despues de superficie cubierta\":ds_sin_nans_acotado.property_surface_total,\n",
        "   \"frecuencia antes de superficie cubierta\":ds_filtrado_acotado.property_surface_total,\n",
        "    }, \n",
        ")\n",
        "\n",
        "plt.figure()\n",
        "plotdata.plot.hist(alpha=0.5, bins = 100)"
      ],
      "metadata": {
        "id": "bUlxBMM61x3g"
      },
      "execution_count": null,
      "outputs": []
    },
    {
      "cell_type": "markdown",
      "source": [
        "Decidimos acotar los valores de los registros property_surface_total dado que observamos que con valores mayores a 250 la cantidad de regitros era minima y no se apreciaba completamente el grafico.  "
      ],
      "metadata": {
        "id": "PzP8uc1cwYdZ"
      }
    },
    {
      "cell_type": "code",
      "source": [
        "print(\"Porcentaje de valores nan en property_surface_total antes de manejar los valores faltantes:\", ds_filtrado['property_surface_total'].isna().sum()/filas_totales*100)\n",
        "\n",
        "ds_filtrado.loc[:,\"property_surface_total\"].replace(to_replace=[ds_filtrado['property_surface_total']],value=[ds_sin_nans_en_sup_total_y_cubierta['property_surface_total']],inplace=True)\n",
        "\n",
        "print(\"Porcentaje de valores nan en property_surface_total despues de manejar los valores faltantes:\", ds_filtrado['property_surface_total'].isna().sum()/filas_totales*100)"
      ],
      "metadata": {
        "id": "RWIiuW04139I"
      },
      "execution_count": null,
      "outputs": []
    },
    {
      "cell_type": "markdown",
      "source": [
        "#####property_surface_covered"
      ],
      "metadata": {
        "id": "Vv9K9shSvGNs"
      }
    },
    {
      "cell_type": "markdown",
      "source": [
        "Como property_surface_covered esta fuertemente correlacionado con property_surface_total utilizamos los mismos datos obtenidos en el manejo de valores faltantes de property_surface_total para imputar los datos faltantes de porperty_surface_covered. Para ello utilizamos el dataset generado anteriormente en la seccion property_surface_total."
      ],
      "metadata": {
        "id": "UvW-jwRIlgEU"
      }
    },
    {
      "cell_type": "code",
      "source": [
        "ds_sin_nans_acotado = ds_sin_nans_en_sup_total_y_cubierta.query('property_surface_covered < 500')\n",
        "ds_filtrado_acotado = ds_filtrado.query('property_surface_covered < 500')\n",
        "\n",
        "plotdata = pd.DataFrame({\n",
        "    \"frecuencia despues de superficie cubierta\":ds_sin_nans_acotado.property_surface_covered,\n",
        "   \"frecuencia antes de superficie cubierta\":ds_filtrado_acotado.property_surface_covered,\n",
        "    }, \n",
        ")\n",
        "\n",
        "plt.figure()\n",
        "plotdata.plot.hist(alpha=0.5, bins = 100)\n",
        "\n",
        "#Ver grafico, sacamos el value_counts en pd.DataFrame"
      ],
      "metadata": {
        "id": "GQr4NtCNlP9w"
      },
      "execution_count": null,
      "outputs": []
    },
    {
      "cell_type": "code",
      "source": [
        "print(\"Porcentaje de valores nan en property_surface_covered antes de manejar los valores faltantes:\", ds_filtrado['property_surface_covered'].isna().sum()/filas_totales*100)\n",
        "\n",
        "ds_filtrado.loc[:,\"property_surface_covered\"].replace(to_replace=[ds_filtrado['property_surface_covered']],value=[ds_sin_nans_en_sup_total_y_cubierta['property_surface_covered']],inplace=True)\n",
        "\n",
        "print(\"Porcentaje de valores nan en property_surface_covered despues de manejar los valores faltantes:\", ds_filtrado['property_surface_covered'].isna().sum()/filas_totales*100)"
      ],
      "metadata": {
        "id": "ZWeAh3LDmC3_"
      },
      "execution_count": null,
      "outputs": []
    },
    {
      "cell_type": "markdown",
      "source": [
        "##Valores Atípicos\n",
        "---\n"
      ],
      "metadata": {
        "id": "GIp8RlHzziej"
      }
    },
    {
      "cell_type": "markdown",
      "source": [
        "### Análisis univariados\n"
      ],
      "metadata": {
        "id": "zuq92rnTSrfN"
      }
    },
    {
      "cell_type": "code",
      "source": [
        "def mostrar_atipicos_univariados(columna):\n",
        "  sns.boxplot(y=columna)\n",
        "  #Cuartiles\n",
        "  Q1_altura=np.quantile(columna, 0.25)\n",
        "  Q3_altura=np.quantile(columna, 0.75)\n",
        "\n",
        "  #Rango intercuartil\n",
        "  IQR_altura=Q3_altura-Q1_altura\n",
        "\n",
        "  #calculo outliers moderados:\n",
        "  out_inf=Q1_altura-1.5*IQR_altura\n",
        "  out_sup=Q3_altura+1.5*IQR_altura\n",
        "\n",
        "  print(\"limite moderado inferior:\", out_inf)\n",
        "  print(\"limite moderado superior:\", out_sup)\n",
        "\n",
        "\n",
        "  print(\"outliers por debajo de limite moderado\", columna[(columna < out_inf)].size)\n",
        "  print(\"outliers por arriba de limite moderado\", columna[(columna > out_sup)].size)\n",
        "\n",
        "\n",
        "  #Limite inferior Outliers\n",
        "  out_inf=Q1_altura-3*IQR_altura\n",
        "  out_sup=Q3_altura+3*IQR_altura\n",
        "\n",
        "  print(\"limite severo inferior:\", out_inf)\n",
        "  print(\"limite severo superior:\", out_sup)\n",
        "\n",
        "  print(\"outliers por debajo de limite severo\", columna[(columna < out_inf)].size)\n",
        "  print(\"outliers por arriba de limite severo\", columna[(columna > out_sup)].size)\n",
        "\n",
        "  \n"
      ],
      "metadata": {
        "id": "DxzLlPOEStDW"
      },
      "execution_count": null,
      "outputs": []
    },
    {
      "cell_type": "markdown",
      "source": [
        "####property_price"
      ],
      "metadata": {
        "id": "gT4lsmpPJspm"
      }
    },
    {
      "cell_type": "code",
      "source": [
        "mostrar_atipicos_univariados(ds_filtrado.property_price)"
      ],
      "metadata": {
        "id": "Ly54ywUSS12s"
      },
      "execution_count": null,
      "outputs": []
    },
    {
      "cell_type": "markdown",
      "source": [
        "Estos resultados tienen sentido dado que no vemos ningún precio por debajo de 0, mientras que podemos observar precios de hogares que se son mucho mas altos que los límites brindados por el método IRQ."
      ],
      "metadata": {
        "id": "AKd-pM5JXYxt"
      }
    },
    {
      "cell_type": "markdown",
      "source": [
        "####property_surface_total"
      ],
      "metadata": {
        "id": "jnercCTWJxgK"
      }
    },
    {
      "cell_type": "code",
      "source": [
        "mostrar_atipicos_univariados(ds_filtrado.property_surface_total)"
      ],
      "metadata": {
        "id": "7c6Hrho_TrVW"
      },
      "execution_count": null,
      "outputs": []
    },
    {
      "cell_type": "markdown",
      "source": [
        "Estos resultados tienen sentido dado que no vemos ninguna medida de superficie por debajo de 0, mientras que podemos observar superficies que son mucho mas altos que los límites brindados por el método IRQ."
      ],
      "metadata": {
        "id": "u1lt9qvjXliX"
      }
    },
    {
      "cell_type": "markdown",
      "source": [
        "####property_surface_covered"
      ],
      "metadata": {
        "id": "inVTFLhSJ0PC"
      }
    },
    {
      "cell_type": "code",
      "source": [
        "mostrar_atipicos_univariados(ds_filtrado.property_surface_covered)"
      ],
      "metadata": {
        "id": "R1hbACDgXvXO"
      },
      "execution_count": null,
      "outputs": []
    },
    {
      "cell_type": "markdown",
      "source": [
        "idem anteriores\n"
      ],
      "metadata": {
        "id": "dyra7JL3X0r1"
      }
    },
    {
      "cell_type": "markdown",
      "source": [
        "####property_bedrooms"
      ],
      "metadata": {
        "id": "EKujUyk7J3wt"
      }
    },
    {
      "cell_type": "code",
      "source": [
        "mostrar_atipicos_univariados(ds_filtrado.property_bedrooms)"
      ],
      "metadata": {
        "id": "O1xW_QzSX2IH"
      },
      "execution_count": null,
      "outputs": []
    },
    {
      "cell_type": "markdown",
      "source": [
        "####property_rooms"
      ],
      "metadata": {
        "id": "UlvyI4R5J6zE"
      }
    },
    {
      "cell_type": "code",
      "source": [
        "mostrar_atipicos_univariados(ds_filtrado.property_rooms)"
      ],
      "metadata": {
        "id": "JsASh7H8YLJA"
      },
      "execution_count": null,
      "outputs": []
    },
    {
      "cell_type": "markdown",
      "source": [
        "Como podemos observar, en la mayoría de los datos tenemos un rango bastante acotado de valores comunes, y los outliers se alejan en gran medida de ese rango acotado. Por eso es que en los gráficos de boxplot, con suerte se llega a ver el rango común."
      ],
      "metadata": {
        "id": "FgoGHDHNZOSj"
      }
    },
    {
      "cell_type": "markdown",
      "source": [
        "### Análisis bivariados\n"
      ],
      "metadata": {
        "id": "JixeLPeGc8C6"
      }
    },
    {
      "cell_type": "code",
      "source": [
        "from sklearn.utils.fixes import scipy\n",
        "def mostrar_atipicos_bivariados(columna_a, columna_b):\n",
        "  sns.scatterplot(x=columna_a, y=columna_b)\n",
        "\n",
        "# el umbral es a mano, viendo lo que mas sentido tenga\n",
        "def analisis_mahalanobis(columnas, umbral, cantGraficos = 2):\n",
        "\n",
        "  X = ds_filtrado[columnas]\n",
        "  sample_X = X.sample(frac=0.1, random_state=2)\n",
        "\n",
        "  mu = sample_X.mean()\n",
        "  X_diff = X - mu\n",
        "  X_diff = X_diff.values.T\n",
        "\n",
        "  cov = np.cov(sample_X.values.T)\n",
        "  inv_cov = np.linalg.inv(cov)\n",
        "  W = scipy.linalg.sqrtm(inv_cov)\n",
        "\n",
        "  Wx = np.matmul(W, X_diff)\n",
        "\n",
        "  mahal_dists = np.array([np.dot(Wx[:, i], Wx[:, i]) for i in range(Wx.shape[1])])\n",
        " \n",
        "  ds_mahal = ds_filtrado[columnas].copy()\n",
        "  ds_mahal['mahalanobis'] = mahal_dists\n",
        "\n",
        "  np.sort(ds_mahal)\n",
        "\n",
        "  ds_mahal['es_outlier'] = ds_mahal['mahalanobis']>umbral\n",
        "\n",
        "  if(cantGraficos > 1):\n",
        "    ds_temp = ds_mahal.copy()\n",
        "    distancia_menor_a_10 = ds_temp['mahalanobis'] < 15\n",
        "    ds_temp = ds_temp[distancia_menor_a_10]\n",
        "    print(ds_temp['es_outlier'].value_counts())\n",
        "    mostrar_distribuciones_cuantitativas(\"mahalanobis\", ds=ds_temp, figsize=(8, 8), bins=30, espaciado=2)\n",
        "    if len(columnas) == 2:\n",
        "      plt.figure(figsize=(8, 8), dpi=80)\n",
        "      sns.scatterplot(x=ds_mahal[columnas[0]], y=ds_mahal[columnas[1]], hue=ds_mahal['es_outlier'])\n",
        "      mostrar_metadata_grafico(f'Dispersograma {columnas[0]} vs {columnas[1]}')\n",
        "  else:\n",
        "    plt.figure(figsize=(8, 8), dpi=80)\n",
        "    sns.scatterplot(x=ds_mahal[columnas[0]], y=ds_mahal[columnas[1]], hue=ds_mahal['es_outlier'])\n",
        "    mostrar_metadata_grafico(f'Dispersograma {columnas[0]} vs {columnas[1]}')"
      ],
      "metadata": {
        "id": "JvPOfik4dEIv"
      },
      "execution_count": null,
      "outputs": []
    },
    {
      "cell_type": "markdown",
      "source": [
        "####start_date vs end_date"
      ],
      "metadata": {
        "id": "J4eMDa19M3Hd"
      }
    },
    {
      "cell_type": "code",
      "source": [
        "#VER ESTO #mostrar_atipicos_bivariados(ds_filtrado.start_date, ds_filtrado.end_date)"
      ],
      "metadata": {
        "id": "NHMglx-SRqSF"
      },
      "execution_count": null,
      "outputs": []
    },
    {
      "cell_type": "markdown",
      "source": [
        "#### property_rooms vs property_bedrooms"
      ],
      "metadata": {
        "id": "PxIhdbqXej3_"
      }
    },
    {
      "cell_type": "code",
      "source": [
        "mostrar_atipicos_bivariados(ds_filtrado.property_rooms, ds_filtrado.property_bedrooms)"
      ],
      "metadata": {
        "id": "MidpbRCLdI7C"
      },
      "execution_count": null,
      "outputs": []
    },
    {
      "cell_type": "code",
      "source": [
        "analisis_mahalanobis(['property_rooms', 'property_bedrooms'], 7)"
      ],
      "metadata": {
        "id": "kyYjqJ6GjFG4"
      },
      "execution_count": null,
      "outputs": []
    },
    {
      "cell_type": "markdown",
      "source": [
        "Como podemos observar del grafico de distribución de distancias mahalanobis, vemos que un umbral razonable es 7, dado que a partir de ahí las distancias grandes son anomalías. \n",
        "También podemos observar que de los 92000 registros, 2000 salieron como outliers, lo cual es bastante razonable. En el gráfico no parece que sean pocos, pero esto es debido a que la mayoría de los no outliers, se concentran en la esquina inferior izquierda, llevando el valor medio a esa área."
      ],
      "metadata": {
        "id": "x1iIzxRp2EIS"
      }
    },
    {
      "cell_type": "markdown",
      "source": [
        "En este caso, proponemos eliminar aquellos outliers que cuentan con una amplia cantidad de ambientes y cuya cantidad de cuartos no es acorde lógicamente a ese número. \n",
        "Visualizando el scatterplot, tomamos como umbral de property_bedrooms <= cte * property_rooms siendo cte = 8/17 "
      ],
      "metadata": {
        "id": "jYt6x9fgToE7"
      }
    },
    {
      "cell_type": "code",
      "source": [
        "cond_menos_bedrooms_que_rooms = ds_filtrado['property_bedrooms'] <= 8/12*(ds_filtrado['property_rooms']) - 10/3\n",
        "\n",
        "reg_menos_bed_que_rooms = ds_filtrado[cond_menos_bedrooms_que_rooms]\n",
        "reg_menos_bed_que_rooms.shape\n",
        "\n",
        "ds_filtrado.drop(reg_menos_bed_que_rooms.index, inplace=True)"
      ],
      "metadata": {
        "id": "fyGynXm5Voq1"
      },
      "execution_count": null,
      "outputs": []
    },
    {
      "cell_type": "code",
      "source": [
        "analisis_mahalanobis(['property_rooms', 'property_bedrooms'], 7, 1)"
      ],
      "metadata": {
        "id": "mbSzjEEzWw3x"
      },
      "execution_count": null,
      "outputs": []
    },
    {
      "cell_type": "markdown",
      "source": [
        "####property_surface_total vs property_surface_covered\n"
      ],
      "metadata": {
        "id": "wReYIHmm3juh"
      }
    },
    {
      "cell_type": "code",
      "source": [
        "mostrar_atipicos_bivariados(ds_filtrado.property_surface_total, ds_filtrado.property_surface_covered)"
      ],
      "metadata": {
        "id": "vNwo2lFB3qMy"
      },
      "execution_count": null,
      "outputs": []
    },
    {
      "cell_type": "code",
      "source": [
        "analisis_mahalanobis(['property_surface_total', 'property_surface_covered'], 1)"
      ],
      "metadata": {
        "id": "thr5MC9S4axB"
      },
      "execution_count": null,
      "outputs": []
    },
    {
      "cell_type": "markdown",
      "source": [
        "En este caso, vemos del grafico de distribución de distancias mahalanobis, que un umbral razonable seria 1, dado que a partir de ahí las distancias grandes comienzan a ser anomalías. "
      ],
      "metadata": {
        "id": "F_c8DwC86aqD"
      }
    },
    {
      "cell_type": "markdown",
      "source": [
        "Como analisis logico nos parece razonable destacar el hecho de que es muy poco probable tener Casa, PH o Departamentos que cuenten con mas de 2000 m2 en superficies cubiertas o totales en Capital Federal. Decidimos analizar cuantos casos tienen estas caracteristicas.\n"
      ],
      "metadata": {
        "id": "7H1Q-q9iUhuM"
      }
    },
    {
      "cell_type": "code",
      "source": [
        "cant = ds_filtrado[(ds_filtrado['property_surface_covered'] > 2000) | (ds_filtrado['property_surface_total'] > 2000)].shape[0]\n",
        "total = ds_filtrado.shape[0]\n",
        "cant*100/total\n"
      ],
      "metadata": {
        "id": "shI76OCQUvfs"
      },
      "execution_count": null,
      "outputs": []
    },
    {
      "cell_type": "markdown",
      "source": [
        "Vemos que la proporcion de datos con esas caracteristicas es muy poca a comparacion con la totalidad de los registros. Decidimos eliminar los datos al considerarlos logicamente invalidos. "
      ],
      "metadata": {
        "id": "ngc3fpwGW-Xv"
      }
    },
    {
      "cell_type": "code",
      "source": [
        "cond_surface_total = ds_filtrado['property_surface_total'] > 2000\n",
        "cond_surface_covered = ds_filtrado['property_surface_covered'] > 2000\n",
        "\n",
        "reg_combinacion = ds_filtrado[cond_surface_total | cond_surface_covered]\n",
        "reg_combinacion.shape\n",
        "\n",
        "ds_filtrado.drop(reg_combinacion.index, inplace=True)"
      ],
      "metadata": {
        "id": "Q5h5Ff8bXKGs"
      },
      "execution_count": null,
      "outputs": []
    },
    {
      "cell_type": "code",
      "source": [
        "mostrar_atipicos_bivariados(ds_filtrado.property_surface_total, ds_filtrado.property_surface_covered)"
      ],
      "metadata": {
        "id": "ntuGx20OXdtH"
      },
      "execution_count": null,
      "outputs": []
    },
    {
      "cell_type": "code",
      "source": [
        "cond_mucho_total_poco_covered = ds_filtrado['property_surface_covered'] <= 13/15*(ds_filtrado['property_surface_total']) -2860/3\n",
        "\n",
        "reg_mucho_total_poco_covered = ds_filtrado[cond_mucho_total_poco_covered]\n",
        "reg_mucho_total_poco_covered.shape\n",
        "\n",
        "ds_aux=ds_filtrado.drop(reg_mucho_total_poco_covered.index, inplace=False)\n",
        "mostrar_atipicos_bivariados(ds_aux.property_surface_total, ds_aux.property_surface_covered)"
      ],
      "metadata": {
        "id": "3VmXWSrjhwhg"
      },
      "execution_count": null,
      "outputs": []
    },
    {
      "cell_type": "markdown",
      "source": [
        "<font color=red>verificar la recta elegida para eliminar el grupito de outliers"
      ],
      "metadata": {
        "id": "d6C6MhYGlWSN"
      }
    },
    {
      "cell_type": "code",
      "source": [
        "analisis_mahalanobis(['property_surface_total', 'property_surface_covered'], 9.9)"
      ],
      "metadata": {
        "id": "6XQveCKheADQ"
      },
      "execution_count": null,
      "outputs": []
    },
    {
      "cell_type": "markdown",
      "source": [
        "#### property_surface_covered vs property_rooms"
      ],
      "metadata": {
        "id": "pkL1LaegMOlK"
      }
    },
    {
      "cell_type": "code",
      "source": [
        "mostrar_atipicos_bivariados(ds_filtrado.property_surface_covered, ds_filtrado.property_rooms)"
      ],
      "metadata": {
        "id": "gtbgsOtiMkuj"
      },
      "execution_count": null,
      "outputs": []
    },
    {
      "cell_type": "code",
      "source": [
        "analisis_mahalanobis(['property_surface_covered', 'property_rooms'], 7.9)"
      ],
      "metadata": {
        "id": "DQlRgUAsMrny"
      },
      "execution_count": null,
      "outputs": []
    },
    {
      "cell_type": "markdown",
      "source": [
        "En este caso, vemos del grafico de distribución de distancias mahalanobis, que un umbral razonable seria 7.9, dado que a partir de ahí las distancias grandes son anomalías. También podemos observar que solo 1750 casos salieron como outliers, del total de los datos, lo cual es bastante razonable, siendo esta una proporcion baja. \n",
        "\n",
        "En el gráfico no parece que sean pocos, pero esto es debido a que la mayoría de los no outliers, se concentran en la esquina inferior izquierda, llevando el valor medio a esa área."
      ],
      "metadata": {
        "id": "eWwjDl6iNW3p"
      }
    },
    {
      "cell_type": "code",
      "source": [
        "cond_property_rooms = ds_filtrado['property_rooms'] > 13\n",
        "cond_surface_covered = ds_filtrado['property_surface_covered'] > 650\n",
        "\n",
        "reg_combinacion = ds_filtrado[cond_property_rooms | cond_surface_covered]\n",
        "reg_combinacion.shape\n",
        "\n",
        "ds_filtrado.drop(reg_combinacion.index, inplace=True)"
      ],
      "metadata": {
        "id": "jEKrhZr4p3-q"
      },
      "execution_count": null,
      "outputs": []
    },
    {
      "cell_type": "code",
      "source": [
        "analisis_mahalanobis(['property_surface_covered', 'property_rooms'], 7)"
      ],
      "metadata": {
        "id": "U62K4WLdq_LS"
      },
      "execution_count": null,
      "outputs": []
    },
    {
      "cell_type": "markdown",
      "source": [
        "En este caso, vimos conveniente eliminar aquellos registros que tienen valores de property_rooms y property_surface_covered poco probables. Por ejemplo, tener 700 m^2 contra 10 cuartos. "
      ],
      "metadata": {
        "id": "2ysYpWVbp5_R"
      }
    },
    {
      "cell_type": "markdown",
      "source": [
        "####property_price vs property_rooms (creemos que vuela)"
      ],
      "metadata": {
        "id": "QbMQ0bHbNnqy"
      }
    },
    {
      "cell_type": "code",
      "source": [
        "#mostrar_atipicos_bivariados(ds_filtrado.property_price, ds_filtrado.property_rooms)"
      ],
      "metadata": {
        "id": "cyMiXhF_N_Qw"
      },
      "execution_count": null,
      "outputs": []
    },
    {
      "cell_type": "code",
      "source": [
        "#analisis_mahalanobis(['property_price', 'property_rooms'], 8)"
      ],
      "metadata": {
        "id": "V3UCZfY6OE9l"
      },
      "execution_count": null,
      "outputs": []
    },
    {
      "cell_type": "markdown",
      "source": [
        "En este caso, vemos del grafico de distribución de distancias mahalanobis, que un umbral razonable seria 8, dado que a partir de ahí las distancias grandes son anomalías. También podemos observar que solo 1436 casos salieron como outliers, del total de los datos, lo cual es bastante razonable, siendo esta una proporcion baja. En el gráfico no parece que sean pocos, pero esto es debido a que la mayoría de los no outliers, se concentran en la esquina inferior izquierda, llevando el valor medio a esa área."
      ],
      "metadata": {
        "id": "FyqoeLYHOaam"
      }
    },
    {
      "cell_type": "markdown",
      "source": [
        "####property_price vs property_surface_total"
      ],
      "metadata": {
        "id": "Xvpkr5DAOmDd"
      }
    },
    {
      "cell_type": "code",
      "source": [
        "mostrar_atipicos_bivariados(ds_filtrado.property_price, ds_filtrado.property_surface_total)"
      ],
      "metadata": {
        "id": "OTmlU0HNO6CF"
      },
      "execution_count": null,
      "outputs": []
    },
    {
      "cell_type": "code",
      "source": [
        "analisis_mahalanobis(['property_price', 'property_surface_total'], 6)"
      ],
      "metadata": {
        "id": "E7UMr9fIO6S8"
      },
      "execution_count": null,
      "outputs": []
    },
    {
      "cell_type": "markdown",
      "source": [
        "En este caso, vemos del grafico de distribución de distancias mahalanobis, que un umbral razonable seria 6, dado que a partir de ahí las distancias grandes son anomalías. También podemos observar que solo 2563 casos salieron como outliers, del total de los datos, lo cual es bastante razonable, siendo esta una proporcion baja. \n",
        "\n",
        "En el gráfico no parece que sean pocos, pero esto es debido a que la mayoría de los no outliers, se concentran en la esquina inferior izquierda, llevando el valor medio a esa área."
      ],
      "metadata": {
        "id": "djMM6BTFO6of"
      }
    },
    {
      "cell_type": "markdown",
      "source": [
        "En este caso, vimos conveniente eliminar aquellos registros que tienen valores de property_price y property_surface_total muy poco probables."
      ],
      "metadata": {
        "id": "HLiLz0ovuSV1"
      }
    },
    {
      "cell_type": "code",
      "source": [
        "cond_property_price = ds_filtrado['property_price'] > 4000000\n",
        "cond_surface_total = ds_filtrado['property_surface_total'] > 750\n",
        "\n",
        "reg_combinacion = ds_filtrado[cond_property_price | cond_surface_total]\n",
        "reg_combinacion.shape\n",
        "\n",
        "ds_filtrado.drop(reg_combinacion.index, inplace=True)"
      ],
      "metadata": {
        "id": "Z-OYv4uYwtsG"
      },
      "execution_count": null,
      "outputs": []
    },
    {
      "cell_type": "code",
      "source": [
        "analisis_mahalanobis(['property_price', 'property_surface_total'], 6, 1)"
      ],
      "metadata": {
        "id": "g0TQOAxSx1hT"
      },
      "execution_count": null,
      "outputs": []
    },
    {
      "cell_type": "markdown",
      "source": [
        "##Reducción de la dimensionalidad"
      ],
      "metadata": {
        "id": "lEOMn7hrylxF"
      }
    },
    {
      "cell_type": "code",
      "source": [
        "ds_aux = ds_filtrado.drop(columns = ['target','latitud','longitud','place_l2', 'id', 'place_l3', 'operation', 'property_type', 'property_title', 'end_date', 'created_on', 'start_date', 'property_currency'], inplace=False)\n",
        "columnas_elegidas = ds_aux.columns.to_list()\n",
        "\n",
        "\n",
        "x = ds_aux.loc[:, columnas_elegidas]\n",
        "\n",
        "x = StandardScaler().fit_transform(x)\n",
        "# print(x)\n",
        "\n",
        "from sklearn.decomposition import PCA\n",
        "\n",
        "pca = PCA(n_components=2) #Luego veremos como determinar la cantidad de componentes\n",
        "x_transformada = pca.fit_transform(x)\n",
        "\n",
        "print('Shape before PCA: ', x.shape)\n",
        "print('Shape after PCA: ', x_transformada.shape)\n",
        "\n",
        "pca_ds_aux = pd.DataFrame(data = x_transformada\n",
        "             , columns = ['cp_1', 'cp_2'])\n",
        "\n",
        "print(pca_ds_aux)\n",
        "\n"
      ],
      "metadata": {
        "id": "WVM0ymuh-c_0"
      },
      "execution_count": null,
      "outputs": []
    },
    {
      "cell_type": "code",
      "source": [
        "varianza_explicada = pca.explained_variance_ratio_\n",
        "varianza_explicada"
      ],
      "metadata": {
        "id": "sFkXiyDfH6GM"
      },
      "execution_count": null,
      "outputs": []
    },
    {
      "cell_type": "code",
      "source": [
        "varianza_explicada.cumsum()"
      ],
      "metadata": {
        "id": "MlgsK3y5asqD"
      },
      "execution_count": null,
      "outputs": []
    },
    {
      "cell_type": "code",
      "source": [
        "pca.get_covariance()\n"
      ],
      "metadata": {
        "id": "PNtxbnT9ICdO"
      },
      "execution_count": null,
      "outputs": []
    },
    {
      "cell_type": "code",
      "source": [
        "pca.fit(ds_aux)\n",
        "ipca_transform_2 = pca.transform(ds_aux)\n",
        "ipca_transform_2.shape"
      ],
      "metadata": {
        "id": "0-aKNFV9YTFN"
      },
      "execution_count": null,
      "outputs": []
    },
    {
      "cell_type": "code",
      "source": [
        "# image_recon_2 = pca.inverse_transform(ipca_transform_2)\n",
        "# plt.figure(figsize=[8, 6])\n",
        "# # plt.imshow(image_recon_2, cmap=plt)\n",
        "# plt.show()"
      ],
      "metadata": {
        "id": "2X4MyHYMBSAh"
      },
      "execution_count": null,
      "outputs": []
    },
    {
      "cell_type": "code",
      "source": [
        "pca_ds_aux['target'] = ds_filtrado.target.values\n",
        "pca_ds_aux"
      ],
      "metadata": {
        "id": "nW-nOrrae8HZ"
      },
      "execution_count": null,
      "outputs": []
    },
    {
      "cell_type": "code",
      "source": [
        "sns.set()\n",
        " \n",
        "sns.lmplot(\n",
        "    x='cp_1', \n",
        "    y='cp_2', \n",
        "    data=pca_ds_aux, \n",
        "    hue='target', \n",
        "    fit_reg=False, \n",
        "    legend=True\n",
        "    )\n",
        " \n",
        "plt.title('2D PCA Graph')\n",
        "plt.show()"
      ],
      "metadata": {
        "id": "Wz5zPGPW1vnp"
      },
      "execution_count": null,
      "outputs": []
    },
    {
      "cell_type": "markdown",
      "source": [
        "<font color=red>ANALIZAR TEORICAMENTE\n",
        "No olvidar lo de la regla del codo\n",
        "HACERLO CON TEST Y TRAIN\n"
      ],
      "metadata": {
        "id": "-AQkNzfj2Y4g"
      }
    },
    {
      "cell_type": "markdown",
      "source": [
        "#Agrupamiento\n",
        "\n"
      ],
      "metadata": {
        "id": "PrYSHTYB27A3"
      }
    },
    {
      "cell_type": "code",
      "source": [
        "from sklearn.model_selection import train_test_split, cross_val_score\n",
        "from sklearn.cluster import KMeans\n",
        "\n",
        "\n",
        "ds_aux = ds_filtrado.drop(columns = ['target','latitud','longitud','place_l2', 'id', 'place_l3', 'operation', 'property_type', 'property_title', 'end_date', 'created_on', 'start_date', 'property_currency'], inplace=False)\n",
        "\n",
        "\n",
        "kmeans = KMeans(n_clusters=4, random_state=2)  #Creamos un objeto de la clase KMeans para realizar el agrupamiento\n",
        "\n",
        "kmeans.fit(ds_aux) #Entrenamos el algoritmo para que aprenda cómo agrupar\n",
        "\n",
        "y_kmeans = kmeans.predict(ds_aux)\n",
        "\n",
        "centers = kmeans.cluster_centers_ #Visualicemos los grupos y el centroide de cada uno"
      ],
      "metadata": {
        "id": "JR01e95r2cVd"
      },
      "execution_count": null,
      "outputs": []
    },
    {
      "cell_type": "code",
      "source": [
        "sse = []\n",
        "list_k = list(range(1, 15))\n",
        "\n",
        "for k in list_k:\n",
        "    km = KMeans(n_clusters=k)\n",
        "    km.fit(ds_aux)\n",
        "    sse.append(km.inertia_)\n",
        "\n",
        "# Grafico el SSE por K\n",
        "plt.figure(figsize=(6, 6))\n",
        "plt.plot(list_k, sse, '-o')\n",
        "plt.xlabel='Cantidad de clusters'\n",
        "plt.ylabel='SSE'\n",
        "plt.show()"
      ],
      "metadata": {
        "id": "dGlp53d53WQp"
      },
      "execution_count": null,
      "outputs": []
    },
    {
      "cell_type": "markdown",
      "source": [
        "<font color=red>que onda esos valores tan altos en el eje y? \n",
        "explicar que nos quedamos con 4"
      ],
      "metadata": {
        "id": "ZyKVe9wT5MIT"
      }
    },
    {
      "cell_type": "markdown",
      "source": [
        "Analizamos con Silhouette"
      ],
      "metadata": {
        "id": "JernM7XU6mKZ"
      }
    },
    {
      "cell_type": "code",
      "source": [
        "from sklearn.metrics import silhouette_score\n",
        "\n",
        "#grafico el indice de siluette variando la cantidad de clusters de 2 a 5\n",
        "\n",
        "list_k = list(range(2, 6))\n",
        "\n",
        "for n_clusters in list_k:\n",
        "    clusterer = KMeans(n_clusters=n_clusters,random_state=2)\n",
        "    preds = clusterer.fit_predict(ds_aux)\n",
        "\n",
        "    score = silhouette_score (ds_aux, preds)\n",
        "    print (\"For n_clusters =\" + str(n_clusters) + \" silhouette score is \" + str(score))"
      ],
      "metadata": {
        "id": "V2IFcOUE5L3q"
      },
      "execution_count": null,
      "outputs": []
    },
    {
      "cell_type": "markdown",
      "source": [
        "<font color=red>cuanto mayor, y mas parecido a 1 es mejor asi que bokita"
      ],
      "metadata": {
        "id": "YRMkOiiy9MZu"
      }
    },
    {
      "cell_type": "code",
      "source": [
        "#ACLARAR QUE ELGIMOS 2\n",
        "\n",
        "kmeans = KMeans(n_clusters=2, random_state=2)  #Creamos un objeto de la clase KMeans para realizar el agrupamiento\n",
        "kmeans.fit(ds_aux) #Entrenamos el algoritmo para que aprenda cómo agrupar\n",
        "y_kmeans = kmeans.predict(ds_aux)\n",
        "centers = kmeans.cluster_centers_ #Visualicemos los grupos y el centroide de cada uno\n"
      ],
      "metadata": {
        "id": "JeyzvrzMGYbj"
      },
      "execution_count": null,
      "outputs": []
    },
    {
      "cell_type": "code",
      "source": [
        "\n",
        "\n",
        "# def graficar_k_means_2d(var1, var2, ds_a_utilizar, clusters):\n",
        "#   plt.style.use('default')\n",
        "#   x = ds_a_utilizar[var1].values\n",
        "#   y = ds_a_utilizar[var2].values\n",
        "\n",
        "#   plt.scatter(x,y,c=y_kmeans, alpha=0.8)\n",
        "#   cs_x=clusters[0]\n",
        "#   cs_y=clusters[1]\n",
        "\n",
        "#   plt.scatter(cs_x, cs_y, marker='*', s=100, c='r')  \n",
        "#   plt.title('KMeans')\n",
        "#   plt.show()"
      ],
      "metadata": {
        "id": "zZzkM9sC9RsZ"
      },
      "execution_count": null,
      "outputs": []
    },
    {
      "cell_type": "code",
      "source": [
        "# print(ds_aux)\n",
        "# graficar_k_means('property_price', 'property_bedrooms', ds_aux, kmeans.cluster_centers_)\n",
        "# print(kmeans.cluster_centers_)"
      ],
      "metadata": {
        "id": "K_EcwRHwGbTg"
      },
      "execution_count": null,
      "outputs": []
    }
  ],
  "nbformat": 4,
  "nbformat_minor": 0,
  "metadata": {
    "colab": {
      "provenance": [],
      "collapsed_sections": [],
      "toc_visible": true,
      "include_colab_link": true
    },
    "deepnote": {},
    "kernelspec": {
      "name": "python3",
      "display_name": "Python 3"
    },
    "language_info": {
      "name": "python"
    },
    "deepnote_notebook_id": "f7a11de308fc4c0d9dbcdaed47dc8b20",
    "deepnote_execution_queue": []
  }
}