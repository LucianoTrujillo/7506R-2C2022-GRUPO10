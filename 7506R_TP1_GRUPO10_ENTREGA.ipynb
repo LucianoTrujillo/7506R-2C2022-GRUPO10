{
  "cells": [
    {
      "cell_type": "markdown",
      "metadata": {
        "id": "view-in-github",
        "colab_type": "text"
      },
      "source": [
        "<a href=\"https://colab.research.google.com/github/LucianoTrujillo/7506R-2C2022-GRUPO10/blob/main/7506R_TP1_GRUPO10_ENTREGA.ipynb\" target=\"_parent\"><img src=\"https://colab.research.google.com/assets/colab-badge.svg\" alt=\"Open In Colab\"/></a>"
      ]
    },
    {
      "cell_type": "markdown",
      "source": [
        "\n",
        "#**TP1: Propiedades en Venta**\n",
        "\n",
        "\n",
        "\n",
        "---\n",
        "\n",
        "\n",
        "---\n",
        "\n",
        "\n",
        "## *Facultad de Ingeniería, Universidad de Buenos Aires*\n",
        "\n",
        "---\n",
        "### *2do Cuatrimestre de 2022*\n",
        "\n",
        "---\n",
        "### *Organización de Datos*\n",
        "\n",
        "### *Curso: Rodriguez*\n",
        "\n",
        "### *Integrantes:*\n",
        "\n",
        "* Luciano Leon Trujillo Palomo ltrujillo@fi.uba.ar 105664\n",
        "* María Pilar Gaddi mgaddi@fi.uba.ar 105682\n",
        "* Federico Adrian Solari Vazquez fsolariv@fi.uba.ar 106895\n",
        "* Maria Vazquez Navarro mvazquezn@fi.uba.ar 105576\n",
        "* Mateo Bulnes mbulnes@fi.uba.ar 106211\n",
        "---"
      ],
      "metadata": {
        "id": "MmbC-hjg-VgY",
        "cell_id": "23b00fb618554707860e5029d93ca2e2",
        "deepnote_cell_type": "markdown"
      }
    },
    {
      "cell_type": "markdown",
      "source": [
        "## **Objetivo del trabajo**\n",
        "\n",
        "---\n",
        "---\n",
        "\n",
        "El objetivo de la siguiente investigación es aplicar técnicas de análisis exploratorio, preprocesamiento\n",
        "de datos, agrupamiento, clasificación y regresión sobre un dataset real y poder obtener conclusiones y predicciones útiles. En especial, identificamos tres objetivos individuales:\n",
        "* analizar si es posible agrupar los datos en función de\n",
        "algún criterio, identificando a qué obedece el mismo.\n",
        "* clasificar cada anuncio en tres categorías relacionadas al\n",
        "precio de venta (alto, medio y bajo).\n",
        "* predecir el precio de venta en dólares de una propiedad tipo\n",
        "vivienda ubicada en Capital Federal.\n",
        "\n",
        "---\n",
        "\n",
        "\n",
        "\n"
      ],
      "metadata": {
        "id": "EjceJ-FBO2FD",
        "cell_id": "033735ab41184ed39f7f664cd459bcc2",
        "deepnote_cell_type": "markdown"
      }
    },
    {
      "cell_type": "markdown",
      "source": [
        "## **Setup previo**\n"
      ],
      "metadata": {
        "id": "5_KX0EDafNjW"
      }
    },
    {
      "cell_type": "markdown",
      "source": [
        "Importamos todas las librerías a utilizar a lo largo del trabajo:"
      ],
      "metadata": {
        "id": "k2xOFAXeeCwG"
      }
    },
    {
      "cell_type": "code",
      "source": [
        "import pandas as pd\n",
        "import numpy as np\n",
        "import seaborn as sns\n",
        "import matplotlib.pyplot as plt\n",
        "from matplotlib import cm "
      ],
      "metadata": {
        "id": "ZUd0sPK1eBJf"
      },
      "execution_count": 1,
      "outputs": []
    },
    {
      "cell_type": "markdown",
      "source": [
        "Importamos el dataset original y lo guardamos para su posterior uso:"
      ],
      "metadata": {
        "id": "Mq6gr4q3eXGj"
      }
    },
    {
      "cell_type": "code",
      "source": [
        "\n",
        "dwn_url='https://drive.google.com/uc?id=1z05Y6UwTu8fz1DpeE4JlRoyjJx_vPKmM'\n",
        "ds_original = pd.read_csv(dwn_url)\n",
        "ds_original.head(5)"
      ],
      "metadata": {
        "id": "cjU1vXHUIZ82",
        "cell_id": "90985f28856d4efbbdea7a3e2f18a7d7",
        "source_hash": "ad61b692",
        "execution_start": 1665162061506,
        "execution_millis": 8294,
        "deepnote_table_state": {
          "sortBy": [],
          "filters": [],
          "pageSize": 10,
          "pageIndex": 0
        },
        "deepnote_table_loading": false,
        "deepnote_to_be_reexecuted": false,
        "deepnote_cell_type": "code",
        "colab": {
          "base_uri": "https://localhost:8080/",
          "height": 357
        },
        "outputId": "e11aaae4-2f32-44d6-d4f4-44e92e1fcab9"
      },
      "outputs": [
        {
          "output_type": "execute_result",
          "data": {
            "text/plain": [
              "                         id  start_date    end_date  created_on    latitud  \\\n",
              "0  XZq2dFGxBiboHY3Bo/tqlw==  2021-09-09  2022-01-27  2021-09-09 -38.957632   \n",
              "1  8afoK+yMH/rnnlYiktwgNA==  2021-09-09  2021-10-23  2021-09-09 -34.888878   \n",
              "2  iVaG5rBB47dd1Ya4BMXREA==  2021-09-09  2022-03-09  2021-09-09 -32.488717   \n",
              "3  QE1QVMWKAHWkd0qT0FtPWA==  2021-09-09  2022-01-27  2021-09-09 -34.900165   \n",
              "4  tJ5lSk7IysG/71OGhacNZA==  2021-09-09  2022-01-27  2021-09-09 -38.954528   \n",
              "\n",
              "    longitud    place_l2 place_l3 place_l4 place_l5  place_l6 operation  \\\n",
              "0 -68.105443     Neuquén      NaN      NaN      NaN       NaN     Venta   \n",
              "1 -56.092368  Montevideo      NaN      NaN      NaN       NaN     Venta   \n",
              "2 -58.257499  Entre Ríos      NaN      NaN      NaN       NaN     Venta   \n",
              "3 -54.808453   Maldonado      NaN      NaN      NaN       NaN     Venta   \n",
              "4 -68.041862     Neuquén      NaN      NaN      NaN       NaN     Venta   \n",
              "\n",
              "  property_type  property_rooms  property_bedrooms  property_surface_total  \\\n",
              "0          Casa             6.0                NaN                     NaN   \n",
              "1          Casa             4.0                3.0                   193.0   \n",
              "2          Casa             NaN                NaN                   110.0   \n",
              "3          Casa             NaN                3.0                     NaN   \n",
              "4            PH             3.0                2.0                     NaN   \n",
              "\n",
              "   property_surface_covered  property_price property_currency  \\\n",
              "0                     206.0             NaN               NaN   \n",
              "1                     193.0        390000.0               USD   \n",
              "2                      45.0         47000.0               USD   \n",
              "3                     180.0        400000.0               USD   \n",
              "4                      98.0        102000.0               USD   \n",
              "\n",
              "       property_title  \n",
              "0      Casa - Capital  \n",
              "1       Casa - Malvín  \n",
              "2      Casa - Uruguay  \n",
              "3    Casa - El Chorro  \n",
              "4  PH - Villa Farrell  "
            ],
            "text/html": [
              "\n",
              "  <div id=\"df-e48530c7-a8b4-46e3-b274-60e754137224\">\n",
              "    <div class=\"colab-df-container\">\n",
              "      <div>\n",
              "<style scoped>\n",
              "    .dataframe tbody tr th:only-of-type {\n",
              "        vertical-align: middle;\n",
              "    }\n",
              "\n",
              "    .dataframe tbody tr th {\n",
              "        vertical-align: top;\n",
              "    }\n",
              "\n",
              "    .dataframe thead th {\n",
              "        text-align: right;\n",
              "    }\n",
              "</style>\n",
              "<table border=\"1\" class=\"dataframe\">\n",
              "  <thead>\n",
              "    <tr style=\"text-align: right;\">\n",
              "      <th></th>\n",
              "      <th>id</th>\n",
              "      <th>start_date</th>\n",
              "      <th>end_date</th>\n",
              "      <th>created_on</th>\n",
              "      <th>latitud</th>\n",
              "      <th>longitud</th>\n",
              "      <th>place_l2</th>\n",
              "      <th>place_l3</th>\n",
              "      <th>place_l4</th>\n",
              "      <th>place_l5</th>\n",
              "      <th>place_l6</th>\n",
              "      <th>operation</th>\n",
              "      <th>property_type</th>\n",
              "      <th>property_rooms</th>\n",
              "      <th>property_bedrooms</th>\n",
              "      <th>property_surface_total</th>\n",
              "      <th>property_surface_covered</th>\n",
              "      <th>property_price</th>\n",
              "      <th>property_currency</th>\n",
              "      <th>property_title</th>\n",
              "    </tr>\n",
              "  </thead>\n",
              "  <tbody>\n",
              "    <tr>\n",
              "      <th>0</th>\n",
              "      <td>XZq2dFGxBiboHY3Bo/tqlw==</td>\n",
              "      <td>2021-09-09</td>\n",
              "      <td>2022-01-27</td>\n",
              "      <td>2021-09-09</td>\n",
              "      <td>-38.957632</td>\n",
              "      <td>-68.105443</td>\n",
              "      <td>Neuquén</td>\n",
              "      <td>NaN</td>\n",
              "      <td>NaN</td>\n",
              "      <td>NaN</td>\n",
              "      <td>NaN</td>\n",
              "      <td>Venta</td>\n",
              "      <td>Casa</td>\n",
              "      <td>6.0</td>\n",
              "      <td>NaN</td>\n",
              "      <td>NaN</td>\n",
              "      <td>206.0</td>\n",
              "      <td>NaN</td>\n",
              "      <td>NaN</td>\n",
              "      <td>Casa - Capital</td>\n",
              "    </tr>\n",
              "    <tr>\n",
              "      <th>1</th>\n",
              "      <td>8afoK+yMH/rnnlYiktwgNA==</td>\n",
              "      <td>2021-09-09</td>\n",
              "      <td>2021-10-23</td>\n",
              "      <td>2021-09-09</td>\n",
              "      <td>-34.888878</td>\n",
              "      <td>-56.092368</td>\n",
              "      <td>Montevideo</td>\n",
              "      <td>NaN</td>\n",
              "      <td>NaN</td>\n",
              "      <td>NaN</td>\n",
              "      <td>NaN</td>\n",
              "      <td>Venta</td>\n",
              "      <td>Casa</td>\n",
              "      <td>4.0</td>\n",
              "      <td>3.0</td>\n",
              "      <td>193.0</td>\n",
              "      <td>193.0</td>\n",
              "      <td>390000.0</td>\n",
              "      <td>USD</td>\n",
              "      <td>Casa - Malvín</td>\n",
              "    </tr>\n",
              "    <tr>\n",
              "      <th>2</th>\n",
              "      <td>iVaG5rBB47dd1Ya4BMXREA==</td>\n",
              "      <td>2021-09-09</td>\n",
              "      <td>2022-03-09</td>\n",
              "      <td>2021-09-09</td>\n",
              "      <td>-32.488717</td>\n",
              "      <td>-58.257499</td>\n",
              "      <td>Entre Ríos</td>\n",
              "      <td>NaN</td>\n",
              "      <td>NaN</td>\n",
              "      <td>NaN</td>\n",
              "      <td>NaN</td>\n",
              "      <td>Venta</td>\n",
              "      <td>Casa</td>\n",
              "      <td>NaN</td>\n",
              "      <td>NaN</td>\n",
              "      <td>110.0</td>\n",
              "      <td>45.0</td>\n",
              "      <td>47000.0</td>\n",
              "      <td>USD</td>\n",
              "      <td>Casa - Uruguay</td>\n",
              "    </tr>\n",
              "    <tr>\n",
              "      <th>3</th>\n",
              "      <td>QE1QVMWKAHWkd0qT0FtPWA==</td>\n",
              "      <td>2021-09-09</td>\n",
              "      <td>2022-01-27</td>\n",
              "      <td>2021-09-09</td>\n",
              "      <td>-34.900165</td>\n",
              "      <td>-54.808453</td>\n",
              "      <td>Maldonado</td>\n",
              "      <td>NaN</td>\n",
              "      <td>NaN</td>\n",
              "      <td>NaN</td>\n",
              "      <td>NaN</td>\n",
              "      <td>Venta</td>\n",
              "      <td>Casa</td>\n",
              "      <td>NaN</td>\n",
              "      <td>3.0</td>\n",
              "      <td>NaN</td>\n",
              "      <td>180.0</td>\n",
              "      <td>400000.0</td>\n",
              "      <td>USD</td>\n",
              "      <td>Casa - El Chorro</td>\n",
              "    </tr>\n",
              "    <tr>\n",
              "      <th>4</th>\n",
              "      <td>tJ5lSk7IysG/71OGhacNZA==</td>\n",
              "      <td>2021-09-09</td>\n",
              "      <td>2022-01-27</td>\n",
              "      <td>2021-09-09</td>\n",
              "      <td>-38.954528</td>\n",
              "      <td>-68.041862</td>\n",
              "      <td>Neuquén</td>\n",
              "      <td>NaN</td>\n",
              "      <td>NaN</td>\n",
              "      <td>NaN</td>\n",
              "      <td>NaN</td>\n",
              "      <td>Venta</td>\n",
              "      <td>PH</td>\n",
              "      <td>3.0</td>\n",
              "      <td>2.0</td>\n",
              "      <td>NaN</td>\n",
              "      <td>98.0</td>\n",
              "      <td>102000.0</td>\n",
              "      <td>USD</td>\n",
              "      <td>PH - Villa Farrell</td>\n",
              "    </tr>\n",
              "  </tbody>\n",
              "</table>\n",
              "</div>\n",
              "      <button class=\"colab-df-convert\" onclick=\"convertToInteractive('df-e48530c7-a8b4-46e3-b274-60e754137224')\"\n",
              "              title=\"Convert this dataframe to an interactive table.\"\n",
              "              style=\"display:none;\">\n",
              "        \n",
              "  <svg xmlns=\"http://www.w3.org/2000/svg\" height=\"24px\"viewBox=\"0 0 24 24\"\n",
              "       width=\"24px\">\n",
              "    <path d=\"M0 0h24v24H0V0z\" fill=\"none\"/>\n",
              "    <path d=\"M18.56 5.44l.94 2.06.94-2.06 2.06-.94-2.06-.94-.94-2.06-.94 2.06-2.06.94zm-11 1L8.5 8.5l.94-2.06 2.06-.94-2.06-.94L8.5 2.5l-.94 2.06-2.06.94zm10 10l.94 2.06.94-2.06 2.06-.94-2.06-.94-.94-2.06-.94 2.06-2.06.94z\"/><path d=\"M17.41 7.96l-1.37-1.37c-.4-.4-.92-.59-1.43-.59-.52 0-1.04.2-1.43.59L10.3 9.45l-7.72 7.72c-.78.78-.78 2.05 0 2.83L4 21.41c.39.39.9.59 1.41.59.51 0 1.02-.2 1.41-.59l7.78-7.78 2.81-2.81c.8-.78.8-2.07 0-2.86zM5.41 20L4 18.59l7.72-7.72 1.47 1.35L5.41 20z\"/>\n",
              "  </svg>\n",
              "      </button>\n",
              "      \n",
              "  <style>\n",
              "    .colab-df-container {\n",
              "      display:flex;\n",
              "      flex-wrap:wrap;\n",
              "      gap: 12px;\n",
              "    }\n",
              "\n",
              "    .colab-df-convert {\n",
              "      background-color: #E8F0FE;\n",
              "      border: none;\n",
              "      border-radius: 50%;\n",
              "      cursor: pointer;\n",
              "      display: none;\n",
              "      fill: #1967D2;\n",
              "      height: 32px;\n",
              "      padding: 0 0 0 0;\n",
              "      width: 32px;\n",
              "    }\n",
              "\n",
              "    .colab-df-convert:hover {\n",
              "      background-color: #E2EBFA;\n",
              "      box-shadow: 0px 1px 2px rgba(60, 64, 67, 0.3), 0px 1px 3px 1px rgba(60, 64, 67, 0.15);\n",
              "      fill: #174EA6;\n",
              "    }\n",
              "\n",
              "    [theme=dark] .colab-df-convert {\n",
              "      background-color: #3B4455;\n",
              "      fill: #D2E3FC;\n",
              "    }\n",
              "\n",
              "    [theme=dark] .colab-df-convert:hover {\n",
              "      background-color: #434B5C;\n",
              "      box-shadow: 0px 1px 3px 1px rgba(0, 0, 0, 0.15);\n",
              "      filter: drop-shadow(0px 1px 2px rgba(0, 0, 0, 0.3));\n",
              "      fill: #FFFFFF;\n",
              "    }\n",
              "  </style>\n",
              "\n",
              "      <script>\n",
              "        const buttonEl =\n",
              "          document.querySelector('#df-e48530c7-a8b4-46e3-b274-60e754137224 button.colab-df-convert');\n",
              "        buttonEl.style.display =\n",
              "          google.colab.kernel.accessAllowed ? 'block' : 'none';\n",
              "\n",
              "        async function convertToInteractive(key) {\n",
              "          const element = document.querySelector('#df-e48530c7-a8b4-46e3-b274-60e754137224');\n",
              "          const dataTable =\n",
              "            await google.colab.kernel.invokeFunction('convertToInteractive',\n",
              "                                                     [key], {});\n",
              "          if (!dataTable) return;\n",
              "\n",
              "          const docLinkHtml = 'Like what you see? Visit the ' +\n",
              "            '<a target=\"_blank\" href=https://colab.research.google.com/notebooks/data_table.ipynb>data table notebook</a>'\n",
              "            + ' to learn more about interactive tables.';\n",
              "          element.innerHTML = '';\n",
              "          dataTable['output_type'] = 'display_data';\n",
              "          await google.colab.output.renderOutput(dataTable, element);\n",
              "          const docLink = document.createElement('div');\n",
              "          docLink.innerHTML = docLinkHtml;\n",
              "          element.appendChild(docLink);\n",
              "        }\n",
              "      </script>\n",
              "    </div>\n",
              "  </div>\n",
              "  "
            ]
          },
          "metadata": {},
          "execution_count": 2
        }
      ],
      "execution_count": 2
    },
    {
      "cell_type": "code",
      "source": [
        "def mostrar_metadata_grafico(titulo, ylabel=None, xlabel=None, leyendas=None):\n",
        "  plt.title(titulo)\n",
        "  if ylabel:\n",
        "    plt.ylabel(ylabel)\n",
        "  if xlabel:\n",
        "    plt.xlabel(xlabel)\n",
        "  if leyendas:\n",
        "    plt.legend(leyendas)\n",
        "  plt.show()\n"
      ],
      "metadata": {
        "id": "3bMl4XWeoL2F"
      },
      "execution_count": 3,
      "outputs": []
    },
    {
      "cell_type": "markdown",
      "source": [
        "# Análisis Exploratorio y Preprocesamiento de Datos"
      ],
      "metadata": {
        "tags": [],
        "cell_id": "86abdee2-9e00-4cd8-87b0-ab9ccdf7153c",
        "is_collapsed": false,
        "formattedRanges": [],
        "deepnote_cell_type": "text-cell-h1",
        "id": "m6vyz_spbf0l"
      }
    },
    {
      "cell_type": "markdown",
      "source": [
        "## Pre-selección de datos\n",
        "El primer paso consiste en la selección de los datos que se van a utilizar, se deben filtrar\n",
        "únicamente los anuncios de propiedades de tipo vivienda ( Casa, PH y Departamento ) ubicados\n",
        "en Capital Federal cuyo tipo de operación sea venta y su precio se encuentre en dólares (USD)."
      ],
      "metadata": {
        "id": "IekUD2nHfY-0"
      }
    },
    {
      "cell_type": "markdown",
      "source": [
        "Primero filtramos por tipo de vivienda:"
      ],
      "metadata": {
        "tags": [],
        "cell_id": "f387f88f55fb4a3ca01065c45467e008",
        "is_collapsed": false,
        "formattedRanges": [],
        "deepnote_cell_type": "text-cell-p",
        "id": "U1gzaAMrbf0n"
      }
    },
    {
      "cell_type": "code",
      "source": [
        "ds = ds_original.copy()\n",
        "ds = ds.query('property_type == \"Casa\" or property_type == \"Departamento\" or property_type == \"PH\"')"
      ],
      "metadata": {
        "tags": [],
        "cell_id": "addae4a31d3b440e97911cf619d651af",
        "source_hash": "2a3230ed",
        "execution_start": 1665162069813,
        "execution_millis": 213,
        "deepnote_table_state": {
          "sortBy": [],
          "filters": [],
          "pageSize": 10,
          "pageIndex": 0
        },
        "deepnote_table_loading": false,
        "deepnote_to_be_reexecuted": false,
        "deepnote_cell_type": "code",
        "id": "hGACwI9vbf0o"
      },
      "outputs": [],
      "execution_count": 4
    },
    {
      "cell_type": "markdown",
      "source": [
        "Luego filtramos los ubicados en Capital Federal: \n",
        "\n"
      ],
      "metadata": {
        "tags": [],
        "cell_id": "6e9e412dd7cd472aa135cee0b7d61f4e",
        "is_collapsed": false,
        "formattedRanges": [],
        "deepnote_cell_type": "text-cell-p",
        "id": "I2xkdjUUbf0o"
      }
    },
    {
      "cell_type": "code",
      "source": [
        "ds.query('\\\n",
        "place_l3==\"Capital Federal\" or \\\n",
        "place_l4==\"Capital Federal\" or \\\n",
        "place_l5==\"Capital Federal\" or \\\n",
        "place_l6==\"Capital Federal\"').size"
      ],
      "metadata": {
        "tags": [],
        "cell_id": "a9df9fa7007e43bba78a2cde97ba45bf",
        "source_hash": "91aee36e",
        "execution_start": 1665162070031,
        "execution_millis": 141,
        "deepnote_to_be_reexecuted": false,
        "deepnote_cell_type": "code",
        "id": "lbK_kzxJbf0p",
        "colab": {
          "base_uri": "https://localhost:8080/"
        },
        "outputId": "dc0f80bb-ad93-4413-eb68-483753e33ce8"
      },
      "outputs": [
        {
          "output_type": "execute_result",
          "data": {
            "text/plain": [
              "0"
            ]
          },
          "metadata": {},
          "execution_count": 6
        }
      ],
      "execution_count": 6
    },
    {
      "cell_type": "markdown",
      "source": [
        "Observamos que la única columna que contiene a la clasificación de Capital Federal es place_l2, con lo cual con filtrar por l2, nos aseguramos de únicamente quedarnos con las filas que cumplan ser de Capital Federal."
      ],
      "metadata": {
        "tags": [],
        "cell_id": "23bb6881-d080-4a3c-b080-fc0b5f1b28e5",
        "is_collapsed": false,
        "formattedRanges": [],
        "deepnote_cell_type": "text-cell-p",
        "id": "2zRHit3Obf0p"
      }
    },
    {
      "cell_type": "code",
      "source": [
        "ds = ds.query('place_l2 == \"Capital Federal\"')"
      ],
      "metadata": {
        "tags": [],
        "cell_id": "0ede58039a264dd5b7e95c50b31c64f2",
        "source_hash": "727b074b",
        "execution_start": 1665162070214,
        "execution_millis": 0,
        "deepnote_to_be_reexecuted": false,
        "deepnote_cell_type": "code",
        "id": "uowHta4Dbf0p"
      },
      "outputs": [],
      "execution_count": 7
    },
    {
      "cell_type": "markdown",
      "source": [
        "Luego filtramos por tipo de operación (Venta):"
      ],
      "metadata": {
        "tags": [],
        "cell_id": "437c236680ae4350b8effdc1799aac87",
        "is_collapsed": false,
        "formattedRanges": [],
        "deepnote_cell_type": "text-cell-p",
        "id": "YTrdzSq4bf0q"
      }
    },
    {
      "cell_type": "code",
      "source": [
        "ds = ds.query('operation == \"Venta\"')"
      ],
      "metadata": {
        "tags": [],
        "cell_id": "fdce103e1a4f4a1a8cfbe926177dde98",
        "source_hash": "16db664b",
        "execution_start": 1665162070272,
        "execution_millis": 0,
        "deepnote_to_be_reexecuted": false,
        "deepnote_cell_type": "code",
        "id": "1eCxcVAYbf0q"
      },
      "outputs": [],
      "execution_count": 8
    },
    {
      "cell_type": "markdown",
      "source": [
        "Luego filtramos por moneda (USD):"
      ],
      "metadata": {
        "tags": [],
        "cell_id": "a1cf204fae9a452085d97229eb4427a6",
        "is_collapsed": false,
        "formattedRanges": [],
        "deepnote_cell_type": "text-cell-p",
        "id": "86Ccldl9bf0q"
      }
    },
    {
      "cell_type": "code",
      "source": [
        "ds = ds.query('property_currency == \"USD\"')"
      ],
      "metadata": {
        "tags": [],
        "cell_id": "c3ffb7db724f496a9b255c251b208e2f",
        "source_hash": "b1138978",
        "execution_start": 1665162070274,
        "execution_millis": 32,
        "deepnote_table_state": {
          "sortBy": [],
          "filters": [],
          "pageSize": 25,
          "pageIndex": 0
        },
        "deepnote_table_loading": false,
        "deepnote_to_be_reexecuted": false,
        "deepnote_cell_type": "code",
        "id": "oZMEKbqSbf0q"
      },
      "outputs": [],
      "execution_count": 9
    },
    {
      "cell_type": "markdown",
      "source": [
        "Comparamos el tamaño del ds original y el que utilizaremos para el análisis en el trabajo:"
      ],
      "metadata": {
        "id": "4Z78PNVBgwm-"
      }
    },
    {
      "cell_type": "code",
      "source": [
        "print(\"Tamaño original:\", ds_original.shape, \"Tamaño actual\", ds.shape)"
      ],
      "metadata": {
        "colab": {
          "base_uri": "https://localhost:8080/"
        },
        "id": "oI6lUo5Ag48m",
        "outputId": "e71734e2-a744-40b3-9e15-c8079e73d2d4"
      },
      "execution_count": 10,
      "outputs": [
        {
          "output_type": "stream",
          "name": "stdout",
          "text": [
            "Tamaño original: (460154, 20) Tamaño actual (94249, 20)\n"
          ]
        }
      ]
    },
    {
      "cell_type": "markdown",
      "source": [
        "## Exploración Inicial"
      ],
      "metadata": {
        "tags": [],
        "cell_id": "382388d9de3b40f78bd0830db055a738",
        "is_collapsed": false,
        "formattedRanges": [],
        "deepnote_cell_type": "text-cell-h2",
        "id": "P7hF2_aNbf0q"
      }
    },
    {
      "cell_type": "markdown",
      "source": [
        "### Clasificación  de variables "
      ],
      "metadata": {
        "tags": [],
        "cell_id": "8833f9ff8eb545a2a745dfff253c4420",
        "is_collapsed": false,
        "formattedRanges": [
          {
            "type": "marks",
            "marks": {
              "bold": true
            },
            "toCodePoint": 28,
            "fromCodePoint": 0
          }
        ],
        "deepnote_cell_type": "text-cell-h3",
        "id": "DciqNu2pbf0r"
      }
    },
    {
      "cell_type": "markdown",
      "source": [
        "Variables cuantitativas discretas:"
      ],
      "metadata": {
        "tags": [],
        "cell_id": "9d6aaa8f-1e96-419b-93e8-04ce9d09d5a1",
        "is_collapsed": false,
        "formattedRanges": [
          {
            "type": "marks",
            "marks": {
              "bold": true
            },
            "toCodePoint": 34,
            "fromCodePoint": 0
          }
        ],
        "deepnote_cell_type": "text-cell-p",
        "id": "OpvAI2Udbf0r"
      }
    },
    {
      "cell_type": "markdown",
      "source": [
        "- start date, end date, created on: Las fechas pueden ser consideradas cuantitativas discretas dado que toman valores numéricos ordenables, y entre dos valores consecutivos no existen valores intermedios. "
      ],
      "metadata": {
        "tags": [],
        "cell_id": "c358422543ca48029ae112a3d4f8ac0f",
        "is_collapsed": false,
        "formattedRanges": [
          {
            "type": "marks",
            "marks": {
              "bold": true
            },
            "toCodePoint": 33,
            "fromCodePoint": 0
          }
        ],
        "deepnote_cell_type": "text-cell-bullet",
        "id": "E4jd0aPwbf0r"
      }
    },
    {
      "cell_type": "markdown",
      "source": [
        "- property_rooms, property_bedrooms: Pueden ser consideradas cuantitativas discretas ya que pueden tomar un conjunto a lo sumo numerable de valores, y cuentan cosas."
      ],
      "metadata": {
        "tags": [],
        "cell_id": "f287318a-deac-4c9e-a221-97f92eed1ae1",
        "is_collapsed": false,
        "formattedRanges": [
          {
            "type": "marks",
            "marks": {
              "bold": true
            },
            "toCodePoint": 35,
            "fromCodePoint": 0
          }
        ],
        "deepnote_cell_type": "text-cell-bullet",
        "id": "rXhUSafFbf0r"
      }
    },
    {
      "cell_type": "markdown",
      "source": [
        "Variables cuantitativas continuas:"
      ],
      "metadata": {
        "tags": [],
        "cell_id": "ec052077e51d466981b5f18b4aaa5bf7",
        "is_collapsed": false,
        "formattedRanges": [
          {
            "type": "marks",
            "marks": {
              "bold": true
            },
            "toCodePoint": 34,
            "fromCodePoint": 0
          }
        ],
        "deepnote_cell_type": "text-cell-p",
        "id": "RsIJB9Afbf0r"
      }
    },
    {
      "cell_type": "markdown",
      "source": [
        "- latitud y longitud:  Estas variables al tomar valores numéricos en los cuales existen infinitos valores intermedios (son arbitrariamente fraccionables), pueden ser consideradas como continuas. "
      ],
      "metadata": {
        "tags": [],
        "cell_id": "e418d1b5-bce7-4848-bd78-0ea1185cef43",
        "is_collapsed": false,
        "formattedRanges": [
          {
            "type": "marks",
            "marks": {
              "bold": true
            },
            "toCodePoint": 20,
            "fromCodePoint": 0
          }
        ],
        "deepnote_cell_type": "text-cell-bullet",
        "id": "6ws2wRlHbf0s"
      }
    },
    {
      "cell_type": "markdown",
      "source": [
        "- property_surface_total, property_surface_covered, property_price: Al igual que las variables anteriores, estas pueden tomar infinitos valores numéricos intermedios y por esa razón son consideradas continuas. "
      ],
      "metadata": {
        "tags": [],
        "cell_id": "2ae5b34f-d90d-4b4b-b296-93a85b4cf6d9",
        "is_collapsed": false,
        "formattedRanges": [
          {
            "type": "marks",
            "marks": {
              "bold": true
            },
            "toCodePoint": 65,
            "fromCodePoint": 0
          }
        ],
        "deepnote_cell_type": "text-cell-bullet",
        "id": "f9Ad5gNwbf0s"
      }
    },
    {
      "cell_type": "markdown",
      "source": [
        "Variables cualitativas nominales:"
      ],
      "metadata": {
        "tags": [],
        "cell_id": "bfaa4e2b-ed26-4bb1-838a-7a43cb36819f",
        "is_collapsed": false,
        "formattedRanges": [
          {
            "type": "marks",
            "marks": {
              "bold": true
            },
            "toCodePoint": 33,
            "fromCodePoint": 0
          }
        ],
        "deepnote_cell_type": "text-cell-p",
        "id": "uFlwCqyobf0s"
      }
    },
    {
      "cell_type": "markdown",
      "source": [
        "- id: es una variable cualitativa numérica que representa una identificación, cada una de estas es diferente y no tienen un orden visible. "
      ],
      "metadata": {
        "tags": [],
        "cell_id": "544a1f7a-a16c-49fc-a993-2e4cd2fcc3d3",
        "is_collapsed": false,
        "formattedRanges": [
          {
            "type": "marks",
            "marks": {
              "bold": true
            },
            "toCodePoint": 2,
            "fromCodePoint": 0
          }
        ],
        "deepnote_cell_type": "text-cell-bullet",
        "id": "pR4nMAIFbf0s"
      }
    },
    {
      "cell_type": "markdown",
      "source": [
        "- place_l2, place_l3, place_l4, place_l5, place_l6: son variables de texto no trivialmente ordenables, dado que simplemente son un nombre correspondiente a la ubicación geográfica."
      ],
      "metadata": {
        "tags": [],
        "cell_id": "9545abbe-2646-4adf-8c61-eb9cb7478614",
        "is_collapsed": false,
        "formattedRanges": [
          {
            "type": "marks",
            "marks": {
              "bold": true
            },
            "toCodePoint": 29,
            "fromCodePoint": 0
          }
        ],
        "deepnote_cell_type": "text-cell-bullet",
        "id": "zwvLWWCpbf0s"
      }
    },
    {
      "cell_type": "markdown",
      "source": [
        "- operation, property_type, property_currency: son variable de texto que representan características para diferenciar propiedades entre sí, pero al igual que places, no tienen un ordenamiento predefinido. "
      ],
      "metadata": {
        "tags": [],
        "cell_id": "fb82b59b-cb86-4e51-85ed-acb8ea70f458",
        "is_collapsed": false,
        "formattedRanges": [
          {
            "type": "marks",
            "marks": {
              "bold": true
            },
            "toCodePoint": 45,
            "fromCodePoint": 0
          },
          {
            "type": "marks",
            "marks": {
              "italic": true
            },
            "toCodePoint": 153,
            "fromCodePoint": 147
          }
        ],
        "deepnote_cell_type": "text-cell-bullet",
        "id": "XxJCzga-bf0s"
      }
    },
    {
      "cell_type": "markdown",
      "source": [
        "### Variables cuantitativas: calcular medidas de resumen"
      ],
      "metadata": {
        "tags": [],
        "cell_id": "fa84c405fe004acf93d07f9fc62df18b",
        "is_collapsed": false,
        "formattedRanges": [],
        "deepnote_cell_type": "text-cell-h3",
        "id": "dvn0UZ7mbf0t"
      }
    },
    {
      "cell_type": "markdown",
      "source": [
        "Como debemos calcular la media, mediana, q1, q3 y moda para las variables start_date, end_date, created_on y las mismas son fechas, debemos convertirlas a un tipo de dato adecuado:"
      ],
      "metadata": {
        "tags": [],
        "cell_id": "92df9ff4-0570-4b35-83c1-0bcdca76e0a0",
        "is_collapsed": false,
        "formattedRanges": [
          {
            "type": "marks",
            "marks": {
              "italic": true
            },
            "toCodePoint": 84,
            "fromCodePoint": 74
          },
          {
            "type": "marks",
            "marks": {
              "italic": true
            },
            "toCodePoint": 94,
            "fromCodePoint": 86
          },
          {
            "type": "marks",
            "marks": {
              "italic": true
            },
            "toCodePoint": 107,
            "fromCodePoint": 96
          }
        ],
        "deepnote_cell_type": "text-cell-p",
        "id": "tnydttlGbf0t"
      }
    },
    {
      "cell_type": "code",
      "source": [
        "ds_filtrado = ds.copy()\n",
        "ds_filtrado['start_date']=pd.to_datetime(ds_filtrado['start_date'], errors='ignore')\n",
        "ds_filtrado['created_on']=pd.to_datetime(ds_filtrado['created_on'], errors='ignore')"
      ],
      "metadata": {
        "tags": [],
        "cell_id": "700ea060159a498bb18a56cac29236cf",
        "source_hash": "de85d17",
        "execution_start": 1665162070388,
        "execution_millis": 4,
        "deepnote_to_be_reexecuted": false,
        "deepnote_cell_type": "code",
        "id": "QJAIYhNBbf0t"
      },
      "outputs": [],
      "execution_count": 11
    },
    {
      "cell_type": "code",
      "source": [
        "try: \n",
        "    pd.to_datetime(ds_filtrado['end_date'])\n",
        "except Exception as e: print(e)"
      ],
      "metadata": {
        "tags": [],
        "cell_id": "3eebdcd1465c4c9a90f87cfb1b37b128",
        "source_hash": "f62236eb",
        "execution_start": 1665162070393,
        "execution_millis": 129,
        "deepnote_to_be_reexecuted": false,
        "deepnote_cell_type": "code",
        "id": "iaIv3_debf0t",
        "colab": {
          "base_uri": "https://localhost:8080/"
        },
        "outputId": "84f8ba03-c6cd-4c42-8d5c-55fde64d61b8"
      },
      "outputs": [
        {
          "output_type": "stream",
          "name": "stdout",
          "text": [
            "Out of bounds nanosecond timestamp: 9999-12-31 00:00:00\n"
          ]
        }
      ],
      "execution_count": 12
    },
    {
      "cell_type": "markdown",
      "source": [
        "Observamos que la columna end_date tiene una row cuyo valor es inválido: \"9999-12-31\", con lo cual averiguamos cuantos de éstos valores inválidos hay:"
      ],
      "metadata": {
        "tags": [],
        "cell_id": "2a38b974be1d40b792ec1b24a6efb0c2",
        "is_collapsed": false,
        "formattedRanges": [
          {
            "type": "marks",
            "marks": {
              "italic": true
            },
            "toCodePoint": 35,
            "fromCodePoint": 26
          }
        ],
        "deepnote_cell_type": "text-cell-p",
        "id": "WCX2lKfubf0t"
      }
    },
    {
      "cell_type": "code",
      "source": [
        "invalid_end_dates = ds_filtrado.end_date[lambda date: pd.isnull(pd.to_datetime(date, errors='coerce'))]\n",
        "invalid_end_dates.size\n"
      ],
      "metadata": {
        "tags": [],
        "cell_id": "b8cb47daf9e043f7b98065d8f0fe5b57",
        "source_hash": "255ae8c4",
        "execution_start": 1665162070396,
        "execution_millis": 126,
        "deepnote_table_state": {
          "sortBy": [],
          "filters": [],
          "pageSize": 10,
          "pageIndex": 1
        },
        "deepnote_table_loading": false,
        "deepnote_to_be_reexecuted": false,
        "deepnote_cell_type": "code",
        "id": "bOQLDOWlbf0t",
        "colab": {
          "base_uri": "https://localhost:8080/"
        },
        "outputId": "87db66dc-f5ed-477d-d007-421ac9c0e5a7"
      },
      "outputs": [
        {
          "output_type": "execute_result",
          "data": {
            "text/plain": [
              "5041"
            ]
          },
          "metadata": {},
          "execution_count": 13
        }
      ],
      "execution_count": 13
    },
    {
      "cell_type": "markdown",
      "source": [
        "Encontramos 5041 apariciones de fecha invalidas. En la sección de Feature Engineering analizaremos que hacer con estos datos. Mientras tanto, hacemos un dataset que no contenga a las fechas inválidas para poder calcularle los valores pedidos."
      ],
      "metadata": {
        "tags": [],
        "cell_id": "e3dd6ab2-b9ca-4896-b990-ee467ae591b2",
        "is_collapsed": false,
        "formattedRanges": [],
        "deepnote_cell_type": "text-cell-p",
        "id": "DMc9c4rWbf0t"
      }
    },
    {
      "cell_type": "code",
      "source": [
        "ds_end_date = ds_filtrado.copy()\n",
        "cond_operacion = pd.notnull(pd.to_datetime(ds_end_date['end_date'], errors='coerce'))\n",
        "ds_end_date = ds_end_date[cond_operacion]\n",
        "ds_end_date.end_date = pd.to_datetime(ds_end_date['end_date'])"
      ],
      "metadata": {
        "tags": [],
        "cell_id": "54caf0532b484edfb4dc76653d6a60d1",
        "source_hash": "6da93fe3",
        "execution_start": 1665162070398,
        "execution_millis": 85,
        "deepnote_to_be_reexecuted": false,
        "deepnote_cell_type": "code",
        "id": "yfI0XT-Kbf0t"
      },
      "outputs": [],
      "execution_count": 15
    },
    {
      "cell_type": "code",
      "source": [
        "def mostrar_medidas_resumen(columna, ylabel=None, show_boxplot=True, df=ds_filtrado):\n",
        "    mean=df[columna].mean()\n",
        "\n",
        "    measure_info=np.nanpercentile(df[columna],[25,50,75])\n",
        "    \n",
        "    mode=df[columna].mode()\n",
        "\n",
        "    print(f'Medidas de resumen para la variable {columna}:\\n\\\n",
        "    \\tMedia: {mean}\\n\\\n",
        "    \\tq1: {measure_info[0]}\\n\\\n",
        "    \\tMediana: {measure_info[1]}\\n\\\n",
        "    \\tq3: {measure_info[2]}\\n\\\n",
        "    \\tModa: {mode}')\n",
        "\n",
        "    if(show_boxplot):\n",
        "        sns.boxplot(y=df[columna], showfliers = False) # no mostramos outliers para ver mejor la distribución\n",
        "        mostrar_metadata_grafico(f\"distribución de {ylabel} en formato boxplot\", ylabel=ylabel)"
      ],
      "metadata": {
        "tags": [],
        "cell_id": "d34d501c2b1a48d1a80659d44a62e391",
        "source_hash": "f8bb6439",
        "execution_start": 1665162070486,
        "execution_millis": 1,
        "deepnote_to_be_reexecuted": false,
        "deepnote_cell_type": "code",
        "id": "_Ggo-4_qbf0t"
      },
      "outputs": [],
      "execution_count": 16
    },
    {
      "cell_type": "markdown",
      "source": [
        "- start date:"
      ],
      "metadata": {
        "tags": [],
        "cell_id": "5580b94e-ff82-43ae-a7b2-f59b63f565d0",
        "is_collapsed": false,
        "formattedRanges": [
          {
            "type": "marks",
            "marks": {
              "bold": true
            },
            "toCodePoint": 11,
            "fromCodePoint": 0
          }
        ],
        "deepnote_cell_type": "text-cell-bullet",
        "id": "7iqMMZ7Mbf0u"
      }
    },
    {
      "cell_type": "code",
      "source": [
        "mostrar_medidas_resumen('start_date', show_boxplot=False)"
      ],
      "metadata": {
        "tags": [],
        "cell_id": "66e850cae4a94c6e96df1fa0d0265f43",
        "source_hash": "3d456365",
        "execution_start": 1665162070488,
        "execution_millis": 38,
        "deepnote_to_be_reexecuted": false,
        "deepnote_cell_type": "code",
        "id": "vM7_PdMYbf0u",
        "colab": {
          "base_uri": "https://localhost:8080/"
        },
        "outputId": "b59bed3f-6a45-45e8-819b-e5cc853ce92b"
      },
      "outputs": [
        {
          "output_type": "stream",
          "name": "stdout",
          "text": [
            "Medidas de resumen para la variable start_date:\n",
            "    \tMedia: 2021-07-01 08:38:57.331961344\n",
            "    \tq1: 2021-04-03T00:00:00.000000000\n",
            "    \tMediana: 2021-06-29T00:00:00.000000000\n",
            "    \tq3: 2021-09-24T00:00:00.000000000\n",
            "    \tModa: 0   2021-12-16\n",
            "dtype: datetime64[ns]\n"
          ]
        }
      ],
      "execution_count": 17
    },
    {
      "cell_type": "markdown",
      "source": [
        "- created_on:"
      ],
      "metadata": {
        "tags": [],
        "cell_id": "1f4616fc-0dd6-485f-b983-d7916c94afde",
        "is_collapsed": false,
        "formattedRanges": [
          {
            "type": "marks",
            "marks": {
              "bold": true
            },
            "toCodePoint": 11,
            "fromCodePoint": 0
          }
        ],
        "deepnote_cell_type": "text-cell-bullet",
        "id": "sO_-Unblbf0u"
      }
    },
    {
      "cell_type": "code",
      "source": [
        "mostrar_medidas_resumen('created_on', show_boxplot=False)"
      ],
      "metadata": {
        "tags": [],
        "cell_id": "b2a48fb5d6f24324bb2f313ec4e320fa",
        "source_hash": "857e2c4c",
        "execution_start": 1665162070489,
        "execution_millis": 37,
        "deepnote_to_be_reexecuted": false,
        "deepnote_cell_type": "code",
        "id": "iNazL5SRbf0u",
        "colab": {
          "base_uri": "https://localhost:8080/"
        },
        "outputId": "7aef6ded-bca5-4676-faa4-375f1c5b231a"
      },
      "outputs": [
        {
          "output_type": "stream",
          "name": "stdout",
          "text": [
            "Medidas de resumen para la variable created_on:\n",
            "    \tMedia: 2021-07-01 08:38:57.331961344\n",
            "    \tq1: 2021-04-03T00:00:00.000000000\n",
            "    \tMediana: 2021-06-29T00:00:00.000000000\n",
            "    \tq3: 2021-09-24T00:00:00.000000000\n",
            "    \tModa: 0   2021-12-16\n",
            "dtype: datetime64[ns]\n"
          ]
        }
      ],
      "execution_count": 18
    },
    {
      "cell_type": "markdown",
      "source": [
        "- end_date:"
      ],
      "metadata": {
        "tags": [],
        "cell_id": "6b54c598-81fb-4485-8158-5d81fa597ad2",
        "is_collapsed": false,
        "formattedRanges": [
          {
            "type": "marks",
            "marks": {
              "bold": true
            },
            "toCodePoint": 9,
            "fromCodePoint": 0
          }
        ],
        "deepnote_cell_type": "text-cell-bullet",
        "id": "MBHAeBfkbf0u"
      }
    },
    {
      "cell_type": "code",
      "source": [
        "mostrar_medidas_resumen('end_date', show_boxplot=False, df=ds_end_date)"
      ],
      "metadata": {
        "tags": [],
        "cell_id": "013df70a99fc4b3fb86c67335150bd69",
        "source_hash": "70fc43a0",
        "execution_start": 1665162070496,
        "execution_millis": 31,
        "deepnote_to_be_reexecuted": false,
        "deepnote_cell_type": "code",
        "id": "fRoDKRQlbf0u",
        "colab": {
          "base_uri": "https://localhost:8080/"
        },
        "outputId": "8926f82e-9d2e-4e48-b9f7-401a6fbae1f5"
      },
      "outputs": [
        {
          "output_type": "stream",
          "name": "stdout",
          "text": [
            "Medidas de resumen para la variable end_date:\n",
            "    \tMedia: 2021-09-14 10:40:09.685230080\n",
            "    \tq1: 2021-06-05T00:00:00.000000000\n",
            "    \tMediana: 2021-08-30T00:00:00.000000000\n",
            "    \tq3: 2022-01-27T00:00:00.000000000\n",
            "    \tModa: 0   2021-06-05\n",
            "dtype: datetime64[ns]\n"
          ]
        }
      ],
      "execution_count": 19
    },
    {
      "cell_type": "markdown",
      "source": [
        "- property_rooms:"
      ],
      "metadata": {
        "tags": [],
        "cell_id": "dadb0fdd-d5a4-454c-a217-056aa84b635a",
        "is_collapsed": false,
        "formattedRanges": [
          {
            "type": "marks",
            "marks": {
              "bold": true
            },
            "toCodePoint": 15,
            "fromCodePoint": 0
          }
        ],
        "deepnote_cell_type": "text-cell-bullet",
        "id": "si0U9Br1bf0u"
      }
    },
    {
      "cell_type": "code",
      "source": [
        "mostrar_medidas_resumen('property_rooms', ylabel=\"cantidad de ambientes\")"
      ],
      "metadata": {
        "tags": [],
        "cell_id": "60b626b8800c402783ba12b8fce7bbdf",
        "source_hash": "e783a134",
        "execution_start": 1665162070498,
        "execution_millis": 187,
        "deepnote_to_be_reexecuted": false,
        "deepnote_cell_type": "code",
        "id": "cXMrLGEIbf0u",
        "colab": {
          "base_uri": "https://localhost:8080/",
          "height": 393
        },
        "outputId": "eab6f373-bde6-47b6-ab4e-d985ef6602e8"
      },
      "outputs": [
        {
          "output_type": "stream",
          "name": "stdout",
          "text": [
            "Medidas de resumen para la variable property_rooms:\n",
            "    \tMedia: 2.8227992060511777\n",
            "    \tq1: 2.0\n",
            "    \tMediana: 3.0\n",
            "    \tq3: 4.0\n",
            "    \tModa: 0    3.0\n",
            "dtype: float64\n"
          ]
        },
        {
          "output_type": "display_data",
          "data": {
            "text/plain": [
              "<Figure size 432x288 with 1 Axes>"
            ],
            "image/png": "[encoded data removed]"
          },
          "metadata": {
            "needs_background": "light"
          }
        }
      ],
      "execution_count": 20
    },
    {
      "cell_type": "markdown",
      "source": [
        "-  property_bedrooms"
      ],
      "metadata": {
        "tags": [],
        "cell_id": "377daed7-102f-45de-970c-d87b84fb7c82",
        "is_collapsed": false,
        "formattedRanges": [
          {
            "type": "marks",
            "marks": {
              "bold": true
            },
            "toCodePoint": 18,
            "fromCodePoint": 0
          }
        ],
        "deepnote_cell_type": "text-cell-bullet",
        "id": "k6VdGWewbf0v"
      }
    },
    {
      "cell_type": "code",
      "source": [
        "mostrar_medidas_resumen('property_bedrooms', ylabel=\"cantidad de habitaciones\")"
      ],
      "metadata": {
        "tags": [],
        "cell_id": "5417aceab48d40ada862e9bfb2b47f55",
        "source_hash": "6f55c18b",
        "execution_start": 1665162070717,
        "execution_millis": 984,
        "deepnote_to_be_reexecuted": false,
        "deepnote_cell_type": "code",
        "id": "xqf_6oDubf0v",
        "colab": {
          "base_uri": "https://localhost:8080/",
          "height": 393
        },
        "outputId": "b6db3a10-d0dd-495a-c293-d2dd28ef5e48"
      },
      "outputs": [
        {
          "output_type": "stream",
          "name": "stdout",
          "text": [
            "Medidas de resumen para la variable property_bedrooms:\n",
            "    \tMedia: 2.0146285220148448\n",
            "    \tq1: 1.0\n",
            "    \tMediana: 2.0\n",
            "    \tq3: 3.0\n",
            "    \tModa: 0    1.0\n",
            "dtype: float64\n"
          ]
        },
        {
          "output_type": "display_data",
          "data": {
            "text/plain": [
              "<Figure size 432x288 with 1 Axes>"
            ],
            "image/png": "[encoded data removed]"
          },
          "metadata": {
            "needs_background": "light"
          }
        }
      ],
      "execution_count": 21
    },
    {
      "cell_type": "markdown",
      "source": [
        "- latitud"
      ],
      "metadata": {
        "tags": [],
        "cell_id": "9900a1b8-575f-4411-9012-bc234a92cfc0",
        "is_collapsed": false,
        "formattedRanges": [
          {
            "type": "marks",
            "marks": {
              "bold": true
            },
            "toCodePoint": 7,
            "fromCodePoint": 0
          }
        ],
        "deepnote_cell_type": "text-cell-bullet",
        "id": "gSZJIPogbf0v"
      }
    },
    {
      "cell_type": "code",
      "source": [
        "mostrar_medidas_resumen('latitud', ylabel=\"latitud (º)\")"
      ],
      "metadata": {
        "tags": [],
        "cell_id": "1a38a45a34dd403ab1d1acb40a30ef94",
        "source_hash": "235c7b9c",
        "execution_start": 1665162070939,
        "execution_millis": 779,
        "deepnote_to_be_reexecuted": false,
        "deepnote_cell_type": "code",
        "id": "z4hyy6yhbf0v",
        "colab": {
          "base_uri": "https://localhost:8080/",
          "height": 395
        },
        "outputId": "261631f6-7f23-4a55-c4d2-92f13f1cabe1"
      },
      "outputs": [
        {
          "output_type": "stream",
          "name": "stdout",
          "text": [
            "Medidas de resumen para la variable latitud:\n",
            "    \tMedia: -34.59148102467374\n",
            "    \tq1: -34.6159754\n",
            "    \tMediana: -34.5957896\n",
            "    \tq3: -34.5774132\n",
            "    \tModa: 0   -34.54125\n",
            "dtype: float64\n"
          ]
        },
        {
          "output_type": "display_data",
          "data": {
            "text/plain": [
              "<Figure size 432x288 with 1 Axes>"
            ],
            "image/png": "[encoded data removed]"
          },
          "metadata": {
            "needs_background": "light"
          }
        }
      ],
      "execution_count": 22
    },
    {
      "cell_type": "markdown",
      "source": [
        "- longitud"
      ],
      "metadata": {
        "tags": [],
        "cell_id": "53b166c8-34ed-4eaf-b807-e627eaff3405",
        "is_collapsed": false,
        "formattedRanges": [
          {
            "type": "marks",
            "marks": {
              "bold": true
            },
            "toCodePoint": 8,
            "fromCodePoint": 0
          }
        ],
        "deepnote_cell_type": "text-cell-bullet",
        "id": "d6fsbPzubf0v"
      }
    },
    {
      "cell_type": "code",
      "source": [
        "mostrar_medidas_resumen('longitud', ylabel=\"longitud (º)\")"
      ],
      "metadata": {
        "tags": [],
        "cell_id": "1eb640e49dc74f71906bb88ea883f1fe",
        "source_hash": "6dc8d69f",
        "execution_start": 1665162071130,
        "execution_millis": 633,
        "deepnote_to_be_reexecuted": false,
        "deepnote_cell_type": "code",
        "id": "ujcsSMJ5bf0v",
        "colab": {
          "base_uri": "https://localhost:8080/",
          "height": 393
        },
        "outputId": "b594c06b-2ad4-41c8-86e4-6cf5158b4ef2"
      },
      "outputs": [
        {
          "output_type": "stream",
          "name": "stdout",
          "text": [
            "Medidas de resumen para la variable longitud:\n",
            "    \tMedia: -58.449794544855415\n",
            "    \tq1: -58.4665217\n",
            "    \tMediana: -58.4390004\n",
            "    \tq3: -58.4088623\n",
            "    \tModa: 0   -58.472966\n",
            "dtype: float64\n"
          ]
        },
        {
          "output_type": "display_data",
          "data": {
            "text/plain": [
              "<Figure size 432x288 with 1 Axes>"
            ],
            "image/png": "[encoded data removed]"
          },
          "metadata": {
            "needs_background": "light"
          }
        }
      ],
      "execution_count": 23
    },
    {
      "cell_type": "markdown",
      "source": [
        "- property_surface_total"
      ],
      "metadata": {
        "tags": [],
        "cell_id": "0cd1b507-4e3f-45fb-96ee-35bc6956feda",
        "is_collapsed": false,
        "formattedRanges": [
          {
            "type": "marks",
            "marks": {
              "bold": true
            },
            "toCodePoint": 22,
            "fromCodePoint": 0
          }
        ],
        "deepnote_cell_type": "text-cell-bullet",
        "id": "X2y7Ll8Zbf0v"
      }
    },
    {
      "cell_type": "code",
      "source": [
        "mostrar_medidas_resumen('property_surface_total', ylabel=\"superficie total (m2)\")"
      ],
      "metadata": {
        "tags": [],
        "cell_id": "e708f18a0f9d4787a2b8e520f5050f98",
        "source_hash": "4891c6e8",
        "execution_start": 1665162071335,
        "execution_millis": 433,
        "deepnote_to_be_reexecuted": false,
        "deepnote_cell_type": "code",
        "id": "9OPkAa4Zbf0v",
        "colab": {
          "base_uri": "https://localhost:8080/",
          "height": 393
        },
        "outputId": "6798962a-2597-4ffd-cea9-1c2a53ca5cd8"
      },
      "outputs": [
        {
          "output_type": "stream",
          "name": "stdout",
          "text": [
            "Medidas de resumen para la variable property_surface_total:\n",
            "    \tMedia: 109.09297019182372\n",
            "    \tq1: 45.0\n",
            "    \tMediana: 65.0\n",
            "    \tq3: 105.0\n",
            "    \tModa: 0    50.0\n",
            "dtype: float64\n"
          ]
        },
        {
          "output_type": "display_data",
          "data": {
            "text/plain": [
              "<Figure size 432x288 with 1 Axes>"
            ],
            "image/png": "[encoded data removed]"
          },
          "metadata": {
            "needs_background": "light"
          }
        }
      ],
      "execution_count": 24
    },
    {
      "cell_type": "markdown",
      "source": [
        "- property_surface_covered"
      ],
      "metadata": {
        "tags": [],
        "cell_id": "3786f47f-610f-4242-ab46-011bd786166b",
        "is_collapsed": false,
        "formattedRanges": [
          {
            "type": "marks",
            "marks": {
              "bold": true
            },
            "toCodePoint": 24,
            "fromCodePoint": 0
          }
        ],
        "deepnote_cell_type": "text-cell-bullet",
        "id": "yGEA7eg7bf0v"
      }
    },
    {
      "cell_type": "code",
      "source": [
        "mostrar_medidas_resumen('property_surface_covered', ylabel=\"superficie cubierta (m2)\")"
      ],
      "metadata": {
        "tags": [],
        "cell_id": "6588e208af7d4f0eaaea16ab76b27e5b",
        "source_hash": "a570d8bc",
        "execution_start": 1665162071571,
        "execution_millis": 207,
        "deepnote_to_be_reexecuted": false,
        "deepnote_cell_type": "code",
        "id": "P2CtXSGvbf0v",
        "colab": {
          "base_uri": "https://localhost:8080/",
          "height": 393
        },
        "outputId": "b7eca74f-e866-4a00-dc62-b1dec4f5c8a4"
      },
      "outputs": [
        {
          "output_type": "stream",
          "name": "stdout",
          "text": [
            "Medidas de resumen para la variable property_surface_covered:\n",
            "    \tMedia: 87.93193244952968\n",
            "    \tq1: 40.0\n",
            "    \tMediana: 58.0\n",
            "    \tq3: 88.0\n",
            "    \tModa: 0    40.0\n",
            "dtype: float64\n"
          ]
        },
        {
          "output_type": "display_data",
          "data": {
            "text/plain": [
              "<Figure size 432x288 with 1 Axes>"
            ],
            "image/png": "[encoded data removed]"
          },
          "metadata": {
            "needs_background": "light"
          }
        }
      ],
      "execution_count": 26
    },
    {
      "cell_type": "markdown",
      "source": [
        "- property_price"
      ],
      "metadata": {
        "tags": [],
        "cell_id": "65e13c8e-4b0d-4dab-9124-188e979cc60a",
        "is_collapsed": false,
        "formattedRanges": [
          {
            "type": "marks",
            "marks": {
              "bold": true
            },
            "toCodePoint": 14,
            "fromCodePoint": 0
          }
        ],
        "deepnote_cell_type": "text-cell-bullet",
        "id": "hGLHV16kbf0v"
      }
    },
    {
      "cell_type": "code",
      "source": [
        "mostrar_medidas_resumen('property_price', ylabel=\"precio (USD$)\")"
      ],
      "metadata": {
        "tags": [],
        "cell_id": "bd0ad0c6802b4e54abf8d78725b32eb3",
        "source_hash": "cdf05375",
        "execution_start": 1665162071579,
        "execution_millis": 203,
        "deepnote_to_be_reexecuted": false,
        "deepnote_cell_type": "code",
        "id": "KSiK_uTXbf0v",
        "colab": {
          "base_uri": "https://localhost:8080/",
          "height": 393
        },
        "outputId": "586e73b6-9f0b-469e-81af-e83244ee22d4"
      },
      "outputs": [
        {
          "output_type": "stream",
          "name": "stdout",
          "text": [
            "Medidas de resumen para la variable property_price:\n",
            "    \tMedia: 226238.20718522213\n",
            "    \tq1: 95000.0\n",
            "    \tMediana: 143900.0\n",
            "    \tq3: 237000.0\n",
            "    \tModa: 0    110000.0\n",
            "dtype: float64\n"
          ]
        },
        {
          "output_type": "display_data",
          "data": {
            "text/plain": [
              "<Figure size 432x288 with 1 Axes>"
            ],
            "image/png": "[encoded data removed]"
          },
          "metadata": {
            "needs_background": "light"
          }
        }
      ],
      "execution_count": 25
    },
    {
      "cell_type": "markdown",
      "source": [
        "### Variables Cualitativas: cantidad de valores posibles y frecuencias"
      ],
      "metadata": {
        "tags": [],
        "cell_id": "6b99911d-8e44-4e7d-93f8-a43fa9f8fd35",
        "is_collapsed": false,
        "formattedRanges": [],
        "deepnote_cell_type": "text-cell-h3",
        "id": "v0dzO8Ngbf0w"
      }
    },
    {
      "cell_type": "code",
      "source": [
        "def mostrar_frecuencias(columna, ancho=4, alto=4):\n",
        "    frecuencia_por_valor = ds_filtrado.groupby(columna).size().to_frame(\"frecuencia\")\n",
        "    frecuencia_por_valor = frecuencia_por_valor.sort_values(by=\"frecuencia\", ascending=False).reset_index()\n",
        "    frecuencia_por_valor.head(40).plot.bar(x=columna, y=\"frecuencia\", figsize=(ancho, alto))\n",
        "    mostrar_metadata_grafico(f\"frecuencias de valores posibles de {columna}\", ylabel=\"frecuencia\", xlabel=\"valores posibles\")\n",
        "    "
      ],
      "metadata": {
        "tags": [],
        "cell_id": "67c86e3462e642d2a693192c724302f7",
        "source_hash": "56685098",
        "execution_start": 1665162071776,
        "execution_millis": 1,
        "deepnote_to_be_reexecuted": false,
        "deepnote_cell_type": "code",
        "id": "81B7N2JAbf0w"
      },
      "outputs": [],
      "execution_count": 27
    },
    {
      "cell_type": "markdown",
      "source": [
        "- place_l2"
      ],
      "metadata": {
        "tags": [],
        "cell_id": "ce7571f4-a4e5-4074-b366-8b695b35a614",
        "is_collapsed": false,
        "formattedRanges": [
          {
            "type": "marks",
            "marks": {
              "bold": true
            },
            "toCodePoint": 8,
            "fromCodePoint": 0
          }
        ],
        "deepnote_cell_type": "text-cell-bullet",
        "id": "Pe1nr0Fubf0w"
      }
    },
    {
      "cell_type": "code",
      "source": [
        "mostrar_frecuencias('place_l2')"
      ],
      "metadata": {
        "tags": [],
        "cell_id": "a7d363823c08477eb57d170ab4096ed4",
        "source_hash": "21f1b2cf",
        "execution_start": 1665162071783,
        "execution_millis": 160,
        "deepnote_to_be_reexecuted": false,
        "deepnote_cell_type": "code",
        "id": "F1LSUCfdbf0w",
        "colab": {
          "base_uri": "https://localhost:8080/",
          "height": 360
        },
        "outputId": "b1b548c5-cb58-4d0d-f2a9-b7d5a3dbf544"
      },
      "outputs": [
        {
          "output_type": "display_data",
          "data": {
            "text/plain": [
              "<Figure size 288x288 with 1 Axes>"
            ],
            "image/png": "[encoded data removed]"
          },
          "metadata": {
            "needs_background": "light"
          }
        }
      ],
      "execution_count": 33
    },
    {
      "cell_type": "markdown",
      "source": [
        "- place_l3"
      ],
      "metadata": {
        "tags": [],
        "cell_id": "2ba82585-5bf4-444e-b7e1-fdac9f75ce04",
        "is_collapsed": false,
        "formattedRanges": [
          {
            "type": "marks",
            "marks": {
              "bold": true
            },
            "toCodePoint": 8,
            "fromCodePoint": 0
          }
        ],
        "deepnote_cell_type": "text-cell-bullet",
        "id": "rJoNsdb_bf0w"
      }
    },
    {
      "cell_type": "code",
      "source": [
        "mostrar_frecuencias('place_l3', 10, 6)"
      ],
      "metadata": {
        "tags": [],
        "cell_id": "ed458eb6e1004ccda258e59244c4e60c",
        "source_hash": "2ad33107",
        "execution_start": 1665162071944,
        "execution_millis": 532,
        "deepnote_to_be_reexecuted": false,
        "deepnote_cell_type": "code",
        "id": "OEyN1vY0bf0w",
        "colab": {
          "base_uri": "https://localhost:8080/",
          "height": 487
        },
        "outputId": "069df976-4578-44cc-ab85-49a3f3d3202f"
      },
      "outputs": [
        {
          "output_type": "display_data",
          "data": {
            "text/plain": [
              "<Figure size 720x432 with 1 Axes>"
            ],
            "image/png": "[encoded data removed]"
          },
          "metadata": {
            "needs_background": "light"
          }
        }
      ],
      "execution_count": 32
    },
    {
      "cell_type": "markdown",
      "source": [
        "- place_l4"
      ],
      "metadata": {
        "tags": [],
        "cell_id": "47a5d6ec-571e-44c5-9df5-0c1fd4ba0c6f",
        "is_collapsed": false,
        "formattedRanges": [
          {
            "type": "marks",
            "marks": {
              "bold": true
            },
            "toCodePoint": 8,
            "fromCodePoint": 0
          }
        ],
        "deepnote_cell_type": "text-cell-bullet",
        "id": "7WgV5qB7bf0w"
      }
    },
    {
      "cell_type": "code",
      "source": [
        "mostrar_frecuencias('place_l4', 10, 5)"
      ],
      "metadata": {
        "tags": [],
        "cell_id": "cfc36db8d4e240dca547de24d2da343b",
        "source_hash": "18492a2f",
        "execution_start": 1665162072483,
        "execution_millis": 181,
        "deepnote_to_be_reexecuted": false,
        "deepnote_cell_type": "code",
        "id": "fNjh4muTbf0w",
        "colab": {
          "base_uri": "https://localhost:8080/",
          "height": 435
        },
        "outputId": "9beb09dd-0188-467d-a1f1-28a8824a5d2f"
      },
      "outputs": [
        {
          "output_type": "display_data",
          "data": {
            "text/plain": [
              "<Figure size 720x360 with 1 Axes>"
            ],
            "image/png": "[encoded data removed]"
          },
          "metadata": {
            "needs_background": "light"
          }
        }
      ],
      "execution_count": 31
    },
    {
      "cell_type": "markdown",
      "source": [
        "- operation"
      ],
      "metadata": {
        "tags": [],
        "cell_id": "7d050b82-3cb2-46cf-b31b-cc0a8951cf8b",
        "is_collapsed": false,
        "formattedRanges": [
          {
            "type": "marks",
            "marks": {
              "bold": true
            },
            "toCodePoint": 9,
            "fromCodePoint": 0
          }
        ],
        "deepnote_cell_type": "text-cell-bullet",
        "id": "tc013H4Obf0w"
      }
    },
    {
      "cell_type": "code",
      "source": [
        "mostrar_frecuencias('operation', 10, 5)"
      ],
      "metadata": {
        "tags": [],
        "cell_id": "5d62c8acaade4ce488e60eb823e8da7d",
        "source_hash": "7cff2b7",
        "execution_start": 1665162072667,
        "execution_millis": 171,
        "deepnote_to_be_reexecuted": false,
        "deepnote_cell_type": "code",
        "id": "_hIoOSmBbf0w",
        "colab": {
          "base_uri": "https://localhost:8080/",
          "height": 368
        },
        "outputId": "e5e3629b-c981-4b3b-b37c-bdbad6759ea9"
      },
      "outputs": [
        {
          "output_type": "display_data",
          "data": {
            "text/plain": [
              "<Figure size 720x360 with 1 Axes>"
            ],
            "image/png": "[encoded data removed]"
          },
          "metadata": {
            "needs_background": "light"
          }
        }
      ],
      "execution_count": 30
    },
    {
      "cell_type": "markdown",
      "source": [
        "- property_type"
      ],
      "metadata": {
        "tags": [],
        "cell_id": "2919c6f7-3c8d-4d48-8101-04f924a7b84b",
        "is_collapsed": false,
        "formattedRanges": [
          {
            "type": "marks",
            "marks": {
              "bold": true
            },
            "toCodePoint": 13,
            "fromCodePoint": 0
          }
        ],
        "deepnote_cell_type": "text-cell-bullet",
        "id": "hCFiocYKbf0x"
      }
    },
    {
      "cell_type": "code",
      "source": [
        "mostrar_frecuencias('property_type', 10, 5)"
      ],
      "metadata": {
        "tags": [],
        "cell_id": "2e92cd1d06b2411ba25fe59890941863",
        "source_hash": "c3e8189a",
        "execution_start": 1665162072840,
        "execution_millis": 210,
        "deepnote_to_be_reexecuted": false,
        "deepnote_cell_type": "code",
        "id": "S81b7WKMbf0x",
        "colab": {
          "base_uri": "https://localhost:8080/",
          "height": 412
        },
        "outputId": "908306d7-ae92-47cc-9823-e7d046534e46"
      },
      "outputs": [
        {
          "output_type": "display_data",
          "data": {
            "text/plain": [
              "<Figure size 720x360 with 1 Axes>"
            ],
            "image/png": "[encoded data removed]"
          },
          "metadata": {
            "needs_background": "light"
          }
        }
      ],
      "execution_count": 29
    },
    {
      "cell_type": "markdown",
      "source": [
        "- property_currency"
      ],
      "metadata": {
        "tags": [],
        "cell_id": "9e3880d2-ddaa-4de7-820b-f9f1e4cd74cb",
        "is_collapsed": false,
        "formattedRanges": [
          {
            "type": "marks",
            "marks": {
              "bold": true
            },
            "toCodePoint": 17,
            "fromCodePoint": 0
          }
        ],
        "deepnote_cell_type": "text-cell-bullet",
        "id": "jiaOofWrbf0x"
      }
    },
    {
      "cell_type": "code",
      "source": [
        "mostrar_frecuencias('property_currency', 10, 5)"
      ],
      "metadata": {
        "tags": [],
        "cell_id": "c4ab5e53bbb04cda83a6843a52cb0c9d",
        "source_hash": "dd53b498",
        "execution_start": 1665162073090,
        "execution_millis": 145,
        "deepnote_to_be_reexecuted": false,
        "deepnote_cell_type": "code",
        "id": "Sl-LAlAqbf0x",
        "colab": {
          "base_uri": "https://localhost:8080/",
          "height": 361
        },
        "outputId": "685dc6e6-c0cb-49fe-e072-b0b3b0d97060"
      },
      "outputs": [
        {
          "output_type": "display_data",
          "data": {
            "text/plain": [
              "<Figure size 720x360 with 1 Axes>"
            ],
            "image/png": "[encoded data removed]"
          },
          "metadata": {
            "needs_background": "light"
          }
        }
      ],
      "execution_count": 28
    },
    {
      "cell_type": "markdown",
      "source": [
        "### Variables irrelevantes"
      ],
      "metadata": {
        "tags": [],
        "cell_id": "140b0dd66cc3465e888188a9194b1f89",
        "is_collapsed": false,
        "formattedRanges": [],
        "deepnote_cell_type": "text-cell-h3",
        "id": "U4nJnYBcbf0x"
      }
    },
    {
      "cell_type": "markdown",
      "source": [
        "Como variables irrelevantes en el análisis tenemos:"
      ],
      "metadata": {
        "tags": [],
        "cell_id": "1ff5ecd4-83fd-48b2-b775-5f7cc742b159",
        "is_collapsed": false,
        "formattedRanges": [],
        "deepnote_cell_type": "text-cell-p",
        "id": "g12n99T8bf0x"
      }
    },
    {
      "cell_type": "markdown",
      "source": [
        "- id: El la campo Id es irrelevante ya que no aporta información sobre las viviendas, simplemente es utilizado para guardar la información en la base de datos."
      ],
      "metadata": {
        "tags": [],
        "cell_id": "7668ad3e-c876-43b6-b136-f76265956c77",
        "is_collapsed": false,
        "formattedRanges": [
          {
            "type": "marks",
            "marks": {
              "bold": true
            },
            "toCodePoint": 2,
            "fromCodePoint": 0
          }
        ],
        "deepnote_cell_type": "text-cell-bullet",
        "id": "9VBCTBDXbf0x"
      }
    },
    {
      "cell_type": "markdown",
      "source": [
        "- place_l5, place_l6:  Ambos campos son irrelevantes dado que no poseen datos que brinden información de gran importancia para el dominio del problema (todos los datos son nulos)."
      ],
      "metadata": {
        "tags": [],
        "cell_id": "c923adbc-0ec8-40d1-8f8a-0a4103dfd461",
        "is_collapsed": false,
        "formattedRanges": [
          {
            "type": "marks",
            "marks": {
              "bold": true
            },
            "toCodePoint": 20,
            "fromCodePoint": 0
          }
        ],
        "deepnote_cell_type": "text-cell-bullet",
        "id": "uHiuIDP5bf0x"
      }
    },
    {
      "cell_type": "markdown",
      "source": [
        "- property_title: Dado que no haremos un análisis de NLP, no nos es relevante este campo."
      ],
      "metadata": {
        "tags": [],
        "cell_id": "0c45df3c-b688-4475-b7bf-9bc4e6510285",
        "is_collapsed": false,
        "formattedRanges": [
          {
            "type": "marks",
            "marks": {
              "bold": true
            },
            "toCodePoint": 16,
            "fromCodePoint": 0
          }
        ],
        "deepnote_cell_type": "text-cell-bullet",
        "id": "6zZCjcxPbf0x"
      }
    },
    {
      "cell_type": "markdown",
      "source": [
        "### Análisis gráfico de las distribuciones de las variables cuantitativas"
      ],
      "metadata": {
        "tags": [],
        "cell_id": "be42a5ac6f454fec992341d2e687776c",
        "is_collapsed": false,
        "formattedRanges": [],
        "deepnote_cell_type": "text-cell-h3",
        "id": "p8pMWsTDbf0x"
      }
    },
    {
      "cell_type": "code",
      "source": [
        "def mostrar_distribuciones_cuantitativas(variable, ds=ds_filtrado, figsize=(5,5), bins=None, binwidth=None, discrete=False, espaciado=4, rotacion=90):\n",
        "  if binwidth:\n",
        "    graph = sns.displot(ds, x=variable, discrete=discrete, bins=bins, binwidth=binwidth)\n",
        "  else:\n",
        "    graph = sns.displot(ds, x=variable, discrete=discrete, bins=bins)\n",
        "\n",
        "  graph.fig.set_figheight(figsize[1])\n",
        "  graph.fig.set_figwidth(figsize[0])\n",
        "  ax = graph.ax\n",
        "  mids = [rect.get_x() for rect in ax.patches]\n",
        "  mids = [item for index, item in enumerate(mids) if index % espaciado == 0]\n",
        "  ax.set_xticks(mids)\n",
        "  ax.tick_params(axis='x', rotation=rotacion, labelsize=12)\n",
        "\n",
        "  mostrar_metadata_grafico(f\"distribución de {variable}\", ylabel=\"frecuencia\")\n",
        "\n"
      ],
      "metadata": {
        "id": "yLGqJNT4xNXD"
      },
      "execution_count": 34,
      "outputs": []
    },
    {
      "cell_type": "markdown",
      "source": [
        "- start_date"
      ],
      "metadata": {
        "tags": [],
        "cell_id": "b0da9d61-7274-4146-b18f-3835ed004e60",
        "is_collapsed": false,
        "formattedRanges": [
          {
            "type": "marks",
            "marks": {
              "bold": true
            },
            "toCodePoint": 10,
            "fromCodePoint": 0
          }
        ],
        "deepnote_cell_type": "text-cell-bullet",
        "id": "OzrdInOGbf0x"
      }
    },
    {
      "cell_type": "code",
      "source": [
        "mostrar_distribuciones_cuantitativas(\"start_date\", figsize=(20, 8), bins=150)"
      ],
      "metadata": {
        "tags": [],
        "cell_id": "e1459dbc937f426ab8f28897eca87bc8",
        "source_hash": "94b3909b",
        "execution_start": 1665162073234,
        "execution_millis": 371,
        "deepnote_to_be_reexecuted": false,
        "deepnote_cell_type": "code",
        "id": "stkYESZObf0x",
        "colab": {
          "base_uri": "https://localhost:8080/",
          "height": 629
        },
        "outputId": "e99c2147-ebd5-4cc4-f8be-cdceb44e908b"
      },
      "outputs": [
        {
          "output_type": "display_data",
          "data": {
            "text/plain": [
              "<Figure size 1440x576 with 1 Axes>"
            ],
            "image/png": "[encoded data removed]"
          },
          "metadata": {
            "needs_background": "light"
          }
        }
      ],
      "execution_count": 35
    },
    {
      "cell_type": "markdown",
      "source": [
        "- end_date"
      ],
      "metadata": {
        "tags": [],
        "cell_id": "cebc904b-84a8-4c7c-a3d0-4ad586dc82f9",
        "is_collapsed": false,
        "formattedRanges": [
          {
            "type": "marks",
            "marks": {
              "bold": true
            },
            "toCodePoint": 8,
            "fromCodePoint": 0
          }
        ],
        "deepnote_cell_type": "text-cell-bullet",
        "id": "7TQdpPbPbf0y"
      }
    },
    {
      "cell_type": "code",
      "source": [
        "mostrar_distribuciones_cuantitativas(\"end_date\", ds=ds_end_date, figsize=(20, 8), bins=150, espaciado=5)"
      ],
      "metadata": {
        "tags": [],
        "cell_id": "12ff6108b82544bebda182b37837ce58",
        "source_hash": "53633fa5",
        "execution_start": 1665162073610,
        "execution_millis": 989,
        "deepnote_to_be_reexecuted": false,
        "deepnote_cell_type": "code",
        "id": "tQkbfE_Rbf0y",
        "colab": {
          "base_uri": "https://localhost:8080/",
          "height": 623
        },
        "outputId": "f0b72e59-77b0-468d-8c22-b0a8cc975375"
      },
      "outputs": [
        {
          "output_type": "display_data",
          "data": {
            "text/plain": [
              "<Figure size 1440x576 with 1 Axes>"
            ],
            "image/png": "[encoded data removed]"
          },
          "metadata": {
            "needs_background": "light"
          }
        }
      ],
      "execution_count": 36
    },
    {
      "cell_type": "markdown",
      "source": [
        "- created_on"
      ],
      "metadata": {
        "tags": [],
        "cell_id": "89f34cdf-fd99-4649-b4b4-7c57fec114f4",
        "is_collapsed": false,
        "formattedRanges": [
          {
            "type": "marks",
            "marks": {
              "bold": true
            },
            "toCodePoint": 10,
            "fromCodePoint": 0
          }
        ],
        "deepnote_cell_type": "text-cell-bullet",
        "id": "Q2gLR5r8bf0y"
      }
    },
    {
      "cell_type": "code",
      "source": [
        "mostrar_distribuciones_cuantitativas(\"created_on\", figsize=(20, 8), bins=150, espaciado=5)"
      ],
      "metadata": {
        "tags": [],
        "cell_id": "80ff54f02d7f41c4927005a8e2532cc1",
        "source_hash": "67a4312d",
        "execution_start": 1665162073911,
        "execution_millis": 740,
        "deepnote_to_be_reexecuted": false,
        "deepnote_cell_type": "code",
        "id": "9qpmegmIbf0y",
        "colab": {
          "base_uri": "https://localhost:8080/",
          "height": 629
        },
        "outputId": "e20b3f45-523d-484b-d180-6d16e128ab40"
      },
      "outputs": [
        {
          "output_type": "display_data",
          "data": {
            "text/plain": [
              "<Figure size 1440x576 with 1 Axes>"
            ],
            "image/png": "[encoded data removed]"
          },
          "metadata": {
            "needs_background": "light"
          }
        }
      ],
      "execution_count": 37
    },
    {
      "cell_type": "markdown",
      "source": [
        "- property_rooms"
      ],
      "metadata": {
        "tags": [],
        "cell_id": "983394f1-0cdd-423a-934c-37061b338695",
        "is_collapsed": false,
        "formattedRanges": [
          {
            "type": "marks",
            "marks": {
              "bold": true
            },
            "toCodePoint": 14,
            "fromCodePoint": 0
          }
        ],
        "deepnote_cell_type": "text-cell-bullet",
        "id": "grKb1NKEbf0y"
      }
    },
    {
      "cell_type": "code",
      "source": [
        "mostrar_distribuciones_cuantitativas(\"property_rooms\", figsize=(20, 6), bins=[*range(20)], espaciado=1, rotacion=0)"
      ],
      "metadata": {
        "tags": [],
        "cell_id": "67743cf2edf5476daf1b59b58d22beb1",
        "source_hash": "3a99d0bc",
        "execution_start": 1665162074218,
        "execution_millis": 741,
        "deepnote_to_be_reexecuted": false,
        "deepnote_cell_type": "code",
        "id": "phAhJ8Urbf0y",
        "colab": {
          "base_uri": "https://localhost:8080/",
          "height": 450
        },
        "outputId": "f22a9361-5889-46e7-b5fb-fa1a1599b1b7"
      },
      "outputs": [
        {
          "output_type": "display_data",
          "data": {
            "text/plain": [
              "<Figure size 1440x432 with 1 Axes>"
            ],
            "image/png": "[encoded data removed]"
          },
          "metadata": {
            "needs_background": "light"
          }
        }
      ],
      "execution_count": 38
    },
    {
      "cell_type": "markdown",
      "source": [
        "- property_bedrooms"
      ],
      "metadata": {
        "tags": [],
        "cell_id": "e9c6b691-4041-4f24-9b02-3e0d1c1f14cd",
        "is_collapsed": false,
        "formattedRanges": [
          {
            "type": "marks",
            "marks": {
              "bold": true
            },
            "toCodePoint": 17,
            "fromCodePoint": 0
          }
        ],
        "deepnote_cell_type": "text-cell-bullet",
        "id": "yFCg_5nYbf0y"
      }
    },
    {
      "cell_type": "code",
      "source": [
        "mostrar_distribuciones_cuantitativas(\"property_bedrooms\", figsize=(20, 6), espaciado=1, bins=[*range(20)], rotacion=0)"
      ],
      "metadata": {
        "tags": [],
        "cell_id": "77ab173ed26b47fd8a5a1a36affd2baa",
        "source_hash": "ec4778d1",
        "execution_start": 1665162074927,
        "execution_millis": 1004,
        "deepnote_to_be_reexecuted": false,
        "deepnote_cell_type": "code",
        "id": "jcLny0gQbf0y",
        "colab": {
          "base_uri": "https://localhost:8080/",
          "height": 450
        },
        "outputId": "ef37109a-115c-4900-a70d-cb8b4739e953"
      },
      "outputs": [
        {
          "output_type": "display_data",
          "data": {
            "text/plain": [
              "<Figure size 1440x432 with 1 Axes>"
            ],
            "image/png": "[encoded data removed]"
          },
          "metadata": {
            "needs_background": "light"
          }
        }
      ],
      "execution_count": 39
    },
    {
      "cell_type": "markdown",
      "source": [
        "- latitud"
      ],
      "metadata": {
        "tags": [],
        "cell_id": "13e7a8ef-594c-4a12-b3f2-34ed271dcf92",
        "is_collapsed": false,
        "formattedRanges": [
          {
            "type": "marks",
            "marks": {
              "bold": true
            },
            "toCodePoint": 7,
            "fromCodePoint": 0
          }
        ],
        "deepnote_cell_type": "text-cell-bullet",
        "id": "0d_Ncc4-bf0z"
      }
    },
    {
      "cell_type": "code",
      "source": [
        "ds_latitud_sin_outliers = ds_filtrado[['latitud']]\n",
        "ds_latitud_sin_outliers = ds_latitud_sin_outliers[(ds_latitud_sin_outliers.latitud > -38) & (ds_latitud_sin_outliers.latitud < -34)]\n",
        "mostrar_distribuciones_cuantitativas(\"latitud\", ds=ds_latitud_sin_outliers, figsize=(20, 6), binwidth=0.005, espaciado=5)"
      ],
      "metadata": {
        "tags": [],
        "cell_id": "0e3c5267f50845809a4cdd85a605e7d8",
        "source_hash": "13055416",
        "execution_start": 1665162075933,
        "execution_millis": 0,
        "deepnote_to_be_reexecuted": false,
        "deepnote_cell_type": "code",
        "id": "nh9g5uuPbf0z",
        "colab": {
          "base_uri": "https://localhost:8080/",
          "height": 489
        },
        "outputId": "ffc961bc-ff40-44d5-f2d6-ae8912f958a4"
      },
      "outputs": [
        {
          "output_type": "display_data",
          "data": {
            "text/plain": [
              "<Figure size 1440x432 with 1 Axes>"
            ],
            "image/png": "[encoded data removed]"
          },
          "metadata": {
            "needs_background": "light"
          }
        }
      ],
      "execution_count": 40
    },
    {
      "cell_type": "markdown",
      "source": [
        "- longitud"
      ],
      "metadata": {
        "tags": [],
        "cell_id": "136a97ea-1032-4cbd-bf42-9ad68fe7640f",
        "is_collapsed": false,
        "formattedRanges": [
          {
            "type": "marks",
            "marks": {
              "bold": true
            },
            "toCodePoint": 8,
            "fromCodePoint": 0
          }
        ],
        "deepnote_cell_type": "text-cell-bullet",
        "id": "jnZkSuTIbf0z"
      }
    },
    {
      "cell_type": "code",
      "source": [
        "ds_longitud_sin_outliers = ds_filtrado[['longitud']]\n",
        "ds_longitud_sin_outliers = ds_longitud_sin_outliers[(ds_longitud_sin_outliers.longitud > -59) & (ds_longitud_sin_outliers.longitud < -58)]\n",
        "mostrar_distribuciones_cuantitativas(\"longitud\", ds=ds_longitud_sin_outliers, espaciado=5, figsize=(20, 6), binwidth=0.005)"
      ],
      "metadata": {
        "tags": [],
        "cell_id": "ae4163e4293e4240a422874155ff61db",
        "source_hash": "a6c0fbad",
        "execution_start": 1665162075934,
        "execution_millis": 9,
        "deepnote_to_be_reexecuted": false,
        "deepnote_cell_type": "code",
        "id": "XbaVybxUbf0z",
        "colab": {
          "base_uri": "https://localhost:8080/",
          "height": 493
        },
        "outputId": "10c5f47b-b163-4dd6-d740-4a039fc633d3"
      },
      "outputs": [
        {
          "output_type": "display_data",
          "data": {
            "text/plain": [
              "<Figure size 1440x432 with 1 Axes>"
            ],
            "image/png": "[encoded data removed]"
          },
          "metadata": {
            "needs_background": "light"
          }
        }
      ],
      "execution_count": 41
    },
    {
      "cell_type": "markdown",
      "source": [
        "- property_surface_total"
      ],
      "metadata": {
        "tags": [],
        "cell_id": "0708710d-6eef-4f85-bd92-1d525e23a56e",
        "is_collapsed": false,
        "formattedRanges": [
          {
            "type": "marks",
            "marks": {
              "bold": true
            },
            "toCodePoint": 22,
            "fromCodePoint": 0
          }
        ],
        "deepnote_cell_type": "text-cell-bullet",
        "id": "cNFZmQUubf0z"
      }
    },
    {
      "cell_type": "code",
      "source": [
        "ds_property_surface_total_sin_outliers = ds_filtrado[['property_surface_total']]\n",
        "ds_property_surface_total_sin_outliers = ds_property_surface_total_sin_outliers[(ds_property_surface_total_sin_outliers.property_surface_total > 0) & (ds_property_surface_total_sin_outliers.property_surface_total < 1000)]\n",
        "mostrar_distribuciones_cuantitativas(\"property_surface_total\", ds=ds_property_surface_total_sin_outliers, figsize=(20, 6), bins=[*range(0, 1000, 10)], espaciado=2)"
      ],
      "metadata": {
        "tags": [],
        "cell_id": "3e60ab02295d4763969487d60f3bdbdd",
        "source_hash": "3903f9f7",
        "execution_start": 1665162075946,
        "execution_millis": 1865,
        "deepnote_to_be_reexecuted": false,
        "deepnote_cell_type": "code",
        "id": "-D1VNP2Rbf0z",
        "colab": {
          "base_uri": "https://localhost:8080/",
          "height": 456
        },
        "outputId": "0914932d-67d1-424b-d85b-d10b9527a8fe"
      },
      "outputs": [
        {
          "output_type": "display_data",
          "data": {
            "text/plain": [
              "<Figure size 1440x432 with 1 Axes>"
            ],
            "image/png": "[encoded data removed]"
          },
          "metadata": {
            "needs_background": "light"
          }
        }
      ],
      "execution_count": 43
    },
    {
      "cell_type": "markdown",
      "source": [
        "- property_surface_covered\n",
        "REVISAR, tendría mas sentido que sea continuo el grafico "
      ],
      "metadata": {
        "tags": [],
        "cell_id": "93476f13-fb3f-4db9-8f25-5ddc05e681e5",
        "is_collapsed": false,
        "formattedRanges": [
          {
            "type": "marks",
            "marks": {
              "bold": true
            },
            "toCodePoint": 24,
            "fromCodePoint": 0
          }
        ],
        "deepnote_cell_type": "text-cell-bullet",
        "id": "SNxhK8mTbf0z"
      }
    },
    {
      "cell_type": "code",
      "source": [
        "ds_property_surface_covered_sin_outliers = ds_filtrado[['property_surface_covered']]\n",
        "ds_property_surface_covered_sin_outliers = ds_property_surface_covered_sin_outliers[(ds_property_surface_covered_sin_outliers.property_surface_covered > 0) & (ds_property_surface_covered_sin_outliers.property_surface_covered < 1000)]\n",
        "mostrar_distribuciones_cuantitativas(\"property_surface_covered\", ds=ds_property_surface_covered_sin_outliers, figsize=(20, 6), bins=[*range(0, 1000, 10)])"
      ],
      "metadata": {
        "tags": [],
        "cell_id": "ff27a6ffa78d4be2bfb9eefad1cf3e86",
        "source_hash": "d740e673",
        "execution_start": 1665162077711,
        "execution_millis": 1446,
        "deepnote_to_be_reexecuted": false,
        "deepnote_cell_type": "code",
        "id": "F8H4ldwlbf0z",
        "colab": {
          "base_uri": "https://localhost:8080/",
          "height": 460
        },
        "outputId": "40c4c29d-cdbf-4cfb-d1fc-c60a4a038fee"
      },
      "outputs": [
        {
          "output_type": "display_data",
          "data": {
            "text/plain": [
              "<Figure size 1440x432 with 1 Axes>"
            ],
            "image/png": "[encoded data removed]"
          },
          "metadata": {
            "needs_background": "light"
          }
        }
      ],
      "execution_count": 45
    },
    {
      "cell_type": "markdown",
      "source": [
        "- property_price\n",
        "REVISAR, tendría mas sentido que sea continuo el grafico "
      ],
      "metadata": {
        "tags": [],
        "cell_id": "cf0f89e2-7ee9-488a-bdb3-12d3faa88353",
        "is_collapsed": false,
        "formattedRanges": [
          {
            "type": "marks",
            "marks": {
              "bold": true
            },
            "toCodePoint": 14,
            "fromCodePoint": 0
          }
        ],
        "deepnote_cell_type": "text-cell-bullet",
        "id": "hO-KX3PTbf0z"
      }
    },
    {
      "cell_type": "code",
      "source": [
        "ds_property_price_sin_outliers = ds_filtrado[['property_price']]\n",
        "ds_property_price_sin_outliers = ds_property_price_sin_outliers[(ds_property_price_sin_outliers.property_price > 0) & (ds_property_price_sin_outliers.property_price < 3000000)]\n",
        "mostrar_distribuciones_cuantitativas(\"property_price\", ds=ds_property_price_sin_outliers, figsize=(20, 6), bins=[*range(0, 3000000, 20000)], espaciado=4)\n"
      ],
      "metadata": {
        "tags": [],
        "cell_id": "52620fa4bdeb492887ab760b0926ab39",
        "source_hash": "ecbe9dc6",
        "execution_start": 1665162079159,
        "execution_millis": 10993,
        "deepnote_to_be_reexecuted": false,
        "deepnote_cell_type": "code",
        "id": "YA9_gYOObf0z",
        "colab": {
          "base_uri": "https://localhost:8080/",
          "height": 463
        },
        "outputId": "5eac3681-220d-42d0-ae61-af481109ab32"
      },
      "outputs": [
        {
          "output_type": "display_data",
          "data": {
            "text/plain": [
              "<Figure size 1440x432 with 1 Axes>"
            ],
            "image/png": "[encoded data removed]"
          },
          "metadata": {
            "needs_background": "light"
          }
        }
      ],
      "execution_count": 56
    },
    {
      "cell_type": "markdown",
      "source": [
        "### Análisis de Correlaciones existentes entre las variables"
      ],
      "metadata": {
        "tags": [],
        "cell_id": "7533e537383c4202a838bfaacce1ca5a",
        "is_collapsed": false,
        "formattedRanges": [],
        "deepnote_cell_type": "text-cell-h3",
        "id": "6-FaorWqbf0z"
      }
    },
    {
      "cell_type": "markdown",
      "source": [
        "Eliminamos place_l6 al ser que tratan de elementos de tipo float64, siendo que no son validos como para evaluar correlaciones."
      ],
      "metadata": {
        "id": "9D1FWoZjeqzk"
      }
    },
    {
      "cell_type": "code",
      "source": [
        "matriz_temp = ds_filtrado.drop(columns=['place_l6'])\n",
        "matriz_correlacion = matriz_temp.corr()"
      ],
      "metadata": {
        "id": "BV9N7TKCebA9"
      },
      "execution_count": 57,
      "outputs": []
    },
    {
      "cell_type": "code",
      "source": [
        "plt.figure(figsize = (15,8))\n",
        "sns.heatmap(matriz_correlacion, annot = True, cmap='Blues')"
      ],
      "metadata": {
        "tags": [],
        "cell_id": "f7fde77678a74cf9baa598cef57a01d9",
        "source_hash": "303115a3",
        "execution_start": 1665162504550,
        "execution_millis": 1293,
        "deepnote_to_be_reexecuted": false,
        "deepnote_cell_type": "code",
        "id": "CcYy_hFFbf0z",
        "colab": {
          "base_uri": "https://localhost:8080/",
          "height": 624
        },
        "outputId": "9cf2eef4-1fa1-43de-b921-57d897da27b5"
      },
      "outputs": [
        {
          "output_type": "execute_result",
          "data": {
            "text/plain": [
              "<matplotlib.axes._subplots.AxesSubplot at 0x7f8a036f1250>"
            ]
          },
          "metadata": {},
          "execution_count": 58
        },
        {
          "output_type": "display_data",
          "data": {
            "text/plain": [
              "<Figure size 1080x576 with 2 Axes>"
            ],
            "image/png": "[encoded data removed]"
          },
          "metadata": {
            "needs_background": "light"
          }
        }
      ],
      "execution_count": 58
    },
    {
      "cell_type": "markdown",
      "source": [
        "Como observamos del heatmap, hay ciertas variables con una correlación significativa, por ejemplo:"
      ],
      "metadata": {
        "tags": [],
        "cell_id": "39acad7c459c45f6b89df041acca8289",
        "is_collapsed": false,
        "formattedRanges": [],
        "deepnote_cell_type": "text-cell-p",
        "id": "ZZhKwZR3bf00"
      }
    },
    {
      "cell_type": "markdown",
      "source": [
        "- la cantidad de habitaciones vs la cantidad de ambientes"
      ],
      "metadata": {
        "tags": [],
        "cell_id": "e0ca213dfc314d70aef1eceb5ecc9e06",
        "is_collapsed": false,
        "formattedRanges": [],
        "deepnote_cell_type": "text-cell-bullet",
        "id": "mySNEx0bbf00"
      }
    },
    {
      "cell_type": "markdown",
      "source": [
        "- superficie cubierta vs superficie total"
      ],
      "metadata": {
        "tags": [],
        "cell_id": "b598cc73-bd68-4e77-8041-fc412373d4f5",
        "is_collapsed": false,
        "formattedRanges": [],
        "deepnote_cell_type": "text-cell-bullet",
        "id": "CZKHYRMUbf00"
      }
    },
    {
      "cell_type": "markdown",
      "source": [
        "- precio vs cantidad de ambientes y habitaciones "
      ],
      "metadata": {
        "tags": [],
        "cell_id": "9f29a19d-9f49-4d0d-bb09-951f1a40f2e2",
        "is_collapsed": false,
        "formattedRanges": [],
        "deepnote_cell_type": "text-cell-bullet",
        "id": "ZrLlJScsbf00"
      }
    },
    {
      "cell_type": "markdown",
      "source": [
        "Estas relaciones tienen sentido, dado que uno esperaría que a medida aumenta la cantidad de ambientes (y/o cuartos), la propiedad sea mas cara. También tiene mucho sentido que a mas superficie total, se puede tener mas superficie cubierta."
      ],
      "metadata": {
        "tags": [],
        "cell_id": "e6c57950d1eb4842a03ec9e4f1431672",
        "is_collapsed": false,
        "formattedRanges": [],
        "deepnote_cell_type": "text-cell-p",
        "id": "MijLt1fFbf00"
      }
    },
    {
      "cell_type": "markdown",
      "source": [
        "Lo que nos sorprende es que el precio de la propiedad parece tener una correlación muy débil con la superficie total y cubierta, lo cual nos asombra puesto que uno esperaría que a medida que aumentan los m^2 de la propiedad, aumenta su precio. "
      ],
      "metadata": {
        "tags": [],
        "cell_id": "41ded356-da2c-4519-8be2-a3ae22659522",
        "is_collapsed": false,
        "formattedRanges": [],
        "deepnote_cell_type": "text-cell-p",
        "id": "F2dh62arbf00"
      }
    },
    {
      "cell_type": "markdown",
      "source": [
        "### Analisis de Longitud y Latitud"
      ],
      "metadata": {
        "id": "Fb83Wk96UkeP"
      }
    },
    {
      "cell_type": "code",
      "source": [
        "import json\n",
        "import shapely\n",
        "import requests\n",
        "import random\n",
        "from shapely.geometry import shape, Point\n",
        "from shapely.ops import unary_union\n",
        "from shapely.ops import unary_union\n",
        "\n",
        "\n",
        "\n",
        "url='https://drive.google.com/file/d/1eeT_53CFY63d55oZo50F7mOKPTZMW--V/view?usp=sharing'\n",
        "file_id=url.split('/')[-2]\n",
        "dwn_url='https://drive.google.com/uc?id=' + file_id\n",
        "\n",
        "url=requests.get(dwn_url)\n",
        "data=url.text\n",
        "\n",
        "\n",
        "\n",
        "data=json.loads(data)\n",
        "\n",
        "\n",
        "caba_barrios = data\n",
        "barrios = dict(\n",
        "    (feature[\"properties\"][\"BARRIO\"], shape(feature[\"geometry\"])) \n",
        "    for feature in caba_barrios[\"features\"]\n",
        ")\n",
        "\n",
        "all_barrios = unary_union(barrios.values())\n",
        "\n",
        "\n",
        "\n",
        "def graficar_puntos_en_caba(longitudes, latitudes, tamano_de_punto=4,  proporcion=1):\n",
        "  lat_long = list(zip(longitudes, latitudes))\n",
        "\n",
        "  long_min, lat_min, long_max, lat_max = all_barrios.bounds\n",
        "\n",
        "  viridis = cm.get_cmap('viridis', len(barrios) // 4)\n",
        "  plasma = cm.get_cmap('plasma', len(barrios) // 4)\n",
        "  inferno = cm.get_cmap('inferno', len(barrios) // 4)\n",
        "  cividis = cm.get_cmap('cividis', len(barrios) - (len(barrios) // 4) * 3)\n",
        "  colors = sum((list(x.colors) for x in (viridis, plasma, inferno, cividis)), [])\n",
        "\n",
        "  random.shuffle(colors)\n",
        "\n",
        "\n",
        "  f = plt.figure()\n",
        "  f.set_figwidth(15)\n",
        "  f.set_figheight(15)\n",
        "\n",
        "\n",
        "\n",
        "  for idx, (barrio, shape) in enumerate(barrios.items()):\n",
        "    for polygon in shape.geoms:\n",
        "        plt.plot(*polygon.exterior.xy, color=colors[idx])\n",
        "  \n",
        "  values=lat_long.copy()\n",
        "  random.shuffle(values)\n",
        "\n",
        "  cont_outsiders=0\n",
        "  cantidad = int(latitudes.size*proporcion)\n",
        "  for dot in values[:cantidad]:     \n",
        "    if(all_barrios.contains(Point(dot))):\n",
        "       plt.scatter(x=dot[0], y=dot[1], s=tamano_de_punto, c='black')\n",
        "    else: \n",
        "      cont_outsiders= cont_outsiders+1\n",
        " \n",
        "  plt.show()\n",
        "  print(\"El porcentaje de outsiders dentro de la proporcion pedida de la muestra es:\", cont_outsiders/cantidad*100)"
      ],
      "metadata": {
        "id": "RcSSmBMuUs4_"
      },
      "execution_count": 59,
      "outputs": []
    },
    {
      "cell_type": "code",
      "source": [
        "graficar_puntos_en_caba(ds_filtrado.longitud, ds_filtrado.latitud, proporcion=0.005)"
      ],
      "metadata": {
        "colab": {
          "base_uri": "https://localhost:8080/",
          "height": 863
        },
        "id": "3hhFa5bjn0ck",
        "outputId": "08fb6c1d-f77a-46fc-ea70-91972cc9c5e7"
      },
      "execution_count": 60,
      "outputs": [
        {
          "output_type": "display_data",
          "data": {
            "text/plain": [
              "<Figure size 1080x1080 with 1 Axes>"
            ],
            "image/png": "[encoded data removed]"
          },
          "metadata": {
            "needs_background": "light"
          }
        }
      ]
    },
    {
      "cell_type": "markdown",
      "source": [
        "Como vemos, los puntos se distribuyen de manera coherente con la realidad, donde hay mas densidad de poblacion en sectores populares. Luego analizaremos los puntos faltantes y outsiders por separado, en la secciones correspondientes.   "
      ],
      "metadata": {
        "id": "aYKMZr-7qiYw"
      }
    },
    {
      "cell_type": "markdown",
      "source": [
        "## Datos Faltantes"
      ],
      "metadata": {
        "tags": [],
        "style": "lower-alpha",
        "number": 2,
        "cell_id": "daf047b3b2f142b49cfb6fe733c319f9",
        "is_collapsed": false,
        "formattedRanges": [],
        "deepnote_cell_type": "text-cell-h2",
        "id": "zYVbNATObf00"
      }
    },
    {
      "cell_type": "markdown",
      "source": [
        "### Análisis de datos faltantes a nivel columna"
      ],
      "metadata": {
        "id": "VbCPS6tCeD75"
      }
    },
    {
      "cell_type": "code",
      "source": [
        "filas_totales = ds_filtrado.shape[0]\n",
        "(ds_filtrado.isna().sum()/filas_totales*100).plot( kind = 'bar', \n",
        "             stacked = 'True',          # Muestra las barras apiladas\n",
        "             alpha = 1,                 # nivel de transparencia\n",
        "             width = 0.9,               # Grosor de las barras para dejar espacio entre ellas\n",
        "             figsize=(9,4));            # Cambiamos el tamaño de la figura"
      ],
      "metadata": {
        "tags": [],
        "cell_id": "d2b41abb257e48b1929523ed37f11cc0",
        "source_hash": "7f6e9b30",
        "execution_start": 1665162180410,
        "execution_millis": 366,
        "deepnote_to_be_reexecuted": false,
        "deepnote_cell_type": "code",
        "id": "wHMt_1g8bf00"
      },
      "outputs": [],
      "execution_count": null
    },
    {
      "cell_type": "markdown",
      "source": [
        "Observamos que place l4 está conformado mayormente por valores vacíos, mientras que l5 y l6 están completamente vacíos. Luego tenemos varias columnas con todos sus valores, y algunas otras con un porcentaje de valores faltantes relativamente bajo."
      ],
      "metadata": {
        "tags": [],
        "cell_id": "9094ee975cc3498b950abf71c1411773",
        "is_collapsed": false,
        "formattedRanges": [],
        "deepnote_cell_type": "text-cell-p",
        "id": "QmnS4HBWbf00"
      }
    },
    {
      "cell_type": "markdown",
      "source": [
        "### Análisis de datos faltantes a nivel fila"
      ],
      "metadata": {
        "tags": [],
        "cell_id": "f60f931e-4fb1-476c-87c7-59b3be800385",
        "is_collapsed": false,
        "formattedRanges": [],
        "deepnote_cell_type": "text-cell-h3",
        "id": "os08NI3Mbf00"
      }
    },
    {
      "cell_type": "code",
      "source": [
        "temp = ds_filtrado.isna().sum(axis=1)\n",
        "temp = temp.value_counts().to_frame(\"procentaje_sobre_cantidad_de_registros\")\n",
        "temp['valores_faltantes'] = temp.index\n",
        "temp = temp.reset_index()\n",
        "temp.procentaje_sobre_cantidad_de_registros = temp.procentaje_sobre_cantidad_de_registros/filas_totales*100\n",
        "sns.barplot(data=temp, x=\"valores_faltantes\", y=\"procentaje_sobre_cantidad_de_registros\")\n",
        "plt.ylabel = \"hola\"\n",
        "plt.show()\n"
      ],
      "metadata": {
        "tags": [],
        "cell_id": "cf82b517fc3c4acb859abf43c3764a4c",
        "source_hash": "5b3abfd8",
        "execution_start": 1665162185152,
        "execution_millis": 990,
        "deepnote_to_be_reexecuted": false,
        "deepnote_cell_type": "code",
        "id": "IjbYGbInbf00"
      },
      "outputs": [],
      "execution_count": null
    },
    {
      "cell_type": "markdown",
      "source": [
        "Podemos observar que contamos con una amplia cantidad de filas con 3 datos faltantes. Se observan pocas filas con mas de 6 datos faltantes, por lo que podemos asumir por ahora que la gran mayoría de nuestro data set nos brinda al menos mas del 50% de información en cada registro. "
      ],
      "metadata": {
        "tags": [],
        "cell_id": "dac7c017d927441494f60c28243935c9",
        "is_collapsed": false,
        "formattedRanges": [],
        "deepnote_cell_type": "text-cell-p",
        "id": "mM4p4aaDbf01"
      }
    },
    {
      "cell_type": "markdown",
      "source": [
        "### Reparaciones de Datos Faltantes\n"
      ],
      "metadata": {
        "id": "_iszdGGXfrsV"
      }
    },
    {
      "cell_type": "code",
      "source": [
        "(ds_filtrado.isna().sum()/filas_totales*100)"
      ],
      "metadata": {
        "id": "l7ilptypgUy9"
      },
      "execution_count": null,
      "outputs": []
    },
    {
      "cell_type": "markdown",
      "source": [
        "Se observa que las columnas en las que se encuentran datos faltantes son en latitud, longitud, place_l3, place_l4, place_l5, place_l6, property_rooms, property_bedrooms, property_surface_total, y  property_surface_covered.\n",
        "En esta seccion analizaremos como manejar estos casos especiales. Comenzaremos por la clasificacion de datos faltantes. "
      ],
      "metadata": {
        "id": "m2xP-cqXfxlF"
      }
    },
    {
      "cell_type": "markdown",
      "source": [
        "* Missing completly at random:\n",
        "\n",
        "No existe relacion entre la falta de datos y la variable donde se encuentra el dato faltante.\n",
        "\n",
        "* Missing not at random:\n",
        "\n",
        "La falta esta asociada a la naturaleza de la variable. Depende precisamente de los mismos datos que recolectamos. \n",
        "\n",
        "\n",
        "* Missing at random: \n",
        "\n",
        "La falta no depende de los mismos datos faltantes, sino de otras variables. \n"
      ],
      "metadata": {
        "id": "st4rLsjkhz1N"
      }
    },
    {
      "cell_type": "markdown",
      "source": [
        "####place_l5 y place_l6"
      ],
      "metadata": {
        "id": "FhFFgumGuB2i"
      }
    },
    {
      "cell_type": "markdown",
      "source": [
        "Se observa que place_l5 y place_l6 son datos faltantes de tipo MCAR ya que la razon de falta de datos es ajena a los datos mismos. Faltan datos en todos los registros, por lo que no se puede hacer ninguna relacion entre estos datos y otras columnas."
      ],
      "metadata": {
        "id": "BFbPEcuDuINx"
      }
    },
    {
      "cell_type": "markdown",
      "source": [
        "####place_l4"
      ],
      "metadata": {
        "id": "5W_1_MXot7BN"
      }
    },
    {
      "cell_type": "code",
      "source": [
        "print(\"l4:\\n\", ds.place_l4.value_counts())\n",
        "print(\"\\nValores posibles de l4:\\n\", ds.place_l4.unique())"
      ],
      "metadata": {
        "id": "e_co08SzitK9"
      },
      "execution_count": null,
      "outputs": []
    },
    {
      "cell_type": "markdown",
      "source": [
        "Se visualiza que place_l4 solo presenta datos sobre secciones dentro del barrio de Palermo. Si se enlistan los valores posibles en esta variable se aprecia el hecho de que los unicos valores son nan o secciones de Palermo. Por lo que se llega a la conclusion de que los datos faltantes podrian estar relacionados a que dichas celdas no presenten lugares de Palermo. En este caso, se abre la posibilidad de contar con que la variable place_l4 puede contar con datos del tipo MNAR (Missing not at random).  "
      ],
      "metadata": {
        "id": "BU2lNUn3jUMV"
      }
    },
    {
      "cell_type": "code",
      "source": [
        "temp = ds_filtrado[ds_filtrado.place_l4.isna()]\n",
        "\n",
        "plotdata = pd.DataFrame({\n",
        "    \"place l3 con l4\":ds_filtrado.place_l3.value_counts(),\n",
        "    \"place l3 sin l4\":temp.place_l3.value_counts(),\n",
        "    }, \n",
        ")\n",
        "plotdata.plot(kind=\"bar\", figsize=(18,8))\n",
        "plt.title(\"place_l3 con falta de place_l4 vs sin la falta de place_l4 \")\n",
        "plt.xlabel(\"Place_l3\")\n"
      ],
      "metadata": {
        "id": "6wtDhrSCm_3W"
      },
      "execution_count": null,
      "outputs": []
    },
    {
      "cell_type": "markdown",
      "source": [
        "Se observa gráficamente que para que se observe un valor no nan en place_l4, place_l3 tiene que ser Palermo. Dado que vemos que aunque place_l3 sea palermo hay un gran procentaje donde falta place_l4, el hecho de que place_l3 sea Palermo es una condición necesaria pero no suficiente para observar place_l4 no nan.\n"
      ],
      "metadata": {
        "id": "H-BuCg6ksHGj"
      }
    },
    {
      "cell_type": "markdown",
      "source": [
        "####property_bedrooms\n"
      ],
      "metadata": {
        "id": "lvVQtizjv0bT"
      }
    },
    {
      "cell_type": "code",
      "source": [
        "cond_habitaciones_nan = ds_filtrado['property_bedrooms'].isna()\n",
        "cond_ambientes_nan = ds_filtrado['property_rooms'].isna()\n",
        "registros_sin_rooms_ni_bedrooms = ds_filtrado[cond_habitaciones_nan & cond_ambientes_nan]\n",
        "registros_sin_rooms_ni_bedrooms.shape"
      ],
      "metadata": {
        "id": "OxJr7JYvqEnu"
      },
      "execution_count": null,
      "outputs": []
    },
    {
      "cell_type": "markdown",
      "source": [
        "Consideramos que las filas que tienen cantidad de habitaciones y ambientes con valores nan habria que eliminarlas ya que no hay forma de obtener ambos datos con precision de una sin la otra debido a su alta correlacion."
      ],
      "metadata": {
        "id": "-FCH15kdqv2F"
      }
    },
    {
      "cell_type": "code",
      "source": [
        "ds_filtrado.drop(registros_sin_rooms_ni_bedrooms.index, inplace=True)"
      ],
      "metadata": {
        "id": "2DSRfaCbrxD-"
      },
      "execution_count": null,
      "outputs": []
    },
    {
      "cell_type": "code",
      "source": [
        "temp_sin_bedrooms = ds_filtrado[ds_filtrado.property_bedrooms.isna()]\n",
        "\n",
        "plotdata = pd.DataFrame({\n",
        "    \"frecuencia de rooms\":ds_filtrado.property_rooms.value_counts(),\n",
        "    \"frecuencia de rooms sin bedrooms\":temp_sin_bedrooms.property_rooms.value_counts(),\n",
        "    }, \n",
        ")\n",
        "\n",
        "plotdata.plot(kind=\"bar\", figsize=(18,8))\n",
        "plt.title(\"property_bedrooms vs property_rooms sin property_bedrooms \")\n",
        "plt.xlabel(\"property_rooms\")"
      ],
      "metadata": {
        "id": "Zy1bAIofwbbK"
      },
      "execution_count": null,
      "outputs": []
    },
    {
      "cell_type": "markdown",
      "source": [
        "Del grafico se puede analizar que en la vasta mayoria de los casos donde falta el dato sobre la cantidad de habitaciones es mayoritariamente en el caso de que se trate de monoambientes."
      ],
      "metadata": {
        "id": "GmbQGd5Ey2ea"
      }
    },
    {
      "cell_type": "code",
      "source": [
        "temp_sin_bedrooms = ds_filtrado[ds_filtrado.property_bedrooms.isna()]\n",
        "\n",
        "plotdata = pd.DataFrame({\n",
        "    \"sup_total con bedrooms\":ds_filtrado.property_surface_total.value_counts(),\n",
        "    \"sup_total sin bedrooms\":temp_sin_bedrooms.property_surface_total.value_counts(),\n",
        "    }, \n",
        ")\n",
        "plot_ = plotdata.plot(kind=\"bar\", figsize=(18,8))\n",
        "plt.title(\"property_surface_total con falta de property_bedrooms vs sin la falta de property_bedrooms \")\n",
        "plt.xlabel(\"property_surface_total\")\n",
        "\n",
        "for ind, label in enumerate(plot_.get_xticklabels()):\n",
        "    if ind % 30 == 0:  # every 10th label is kept\n",
        "        label.set_visible(True)\n",
        "    else:\n",
        "        label.set_visible(False)"
      ],
      "metadata": {
        "id": "YV8lBt6Zzh9B"
      },
      "execution_count": null,
      "outputs": []
    },
    {
      "cell_type": "markdown",
      "source": [
        "En este grafico se puede observar que la mayoria de los registros en donde falta property_bedrooms es en las propiedades con superficie mas chica, fortaleciendo asi la hipótesis de que se encuentra una falta de datos en la columna de cantidad de habitaciones al tratarse de monoambientes. \n"
      ],
      "metadata": {
        "id": "iWlrselQ11r7"
      }
    },
    {
      "cell_type": "code",
      "source": [
        "ds_filtrado[(ds_filtrado['property_rooms']==1)].property_bedrooms.value_counts()"
      ],
      "metadata": {
        "id": "bQJeIuKVjRti"
      },
      "execution_count": null,
      "outputs": []
    },
    {
      "cell_type": "markdown",
      "source": [
        "\n",
        "<font color='red'>los valores atípicos serán tratados en su respectiva sección</font> \n"
      ],
      "metadata": {
        "id": "ALt00WgANIp-"
      }
    },
    {
      "cell_type": "markdown",
      "source": [
        "Dado que tener más de 1 habitación en un monoambiente es incoherente, y que la vasta mayoría de los monoambientes que no tienen dato faltante en propert_bedrooms tienen su valor en 1, reemplazamos lo registros monoambientes faltantes con 1 (asumiendo el supuesto de que las propiedades analizadas son hogares). \n",
        "\n",
        "Para los casos donde no son monoambientes, cuando predigamos la cantidad de habitaciones, reemplazaremos los 0's por 1's de igual manera mediante el mismo razonamiento. "
      ],
      "metadata": {
        "id": "knDbCL_YGZlp"
      }
    },
    {
      "cell_type": "code",
      "source": [
        "columnas = ['property_rooms','property_bedrooms']\n",
        "ds_property_bedrooms_sin_nan = ds_filtrado[columnas].copy()\n",
        "cond_monoambiente = ds_property_bedrooms_sin_nan['property_rooms']==1\n",
        "cond_bedroom_nan = ds_property_bedrooms_sin_nan['property_bedrooms'].isna()\n",
        "ds_property_bedrooms_sin_nan.loc[cond_monoambiente & cond_bedroom_nan, 'property_bedrooms'] = 1 # reemplazamos monoambientes con bedrooms nan por 1\n"
      ],
      "metadata": {
        "id": "m98UIl66HkDF"
      },
      "execution_count": null,
      "outputs": []
    },
    {
      "cell_type": "code",
      "source": [
        "print('El porcentaje de viviendas con mas de un ambiente (property_rooms) que no tienen habiaciones (property_bedrooms) es:', ds_filtrado['property_bedrooms'].isna().sum()/filas_totales*100)"
      ],
      "metadata": {
        "id": "18YYSAoZe4Dm"
      },
      "execution_count": null,
      "outputs": []
    },
    {
      "cell_type": "markdown",
      "source": [
        "Por lo tanto, la mayoría de los casos en los cuales faltan habitaciones (property_bedrooms) es en monoambientes. Con lo cual, podemos asumir que los datos faltantes de esta variable son de tipo MAR. \n",
        "\n",
        "Para los casos donde se tiene mas de un ambiente, podemos aplicar el imputador iterativo. "
      ],
      "metadata": {
        "id": "Av0oS5Rp_Ry1"
      }
    },
    {
      "cell_type": "code",
      "source": [
        "from sklearn.experimental import enable_iterative_imputer\n",
        "from sklearn.impute import IterativeImputer\n",
        "from sklearn.linear_model import LinearRegression\n",
        "\n",
        "columnas=['property_surface_total','property_surface_covered','property_bedrooms','property_rooms']\n",
        "df_eliminar_nans_en_bedrooms_y_rooms = ds_filtrado[columnas].copy()\n",
        "\n",
        "lr = LinearRegression()\n",
        "imp = IterativeImputer(estimator=lr,missing_values=np.nan, max_iter=20, verbose=0, random_state=2) #imputation_order='roman'\n",
        "array_sin_nans_en_bedrooms_y_rooms = imp.fit_transform(df_eliminar_nans_en_bedrooms_y_rooms)"
      ],
      "metadata": {
        "id": "Q-Ojs7CcUNL2"
      },
      "execution_count": null,
      "outputs": []
    },
    {
      "cell_type": "code",
      "source": [
        "ds_sin_nans_en_bedrooms_y_rooms = pd.DataFrame(array_sin_nans_en_bedrooms_y_rooms, columns = columnas) #imp.fit_transfor devuelve un arrar sin nans en las columnas\n",
        "ds_sin_nans_en_bedrooms_y_rooms = ds_sin_nans_en_bedrooms_y_rooms.round(0)"
      ],
      "metadata": {
        "id": "bXZmiNwACqy4"
      },
      "execution_count": null,
      "outputs": []
    },
    {
      "cell_type": "code",
      "source": [
        "plotdata = pd.DataFrame({\n",
        "    \"frecuencia de bedrooms con manejo de valores faltantes en general\":ds_sin_nans_en_bedrooms_y_rooms.property_bedrooms.value_counts(),\n",
        "    \"frecuencia de bedrooms con manejo de valores faltantes en monoambiente \":ds_property_bedrooms_sin_nan.property_bedrooms.value_counts(),\n",
        "    \"frecuencia de bedrooms antes de manejo de valores faltantes\":ds_filtrado.property_bedrooms.value_counts(),\n",
        "    }, \n",
        ")\n",
        "\n",
        "plotdata.plot(kind=\"bar\", figsize=(18,8))\n",
        "plt.title(\"frecuencias de bedrooms pre reemplazo vs post reemplazo de nans\")\n",
        "plt.xlabel(\"property_bedrooms\")"
      ],
      "metadata": {
        "id": "csy-s-AJC32T"
      },
      "execution_count": null,
      "outputs": []
    },
    {
      "cell_type": "code",
      "source": [
        "print(\"Porcentaje de valores nan en property_bedrooms antes de manejar los valores faltantes:\", ds_filtrado['property_bedrooms'].isna().sum()/filas_totales*100)\n",
        "\n",
        "ds_filtrado['property_bedrooms'] = ds_property_bedrooms_sin_nan['property_bedrooms']\n",
        "ds_filtrado.loc[:,\"property_bedrooms\"].replace(to_replace=[ds_filtrado['property_bedrooms']],value=[ds_sin_nans_en_bedrooms_y_rooms['property_bedrooms']],inplace=True)\n",
        "\n",
        "print(\"Porcentaje de valores nan en property_bedrooms despues de manejar los valores faltantes:\", ds_filtrado['property_bedrooms'].isna().sum()/filas_totales*100)"
      ],
      "metadata": {
        "id": "8jQp_6MJZ23v"
      },
      "execution_count": null,
      "outputs": []
    },
    {
      "cell_type": "markdown",
      "source": [
        "#### Latitud y Longitud"
      ],
      "metadata": {
        "id": "GDvxE8WWR0CF"
      }
    },
    {
      "cell_type": "markdown",
      "source": [
        "Analizaremos estos dos datos juntos dado que tienen una relación lógica y tienen además el mismo procentaje de nans"
      ],
      "metadata": {
        "id": "oKdsVKcDUafz"
      }
    },
    {
      "cell_type": "markdown",
      "source": [
        "Primero analizamos si los registros que tienen nan en latitud son los mismos que tienen nan en longitud (y viceversa)"
      ],
      "metadata": {
        "id": "lKfClTs2ULMh"
      }
    },
    {
      "cell_type": "code",
      "source": [
        "cond_longitud_nan = ds_filtrado['longitud'].isna()\n",
        "cond_latitud_nan = ds_filtrado['latitud'].isna()\n",
        "print(ds_filtrado[cond_longitud_nan].shape)\n",
        "print(ds_filtrado[cond_latitud_nan].shape)\n",
        "print(ds_filtrado[cond_longitud_nan & cond_latitud_nan].shape)"
      ],
      "metadata": {
        "id": "HKCph2hWUiPk"
      },
      "execution_count": null,
      "outputs": []
    },
    {
      "cell_type": "markdown",
      "source": [
        "Observamos que los registros que tienen alguno de los dos datos faltantes, también tiene su par faltante. Con lo cual, tiene analizarlos juntos. Ahora analizaremos si los registros con estos datos faltantes corresponden a un barrio en específico, o si tienen alguna relación con la columna de barrio en general."
      ],
      "metadata": {
        "id": "3KEQS7YBVprb"
      }
    },
    {
      "cell_type": "code",
      "source": [
        "registros_sin_coord = ds_filtrado[cond_longitud_nan & cond_latitud_nan]\n",
        "registros_sin_coord.place_l3.value_counts()"
      ],
      "metadata": {
        "id": "6zFVPlSnWAnf"
      },
      "execution_count": null,
      "outputs": []
    },
    {
      "cell_type": "markdown",
      "source": [
        "Buscamos ahora cuantos registros no tienen ningún valor respecto a la ubicación:"
      ],
      "metadata": {
        "id": "F2tVMhDUZGx-"
      }
    },
    {
      "cell_type": "code",
      "source": [
        "cond_barrio_nan = ds_filtrado['place_l3'].isna()\n",
        "cond_sector_barrial_nan = ds_filtrado['place_l4'].isna()\n",
        "registros_sin_ubi = ds_filtrado[cond_longitud_nan & cond_latitud_nan & cond_barrio_nan & cond_sector_barrial_nan]\n",
        "registros_sin_ubi.shape"
      ],
      "metadata": {
        "id": "GZQ8hAqCYNti"
      },
      "execution_count": null,
      "outputs": []
    },
    {
      "cell_type": "markdown",
      "source": [
        "Tendría sentido remover estos registros dado que no hay variables con uan relación suficientemente fuerte para poder predecir la ubicación a partir de los otros datos. "
      ],
      "metadata": {
        "id": "1ngDJR6jZk8U"
      }
    },
    {
      "cell_type": "code",
      "source": [
        "ds_filtrado.drop(registros_sin_ubi.index, inplace=True)"
      ],
      "metadata": {
        "id": "Yi_a8jS9Z5FT"
      },
      "execution_count": null,
      "outputs": []
    },
    {
      "cell_type": "markdown",
      "source": [
        "Debido a que latitud y longitud son variables utilizadas para representar una ubicacion en especifico, pensamos en utilizar place_l3 y place_l4 para predecir los valores faltantes siendo que estas tambien representan ubicaciones. Al ser ambas variables categoricas no es posible utilizarlas en <font color='red'>metodos que utilicen regresion lineal. </font> \n",
        "Por este motivo, decidimos solo utilizar para predecir el valor de las mismas a property_surface_total y property_price dado que el m^2 en una determinada ubicacion varia con respecto a el de otras. \n"
      ],
      "metadata": {
        "id": "IcENqw6GlxXC"
      }
    },
    {
      "cell_type": "markdown",
      "source": [
        "A continuacion vamos a hacer el proceso de imputacion de los datos faltantes de latitud y longitud, pero no lo haremos con las dos variables al simultaneo ya que al hacerlo por separado podemos obtener mejores resultados."
      ],
      "metadata": {
        "id": "ufjfgHWhc7V0"
      }
    },
    {
      "cell_type": "code",
      "source": [
        "ds_a_imputar= ds_filtrado.copy()"
      ],
      "metadata": {
        "id": "DCRlbcuYNSCR"
      },
      "execution_count": null,
      "outputs": []
    },
    {
      "cell_type": "code",
      "source": [
        "columnas=['latitud', 'property_price', 'property_surface_total']\n",
        "df_eliminar_nans_en_latitud = ds_a_imputar[columnas].copy()\n",
        "\n",
        "imp = IterativeImputer(missing_values=np.nan, max_iter=20, verbose=0, random_state=2) #imputation_order='roman'\n",
        "array_sin_nans_en_latitud = imp.fit_transform(df_eliminar_nans_en_latitud)"
      ],
      "metadata": {
        "id": "hgR22oCPhiyv"
      },
      "execution_count": null,
      "outputs": []
    },
    {
      "cell_type": "code",
      "source": [
        "ds_sin_nans_en_latitud = pd.DataFrame(array_sin_nans_en_latitud, columns = columnas) #imp.fit_transfor devuelve un arrar sin nans en las columnas\n",
        "ds_a_imputar.loc[:,\"latitud\"].replace(to_replace=[ds_a_imputar['latitud']],value=[ds_sin_nans_en_latitud['latitud']],inplace=True)"
      ],
      "metadata": {
        "id": "gw5F7hUJcKNq"
      },
      "execution_count": null,
      "outputs": []
    },
    {
      "cell_type": "code",
      "source": [
        "columnas=['latitud','longitud', 'property_price', 'property_surface_total']\n",
        "df_eliminar_nans_en_latitud_y_longitud = ds_a_imputar[columnas].copy()\n",
        "\n",
        "array_sin_nans_en_latitud_y_longitud = imp.fit_transform(df_eliminar_nans_en_latitud_y_longitud)"
      ],
      "metadata": {
        "id": "3FowogofcGlj"
      },
      "execution_count": null,
      "outputs": []
    },
    {
      "cell_type": "code",
      "source": [
        "ds_sin_nans_en_latitud_y_longitud = pd.DataFrame(array_sin_nans_en_latitud_y_longitud, columns = columnas) #imp.fit_transfor devuelve un arrar sin nans en las columnas\n",
        "ds_a_imputar.loc[:,\"longitud\"].replace(to_replace=[ds_a_imputar['longitud']],value=[ds_sin_nans_en_latitud_y_longitud['longitud']],inplace=True)"
      ],
      "metadata": {
        "id": "-ttK5fS2cJVr"
      },
      "execution_count": null,
      "outputs": []
    },
    {
      "cell_type": "code",
      "source": [
        "#accedemos a los indices de las filas que tienen nans\n",
        "filas=ds_a_imputar[ds_filtrado['longitud'].isna()].index\n",
        "\n",
        "graficar_puntos_en_caba(ds_sin_nans_en_latitud_y_longitud.longitud, ds_sin_nans_en_latitud_y_longitud.latitud, proporcion=0.005)"
      ],
      "metadata": {
        "id": "OvZi3GFhwOeS"
      },
      "execution_count": null,
      "outputs": []
    },
    {
      "cell_type": "code",
      "source": [
        "#ACA HAY QUE VER SI LAS COORDENADAS QUE PREDIJO EL ALGORITMO PERTENECEN AL PLACE L3 DE LA FILA CORRESPONDIENTE"
      ],
      "metadata": {
        "id": "xPqpK4Qlevn7"
      },
      "execution_count": null,
      "outputs": []
    },
    {
      "cell_type": "markdown",
      "source": [
        "LUEGO COMPLETAR EL DS_FILTRADO"
      ],
      "metadata": {
        "id": "7oYCbUpbib3d"
      }
    },
    {
      "cell_type": "markdown",
      "source": [
        "####place_l3"
      ],
      "metadata": {
        "id": "O6-vIf_rwB2-"
      }
    },
    {
      "cell_type": "code",
      "source": [
        "print(\"cantidad de registros place_l3 nulos:\", ds_filtrado.place_l3.isna().sum())"
      ],
      "metadata": {
        "id": "eeZPED6vwIHX"
      },
      "execution_count": null,
      "outputs": []
    },
    {
      "cell_type": "code",
      "source": [
        "cond_barrio_nan = ds_filtrado['place_l3'].isna()\n",
        "# cond_sector_barrial_nan = ds_filtrado['place_l4'].isna()\n",
        "registros_sin_ubi = ds_filtrado[cond_barrio_nan]\n",
        "registros_sin_ubi.shape"
      ],
      "metadata": {
        "id": "LOeIekmhxnGX"
      },
      "execution_count": null,
      "outputs": []
    },
    {
      "cell_type": "code",
      "source": [
        "graficar_puntos_en_caba(registros_sin_ubi.longitud, registros_sin_ubi.latitud, proporcion=1)"
      ],
      "metadata": {
        "id": "U42Qi3IXklxt"
      },
      "execution_count": null,
      "outputs": []
    },
    {
      "cell_type": "markdown",
      "source": [
        "Observando las latitudes y longitudes de los registros de los cuales place_l3 sus valores son nan, notamos que sus respectivas coordenadas se encuentran fuera de los limites de Capital Federal. Acontinuacion analizaremos como manejar estas incongruencias."
      ],
      "metadata": {
        "id": "7KKiwSzWn55V"
      }
    },
    {
      "cell_type": "markdown",
      "source": [
        "<font color='red'>CREEMOS QUE EL 80% QUE NO ESTA EN CABA HAY QUE ELIINARLO PERO TENEMOS QUE JUSTIFICAR BIEN. EL 20% QUE ESTA EN CABA HAY QUE, EN BASE A LA LAT Y LONG DETERMINAR EL PLACE_L3 MEDIANTE EL GRAFIQUITO. LUCIANO DIBUJE MAESTRO.</font> "
      ],
      "metadata": {
        "id": "TGzmRUIuoyHG"
      }
    },
    {
      "cell_type": "markdown",
      "source": [
        "####property_rooms"
      ],
      "metadata": {
        "id": "xnExC-Kyu8MB"
      }
    },
    {
      "cell_type": "code",
      "source": [
        "print(\"Cantidad de valores faltantes de property_rooms:\",ds_filtrado['property_rooms'].isna().sum())"
      ],
      "metadata": {
        "id": "qvkqL29tpltl"
      },
      "execution_count": null,
      "outputs": []
    },
    {
      "cell_type": "markdown",
      "source": [
        "Como property_rooms esta fuertemente correlacionado con property_bedrooms utilizamos los mismos datos obtenidos en el manejo de valores faltantes de property_bedrooms para imputar los datos faltantes de porperty_rooms. Para ello utilizamos el dataset generado anteriormente en la seccion property_bedrooms."
      ],
      "metadata": {
        "id": "ZaqUFAZ6xAkw"
      }
    },
    {
      "cell_type": "code",
      "source": [
        "plotdata = pd.DataFrame({\n",
        "    \"frecuencia de rooms con manejo de valores faltantes en general\":ds_sin_nans_en_bedrooms_y_rooms.property_rooms.value_counts(),\n",
        "    \"frecuencia de rooms antes de manejo de valores faltantes\":ds_filtrado.property_rooms.value_counts(),\n",
        "    }, \n",
        ")\n",
        "\n",
        "plotdata.plot(kind=\"bar\", figsize=(18,8))\n",
        "plt.title(\"frecuencias de rooms pre reemplazo vs post reemplazo de nans\")\n",
        "plt.xlabel(\"property_rooms\")"
      ],
      "metadata": {
        "id": "dec_hDTCtLYe"
      },
      "execution_count": null,
      "outputs": []
    },
    {
      "cell_type": "code",
      "source": [
        "print(\"Porcentaje de valores nan en property_bedrooms antes de manejar los valores faltantes:\", ds_filtrado['property_bedrooms'].isna().sum()/filas_totales*100)\n",
        "\n",
        "ds_filtrado.loc[:,\"property_rooms\"].replace(to_replace=[ds_filtrado['property_rooms']],value=[ds_sin_nans_en_bedrooms_y_rooms['property_rooms']],inplace=True)\n",
        "\n",
        "print(\"Porcentaje de valores nan en property_rooms despues de manejar los valores faltantes:\", ds_filtrado['property_rooms'].isna().sum()/filas_totales*100)"
      ],
      "metadata": {
        "id": "azMki8tutSQ-"
      },
      "execution_count": null,
      "outputs": []
    },
    {
      "cell_type": "markdown",
      "source": [
        "####property_surface_total"
      ],
      "metadata": {
        "id": "pZspyZefvBTh"
      }
    },
    {
      "cell_type": "markdown",
      "source": [
        "Dado que property_surface_total y property_surfae_covered tienen una alta correlacion, analizamos los casos en los cuales ambas variables tiene valores nan."
      ],
      "metadata": {
        "id": "dQOORlYe1QPH"
      }
    },
    {
      "cell_type": "code",
      "source": [
        "cond_superficie_total_nan = ds_filtrado['property_surface_total'].isna()\n",
        "cond_superfice_cubierta_nan = ds_filtrado['property_surface_covered'].isna()\n",
        "registros_sin_superficie_cubierta_ni_total = ds_filtrado[cond_superficie_total_nan & cond_superfice_cubierta_nan]\n",
        "registros_sin_superficie_cubierta_ni_total.shape"
      ],
      "metadata": {
        "id": "bhpwSxUTz3pv"
      },
      "execution_count": null,
      "outputs": []
    },
    {
      "cell_type": "markdown",
      "source": [
        "Como ningun registro tiene ambas variables con valor en nan, no eliminamos ningun registro. "
      ],
      "metadata": {
        "id": "5JqHCe8DqEHO"
      }
    },
    {
      "cell_type": "code",
      "source": [
        "from sklearn.experimental import enable_iterative_imputer\n",
        "from sklearn.impute import IterativeImputer\n",
        "from sklearn.linear_model import LinearRegression\n",
        "\n",
        "columnas=['property_surface_total','property_surface_covered','property_rooms']\n",
        "df_eliminar_nans_en_sup_total_y_cubierta = ds_filtrado[columnas].copy()\n",
        "\n",
        "lr = LinearRegression()\n",
        "imp = IterativeImputer(estimator=lr,missing_values=np.nan, max_iter=20, verbose=0, random_state=2) #imputation_order='roman'\n",
        "array_sin_nans_en_sup_total_y_cubierta = imp.fit_transform(df_eliminar_nans_en_sup_total_y_cubierta)"
      ],
      "metadata": {
        "id": "uqspq6Tt1p0S"
      },
      "execution_count": null,
      "outputs": []
    },
    {
      "cell_type": "code",
      "source": [
        "ds_sin_nans_en_sup_total_y_cubierta = pd.DataFrame(array_sin_nans_en_sup_total_y_cubierta, columns = columnas) #imp.fit_transfor devuelve un arrar sin nans en las columnas"
      ],
      "metadata": {
        "id": "N-PCWYRd1so4"
      },
      "execution_count": null,
      "outputs": []
    },
    {
      "cell_type": "code",
      "source": [
        "ds_sin_nans_acotado = ds_sin_nans_en_sup_total_y_cubierta.query('property_surface_total < 250')\n",
        "ds_filtrado_acotado = ds_filtrado.query('property_surface_total < 250')\n",
        "\n",
        "#plotdata = pd.DataFrame({\n",
        "#    \"frecuencia despues de superficie cubierta\":ds_sin_nans_en_sup_total_y_cubierta.property_surface_total.value_counts(),\n",
        "#   \"frecuencia antes de superficie cubierta\":ds_filtrado.property_surface_total.value_counts(),\n",
        "#    }, \n",
        "#)\n",
        "\n",
        "plotdata = pd.DataFrame({\n",
        "    \"frecuencia despues de superficie cubierta\":ds_sin_nans_acotado.property_surface_total,\n",
        "   \"frecuencia antes de superficie cubierta\":ds_filtrado_acotado.property_surface_total,\n",
        "    }, \n",
        ")\n",
        "\n",
        "plt.figure()\n",
        "plotdata.plot.hist(alpha=0.5, bins = 100)"
      ],
      "metadata": {
        "id": "bUlxBMM61x3g"
      },
      "execution_count": null,
      "outputs": []
    },
    {
      "cell_type": "markdown",
      "source": [
        "Decidimos acotar los valores de los registros property_surface_total dado que observamos que con valores mayores a 250 la cantidad de regitros era minima y no se apreciaba completamente el grafico.  "
      ],
      "metadata": {
        "id": "PzP8uc1cwYdZ"
      }
    },
    {
      "cell_type": "code",
      "source": [
        "print(\"Porcentaje de valores nan en property_surface_total antes de manejar los valores faltantes:\", ds_filtrado['property_surface_total'].isna().sum()/filas_totales*100)\n",
        "\n",
        "ds_filtrado.loc[:,\"property_surface_total\"].replace(to_replace=[ds_filtrado['property_surface_total']],value=[ds_sin_nans_en_sup_total_y_cubierta['property_surface_total']],inplace=True)\n",
        "\n",
        "print(\"Porcentaje de valores nan en property_surface_total despues de manejar los valores faltantes:\", ds_filtrado['property_surface_total'].isna().sum()/filas_totales*100)"
      ],
      "metadata": {
        "id": "RWIiuW04139I"
      },
      "execution_count": null,
      "outputs": []
    },
    {
      "cell_type": "markdown",
      "source": [
        "####property_surface_covered"
      ],
      "metadata": {
        "id": "Vv9K9shSvGNs"
      }
    },
    {
      "cell_type": "markdown",
      "source": [
        "Como property_surface_covered esta fuertemente correlacionado con property_surface_total utilizamos los mismos datos obtenidos en el manejo de valores faltantes de property_surface_total para imputar los datos faltantes de porperty_surface_covered. Para ello utilizamos el dataset generado anteriormente en la seccion property_surface_total."
      ],
      "metadata": {
        "id": "UvW-jwRIlgEU"
      }
    },
    {
      "cell_type": "code",
      "source": [
        "ds_sin_nans_acotado = ds_sin_nans_en_sup_total_y_cubierta.query('property_surface_covered < 500')\n",
        "ds_filtrado_acotado = ds_filtrado.query('property_surface_covered < 500')\n",
        "\n",
        "plotdata = pd.DataFrame({\n",
        "    \"frecuencia despues de superficie cubierta\":ds_sin_nans_acotado.property_surface_covered,\n",
        "   \"frecuencia antes de superficie cubierta\":ds_filtrado_acotado.property_surface_covered,\n",
        "    }, \n",
        ")\n",
        "\n",
        "plt.figure()\n",
        "plotdata.plot.hist(alpha=0.5, bins = 100)\n",
        "\n",
        "#Ver grafico, sacamos el value_counts en pd.DataFrame"
      ],
      "metadata": {
        "id": "GQr4NtCNlP9w"
      },
      "execution_count": null,
      "outputs": []
    },
    {
      "cell_type": "code",
      "source": [
        "print(\"Porcentaje de valores nan en property_surface_covered antes de manejar los valores faltantes:\", ds_filtrado['property_surface_covered'].isna().sum()/filas_totales*100)\n",
        "\n",
        "ds_filtrado.loc[:,\"property_surface_covered\"].replace(to_replace=[ds_filtrado['property_surface_covered']],value=[ds_sin_nans_en_sup_total_y_cubierta['property_surface_covered']],inplace=True)\n",
        "\n",
        "print(\"Porcentaje de valores nan en property_surface_covered despues de manejar los valores faltantes:\", ds_filtrado['property_surface_covered'].isna().sum()/filas_totales*100)"
      ],
      "metadata": {
        "id": "ZWeAh3LDmC3_"
      },
      "execution_count": null,
      "outputs": []
    },
    {
      "cell_type": "markdown",
      "source": [
        "##Valores Atípicos"
      ],
      "metadata": {
        "id": "GIp8RlHzziej"
      }
    },
    {
      "cell_type": "markdown",
      "source": [
        "###Detección de valores atípicos"
      ],
      "metadata": {
        "id": "5LYx-6FL0EQ9"
      }
    },
    {
      "cell_type": "markdown",
      "source": [
        "####latitud y longitud"
      ],
      "metadata": {
        "id": "_XWBpCbCzug4"
      }
    },
    {
      "cell_type": "markdown",
      "source": [
        "falta analizar latitud y longitud"
      ],
      "metadata": {
        "id": "7QIYdJkw8uCV"
      }
    },
    {
      "cell_type": "markdown",
      "source": [
        "####property_bedrooms"
      ],
      "metadata": {
        "id": "AB4OZU8bz3cE"
      }
    },
    {
      "cell_type": "markdown",
      "source": [
        "Realizamos un análisis sobre los posibles registros que podrían llegar a generar valores atípicos en  property_bedrooms. \n",
        "\n",
        "Debido a la alta correlación que tienen property_bedrooms y property_rooms, consideramos que property_rooms es el mejor candidato para determinar los valores atípicos de property_bedrooms. "
      ],
      "metadata": {
        "id": "Ibz4_pp80rad"
      }
    },
    {
      "cell_type": "code",
      "source": [
        "# pd.crosstab(ds_filtrado.property_rooms, ds_filtrado.property_bedrooms) #es como una matriz, no me parece tan bueno dejarla"
      ],
      "metadata": {
        "id": "IQaurMOO1hg3"
      },
      "execution_count": null,
      "outputs": []
    },
    {
      "cell_type": "markdown",
      "source": [
        "Viendo la tabla, pudimos visulizar que en caso de que la cantidad de ambientes sea menor a la cantidad de habitaciones, property_bedrooms seria un valor atipico."
      ],
      "metadata": {
        "id": "2mSTCoD-3yK9"
      }
    },
    {
      "cell_type": "markdown",
      "source": [
        "Se puede visualizar que una gran cantidad de registros de property_bedrooms son valores atípicos ya que los valores de los mismos son mayores a los valores de los registros de property_rooms. \n",
        "\n",
        "Además, notamos que hay valores de property_bedrooms negativos, con lo cual esos valores también serían atípicos."
      ],
      "metadata": {
        "id": "EIFeQT4X7s-i"
      }
    },
    {
      "cell_type": "code",
      "source": [
        "cond_mas_bedrooms_que_rooms = ds_filtrado['property_bedrooms'] > ds_filtrado['property_rooms']\n",
        "\n",
        "reg_mas_bed_que_rooms = ds_filtrado[cond_mas_bedrooms_que_rooms]\n",
        "reg_mas_bed_que_rooms.shape"
      ],
      "metadata": {
        "id": "WH0BlfYlsEaI"
      },
      "execution_count": null,
      "outputs": []
    },
    {
      "cell_type": "markdown",
      "source": [
        "Como podemos observar hay 16604 registros de los cuales hay mas habitaciones en la propiedad que cantidad de ambientes, por lo tanto serian valores atipicos por lo que consideramos que hay que eliminarlos"
      ],
      "metadata": {
        "id": "lERH4gJxv-hL"
      }
    },
    {
      "cell_type": "code",
      "source": [
        "# sns.set(rc={\"figure.figsize\":(8, 8)}) #aumenta el tamaño del grafico\n",
        "sns.scatterplot(data = ds_filtrado, x = \"property_rooms\", y = \"property_bedrooms\")\n",
        "sns.scatterplot(data = reg_mas_bed_que_rooms, x = \"property_rooms\", y = \"property_bedrooms\")#grafico de valores atipicos"
      ],
      "metadata": {
        "id": "yB-wHvpq4gH0"
      },
      "execution_count": null,
      "outputs": []
    },
    {
      "cell_type": "code",
      "source": [
        "# ds_aux = ds_filtrado.drop(reg_mas_bed_que_rooms.index, inplace=False)# elimino las filas con mas bedrooms que rooms"
      ],
      "metadata": {
        "id": "dkJxPbO8woq7"
      },
      "execution_count": null,
      "outputs": []
    },
    {
      "cell_type": "code",
      "source": [
        "cond_bedrooms_menores_a_uno = ds_filtrado['property_bedrooms'] < 1\n",
        "reg_con_bedrooms_menores_a_uno = ds_filtrado[cond_bedrooms_menores_a_uno]\n",
        "reg_con_bedrooms_menores_a_uno.shape"
      ],
      "metadata": {
        "id": "IJim6vkM0g2T"
      },
      "execution_count": null,
      "outputs": []
    },
    {
      "cell_type": "markdown",
      "source": [
        "Observamos que solo un registro contiene una cantidad de bedrooms menor o igual a cero, por ese motivo consideramos que debe ser eliminado"
      ],
      "metadata": {
        "id": "COT_JMsB1ILG"
      }
    },
    {
      "cell_type": "code",
      "source": [
        "ds_filtrado.drop(reg_mas_bed_que_rooms.index, inplace=True)# elimino las filas con mas bedrooms menores a 1"
      ],
      "metadata": {
        "id": "mgdHTS6W1Xxx"
      },
      "execution_count": null,
      "outputs": []
    },
    {
      "cell_type": "markdown",
      "source": [
        "####property_rooms"
      ],
      "metadata": {
        "id": "wlzNNDFFBVkN"
      }
    },
    {
      "cell_type": "markdown",
      "source": [
        "Por otro lado, tenemos los registros de property_rooms en donde sus valores son atípicos. Siguiendo la idea del gráfico anterior, consideramos que tener mas de 10 ambientes en un ph, departamento o casa es atípico (no es algo que suceda generalmente y es muy poco probable de que pase). \n",
        "\n",
        "Por otro lado, tener una gran cantidad de ambientes y muy poca cantidad de habitaciones (o ninguna) también sería  un valor atípico. "
      ],
      "metadata": {
        "id": "AjXlVwqCBquE"
      }
    },
    {
      "cell_type": "code",
      "source": [
        "cond_rooms_menores_a_uno = ds_filtrado['property_rooms'] < 1\n",
        "reg_con_rooms_menores_a_uno = ds_filtrado[cond_rooms_menores_a_uno]\n",
        "reg_con_rooms_menores_a_uno.shape"
      ],
      "metadata": {
        "id": "o835Vqzr3Fmo"
      },
      "execution_count": null,
      "outputs": []
    },
    {
      "cell_type": "markdown",
      "source": [
        "No hay rooms con valores negativos."
      ],
      "metadata": {
        "id": "rLzZVfqb3WNq"
      }
    },
    {
      "cell_type": "markdown",
      "source": [
        "<font color='red'>QUE CONSIDERAMOS COMO MUCHOS AMBIENTES Y CUAL SERIA LA PROPORCION AMBIENTES-->HABITACIONES ???????????</font>"
      ],
      "metadata": {
        "id": "d_Qf79bf5lzg"
      }
    },
    {
      "cell_type": "code",
      "source": [
        "cond_rooms_mayores_a_diez = ds_filtrado['property_rooms'] > 8\n",
        "cond_bedrooms_menores_a_tres = ds_filtrado['property_bedrooms'] < 3\n",
        "reg_con_rooms = ds_filtrado[cond_rooms_mayores_a_diez & cond_bedrooms_menores_a_tres]\n",
        "reg_con_rooms.shape"
      ],
      "metadata": {
        "id": "SJmYDyHg4btZ"
      },
      "execution_count": null,
      "outputs": []
    },
    {
      "cell_type": "code",
      "source": [
        "sns.scatterplot(data=ds_filtrado, x=\"property_rooms\", y=\"property_bedrooms\")\n",
        "sns.scatterplot(data=reg_con_rooms, x=\"property_rooms\", y=\"property_bedrooms\")"
      ],
      "metadata": {
        "id": "QEDW3AuP9YU-"
      },
      "execution_count": null,
      "outputs": []
    }
  ],
  "nbformat": 4,
  "nbformat_minor": 0,
  "metadata": {
    "colab": {
      "provenance": [],
      "collapsed_sections": [],
      "include_colab_link": true
    },
    "deepnote": {},
    "kernelspec": {
      "name": "python3",
      "display_name": "Python 3"
    },
    "language_info": {
      "name": "python"
    },
    "deepnote_notebook_id": "f7a11de308fc4c0d9dbcdaed47dc8b20",
    "deepnote_execution_queue": []
  }
}