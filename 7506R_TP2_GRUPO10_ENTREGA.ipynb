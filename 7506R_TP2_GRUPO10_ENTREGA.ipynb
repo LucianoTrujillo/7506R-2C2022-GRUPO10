{
  "cells": [
    {
      "cell_type": "markdown",
      "metadata": {
        "id": "view-in-github",
        "colab_type": "text"
      },
      "source": [
        "<a href=\"https://colab.research.google.com/github/LucianoTrujillo/7506R-2C2022-GRUPO10/blob/main/7506R_TP2_GRUPO10_ENTREGA.ipynb\" target=\"_parent\"><img src=\"https://colab.research.google.com/assets/colab-badge.svg\" alt=\"Open In Colab\"/></a>"
      ]
    },
    {
      "cell_type": "markdown",
      "metadata": {
        "id": "MmbC-hjg-VgY"
      },
      "source": [
        "\n",
        "#**TP2: Propiedades en Venta**\n",
        "\n",
        "\n",
        "\n",
        "---\n",
        "\n",
        "\n",
        "---\n",
        "\n",
        "\n",
        "## *Facultad de Ingeniería, Universidad de Buenos Aires*\n",
        "\n",
        "---\n",
        "### *2do Cuatrimestre de 2022*\n",
        "\n",
        "---\n",
        "### *Organización de Datos*\n",
        "\n",
        "### *Curso: Rodriguez*\n",
        "\n",
        "### *Integrantes:*\n",
        "\n",
        "* Luciano Leon Trujillo Palomo ltrujillo@fi.uba.ar 105664\n",
        "* María Pilar Gaddi mgaddi@fi.uba.ar 105682\n",
        "* Federico Adrian Solari Vazquez fsolariv@fi.uba.ar 106895\n",
        "* Maria Vazquez Navarro mvazquezn@fi.uba.ar 105576\n",
        "* Mateo Bulnes mbulnes@fi.uba.ar 106211\n",
        "---"
      ]
    },
    {
      "cell_type": "markdown",
      "metadata": {
        "id": "Db9ZDFusQOrk"
      },
      "source": [
        "## **Objetivo del trabajo**\n",
        "\n",
        "---\n",
        "---\n",
        "\n",
        "Los conjuntos de datos a utilizar properati_argentina_2021 y properati_argentina_2021_decrip\n",
        "se encuentran disponibles en el siguiente enlace, la descripción de las variables se encuentra\n",
        "disponible aquí . Para este trabajo se plantean los siguientes objetivos generales:\n",
        "- Procesamiento del Lenguaje Natural: el objetivo será analizar las descripciones de los avisos para construir nuevos features y reentrenar algunos modelos del TP1.\n",
        "- Redes Neuronales: se deberán implementar dos modelos de red neuronal uno para\n",
        "clasificación y otro para regresión.\n",
        "- Ensamble de Modelos: el objetivo será construir dos ensambles híbridos uno para clasificación y otro para regresión pudiendo utilizar los modelos del TP1\n",
        "\n",
        "---\n",
        "\n",
        "\n",
        "\n"
      ]
    },
    {
      "cell_type": "markdown",
      "metadata": {
        "id": "5_KX0EDafNjW"
      },
      "source": [
        "## **Setup previo**\n"
      ]
    },
    {
      "cell_type": "markdown",
      "metadata": {
        "id": "k2xOFAXeeCwG"
      },
      "source": [
        "Importamos todas las librerías a utilizar a lo largo del trabajo."
      ]
    },
    {
      "cell_type": "code",
      "execution_count": null,
      "metadata": {
        "id": "ZUd0sPK1eBJf"
      },
      "outputs": [],
      "source": [
        "import pandas as pd\n",
        "import numpy as np\n",
        "import seaborn as sns\n",
        "import matplotlib.pyplot as plt\n",
        "from matplotlib import cm\n",
        "import sklearn as sk\n",
        "from sklearn import datasets\n",
        "import collections\n",
        "from importlib import reload\n",
        "import re\n",
        "\n",
        "import warnings\n",
        "warnings.simplefilter(action='ignore', category=FutureWarning)\n",
        "\n",
        "from sklearn.preprocessing import StandardScaler\n",
        "\n",
        "from sklearn.linear_model import LogisticRegression "
      ]
    },
    {
      "cell_type": "code",
      "execution_count": null,
      "metadata": {
        "id": "3rKvlX0xoxDI"
      },
      "outputs": [],
      "source": [
        "#Clasificadores\n",
        "from sklearn.ensemble import StackingClassifier\n",
        "from sklearn.ensemble import RandomForestClassifier \n",
        "from sklearn.neighbors import KNeighborsClassifier\n",
        "from sklearn.ensemble import  VotingClassifier\n",
        "from sklearn.ensemble import AdaBoostClassifier\n",
        "from sklearn.neural_network import MLPClassifier\n",
        "\n",
        "from sklearn.svm import SVC\n",
        "\n",
        "from sklearn.linear_model import LogisticRegressionCV\n",
        "\n",
        "from sklearn.model_selection import cross_val_score, RepeatedStratifiedKFold\n",
        "from sklearn.datasets import make_classification\n",
        "from sklearn.model_selection import train_test_split\n",
        "from sklearn.metrics import accuracy_score\n",
        "\n",
        "from collections import defaultdict\n",
        "\n",
        "import plotly.graph_objects as go\n",
        "\n",
        "np.random.seed(4)"
      ]
    },
    {
      "cell_type": "code",
      "execution_count": null,
      "metadata": {
        "id": "g19l-4t3oooY"
      },
      "outputs": [],
      "source": [
        "#Modelos\n",
        "from sklearn import tree\n",
        "from sklearn.tree import export_text\n",
        "from sklearn.metrics import confusion_matrix, precision_recall_curve, roc_curve, recall_score, accuracy_score,f1_score\n",
        "from sklearn.tree import export_graphviz\n",
        "warnings.simplefilter(action='ignore', category=FutureWarning)\n",
        "warnings.simplefilter(action='ignore', category=UserWarning)\n",
        "\n",
        "from sklearn.model_selection import StratifiedKFold, KFold,RandomizedSearchCV\n",
        "from sklearn.tree import DecisionTreeClassifier\n",
        "from sklearn.metrics import make_scorer\n",
        "\n",
        "from sklearn.ensemble import AdaBoostRegressor\n",
        "from sklearn.ensemble import GradientBoostingRegressor\n",
        "from xgboost import XGBRegressor\n",
        "from sklearn.metrics import mean_squared_error\n",
        "import hyperopt\n",
        "from hyperopt import tpe, fmin\n",
        "from hyperopt import hp"
      ]
    },
    {
      "cell_type": "markdown",
      "metadata": {
        "id": "Mq6gr4q3eXGj"
      },
      "source": [
        "Importamos el dataset original y lo guardamos para su posterior uso."
      ]
    },
    {
      "cell_type": "code",
      "execution_count": null,
      "metadata": {
        "id": "cjU1vXHUIZ82"
      },
      "outputs": [],
      "source": [
        "dwn_url='https://drive.google.com/uc?id=1QOcQ3hOhzxadj34y_wcvwYNa0-fNrmn3'\n",
        "ds_original = pd.read_csv(dwn_url)"
      ]
    },
    {
      "cell_type": "markdown",
      "metadata": {
        "id": "V0l0mDC9DSJI"
      },
      "source": [
        "Importamos el dataset que contiene las descripciones. Para ello previamente separamos el dataset en dos conjuntos donde uno contiene todas las filas del split train y otro del test."
      ]
    },
    {
      "cell_type": "code",
      "execution_count": null,
      "metadata": {
        "id": "zhp3OkUiB4HA"
      },
      "outputs": [],
      "source": [
        "dwn_url_descrip_train='https://drive.google.com/uc?id=1d41f4YY2KC-rZ0DHR3izgB2jVaxyFs1r'\n",
        "ds_descrip_train = pd.read_csv(dwn_url_descrip_train)\n",
        "\n",
        "dwn_url_descrip_test='https://drive.google.com/uc?id=1L4zk4ektIEgeMMnhWXclzrHsK1o4EyKD'\n",
        "ds_descrip_test = pd.read_csv(dwn_url_descrip_test)"
      ]
    },
    {
      "cell_type": "code",
      "execution_count": null,
      "metadata": {
        "id": "LOlvCQIfDYG7"
      },
      "outputs": [],
      "source": [
        "x_train = pd.read_csv('https://drive.google.com/uc?id=1sOpD9HgOjs6LzVEksLAX8-4AEbP4-wzh')\n",
        "x_test = pd.read_csv('https://drive.google.com/uc?id=1S8sI6QdQalkiUJg8mT_dO00_TO_WvGKQ')\n",
        "\n",
        "y_train = pd.read_csv('https://drive.google.com/uc?id=1r9yX8AecV66Ya2UJi4IbPB2JVo_gwT2S')\n",
        "y_test = pd.read_csv('https://drive.google.com/uc?id=112e7sRozO0YRRjgdOJxEXfiVuhJ0xSvl')"
      ]
    },
    {
      "cell_type": "code",
      "execution_count": null,
      "metadata": {
        "id": "O8S_1cVYpzAh"
      },
      "outputs": [],
      "source": [
        "x_train_target = pd.read_csv('https://drive.google.com/uc?id=1xVlHoR4jXTNdOslM5W0Tvciz-qagN5x0')\n",
        "\n",
        "x_test_target = pd.read_csv('https://drive.google.com/uc?id=1QgQmGjIwzMckA84GlNt26WmVoLbuHbwV')"
      ]
    },
    {
      "cell_type": "markdown",
      "metadata": {
        "id": "HVa6Oo1VQXeO"
      },
      "source": [
        "Eliminamos la primer columna que hace referencia a los indices que tenia cuando se exporto el dataset. \n"
      ]
    },
    {
      "cell_type": "code",
      "execution_count": null,
      "metadata": {
        "id": "iS_XyqwjN0mE"
      },
      "outputs": [],
      "source": [
        "x_train = x_train.iloc[:,1:20]\n",
        "x_test = x_test.iloc[:,1:20]"
      ]
    },
    {
      "cell_type": "code",
      "execution_count": null,
      "metadata": {
        "id": "0uykH6sXqI8i"
      },
      "outputs": [],
      "source": [
        "x_train_target=x_train_target.iloc[:,1:10]\n",
        "x_test_target=x_test_target.iloc[:,1:10]"
      ]
    },
    {
      "cell_type": "code",
      "execution_count": null,
      "metadata": {
        "id": "vGIuKyqkOGRM"
      },
      "outputs": [],
      "source": [
        "ds_descrip_train = ds_descrip_train.iloc[:,1:3]\n",
        "ds_descrip_test = ds_descrip_test.iloc[:,1:3]"
      ]
    },
    {
      "cell_type": "markdown",
      "metadata": {
        "id": "mDubIgkdPT8G"
      },
      "source": [
        "Para faciliar los analisis creamos datasets como los de x_train y test, pero que tengan la columna de descripcion."
      ]
    },
    {
      "cell_type": "code",
      "execution_count": null,
      "metadata": {
        "id": "c75juxyqPR0t"
      },
      "outputs": [],
      "source": [
        "x_train_con_desc=pd.merge(x_train, ds_descrip_train, how='left', on='id')\n",
        "x_test_con_desc=pd.merge(x_test, ds_descrip_test, how='left', on='id')"
      ]
    },
    {
      "cell_type": "markdown",
      "metadata": {
        "id": "R9ivMB7kRcNW"
      },
      "source": [
        "Ahora que mergemos siguiendo el id de cada propiedad, podemos quedarnos solo con las descripciones en nuestro data set de ds_descrip_*."
      ]
    },
    {
      "cell_type": "code",
      "execution_count": null,
      "metadata": {
        "id": "N3FhhNjMRVQo"
      },
      "outputs": [],
      "source": [
        "ds_descrip_train = x_train_con_desc[['property_description']]\n",
        "ds_descrip_test = x_test_con_desc[['property_description']]"
      ]
    },
    {
      "cell_type": "markdown",
      "metadata": {
        "id": "Y2nNUdd2Ou8o"
      },
      "source": [
        "Asignamos los y_train y test obteniendo el property_price de los datasets corresponientes. "
      ]
    },
    {
      "cell_type": "code",
      "execution_count": null,
      "metadata": {
        "id": "Mu2hLlyMOucE"
      },
      "outputs": [],
      "source": [
        "y_train = y_train.property_price\n",
        "y_test = y_test.property_price"
      ]
    },
    {
      "cell_type": "markdown",
      "metadata": {
        "id": "6vcvjw4UYujD"
      },
      "source": [
        "### Creacion de data set con cada palabra"
      ]
    },
    {
      "cell_type": "markdown",
      "metadata": {
        "id": "nxXc_F0BZhN9"
      },
      "source": [
        "Para un analisis posterior decidimos crear un dataset que por cada fila tenga cada palabra de su descripcion, manteniendo los respectivos indices."
      ]
    },
    {
      "cell_type": "markdown",
      "metadata": {
        "id": "LkFMJHh6Q8tT"
      },
      "source": [
        "Primero creamos un nuevo data frame para obtener la frecuencia de las palabras en cada una de las descripciones. Este dataframe se forma de manera tal que cada fila contiene cada palabra de las descripción correspondiente, conservando los valores de los demás features. "
      ]
    },
    {
      "cell_type": "code",
      "execution_count": null,
      "metadata": {
        "colab": {
          "base_uri": "https://localhost:8080/"
        },
        "id": "WUBNRJiDWzUx",
        "outputId": "b729ff82-8b0b-419a-be74-3d5364904fbe"
      },
      "outputs": [
        {
          "data": {
            "text/html": [
              "\n",
              "  <div id=\"df-03a537e0-2d8e-4df1-bafa-aa927e70ebf3\">\n",
              "    <div class=\"colab-df-container\">\n",
              "      <div>\n",
              "<style scoped>\n",
              "    .dataframe tbody tr th:only-of-type {\n",
              "        vertical-align: middle;\n",
              "    }\n",
              "\n",
              "    .dataframe tbody tr th {\n",
              "        vertical-align: top;\n",
              "    }\n",
              "\n",
              "    .dataframe thead th {\n",
              "        text-align: right;\n",
              "    }\n",
              "</style>\n",
              "<table border=\"1\" class=\"dataframe\">\n",
              "  <thead>\n",
              "    <tr style=\"text-align: right;\">\n",
              "      <th></th>\n",
              "      <th>property_description</th>\n",
              "    </tr>\n",
              "  </thead>\n",
              "  <tbody>\n",
              "    <tr>\n",
              "      <th>0</th>\n",
              "      <td>Formando parte del Barrio Catalinas Sur: Carac...</td>\n",
              "    </tr>\n",
              "    <tr>\n",
              "      <th>1</th>\n",
              "      <td>Luminoso 4 ambientes&lt;br&gt;&lt;br&gt;2 dormitorios ampl...</td>\n",
              "    </tr>\n",
              "    <tr>\n",
              "      <th>2</th>\n",
              "      <td>Se trata de un PH de 2 ambientes con patio, po...</td>\n",
              "    </tr>\n",
              "    <tr>\n",
              "      <th>3</th>\n",
              "      <td>Corredor Responsable: Cristian Arnal Ponti - C...</td>\n",
              "    </tr>\n",
              "    <tr>\n",
              "      <th>4</th>\n",
              "      <td>Corredor Responsable: Micaela Perez / Lucas Fe...</td>\n",
              "    </tr>\n",
              "    <tr>\n",
              "      <th>...</th>\n",
              "      <td>...</td>\n",
              "    </tr>\n",
              "    <tr>\n",
              "      <th>63362</th>\n",
              "      <td>Venta DEPARTAMENTO 2 Ambientes Villa Urquiza. ...</td>\n",
              "    </tr>\n",
              "    <tr>\n",
              "      <th>63363</th>\n",
              "      <td>Amplio y luminoso monoambiente a contrafrente ...</td>\n",
              "    </tr>\n",
              "    <tr>\n",
              "      <th>63364</th>\n",
              "      <td>VENTA Monoambiente divisible, con balcón al co...</td>\n",
              "    </tr>\n",
              "    <tr>\n",
              "      <th>63365</th>\n",
              "      <td>Departamento de 3 ambientes MUY LUMINOSO al fr...</td>\n",
              "    </tr>\n",
              "    <tr>\n",
              "      <th>63366</th>\n",
              "      <td>VENTA mono ambiente con patio, al contra frent...</td>\n",
              "    </tr>\n",
              "  </tbody>\n",
              "</table>\n",
              "<p>63367 rows × 1 columns</p>\n",
              "</div>\n",
              "      <button class=\"colab-df-convert\" onclick=\"convertToInteractive('df-03a537e0-2d8e-4df1-bafa-aa927e70ebf3')\"\n",
              "              title=\"Convert this dataframe to an interactive table.\"\n",
              "              style=\"display:none;\">\n",
              "        \n",
              "  <svg xmlns=\"http://www.w3.org/2000/svg\" height=\"24px\"viewBox=\"0 0 24 24\"\n",
              "       width=\"24px\">\n",
              "    <path d=\"M0 0h24v24H0V0z\" fill=\"none\"/>\n",
              "    <path d=\"M18.56 5.44l.94 2.06.94-2.06 2.06-.94-2.06-.94-.94-2.06-.94 2.06-2.06.94zm-11 1L8.5 8.5l.94-2.06 2.06-.94-2.06-.94L8.5 2.5l-.94 2.06-2.06.94zm10 10l.94 2.06.94-2.06 2.06-.94-2.06-.94-.94-2.06-.94 2.06-2.06.94z\"/><path d=\"M17.41 7.96l-1.37-1.37c-.4-.4-.92-.59-1.43-.59-.52 0-1.04.2-1.43.59L10.3 9.45l-7.72 7.72c-.78.78-.78 2.05 0 2.83L4 21.41c.39.39.9.59 1.41.59.51 0 1.02-.2 1.41-.59l7.78-7.78 2.81-2.81c.8-.78.8-2.07 0-2.86zM5.41 20L4 18.59l7.72-7.72 1.47 1.35L5.41 20z\"/>\n",
              "  </svg>\n",
              "      </button>\n",
              "      \n",
              "  <style>\n",
              "    .colab-df-container {\n",
              "      display:flex;\n",
              "      flex-wrap:wrap;\n",
              "      gap: 12px;\n",
              "    }\n",
              "\n",
              "    .colab-df-convert {\n",
              "      background-color: #E8F0FE;\n",
              "      border: none;\n",
              "      border-radius: 50%;\n",
              "      cursor: pointer;\n",
              "      display: none;\n",
              "      fill: #1967D2;\n",
              "      height: 32px;\n",
              "      padding: 0 0 0 0;\n",
              "      width: 32px;\n",
              "    }\n",
              "\n",
              "    .colab-df-convert:hover {\n",
              "      background-color: #E2EBFA;\n",
              "      box-shadow: 0px 1px 2px rgba(60, 64, 67, 0.3), 0px 1px 3px 1px rgba(60, 64, 67, 0.15);\n",
              "      fill: #174EA6;\n",
              "    }\n",
              "\n",
              "    [theme=dark] .colab-df-convert {\n",
              "      background-color: #3B4455;\n",
              "      fill: #D2E3FC;\n",
              "    }\n",
              "\n",
              "    [theme=dark] .colab-df-convert:hover {\n",
              "      background-color: #434B5C;\n",
              "      box-shadow: 0px 1px 3px 1px rgba(0, 0, 0, 0.15);\n",
              "      filter: drop-shadow(0px 1px 2px rgba(0, 0, 0, 0.3));\n",
              "      fill: #FFFFFF;\n",
              "    }\n",
              "  </style>\n",
              "\n",
              "      <script>\n",
              "        const buttonEl =\n",
              "          document.querySelector('#df-03a537e0-2d8e-4df1-bafa-aa927e70ebf3 button.colab-df-convert');\n",
              "        buttonEl.style.display =\n",
              "          google.colab.kernel.accessAllowed ? 'block' : 'none';\n",
              "\n",
              "        async function convertToInteractive(key) {\n",
              "          const element = document.querySelector('#df-03a537e0-2d8e-4df1-bafa-aa927e70ebf3');\n",
              "          const dataTable =\n",
              "            await google.colab.kernel.invokeFunction('convertToInteractive',\n",
              "                                                     [key], {});\n",
              "          if (!dataTable) return;\n",
              "\n",
              "          const docLinkHtml = 'Like what you see? Visit the ' +\n",
              "            '<a target=\"_blank\" href=https://colab.research.google.com/notebooks/data_table.ipynb>data table notebook</a>'\n",
              "            + ' to learn more about interactive tables.';\n",
              "          element.innerHTML = '';\n",
              "          dataTable['output_type'] = 'display_data';\n",
              "          await google.colab.output.renderOutput(dataTable, element);\n",
              "          const docLink = document.createElement('div');\n",
              "          docLink.innerHTML = docLinkHtml;\n",
              "          element.appendChild(docLink);\n",
              "        }\n",
              "      </script>\n",
              "    </div>\n",
              "  </div>\n",
              "  "
            ],
            "text/plain": [
              "                                    property_description\n",
              "0      Formando parte del Barrio Catalinas Sur: Carac...\n",
              "1      Luminoso 4 ambientes<br><br>2 dormitorios ampl...\n",
              "2      Se trata de un PH de 2 ambientes con patio, po...\n",
              "3      Corredor Responsable: Cristian Arnal Ponti - C...\n",
              "4      Corredor Responsable: Micaela Perez / Lucas Fe...\n",
              "...                                                  ...\n",
              "63362  Venta DEPARTAMENTO 2 Ambientes Villa Urquiza. ...\n",
              "63363  Amplio y luminoso monoambiente a contrafrente ...\n",
              "63364  VENTA Monoambiente divisible, con balcón al co...\n",
              "63365  Departamento de 3 ambientes MUY LUMINOSO al fr...\n",
              "63366  VENTA mono ambiente con patio, al contra frent...\n",
              "\n",
              "[63367 rows x 1 columns]"
            ]
          },
          "execution_count": 14,
          "metadata": {},
          "output_type": "execute_result"
        }
      ],
      "source": [
        "ds_descrip_train"
      ]
    },
    {
      "cell_type": "code",
      "execution_count": null,
      "metadata": {
        "id": "Cufz_C_lWY87"
      },
      "outputs": [],
      "source": [
        "ds_cada_palabra_train = ds_descrip_train.copy()\n",
        "ds_cada_palabra_test = ds_descrip_test.copy()"
      ]
    },
    {
      "cell_type": "code",
      "execution_count": null,
      "metadata": {
        "id": "LUIFWpQ0jLSq"
      },
      "outputs": [],
      "source": [
        "ds_cada_palabra_train.property_description = ds_descrip_train.property_description.str.split()\n",
        "ds_cada_palabra_test.property_description = ds_descrip_test.property_description.str.split()"
      ]
    },
    {
      "cell_type": "code",
      "execution_count": null,
      "metadata": {
        "id": "HRlnO2HZlIWL"
      },
      "outputs": [],
      "source": [
        "ds_cada_palabra_train = ds_cada_palabra_train.explode('property_description')\n",
        "ds_cada_palabra_test = ds_cada_palabra_test.explode('property_description')"
      ]
    },
    {
      "cell_type": "code",
      "execution_count": null,
      "metadata": {
        "id": "lQMmfLyTUKkk"
      },
      "outputs": [],
      "source": [
        "ds_cada_palabra_train = ds_cada_palabra_train.reset_index()\n",
        "ds_cada_palabra_test = ds_cada_palabra_test.reset_index()"
      ]
    },
    {
      "cell_type": "markdown",
      "metadata": {
        "id": "-Du02EFoVSnx"
      },
      "source": [
        "Observamos que en cada entrada de nuestro dataset tendremos cada palabra de las respectivas descripciones. Vemos como las primeras 5 entradas hacen referencia a la primer descripcion, por eso tiene el mismo id. "
      ]
    },
    {
      "cell_type": "code",
      "execution_count": null,
      "metadata": {
        "colab": {
          "base_uri": "https://localhost:8080/"
        },
        "id": "FxikC_e5UUAw",
        "outputId": "c4301336-4a2f-4177-f446-65244c1791f5"
      },
      "outputs": [
        {
          "data": {
            "text/html": [
              "\n",
              "  <div id=\"df-87184f3f-c32b-4b6f-8504-afe32fc548de\">\n",
              "    <div class=\"colab-df-container\">\n",
              "      <div>\n",
              "<style scoped>\n",
              "    .dataframe tbody tr th:only-of-type {\n",
              "        vertical-align: middle;\n",
              "    }\n",
              "\n",
              "    .dataframe tbody tr th {\n",
              "        vertical-align: top;\n",
              "    }\n",
              "\n",
              "    .dataframe thead th {\n",
              "        text-align: right;\n",
              "    }\n",
              "</style>\n",
              "<table border=\"1\" class=\"dataframe\">\n",
              "  <thead>\n",
              "    <tr style=\"text-align: right;\">\n",
              "      <th></th>\n",
              "      <th>index</th>\n",
              "      <th>property_description</th>\n",
              "    </tr>\n",
              "  </thead>\n",
              "  <tbody>\n",
              "    <tr>\n",
              "      <th>0</th>\n",
              "      <td>0</td>\n",
              "      <td>Formando</td>\n",
              "    </tr>\n",
              "    <tr>\n",
              "      <th>1</th>\n",
              "      <td>0</td>\n",
              "      <td>parte</td>\n",
              "    </tr>\n",
              "    <tr>\n",
              "      <th>2</th>\n",
              "      <td>0</td>\n",
              "      <td>del</td>\n",
              "    </tr>\n",
              "    <tr>\n",
              "      <th>3</th>\n",
              "      <td>0</td>\n",
              "      <td>Barrio</td>\n",
              "    </tr>\n",
              "    <tr>\n",
              "      <th>4</th>\n",
              "      <td>0</td>\n",
              "      <td>Catalinas</td>\n",
              "    </tr>\n",
              "  </tbody>\n",
              "</table>\n",
              "</div>\n",
              "      <button class=\"colab-df-convert\" onclick=\"convertToInteractive('df-87184f3f-c32b-4b6f-8504-afe32fc548de')\"\n",
              "              title=\"Convert this dataframe to an interactive table.\"\n",
              "              style=\"display:none;\">\n",
              "        \n",
              "  <svg xmlns=\"http://www.w3.org/2000/svg\" height=\"24px\"viewBox=\"0 0 24 24\"\n",
              "       width=\"24px\">\n",
              "    <path d=\"M0 0h24v24H0V0z\" fill=\"none\"/>\n",
              "    <path d=\"M18.56 5.44l.94 2.06.94-2.06 2.06-.94-2.06-.94-.94-2.06-.94 2.06-2.06.94zm-11 1L8.5 8.5l.94-2.06 2.06-.94-2.06-.94L8.5 2.5l-.94 2.06-2.06.94zm10 10l.94 2.06.94-2.06 2.06-.94-2.06-.94-.94-2.06-.94 2.06-2.06.94z\"/><path d=\"M17.41 7.96l-1.37-1.37c-.4-.4-.92-.59-1.43-.59-.52 0-1.04.2-1.43.59L10.3 9.45l-7.72 7.72c-.78.78-.78 2.05 0 2.83L4 21.41c.39.39.9.59 1.41.59.51 0 1.02-.2 1.41-.59l7.78-7.78 2.81-2.81c.8-.78.8-2.07 0-2.86zM5.41 20L4 18.59l7.72-7.72 1.47 1.35L5.41 20z\"/>\n",
              "  </svg>\n",
              "      </button>\n",
              "      \n",
              "  <style>\n",
              "    .colab-df-container {\n",
              "      display:flex;\n",
              "      flex-wrap:wrap;\n",
              "      gap: 12px;\n",
              "    }\n",
              "\n",
              "    .colab-df-convert {\n",
              "      background-color: #E8F0FE;\n",
              "      border: none;\n",
              "      border-radius: 50%;\n",
              "      cursor: pointer;\n",
              "      display: none;\n",
              "      fill: #1967D2;\n",
              "      height: 32px;\n",
              "      padding: 0 0 0 0;\n",
              "      width: 32px;\n",
              "    }\n",
              "\n",
              "    .colab-df-convert:hover {\n",
              "      background-color: #E2EBFA;\n",
              "      box-shadow: 0px 1px 2px rgba(60, 64, 67, 0.3), 0px 1px 3px 1px rgba(60, 64, 67, 0.15);\n",
              "      fill: #174EA6;\n",
              "    }\n",
              "\n",
              "    [theme=dark] .colab-df-convert {\n",
              "      background-color: #3B4455;\n",
              "      fill: #D2E3FC;\n",
              "    }\n",
              "\n",
              "    [theme=dark] .colab-df-convert:hover {\n",
              "      background-color: #434B5C;\n",
              "      box-shadow: 0px 1px 3px 1px rgba(0, 0, 0, 0.15);\n",
              "      filter: drop-shadow(0px 1px 2px rgba(0, 0, 0, 0.3));\n",
              "      fill: #FFFFFF;\n",
              "    }\n",
              "  </style>\n",
              "\n",
              "      <script>\n",
              "        const buttonEl =\n",
              "          document.querySelector('#df-87184f3f-c32b-4b6f-8504-afe32fc548de button.colab-df-convert');\n",
              "        buttonEl.style.display =\n",
              "          google.colab.kernel.accessAllowed ? 'block' : 'none';\n",
              "\n",
              "        async function convertToInteractive(key) {\n",
              "          const element = document.querySelector('#df-87184f3f-c32b-4b6f-8504-afe32fc548de');\n",
              "          const dataTable =\n",
              "            await google.colab.kernel.invokeFunction('convertToInteractive',\n",
              "                                                     [key], {});\n",
              "          if (!dataTable) return;\n",
              "\n",
              "          const docLinkHtml = 'Like what you see? Visit the ' +\n",
              "            '<a target=\"_blank\" href=https://colab.research.google.com/notebooks/data_table.ipynb>data table notebook</a>'\n",
              "            + ' to learn more about interactive tables.';\n",
              "          element.innerHTML = '';\n",
              "          dataTable['output_type'] = 'display_data';\n",
              "          await google.colab.output.renderOutput(dataTable, element);\n",
              "          const docLink = document.createElement('div');\n",
              "          docLink.innerHTML = docLinkHtml;\n",
              "          element.appendChild(docLink);\n",
              "        }\n",
              "      </script>\n",
              "    </div>\n",
              "  </div>\n",
              "  "
            ],
            "text/plain": [
              "   index property_description\n",
              "0      0             Formando\n",
              "1      0                parte\n",
              "2      0                  del\n",
              "3      0               Barrio\n",
              "4      0            Catalinas"
            ]
          },
          "execution_count": 19,
          "metadata": {},
          "output_type": "execute_result"
        }
      ],
      "source": [
        "ds_cada_palabra_train.head(5)"
      ]
    },
    {
      "cell_type": "markdown",
      "metadata": {
        "id": "iiZ1QvCUR0qW"
      },
      "source": [
        "Modificamos las palabras que presentan mayúsculas para que únicamente comiencen con letras minúsculas. "
      ]
    },
    {
      "cell_type": "code",
      "execution_count": null,
      "metadata": {
        "id": "jF72ZVrFH0fc"
      },
      "outputs": [],
      "source": [
        "ds_cada_palabra_train['property_description'] = ds_cada_palabra_train['property_description'].str.lower()\n",
        "ds_cada_palabra_test['property_description'] = ds_cada_palabra_test['property_description'].str.lower()"
      ]
    },
    {
      "cell_type": "code",
      "execution_count": null,
      "metadata": {
        "id": "zbfC_-dTY0Dr"
      },
      "outputs": [],
      "source": [
        "ds_cada_palabra_train.rename(columns = {'property_description':'palabra', 'index':'indice'}, inplace = True)\n",
        "ds_cada_palabra_test.rename(columns = {'property_description':'palabra', 'index':'indice'}, inplace = True)"
      ]
    },
    {
      "cell_type": "markdown",
      "metadata": {
        "id": "Xm3h5TbLZ5A2"
      },
      "source": [
        "## Glosario: "
      ]
    },
    {
      "cell_type": "markdown",
      "metadata": {
        "id": "u6cTEVYlM-39"
      },
      "source": [
        "* x_train: Dataset para entrenamiento con todos los features originales.\n",
        "* x_test: Dataset para testeo con todos los features originales.\n",
        "* x_train_target: Dataset con los features que nos parecieron relevantes para entrenar los modelos.\n",
        "* x_test_target: Dataset con los features que nos parecieron relevantes para testear los modelos.\n",
        "* ds_descrip_train: Dataset con las descripciones de cada registro del entrenamiento.\n",
        "* ds_descrip_test: Dataset con las descripciones de cada registro de testeo.\n",
        "* x_train_con_desc: Dataset que contiene las columnas de descripcion para entrenamiento con todos los features originales.\n",
        "* x_test_con_desc: Dataset que contiene las columnas de descripcion para testeo con todos los features originales.\n",
        "* y_train: Precio del entrenamiento.\n",
        "* y_test: Precio del testeo.\n",
        "* ds_cada_palabra_train: Data set que tiene en cada fila cada palabra usada por las respectivas descripciones de entranamiento, manteniendo los indices. \n",
        "* ds_cada_palabra_test: Data set que tiene en cada fila cada palabra usada por las respectivas descripciones de testeo, manteniendo los indices. "
      ]
    },
    {
      "cell_type": "code",
      "execution_count": null,
      "metadata": {
        "colab": {
          "base_uri": "https://localhost:8080/"
        },
        "id": "PsKHMVaLNic8",
        "outputId": "ee1becd2-2b25-4d45-bd6c-b3df005c7a17"
      },
      "outputs": [
        {
          "data": {
            "text/html": [
              "\n",
              "  <div id=\"df-628e3668-4edc-4bd9-b590-5c5f95d5114e\">\n",
              "    <div class=\"colab-df-container\">\n",
              "      <div>\n",
              "<style scoped>\n",
              "    .dataframe tbody tr th:only-of-type {\n",
              "        vertical-align: middle;\n",
              "    }\n",
              "\n",
              "    .dataframe tbody tr th {\n",
              "        vertical-align: top;\n",
              "    }\n",
              "\n",
              "    .dataframe thead th {\n",
              "        text-align: right;\n",
              "    }\n",
              "</style>\n",
              "<table border=\"1\" class=\"dataframe\">\n",
              "  <thead>\n",
              "    <tr style=\"text-align: right;\">\n",
              "      <th></th>\n",
              "      <th>id</th>\n",
              "      <th>latitud</th>\n",
              "      <th>longitud</th>\n",
              "      <th>place_l2</th>\n",
              "      <th>place_l3</th>\n",
              "      <th>operation</th>\n",
              "      <th>property_type</th>\n",
              "      <th>property_rooms</th>\n",
              "      <th>property_bedrooms</th>\n",
              "      <th>property_surface_total</th>\n",
              "      <th>property_surface_covered</th>\n",
              "      <th>property_price</th>\n",
              "      <th>property_currency</th>\n",
              "      <th>property_title</th>\n",
              "      <th>pxm2</th>\n",
              "      <th>tipo_precio_1</th>\n",
              "      <th>tipo_precio_2</th>\n",
              "      <th>tipo_precio_generico</th>\n",
              "    </tr>\n",
              "  </thead>\n",
              "  <tbody>\n",
              "    <tr>\n",
              "      <th>0</th>\n",
              "      <td>rL7qPkQnomsMGu2ViS3sBw==</td>\n",
              "      <td>-34.628647</td>\n",
              "      <td>-58.361871</td>\n",
              "      <td>Capital Federal</td>\n",
              "      <td>Boca</td>\n",
              "      <td>Venta</td>\n",
              "      <td>Departamento</td>\n",
              "      <td>4.0</td>\n",
              "      <td>3.0</td>\n",
              "      <td>70.0</td>\n",
              "      <td>70.0</td>\n",
              "      <td>99000.0</td>\n",
              "      <td>USD</td>\n",
              "      <td>Departamento - 4 Ambientes - Catalinas Sur</td>\n",
              "      <td>1414.0</td>\n",
              "      <td>low_price</td>\n",
              "      <td>low_price</td>\n",
              "      <td>low_price</td>\n",
              "    </tr>\n",
              "  </tbody>\n",
              "</table>\n",
              "</div>\n",
              "      <button class=\"colab-df-convert\" onclick=\"convertToInteractive('df-628e3668-4edc-4bd9-b590-5c5f95d5114e')\"\n",
              "              title=\"Convert this dataframe to an interactive table.\"\n",
              "              style=\"display:none;\">\n",
              "        \n",
              "  <svg xmlns=\"http://www.w3.org/2000/svg\" height=\"24px\"viewBox=\"0 0 24 24\"\n",
              "       width=\"24px\">\n",
              "    <path d=\"M0 0h24v24H0V0z\" fill=\"none\"/>\n",
              "    <path d=\"M18.56 5.44l.94 2.06.94-2.06 2.06-.94-2.06-.94-.94-2.06-.94 2.06-2.06.94zm-11 1L8.5 8.5l.94-2.06 2.06-.94-2.06-.94L8.5 2.5l-.94 2.06-2.06.94zm10 10l.94 2.06.94-2.06 2.06-.94-2.06-.94-.94-2.06-.94 2.06-2.06.94z\"/><path d=\"M17.41 7.96l-1.37-1.37c-.4-.4-.92-.59-1.43-.59-.52 0-1.04.2-1.43.59L10.3 9.45l-7.72 7.72c-.78.78-.78 2.05 0 2.83L4 21.41c.39.39.9.59 1.41.59.51 0 1.02-.2 1.41-.59l7.78-7.78 2.81-2.81c.8-.78.8-2.07 0-2.86zM5.41 20L4 18.59l7.72-7.72 1.47 1.35L5.41 20z\"/>\n",
              "  </svg>\n",
              "      </button>\n",
              "      \n",
              "  <style>\n",
              "    .colab-df-container {\n",
              "      display:flex;\n",
              "      flex-wrap:wrap;\n",
              "      gap: 12px;\n",
              "    }\n",
              "\n",
              "    .colab-df-convert {\n",
              "      background-color: #E8F0FE;\n",
              "      border: none;\n",
              "      border-radius: 50%;\n",
              "      cursor: pointer;\n",
              "      display: none;\n",
              "      fill: #1967D2;\n",
              "      height: 32px;\n",
              "      padding: 0 0 0 0;\n",
              "      width: 32px;\n",
              "    }\n",
              "\n",
              "    .colab-df-convert:hover {\n",
              "      background-color: #E2EBFA;\n",
              "      box-shadow: 0px 1px 2px rgba(60, 64, 67, 0.3), 0px 1px 3px 1px rgba(60, 64, 67, 0.15);\n",
              "      fill: #174EA6;\n",
              "    }\n",
              "\n",
              "    [theme=dark] .colab-df-convert {\n",
              "      background-color: #3B4455;\n",
              "      fill: #D2E3FC;\n",
              "    }\n",
              "\n",
              "    [theme=dark] .colab-df-convert:hover {\n",
              "      background-color: #434B5C;\n",
              "      box-shadow: 0px 1px 3px 1px rgba(0, 0, 0, 0.15);\n",
              "      filter: drop-shadow(0px 1px 2px rgba(0, 0, 0, 0.3));\n",
              "      fill: #FFFFFF;\n",
              "    }\n",
              "  </style>\n",
              "\n",
              "      <script>\n",
              "        const buttonEl =\n",
              "          document.querySelector('#df-628e3668-4edc-4bd9-b590-5c5f95d5114e button.colab-df-convert');\n",
              "        buttonEl.style.display =\n",
              "          google.colab.kernel.accessAllowed ? 'block' : 'none';\n",
              "\n",
              "        async function convertToInteractive(key) {\n",
              "          const element = document.querySelector('#df-628e3668-4edc-4bd9-b590-5c5f95d5114e');\n",
              "          const dataTable =\n",
              "            await google.colab.kernel.invokeFunction('convertToInteractive',\n",
              "                                                     [key], {});\n",
              "          if (!dataTable) return;\n",
              "\n",
              "          const docLinkHtml = 'Like what you see? Visit the ' +\n",
              "            '<a target=\"_blank\" href=https://colab.research.google.com/notebooks/data_table.ipynb>data table notebook</a>'\n",
              "            + ' to learn more about interactive tables.';\n",
              "          element.innerHTML = '';\n",
              "          dataTable['output_type'] = 'display_data';\n",
              "          await google.colab.output.renderOutput(dataTable, element);\n",
              "          const docLink = document.createElement('div');\n",
              "          docLink.innerHTML = docLinkHtml;\n",
              "          element.appendChild(docLink);\n",
              "        }\n",
              "      </script>\n",
              "    </div>\n",
              "  </div>\n",
              "  "
            ],
            "text/plain": [
              "                         id    latitud   longitud         place_l2 place_l3  \\\n",
              "0  rL7qPkQnomsMGu2ViS3sBw== -34.628647 -58.361871  Capital Federal     Boca   \n",
              "\n",
              "  operation property_type  property_rooms  property_bedrooms  \\\n",
              "0     Venta  Departamento             4.0                3.0   \n",
              "\n",
              "   property_surface_total  property_surface_covered  property_price  \\\n",
              "0                    70.0                      70.0         99000.0   \n",
              "\n",
              "  property_currency                              property_title    pxm2  \\\n",
              "0               USD  Departamento - 4 Ambientes - Catalinas Sur  1414.0   \n",
              "\n",
              "  tipo_precio_1 tipo_precio_2 tipo_precio_generico  \n",
              "0     low_price     low_price            low_price  "
            ]
          },
          "execution_count": 22,
          "metadata": {},
          "output_type": "execute_result"
        }
      ],
      "source": [
        "x_train.head(1)"
      ]
    },
    {
      "cell_type": "code",
      "execution_count": null,
      "metadata": {
        "colab": {
          "base_uri": "https://localhost:8080/"
        },
        "id": "lWkVRmULMUA6",
        "outputId": "03df7361-1b75-41b7-a2fa-85a64d43dcc5"
      },
      "outputs": [
        {
          "data": {
            "text/html": [
              "\n",
              "  <div id=\"df-353cd8ff-c81d-4906-9ab8-182f2af7fd66\">\n",
              "    <div class=\"colab-df-container\">\n",
              "      <div>\n",
              "<style scoped>\n",
              "    .dataframe tbody tr th:only-of-type {\n",
              "        vertical-align: middle;\n",
              "    }\n",
              "\n",
              "    .dataframe tbody tr th {\n",
              "        vertical-align: top;\n",
              "    }\n",
              "\n",
              "    .dataframe thead th {\n",
              "        text-align: right;\n",
              "    }\n",
              "</style>\n",
              "<table border=\"1\" class=\"dataframe\">\n",
              "  <thead>\n",
              "    <tr style=\"text-align: right;\">\n",
              "      <th></th>\n",
              "      <th>latitud</th>\n",
              "      <th>longitud</th>\n",
              "      <th>property_rooms</th>\n",
              "      <th>property_bedrooms</th>\n",
              "      <th>property_surface_total</th>\n",
              "      <th>property_surface_covered</th>\n",
              "      <th>property_type_Casa</th>\n",
              "      <th>property_type_Departamento</th>\n",
              "      <th>property_type_PH</th>\n",
              "    </tr>\n",
              "  </thead>\n",
              "  <tbody>\n",
              "    <tr>\n",
              "      <th>0</th>\n",
              "      <td>-34.628647</td>\n",
              "      <td>-58.361871</td>\n",
              "      <td>4.0</td>\n",
              "      <td>3.0</td>\n",
              "      <td>70.0</td>\n",
              "      <td>70.0</td>\n",
              "      <td>0</td>\n",
              "      <td>1</td>\n",
              "      <td>0</td>\n",
              "    </tr>\n",
              "  </tbody>\n",
              "</table>\n",
              "</div>\n",
              "      <button class=\"colab-df-convert\" onclick=\"convertToInteractive('df-353cd8ff-c81d-4906-9ab8-182f2af7fd66')\"\n",
              "              title=\"Convert this dataframe to an interactive table.\"\n",
              "              style=\"display:none;\">\n",
              "        \n",
              "  <svg xmlns=\"http://www.w3.org/2000/svg\" height=\"24px\"viewBox=\"0 0 24 24\"\n",
              "       width=\"24px\">\n",
              "    <path d=\"M0 0h24v24H0V0z\" fill=\"none\"/>\n",
              "    <path d=\"M18.56 5.44l.94 2.06.94-2.06 2.06-.94-2.06-.94-.94-2.06-.94 2.06-2.06.94zm-11 1L8.5 8.5l.94-2.06 2.06-.94-2.06-.94L8.5 2.5l-.94 2.06-2.06.94zm10 10l.94 2.06.94-2.06 2.06-.94-2.06-.94-.94-2.06-.94 2.06-2.06.94z\"/><path d=\"M17.41 7.96l-1.37-1.37c-.4-.4-.92-.59-1.43-.59-.52 0-1.04.2-1.43.59L10.3 9.45l-7.72 7.72c-.78.78-.78 2.05 0 2.83L4 21.41c.39.39.9.59 1.41.59.51 0 1.02-.2 1.41-.59l7.78-7.78 2.81-2.81c.8-.78.8-2.07 0-2.86zM5.41 20L4 18.59l7.72-7.72 1.47 1.35L5.41 20z\"/>\n",
              "  </svg>\n",
              "      </button>\n",
              "      \n",
              "  <style>\n",
              "    .colab-df-container {\n",
              "      display:flex;\n",
              "      flex-wrap:wrap;\n",
              "      gap: 12px;\n",
              "    }\n",
              "\n",
              "    .colab-df-convert {\n",
              "      background-color: #E8F0FE;\n",
              "      border: none;\n",
              "      border-radius: 50%;\n",
              "      cursor: pointer;\n",
              "      display: none;\n",
              "      fill: #1967D2;\n",
              "      height: 32px;\n",
              "      padding: 0 0 0 0;\n",
              "      width: 32px;\n",
              "    }\n",
              "\n",
              "    .colab-df-convert:hover {\n",
              "      background-color: #E2EBFA;\n",
              "      box-shadow: 0px 1px 2px rgba(60, 64, 67, 0.3), 0px 1px 3px 1px rgba(60, 64, 67, 0.15);\n",
              "      fill: #174EA6;\n",
              "    }\n",
              "\n",
              "    [theme=dark] .colab-df-convert {\n",
              "      background-color: #3B4455;\n",
              "      fill: #D2E3FC;\n",
              "    }\n",
              "\n",
              "    [theme=dark] .colab-df-convert:hover {\n",
              "      background-color: #434B5C;\n",
              "      box-shadow: 0px 1px 3px 1px rgba(0, 0, 0, 0.15);\n",
              "      filter: drop-shadow(0px 1px 2px rgba(0, 0, 0, 0.3));\n",
              "      fill: #FFFFFF;\n",
              "    }\n",
              "  </style>\n",
              "\n",
              "      <script>\n",
              "        const buttonEl =\n",
              "          document.querySelector('#df-353cd8ff-c81d-4906-9ab8-182f2af7fd66 button.colab-df-convert');\n",
              "        buttonEl.style.display =\n",
              "          google.colab.kernel.accessAllowed ? 'block' : 'none';\n",
              "\n",
              "        async function convertToInteractive(key) {\n",
              "          const element = document.querySelector('#df-353cd8ff-c81d-4906-9ab8-182f2af7fd66');\n",
              "          const dataTable =\n",
              "            await google.colab.kernel.invokeFunction('convertToInteractive',\n",
              "                                                     [key], {});\n",
              "          if (!dataTable) return;\n",
              "\n",
              "          const docLinkHtml = 'Like what you see? Visit the ' +\n",
              "            '<a target=\"_blank\" href=https://colab.research.google.com/notebooks/data_table.ipynb>data table notebook</a>'\n",
              "            + ' to learn more about interactive tables.';\n",
              "          element.innerHTML = '';\n",
              "          dataTable['output_type'] = 'display_data';\n",
              "          await google.colab.output.renderOutput(dataTable, element);\n",
              "          const docLink = document.createElement('div');\n",
              "          docLink.innerHTML = docLinkHtml;\n",
              "          element.appendChild(docLink);\n",
              "        }\n",
              "      </script>\n",
              "    </div>\n",
              "  </div>\n",
              "  "
            ],
            "text/plain": [
              "     latitud   longitud  property_rooms  property_bedrooms  \\\n",
              "0 -34.628647 -58.361871             4.0                3.0   \n",
              "\n",
              "   property_surface_total  property_surface_covered  property_type_Casa  \\\n",
              "0                    70.0                      70.0                   0   \n",
              "\n",
              "   property_type_Departamento  property_type_PH  \n",
              "0                           1                 0  "
            ]
          },
          "execution_count": 23,
          "metadata": {},
          "output_type": "execute_result"
        }
      ],
      "source": [
        "x_train_target.head(1)"
      ]
    },
    {
      "cell_type": "code",
      "execution_count": null,
      "metadata": {
        "colab": {
          "base_uri": "https://localhost:8080/"
        },
        "id": "EzguaCPJN9LU",
        "outputId": "5433bd7d-6273-4cd4-9f2f-d3b7d5ab4bc3"
      },
      "outputs": [
        {
          "data": {
            "text/html": [
              "\n",
              "  <div id=\"df-902f269c-09ee-4e54-b0a6-74e584599d9c\">\n",
              "    <div class=\"colab-df-container\">\n",
              "      <div>\n",
              "<style scoped>\n",
              "    .dataframe tbody tr th:only-of-type {\n",
              "        vertical-align: middle;\n",
              "    }\n",
              "\n",
              "    .dataframe tbody tr th {\n",
              "        vertical-align: top;\n",
              "    }\n",
              "\n",
              "    .dataframe thead th {\n",
              "        text-align: right;\n",
              "    }\n",
              "</style>\n",
              "<table border=\"1\" class=\"dataframe\">\n",
              "  <thead>\n",
              "    <tr style=\"text-align: right;\">\n",
              "      <th></th>\n",
              "      <th>id</th>\n",
              "      <th>latitud</th>\n",
              "      <th>longitud</th>\n",
              "      <th>place_l2</th>\n",
              "      <th>place_l3</th>\n",
              "      <th>operation</th>\n",
              "      <th>property_type</th>\n",
              "      <th>property_rooms</th>\n",
              "      <th>property_bedrooms</th>\n",
              "      <th>property_surface_total</th>\n",
              "      <th>property_surface_covered</th>\n",
              "      <th>property_price</th>\n",
              "      <th>property_currency</th>\n",
              "      <th>property_title</th>\n",
              "      <th>pxm2</th>\n",
              "      <th>tipo_precio_1</th>\n",
              "      <th>tipo_precio_2</th>\n",
              "      <th>tipo_precio_generico</th>\n",
              "      <th>property_description</th>\n",
              "    </tr>\n",
              "  </thead>\n",
              "  <tbody>\n",
              "    <tr>\n",
              "      <th>0</th>\n",
              "      <td>rL7qPkQnomsMGu2ViS3sBw==</td>\n",
              "      <td>-34.628647</td>\n",
              "      <td>-58.361871</td>\n",
              "      <td>Capital Federal</td>\n",
              "      <td>Boca</td>\n",
              "      <td>Venta</td>\n",
              "      <td>Departamento</td>\n",
              "      <td>4.0</td>\n",
              "      <td>3.0</td>\n",
              "      <td>70.0</td>\n",
              "      <td>70.0</td>\n",
              "      <td>99000.0</td>\n",
              "      <td>USD</td>\n",
              "      <td>Departamento - 4 Ambientes - Catalinas Sur</td>\n",
              "      <td>1414.0</td>\n",
              "      <td>low_price</td>\n",
              "      <td>low_price</td>\n",
              "      <td>low_price</td>\n",
              "      <td>Formando parte del Barrio Catalinas Sur: Carac...</td>\n",
              "    </tr>\n",
              "  </tbody>\n",
              "</table>\n",
              "</div>\n",
              "      <button class=\"colab-df-convert\" onclick=\"convertToInteractive('df-902f269c-09ee-4e54-b0a6-74e584599d9c')\"\n",
              "              title=\"Convert this dataframe to an interactive table.\"\n",
              "              style=\"display:none;\">\n",
              "        \n",
              "  <svg xmlns=\"http://www.w3.org/2000/svg\" height=\"24px\"viewBox=\"0 0 24 24\"\n",
              "       width=\"24px\">\n",
              "    <path d=\"M0 0h24v24H0V0z\" fill=\"none\"/>\n",
              "    <path d=\"M18.56 5.44l.94 2.06.94-2.06 2.06-.94-2.06-.94-.94-2.06-.94 2.06-2.06.94zm-11 1L8.5 8.5l.94-2.06 2.06-.94-2.06-.94L8.5 2.5l-.94 2.06-2.06.94zm10 10l.94 2.06.94-2.06 2.06-.94-2.06-.94-.94-2.06-.94 2.06-2.06.94z\"/><path d=\"M17.41 7.96l-1.37-1.37c-.4-.4-.92-.59-1.43-.59-.52 0-1.04.2-1.43.59L10.3 9.45l-7.72 7.72c-.78.78-.78 2.05 0 2.83L4 21.41c.39.39.9.59 1.41.59.51 0 1.02-.2 1.41-.59l7.78-7.78 2.81-2.81c.8-.78.8-2.07 0-2.86zM5.41 20L4 18.59l7.72-7.72 1.47 1.35L5.41 20z\"/>\n",
              "  </svg>\n",
              "      </button>\n",
              "      \n",
              "  <style>\n",
              "    .colab-df-container {\n",
              "      display:flex;\n",
              "      flex-wrap:wrap;\n",
              "      gap: 12px;\n",
              "    }\n",
              "\n",
              "    .colab-df-convert {\n",
              "      background-color: #E8F0FE;\n",
              "      border: none;\n",
              "      border-radius: 50%;\n",
              "      cursor: pointer;\n",
              "      display: none;\n",
              "      fill: #1967D2;\n",
              "      height: 32px;\n",
              "      padding: 0 0 0 0;\n",
              "      width: 32px;\n",
              "    }\n",
              "\n",
              "    .colab-df-convert:hover {\n",
              "      background-color: #E2EBFA;\n",
              "      box-shadow: 0px 1px 2px rgba(60, 64, 67, 0.3), 0px 1px 3px 1px rgba(60, 64, 67, 0.15);\n",
              "      fill: #174EA6;\n",
              "    }\n",
              "\n",
              "    [theme=dark] .colab-df-convert {\n",
              "      background-color: #3B4455;\n",
              "      fill: #D2E3FC;\n",
              "    }\n",
              "\n",
              "    [theme=dark] .colab-df-convert:hover {\n",
              "      background-color: #434B5C;\n",
              "      box-shadow: 0px 1px 3px 1px rgba(0, 0, 0, 0.15);\n",
              "      filter: drop-shadow(0px 1px 2px rgba(0, 0, 0, 0.3));\n",
              "      fill: #FFFFFF;\n",
              "    }\n",
              "  </style>\n",
              "\n",
              "      <script>\n",
              "        const buttonEl =\n",
              "          document.querySelector('#df-902f269c-09ee-4e54-b0a6-74e584599d9c button.colab-df-convert');\n",
              "        buttonEl.style.display =\n",
              "          google.colab.kernel.accessAllowed ? 'block' : 'none';\n",
              "\n",
              "        async function convertToInteractive(key) {\n",
              "          const element = document.querySelector('#df-902f269c-09ee-4e54-b0a6-74e584599d9c');\n",
              "          const dataTable =\n",
              "            await google.colab.kernel.invokeFunction('convertToInteractive',\n",
              "                                                     [key], {});\n",
              "          if (!dataTable) return;\n",
              "\n",
              "          const docLinkHtml = 'Like what you see? Visit the ' +\n",
              "            '<a target=\"_blank\" href=https://colab.research.google.com/notebooks/data_table.ipynb>data table notebook</a>'\n",
              "            + ' to learn more about interactive tables.';\n",
              "          element.innerHTML = '';\n",
              "          dataTable['output_type'] = 'display_data';\n",
              "          await google.colab.output.renderOutput(dataTable, element);\n",
              "          const docLink = document.createElement('div');\n",
              "          docLink.innerHTML = docLinkHtml;\n",
              "          element.appendChild(docLink);\n",
              "        }\n",
              "      </script>\n",
              "    </div>\n",
              "  </div>\n",
              "  "
            ],
            "text/plain": [
              "                         id    latitud   longitud         place_l2 place_l3  \\\n",
              "0  rL7qPkQnomsMGu2ViS3sBw== -34.628647 -58.361871  Capital Federal     Boca   \n",
              "\n",
              "  operation property_type  property_rooms  property_bedrooms  \\\n",
              "0     Venta  Departamento             4.0                3.0   \n",
              "\n",
              "   property_surface_total  property_surface_covered  property_price  \\\n",
              "0                    70.0                      70.0         99000.0   \n",
              "\n",
              "  property_currency                              property_title    pxm2  \\\n",
              "0               USD  Departamento - 4 Ambientes - Catalinas Sur  1414.0   \n",
              "\n",
              "  tipo_precio_1 tipo_precio_2 tipo_precio_generico  \\\n",
              "0     low_price     low_price            low_price   \n",
              "\n",
              "                                property_description  \n",
              "0  Formando parte del Barrio Catalinas Sur: Carac...  "
            ]
          },
          "execution_count": 24,
          "metadata": {},
          "output_type": "execute_result"
        }
      ],
      "source": [
        "x_train_con_desc.head(1)"
      ]
    },
    {
      "cell_type": "code",
      "execution_count": null,
      "metadata": {
        "colab": {
          "base_uri": "https://localhost:8080/"
        },
        "id": "cBaPCS16O-ou",
        "outputId": "e21622db-b56b-4527-d576-364b76fb6041"
      },
      "outputs": [
        {
          "data": {
            "text/plain": [
              "0    99000.0\n",
              "Name: property_price, dtype: float64"
            ]
          },
          "execution_count": 25,
          "metadata": {},
          "output_type": "execute_result"
        }
      ],
      "source": [
        "y_train.head(1)"
      ]
    },
    {
      "cell_type": "code",
      "execution_count": null,
      "metadata": {
        "colab": {
          "base_uri": "https://localhost:8080/"
        },
        "id": "QJFjNJPjPAuN",
        "outputId": "a2b4d3a7-69e4-4ca1-8844-17dc8887bda7"
      },
      "outputs": [
        {
          "data": {
            "text/plain": [
              "0    82900.0\n",
              "Name: property_price, dtype: float64"
            ]
          },
          "execution_count": 26,
          "metadata": {},
          "output_type": "execute_result"
        }
      ],
      "source": [
        "y_test.head(1)"
      ]
    },
    {
      "cell_type": "code",
      "execution_count": null,
      "metadata": {
        "colab": {
          "base_uri": "https://localhost:8080/"
        },
        "id": "U7ezukySQDvH",
        "outputId": "7a206fb4-a5ec-465e-b019-94eb1a217c93"
      },
      "outputs": [
        {
          "data": {
            "text/html": [
              "\n",
              "  <div id=\"df-e1f2a4ba-cf9c-4db3-8cf2-9ab22f1e5dcd\">\n",
              "    <div class=\"colab-df-container\">\n",
              "      <div>\n",
              "<style scoped>\n",
              "    .dataframe tbody tr th:only-of-type {\n",
              "        vertical-align: middle;\n",
              "    }\n",
              "\n",
              "    .dataframe tbody tr th {\n",
              "        vertical-align: top;\n",
              "    }\n",
              "\n",
              "    .dataframe thead th {\n",
              "        text-align: right;\n",
              "    }\n",
              "</style>\n",
              "<table border=\"1\" class=\"dataframe\">\n",
              "  <thead>\n",
              "    <tr style=\"text-align: right;\">\n",
              "      <th></th>\n",
              "      <th>id</th>\n",
              "      <th>latitud</th>\n",
              "      <th>longitud</th>\n",
              "      <th>place_l2</th>\n",
              "      <th>place_l3</th>\n",
              "      <th>operation</th>\n",
              "      <th>property_type</th>\n",
              "      <th>property_rooms</th>\n",
              "      <th>property_bedrooms</th>\n",
              "      <th>property_surface_total</th>\n",
              "      <th>property_surface_covered</th>\n",
              "      <th>property_price</th>\n",
              "      <th>property_currency</th>\n",
              "      <th>property_title</th>\n",
              "      <th>pxm2</th>\n",
              "      <th>tipo_precio_1</th>\n",
              "      <th>tipo_precio_2</th>\n",
              "      <th>tipo_precio_generico</th>\n",
              "      <th>property_description</th>\n",
              "    </tr>\n",
              "  </thead>\n",
              "  <tbody>\n",
              "    <tr>\n",
              "      <th>0</th>\n",
              "      <td>rL7qPkQnomsMGu2ViS3sBw==</td>\n",
              "      <td>-34.628647</td>\n",
              "      <td>-58.361871</td>\n",
              "      <td>Capital Federal</td>\n",
              "      <td>Boca</td>\n",
              "      <td>Venta</td>\n",
              "      <td>Departamento</td>\n",
              "      <td>4.0</td>\n",
              "      <td>3.0</td>\n",
              "      <td>70.0</td>\n",
              "      <td>70.0</td>\n",
              "      <td>99000.0</td>\n",
              "      <td>USD</td>\n",
              "      <td>Departamento - 4 Ambientes - Catalinas Sur</td>\n",
              "      <td>1414.0</td>\n",
              "      <td>low_price</td>\n",
              "      <td>low_price</td>\n",
              "      <td>low_price</td>\n",
              "      <td>Formando parte del Barrio Catalinas Sur: Carac...</td>\n",
              "    </tr>\n",
              "  </tbody>\n",
              "</table>\n",
              "</div>\n",
              "      <button class=\"colab-df-convert\" onclick=\"convertToInteractive('df-e1f2a4ba-cf9c-4db3-8cf2-9ab22f1e5dcd')\"\n",
              "              title=\"Convert this dataframe to an interactive table.\"\n",
              "              style=\"display:none;\">\n",
              "        \n",
              "  <svg xmlns=\"http://www.w3.org/2000/svg\" height=\"24px\"viewBox=\"0 0 24 24\"\n",
              "       width=\"24px\">\n",
              "    <path d=\"M0 0h24v24H0V0z\" fill=\"none\"/>\n",
              "    <path d=\"M18.56 5.44l.94 2.06.94-2.06 2.06-.94-2.06-.94-.94-2.06-.94 2.06-2.06.94zm-11 1L8.5 8.5l.94-2.06 2.06-.94-2.06-.94L8.5 2.5l-.94 2.06-2.06.94zm10 10l.94 2.06.94-2.06 2.06-.94-2.06-.94-.94-2.06-.94 2.06-2.06.94z\"/><path d=\"M17.41 7.96l-1.37-1.37c-.4-.4-.92-.59-1.43-.59-.52 0-1.04.2-1.43.59L10.3 9.45l-7.72 7.72c-.78.78-.78 2.05 0 2.83L4 21.41c.39.39.9.59 1.41.59.51 0 1.02-.2 1.41-.59l7.78-7.78 2.81-2.81c.8-.78.8-2.07 0-2.86zM5.41 20L4 18.59l7.72-7.72 1.47 1.35L5.41 20z\"/>\n",
              "  </svg>\n",
              "      </button>\n",
              "      \n",
              "  <style>\n",
              "    .colab-df-container {\n",
              "      display:flex;\n",
              "      flex-wrap:wrap;\n",
              "      gap: 12px;\n",
              "    }\n",
              "\n",
              "    .colab-df-convert {\n",
              "      background-color: #E8F0FE;\n",
              "      border: none;\n",
              "      border-radius: 50%;\n",
              "      cursor: pointer;\n",
              "      display: none;\n",
              "      fill: #1967D2;\n",
              "      height: 32px;\n",
              "      padding: 0 0 0 0;\n",
              "      width: 32px;\n",
              "    }\n",
              "\n",
              "    .colab-df-convert:hover {\n",
              "      background-color: #E2EBFA;\n",
              "      box-shadow: 0px 1px 2px rgba(60, 64, 67, 0.3), 0px 1px 3px 1px rgba(60, 64, 67, 0.15);\n",
              "      fill: #174EA6;\n",
              "    }\n",
              "\n",
              "    [theme=dark] .colab-df-convert {\n",
              "      background-color: #3B4455;\n",
              "      fill: #D2E3FC;\n",
              "    }\n",
              "\n",
              "    [theme=dark] .colab-df-convert:hover {\n",
              "      background-color: #434B5C;\n",
              "      box-shadow: 0px 1px 3px 1px rgba(0, 0, 0, 0.15);\n",
              "      filter: drop-shadow(0px 1px 2px rgba(0, 0, 0, 0.3));\n",
              "      fill: #FFFFFF;\n",
              "    }\n",
              "  </style>\n",
              "\n",
              "      <script>\n",
              "        const buttonEl =\n",
              "          document.querySelector('#df-e1f2a4ba-cf9c-4db3-8cf2-9ab22f1e5dcd button.colab-df-convert');\n",
              "        buttonEl.style.display =\n",
              "          google.colab.kernel.accessAllowed ? 'block' : 'none';\n",
              "\n",
              "        async function convertToInteractive(key) {\n",
              "          const element = document.querySelector('#df-e1f2a4ba-cf9c-4db3-8cf2-9ab22f1e5dcd');\n",
              "          const dataTable =\n",
              "            await google.colab.kernel.invokeFunction('convertToInteractive',\n",
              "                                                     [key], {});\n",
              "          if (!dataTable) return;\n",
              "\n",
              "          const docLinkHtml = 'Like what you see? Visit the ' +\n",
              "            '<a target=\"_blank\" href=https://colab.research.google.com/notebooks/data_table.ipynb>data table notebook</a>'\n",
              "            + ' to learn more about interactive tables.';\n",
              "          element.innerHTML = '';\n",
              "          dataTable['output_type'] = 'display_data';\n",
              "          await google.colab.output.renderOutput(dataTable, element);\n",
              "          const docLink = document.createElement('div');\n",
              "          docLink.innerHTML = docLinkHtml;\n",
              "          element.appendChild(docLink);\n",
              "        }\n",
              "      </script>\n",
              "    </div>\n",
              "  </div>\n",
              "  "
            ],
            "text/plain": [
              "                         id    latitud   longitud         place_l2 place_l3  \\\n",
              "0  rL7qPkQnomsMGu2ViS3sBw== -34.628647 -58.361871  Capital Federal     Boca   \n",
              "\n",
              "  operation property_type  property_rooms  property_bedrooms  \\\n",
              "0     Venta  Departamento             4.0                3.0   \n",
              "\n",
              "   property_surface_total  property_surface_covered  property_price  \\\n",
              "0                    70.0                      70.0         99000.0   \n",
              "\n",
              "  property_currency                              property_title    pxm2  \\\n",
              "0               USD  Departamento - 4 Ambientes - Catalinas Sur  1414.0   \n",
              "\n",
              "  tipo_precio_1 tipo_precio_2 tipo_precio_generico  \\\n",
              "0     low_price     low_price            low_price   \n",
              "\n",
              "                                property_description  \n",
              "0  Formando parte del Barrio Catalinas Sur: Carac...  "
            ]
          },
          "execution_count": 27,
          "metadata": {},
          "output_type": "execute_result"
        }
      ],
      "source": [
        "x_train_con_desc.head(1)"
      ]
    },
    {
      "cell_type": "code",
      "execution_count": null,
      "metadata": {
        "colab": {
          "base_uri": "https://localhost:8080/"
        },
        "id": "HAum1W8oQGe6",
        "outputId": "1377a1ff-57c8-4be7-fd15-06c2ac28ec9b"
      },
      "outputs": [
        {
          "data": {
            "text/html": [
              "\n",
              "  <div id=\"df-831153d9-3aa6-4d58-aca0-40b6a3405d09\">\n",
              "    <div class=\"colab-df-container\">\n",
              "      <div>\n",
              "<style scoped>\n",
              "    .dataframe tbody tr th:only-of-type {\n",
              "        vertical-align: middle;\n",
              "    }\n",
              "\n",
              "    .dataframe tbody tr th {\n",
              "        vertical-align: top;\n",
              "    }\n",
              "\n",
              "    .dataframe thead th {\n",
              "        text-align: right;\n",
              "    }\n",
              "</style>\n",
              "<table border=\"1\" class=\"dataframe\">\n",
              "  <thead>\n",
              "    <tr style=\"text-align: right;\">\n",
              "      <th></th>\n",
              "      <th>id</th>\n",
              "      <th>latitud</th>\n",
              "      <th>longitud</th>\n",
              "      <th>place_l2</th>\n",
              "      <th>place_l3</th>\n",
              "      <th>operation</th>\n",
              "      <th>property_type</th>\n",
              "      <th>property_rooms</th>\n",
              "      <th>property_bedrooms</th>\n",
              "      <th>property_surface_total</th>\n",
              "      <th>property_surface_covered</th>\n",
              "      <th>property_price</th>\n",
              "      <th>property_currency</th>\n",
              "      <th>property_title</th>\n",
              "      <th>pxm2</th>\n",
              "      <th>tipo_precio_generico</th>\n",
              "      <th>property_description</th>\n",
              "    </tr>\n",
              "  </thead>\n",
              "  <tbody>\n",
              "    <tr>\n",
              "      <th>0</th>\n",
              "      <td>d3Z0MblSb2IMBoOBMGJEEQ==</td>\n",
              "      <td>-34.637319</td>\n",
              "      <td>-58.361124</td>\n",
              "      <td>Capital Federal</td>\n",
              "      <td>Boca</td>\n",
              "      <td>Venta</td>\n",
              "      <td>Departamento</td>\n",
              "      <td>3.0</td>\n",
              "      <td>2.0</td>\n",
              "      <td>58.0</td>\n",
              "      <td>55.0</td>\n",
              "      <td>82900.0</td>\n",
              "      <td>USD</td>\n",
              "      <td>VENTA TRES AMBIENTES LA BOCA PISO ALTO</td>\n",
              "      <td>1429.0</td>\n",
              "      <td>low_price</td>\n",
              "      <td>Corredor Responsable: Gustavo Guastello - C.U....</td>\n",
              "    </tr>\n",
              "  </tbody>\n",
              "</table>\n",
              "</div>\n",
              "      <button class=\"colab-df-convert\" onclick=\"convertToInteractive('df-831153d9-3aa6-4d58-aca0-40b6a3405d09')\"\n",
              "              title=\"Convert this dataframe to an interactive table.\"\n",
              "              style=\"display:none;\">\n",
              "        \n",
              "  <svg xmlns=\"http://www.w3.org/2000/svg\" height=\"24px\"viewBox=\"0 0 24 24\"\n",
              "       width=\"24px\">\n",
              "    <path d=\"M0 0h24v24H0V0z\" fill=\"none\"/>\n",
              "    <path d=\"M18.56 5.44l.94 2.06.94-2.06 2.06-.94-2.06-.94-.94-2.06-.94 2.06-2.06.94zm-11 1L8.5 8.5l.94-2.06 2.06-.94-2.06-.94L8.5 2.5l-.94 2.06-2.06.94zm10 10l.94 2.06.94-2.06 2.06-.94-2.06-.94-.94-2.06-.94 2.06-2.06.94z\"/><path d=\"M17.41 7.96l-1.37-1.37c-.4-.4-.92-.59-1.43-.59-.52 0-1.04.2-1.43.59L10.3 9.45l-7.72 7.72c-.78.78-.78 2.05 0 2.83L4 21.41c.39.39.9.59 1.41.59.51 0 1.02-.2 1.41-.59l7.78-7.78 2.81-2.81c.8-.78.8-2.07 0-2.86zM5.41 20L4 18.59l7.72-7.72 1.47 1.35L5.41 20z\"/>\n",
              "  </svg>\n",
              "      </button>\n",
              "      \n",
              "  <style>\n",
              "    .colab-df-container {\n",
              "      display:flex;\n",
              "      flex-wrap:wrap;\n",
              "      gap: 12px;\n",
              "    }\n",
              "\n",
              "    .colab-df-convert {\n",
              "      background-color: #E8F0FE;\n",
              "      border: none;\n",
              "      border-radius: 50%;\n",
              "      cursor: pointer;\n",
              "      display: none;\n",
              "      fill: #1967D2;\n",
              "      height: 32px;\n",
              "      padding: 0 0 0 0;\n",
              "      width: 32px;\n",
              "    }\n",
              "\n",
              "    .colab-df-convert:hover {\n",
              "      background-color: #E2EBFA;\n",
              "      box-shadow: 0px 1px 2px rgba(60, 64, 67, 0.3), 0px 1px 3px 1px rgba(60, 64, 67, 0.15);\n",
              "      fill: #174EA6;\n",
              "    }\n",
              "\n",
              "    [theme=dark] .colab-df-convert {\n",
              "      background-color: #3B4455;\n",
              "      fill: #D2E3FC;\n",
              "    }\n",
              "\n",
              "    [theme=dark] .colab-df-convert:hover {\n",
              "      background-color: #434B5C;\n",
              "      box-shadow: 0px 1px 3px 1px rgba(0, 0, 0, 0.15);\n",
              "      filter: drop-shadow(0px 1px 2px rgba(0, 0, 0, 0.3));\n",
              "      fill: #FFFFFF;\n",
              "    }\n",
              "  </style>\n",
              "\n",
              "      <script>\n",
              "        const buttonEl =\n",
              "          document.querySelector('#df-831153d9-3aa6-4d58-aca0-40b6a3405d09 button.colab-df-convert');\n",
              "        buttonEl.style.display =\n",
              "          google.colab.kernel.accessAllowed ? 'block' : 'none';\n",
              "\n",
              "        async function convertToInteractive(key) {\n",
              "          const element = document.querySelector('#df-831153d9-3aa6-4d58-aca0-40b6a3405d09');\n",
              "          const dataTable =\n",
              "            await google.colab.kernel.invokeFunction('convertToInteractive',\n",
              "                                                     [key], {});\n",
              "          if (!dataTable) return;\n",
              "\n",
              "          const docLinkHtml = 'Like what you see? Visit the ' +\n",
              "            '<a target=\"_blank\" href=https://colab.research.google.com/notebooks/data_table.ipynb>data table notebook</a>'\n",
              "            + ' to learn more about interactive tables.';\n",
              "          element.innerHTML = '';\n",
              "          dataTable['output_type'] = 'display_data';\n",
              "          await google.colab.output.renderOutput(dataTable, element);\n",
              "          const docLink = document.createElement('div');\n",
              "          docLink.innerHTML = docLinkHtml;\n",
              "          element.appendChild(docLink);\n",
              "        }\n",
              "      </script>\n",
              "    </div>\n",
              "  </div>\n",
              "  "
            ],
            "text/plain": [
              "                         id    latitud   longitud         place_l2 place_l3  \\\n",
              "0  d3Z0MblSb2IMBoOBMGJEEQ== -34.637319 -58.361124  Capital Federal     Boca   \n",
              "\n",
              "  operation property_type  property_rooms  property_bedrooms  \\\n",
              "0     Venta  Departamento             3.0                2.0   \n",
              "\n",
              "   property_surface_total  property_surface_covered  property_price  \\\n",
              "0                    58.0                      55.0         82900.0   \n",
              "\n",
              "  property_currency                          property_title    pxm2  \\\n",
              "0               USD  VENTA TRES AMBIENTES LA BOCA PISO ALTO  1429.0   \n",
              "\n",
              "  tipo_precio_generico                               property_description  \n",
              "0            low_price  Corredor Responsable: Gustavo Guastello - C.U....  "
            ]
          },
          "execution_count": 28,
          "metadata": {},
          "output_type": "execute_result"
        }
      ],
      "source": [
        "x_test_con_desc.head(1)"
      ]
    },
    {
      "cell_type": "code",
      "execution_count": null,
      "metadata": {
        "colab": {
          "base_uri": "https://localhost:8080/"
        },
        "id": "TRww-AlWZ96Z",
        "outputId": "df9ae149-f225-422b-b774-c7c50085e2fd"
      },
      "outputs": [
        {
          "data": {
            "text/html": [
              "\n",
              "  <div id=\"df-50e116eb-3bc6-4380-8c24-22cff76ba59f\">\n",
              "    <div class=\"colab-df-container\">\n",
              "      <div>\n",
              "<style scoped>\n",
              "    .dataframe tbody tr th:only-of-type {\n",
              "        vertical-align: middle;\n",
              "    }\n",
              "\n",
              "    .dataframe tbody tr th {\n",
              "        vertical-align: top;\n",
              "    }\n",
              "\n",
              "    .dataframe thead th {\n",
              "        text-align: right;\n",
              "    }\n",
              "</style>\n",
              "<table border=\"1\" class=\"dataframe\">\n",
              "  <thead>\n",
              "    <tr style=\"text-align: right;\">\n",
              "      <th></th>\n",
              "      <th>indice</th>\n",
              "      <th>palabra</th>\n",
              "    </tr>\n",
              "  </thead>\n",
              "  <tbody>\n",
              "    <tr>\n",
              "      <th>0</th>\n",
              "      <td>0</td>\n",
              "      <td>formando</td>\n",
              "    </tr>\n",
              "    <tr>\n",
              "      <th>1</th>\n",
              "      <td>0</td>\n",
              "      <td>parte</td>\n",
              "    </tr>\n",
              "    <tr>\n",
              "      <th>2</th>\n",
              "      <td>0</td>\n",
              "      <td>del</td>\n",
              "    </tr>\n",
              "    <tr>\n",
              "      <th>3</th>\n",
              "      <td>0</td>\n",
              "      <td>barrio</td>\n",
              "    </tr>\n",
              "    <tr>\n",
              "      <th>4</th>\n",
              "      <td>0</td>\n",
              "      <td>catalinas</td>\n",
              "    </tr>\n",
              "  </tbody>\n",
              "</table>\n",
              "</div>\n",
              "      <button class=\"colab-df-convert\" onclick=\"convertToInteractive('df-50e116eb-3bc6-4380-8c24-22cff76ba59f')\"\n",
              "              title=\"Convert this dataframe to an interactive table.\"\n",
              "              style=\"display:none;\">\n",
              "        \n",
              "  <svg xmlns=\"http://www.w3.org/2000/svg\" height=\"24px\"viewBox=\"0 0 24 24\"\n",
              "       width=\"24px\">\n",
              "    <path d=\"M0 0h24v24H0V0z\" fill=\"none\"/>\n",
              "    <path d=\"M18.56 5.44l.94 2.06.94-2.06 2.06-.94-2.06-.94-.94-2.06-.94 2.06-2.06.94zm-11 1L8.5 8.5l.94-2.06 2.06-.94-2.06-.94L8.5 2.5l-.94 2.06-2.06.94zm10 10l.94 2.06.94-2.06 2.06-.94-2.06-.94-.94-2.06-.94 2.06-2.06.94z\"/><path d=\"M17.41 7.96l-1.37-1.37c-.4-.4-.92-.59-1.43-.59-.52 0-1.04.2-1.43.59L10.3 9.45l-7.72 7.72c-.78.78-.78 2.05 0 2.83L4 21.41c.39.39.9.59 1.41.59.51 0 1.02-.2 1.41-.59l7.78-7.78 2.81-2.81c.8-.78.8-2.07 0-2.86zM5.41 20L4 18.59l7.72-7.72 1.47 1.35L5.41 20z\"/>\n",
              "  </svg>\n",
              "      </button>\n",
              "      \n",
              "  <style>\n",
              "    .colab-df-container {\n",
              "      display:flex;\n",
              "      flex-wrap:wrap;\n",
              "      gap: 12px;\n",
              "    }\n",
              "\n",
              "    .colab-df-convert {\n",
              "      background-color: #E8F0FE;\n",
              "      border: none;\n",
              "      border-radius: 50%;\n",
              "      cursor: pointer;\n",
              "      display: none;\n",
              "      fill: #1967D2;\n",
              "      height: 32px;\n",
              "      padding: 0 0 0 0;\n",
              "      width: 32px;\n",
              "    }\n",
              "\n",
              "    .colab-df-convert:hover {\n",
              "      background-color: #E2EBFA;\n",
              "      box-shadow: 0px 1px 2px rgba(60, 64, 67, 0.3), 0px 1px 3px 1px rgba(60, 64, 67, 0.15);\n",
              "      fill: #174EA6;\n",
              "    }\n",
              "\n",
              "    [theme=dark] .colab-df-convert {\n",
              "      background-color: #3B4455;\n",
              "      fill: #D2E3FC;\n",
              "    }\n",
              "\n",
              "    [theme=dark] .colab-df-convert:hover {\n",
              "      background-color: #434B5C;\n",
              "      box-shadow: 0px 1px 3px 1px rgba(0, 0, 0, 0.15);\n",
              "      filter: drop-shadow(0px 1px 2px rgba(0, 0, 0, 0.3));\n",
              "      fill: #FFFFFF;\n",
              "    }\n",
              "  </style>\n",
              "\n",
              "      <script>\n",
              "        const buttonEl =\n",
              "          document.querySelector('#df-50e116eb-3bc6-4380-8c24-22cff76ba59f button.colab-df-convert');\n",
              "        buttonEl.style.display =\n",
              "          google.colab.kernel.accessAllowed ? 'block' : 'none';\n",
              "\n",
              "        async function convertToInteractive(key) {\n",
              "          const element = document.querySelector('#df-50e116eb-3bc6-4380-8c24-22cff76ba59f');\n",
              "          const dataTable =\n",
              "            await google.colab.kernel.invokeFunction('convertToInteractive',\n",
              "                                                     [key], {});\n",
              "          if (!dataTable) return;\n",
              "\n",
              "          const docLinkHtml = 'Like what you see? Visit the ' +\n",
              "            '<a target=\"_blank\" href=https://colab.research.google.com/notebooks/data_table.ipynb>data table notebook</a>'\n",
              "            + ' to learn more about interactive tables.';\n",
              "          element.innerHTML = '';\n",
              "          dataTable['output_type'] = 'display_data';\n",
              "          await google.colab.output.renderOutput(dataTable, element);\n",
              "          const docLink = document.createElement('div');\n",
              "          docLink.innerHTML = docLinkHtml;\n",
              "          element.appendChild(docLink);\n",
              "        }\n",
              "      </script>\n",
              "    </div>\n",
              "  </div>\n",
              "  "
            ],
            "text/plain": [
              "   indice    palabra\n",
              "0       0   formando\n",
              "1       0      parte\n",
              "2       0        del\n",
              "3       0     barrio\n",
              "4       0  catalinas"
            ]
          },
          "execution_count": 29,
          "metadata": {},
          "output_type": "execute_result"
        }
      ],
      "source": [
        "ds_cada_palabra_train.head(5)"
      ]
    },
    {
      "cell_type": "code",
      "execution_count": null,
      "metadata": {
        "colab": {
          "base_uri": "https://localhost:8080/"
        },
        "id": "amdsWCIaaCCq",
        "outputId": "8a7a6386-7f86-480d-9e74-933188267484"
      },
      "outputs": [
        {
          "data": {
            "text/html": [
              "\n",
              "  <div id=\"df-640ebf93-1851-44c0-b342-a2d0643f6635\">\n",
              "    <div class=\"colab-df-container\">\n",
              "      <div>\n",
              "<style scoped>\n",
              "    .dataframe tbody tr th:only-of-type {\n",
              "        vertical-align: middle;\n",
              "    }\n",
              "\n",
              "    .dataframe tbody tr th {\n",
              "        vertical-align: top;\n",
              "    }\n",
              "\n",
              "    .dataframe thead th {\n",
              "        text-align: right;\n",
              "    }\n",
              "</style>\n",
              "<table border=\"1\" class=\"dataframe\">\n",
              "  <thead>\n",
              "    <tr style=\"text-align: right;\">\n",
              "      <th></th>\n",
              "      <th>indice</th>\n",
              "      <th>palabra</th>\n",
              "    </tr>\n",
              "  </thead>\n",
              "  <tbody>\n",
              "    <tr>\n",
              "      <th>0</th>\n",
              "      <td>0</td>\n",
              "      <td>corredor</td>\n",
              "    </tr>\n",
              "    <tr>\n",
              "      <th>1</th>\n",
              "      <td>0</td>\n",
              "      <td>responsable:</td>\n",
              "    </tr>\n",
              "    <tr>\n",
              "      <th>2</th>\n",
              "      <td>0</td>\n",
              "      <td>gustavo</td>\n",
              "    </tr>\n",
              "    <tr>\n",
              "      <th>3</th>\n",
              "      <td>0</td>\n",
              "      <td>guastello</td>\n",
              "    </tr>\n",
              "    <tr>\n",
              "      <th>4</th>\n",
              "      <td>0</td>\n",
              "      <td>-</td>\n",
              "    </tr>\n",
              "  </tbody>\n",
              "</table>\n",
              "</div>\n",
              "      <button class=\"colab-df-convert\" onclick=\"convertToInteractive('df-640ebf93-1851-44c0-b342-a2d0643f6635')\"\n",
              "              title=\"Convert this dataframe to an interactive table.\"\n",
              "              style=\"display:none;\">\n",
              "        \n",
              "  <svg xmlns=\"http://www.w3.org/2000/svg\" height=\"24px\"viewBox=\"0 0 24 24\"\n",
              "       width=\"24px\">\n",
              "    <path d=\"M0 0h24v24H0V0z\" fill=\"none\"/>\n",
              "    <path d=\"M18.56 5.44l.94 2.06.94-2.06 2.06-.94-2.06-.94-.94-2.06-.94 2.06-2.06.94zm-11 1L8.5 8.5l.94-2.06 2.06-.94-2.06-.94L8.5 2.5l-.94 2.06-2.06.94zm10 10l.94 2.06.94-2.06 2.06-.94-2.06-.94-.94-2.06-.94 2.06-2.06.94z\"/><path d=\"M17.41 7.96l-1.37-1.37c-.4-.4-.92-.59-1.43-.59-.52 0-1.04.2-1.43.59L10.3 9.45l-7.72 7.72c-.78.78-.78 2.05 0 2.83L4 21.41c.39.39.9.59 1.41.59.51 0 1.02-.2 1.41-.59l7.78-7.78 2.81-2.81c.8-.78.8-2.07 0-2.86zM5.41 20L4 18.59l7.72-7.72 1.47 1.35L5.41 20z\"/>\n",
              "  </svg>\n",
              "      </button>\n",
              "      \n",
              "  <style>\n",
              "    .colab-df-container {\n",
              "      display:flex;\n",
              "      flex-wrap:wrap;\n",
              "      gap: 12px;\n",
              "    }\n",
              "\n",
              "    .colab-df-convert {\n",
              "      background-color: #E8F0FE;\n",
              "      border: none;\n",
              "      border-radius: 50%;\n",
              "      cursor: pointer;\n",
              "      display: none;\n",
              "      fill: #1967D2;\n",
              "      height: 32px;\n",
              "      padding: 0 0 0 0;\n",
              "      width: 32px;\n",
              "    }\n",
              "\n",
              "    .colab-df-convert:hover {\n",
              "      background-color: #E2EBFA;\n",
              "      box-shadow: 0px 1px 2px rgba(60, 64, 67, 0.3), 0px 1px 3px 1px rgba(60, 64, 67, 0.15);\n",
              "      fill: #174EA6;\n",
              "    }\n",
              "\n",
              "    [theme=dark] .colab-df-convert {\n",
              "      background-color: #3B4455;\n",
              "      fill: #D2E3FC;\n",
              "    }\n",
              "\n",
              "    [theme=dark] .colab-df-convert:hover {\n",
              "      background-color: #434B5C;\n",
              "      box-shadow: 0px 1px 3px 1px rgba(0, 0, 0, 0.15);\n",
              "      filter: drop-shadow(0px 1px 2px rgba(0, 0, 0, 0.3));\n",
              "      fill: #FFFFFF;\n",
              "    }\n",
              "  </style>\n",
              "\n",
              "      <script>\n",
              "        const buttonEl =\n",
              "          document.querySelector('#df-640ebf93-1851-44c0-b342-a2d0643f6635 button.colab-df-convert');\n",
              "        buttonEl.style.display =\n",
              "          google.colab.kernel.accessAllowed ? 'block' : 'none';\n",
              "\n",
              "        async function convertToInteractive(key) {\n",
              "          const element = document.querySelector('#df-640ebf93-1851-44c0-b342-a2d0643f6635');\n",
              "          const dataTable =\n",
              "            await google.colab.kernel.invokeFunction('convertToInteractive',\n",
              "                                                     [key], {});\n",
              "          if (!dataTable) return;\n",
              "\n",
              "          const docLinkHtml = 'Like what you see? Visit the ' +\n",
              "            '<a target=\"_blank\" href=https://colab.research.google.com/notebooks/data_table.ipynb>data table notebook</a>'\n",
              "            + ' to learn more about interactive tables.';\n",
              "          element.innerHTML = '';\n",
              "          dataTable['output_type'] = 'display_data';\n",
              "          await google.colab.output.renderOutput(dataTable, element);\n",
              "          const docLink = document.createElement('div');\n",
              "          docLink.innerHTML = docLinkHtml;\n",
              "          element.appendChild(docLink);\n",
              "        }\n",
              "      </script>\n",
              "    </div>\n",
              "  </div>\n",
              "  "
            ],
            "text/plain": [
              "   indice       palabra\n",
              "0       0      corredor\n",
              "1       0  responsable:\n",
              "2       0       gustavo\n",
              "3       0     guastello\n",
              "4       0             -"
            ]
          },
          "execution_count": 30,
          "metadata": {},
          "output_type": "execute_result"
        }
      ],
      "source": [
        "ds_cada_palabra_test.head(5)"
      ]
    },
    {
      "cell_type": "code",
      "execution_count": null,
      "metadata": {
        "id": "3bMl4XWeoL2F"
      },
      "outputs": [],
      "source": [
        "# función auxiliar para mostrar gráficos completos \n",
        "def mostrar_metadata_grafico(titulo, ylabel=None, xlabel=None, leyendas=None):\n",
        "  plt.title(titulo)\n",
        "  if ylabel:\n",
        "    plt.ylabel = ylabel\n",
        "  if xlabel:\n",
        "    plt.xlabel = xlabel\n",
        "  if leyendas:\n",
        "    plt.legend = leyendas\n",
        "  plt.show()"
      ]
    },
    {
      "cell_type": "markdown",
      "metadata": {
        "id": "EigQ5AL3QjTV"
      },
      "source": [
        "# Ampliación del dataset"
      ]
    },
    {
      "cell_type": "markdown",
      "metadata": {
        "id": "UElSd7GhQo0f"
      },
      "source": [
        "Utilizaremos la columna descripción para encontrar aspectos de una propiedad. Luego utilizaremos esos aspectos para crear nuevas columnas y ampliar el detaset original."
      ]
    },
    {
      "cell_type": "markdown",
      "metadata": {
        "id": "KrMtxL1KU0OQ"
      },
      "source": [
        "Definimos una nueva función buscar_palabra para que se puedan buscar palabras (en el dataset que se pase por parametro) en una columna específica. "
      ]
    },
    {
      "cell_type": "code",
      "execution_count": null,
      "metadata": {
        "id": "LoqXjDj5gKro"
      },
      "outputs": [],
      "source": [
        "def buscar_palabra(ds=ds_cada_palabra_train,nombre=None):\n",
        "  ds_palabra_buscada = ds[0:0]#creo el ds en estado vacio pero conservo las columnas\n",
        "  for i in range(len(nombre)):\n",
        "    con_coma_despues = nombre[i]+',' # concateno una coma\n",
        "\n",
        "    ds_post_coma = ds[(ds['palabra'] == con_coma_despues)] # filtro por palabra buscada\n",
        "    ds_aux = ds[(ds['palabra'] == nombre[i])]              # filtro por palabra buscada con coma \n",
        "    ds_palabra_buscada = pd.concat([ds_palabra_buscada, ds_aux, ds_post_coma])  #concateno ambos ds filtrados formando uno solo\n",
        "\n",
        "  return ds_palabra_buscada"
      ]
    },
    {
      "cell_type": "markdown",
      "metadata": {
        "id": "qQkJEm-wONjg"
      },
      "source": [
        "Definimos una nueva función mostrar_frecuencias para poder graficar las frecuencias de ciertas palabras en un dataset. "
      ]
    },
    {
      "cell_type": "code",
      "execution_count": null,
      "metadata": {
        "id": "9owt5fqNi9Fp"
      },
      "outputs": [],
      "source": [
        "def mostrar_frecuencias(df, columna='palabra', ancho=25, alto=10):\n",
        "    frecuencia_por_valor = df.groupby(columna).size().to_frame(\"frecuencia\")\n",
        "    frecuencia_por_valor = frecuencia_por_valor.sort_values(by=\"frecuencia\", ascending=False).reset_index()\n",
        "    frecuencia_por_valor.head(40).plot.bar(x=columna, y=\"frecuencia\", figsize=(ancho, alto))\n",
        "    mostrar_metadata_grafico(f\"frecuencias de valores posibles de {columna}\", ylabel=\"frecuencia\", xlabel=\"valores posibles\")"
      ]
    },
    {
      "cell_type": "markdown",
      "metadata": {
        "id": "bx30ajssQeF8"
      },
      "source": [
        "## Procesamiento del Lenguaje Natural"
      ]
    },
    {
      "cell_type": "markdown",
      "metadata": {
        "id": "mDqyrSoVaNJT"
      },
      "source": [
        "#### Análisis de frecuencias "
      ]
    },
    {
      "cell_type": "markdown",
      "metadata": {
        "id": "ooPSfv4GQw2z"
      },
      "source": [
        "En principio, analizaremos las frases o valores repetidos."
      ]
    },
    {
      "cell_type": "markdown",
      "metadata": {
        "id": "N7_n0tbfaiiy"
      },
      "source": [
        "Para filtrar palabras comunmente conocidas en las descripciones de una propiedad creamos un arreglo de palabras en las cuales no queremos detenerlos por el momento. La idea es encontrar frecuencias altas de palabras que nos puedan cambiar en el analisis."
      ]
    },
    {
      "cell_type": "markdown",
      "metadata": {
        "id": "AHbQhbZIOdxI"
      },
      "source": [
        "Agregamos ciertas palabras comunes presentes en las descripciones de cada propiedad. Dentro de este grupo se encuentran preposiciones, numeros, signos de puntación, entre otros."
      ]
    },
    {
      "cell_type": "code",
      "execution_count": null,
      "metadata": {
        "id": "sb2Tab7OUHhS"
      },
      "outputs": [],
      "source": [
        "palabras_comunes = [',', '.','a', 'ante', 'bajo', 'cabe', 'con', 'contra', 'de', 'desde', 'durante', 'en', 'entre', 'hacia', 'hasta','mediante', 'para', 'por', 'según', 'sin', 'so', 'sobre', 'tras', 'versus', 'vía', 'y', 'el', 'o', 'la', 'del', 'al', 'que', 'un', 'las', 'los', 'se', 'una', 'son', 'es', '1', '2', '3', '4', '5', '6', '7', '8', '9', '10', '11', '12',\n",
        "'casa', 'departamento', 'ph', 'dos', 'tres', 'cuatro', 'cinco', 'seis', 'siete','1','1°','1er', '2', '2°', '2do','3', '3°', '3er','4', '4°', '4to','5', '5°', '5to','6', '6°', '6to','7', '7°', '7mo','8', '8°', '8vo',\n",
        "'9', '9°', '9no','10', '10°', '10mo','11', '11°','primer','segundo', 'tercer', 'cuarto', 'quinto','sexto', 'septimo', 'octavo', 'noveno', 'decimo', '-', '_', 'no', 'ambientes',\n",
        "'muy', 'x', 'tu', '/', 'dormitorio', 'valor', 'esta', 'corredor', 'inmueble', 'edificio', 'responsable:', ':', '<br>', '...', 'hs', 'master', 'medidas', 'propiedad.', 'cuenta', 'excelente', '\\n\\n', '#',\n",
        " 'm2', 'querés!', 'podés.', 'personas', 'encuentra', 'ley', 'dormitorios', 'id', 'comprá', '\\n\\n ', '<br>', 'seg', 'accede', 'ser', 'su', 'propiedad', 'accedé', 'todos', 'metros',\n",
        "  'venta', 'barrio', 'zona', 'lo', 'como', 'todo', 'tiene', 'puede', 'operación', 'operaciones','propietario', 'valores', '__________________________________________________________________________', '____________________________estado']"
      ]
    },
    {
      "cell_type": "markdown",
      "metadata": {
        "id": "9es2xcCAbTbh"
      },
      "source": [
        "Filtraremos aquellas palabras que tengan una frecuencia de 1, las palabras comunes mencionadas arriba, y unas /n/n que encontramos haciendo el analisis."
      ]
    },
    {
      "cell_type": "code",
      "execution_count": null,
      "metadata": {
        "id": "oG4zvbsdcZoL"
      },
      "outputs": [],
      "source": [
        "barras_n = ds_cada_palabra_train[ds_cada_palabra_train['palabra'].map(ds_cada_palabra_train['palabra'].value_counts()) == 18119].palabra.values # palabras /n de diferentes tipos\n",
        "frec_igual_a_uno = ds_cada_palabra_train[ds_cada_palabra_train['palabra'].map(ds_cada_palabra_train['palabra'].value_counts()) == 1].palabra.values"
      ]
    },
    {
      "cell_type": "code",
      "execution_count": null,
      "metadata": {
        "id": "LoqZE-VaU7Yy"
      },
      "outputs": [],
      "source": [
        "ds_sin_palabras_comunes = ds_cada_palabra_train[~ds_cada_palabra_train.palabra.isin(palabras_comunes)]\n",
        "ds_sin_palabras_comunes = ds_sin_palabras_comunes[~ds_sin_palabras_comunes.palabra.isin(barras_n)]\n",
        "ds_sin_palabras_comunes = ds_sin_palabras_comunes[~ds_sin_palabras_comunes.palabra.isin(frec_igual_a_uno)]"
      ]
    },
    {
      "cell_type": "markdown",
      "metadata": {
        "id": "GAI3VnDdQs4a"
      },
      "source": [
        "Se analizará la frecuencia de las palabras en el dataset, evitando aquellas que son muy comunes en las descripciones de las propiedades."
      ]
    },
    {
      "cell_type": "code",
      "execution_count": null,
      "metadata": {
        "colab": {
          "base_uri": "https://localhost:8080/",
          "height": 689
        },
        "id": "O4tGiR14i-IM",
        "outputId": "d659dd40-40ac-410d-ff2d-efce63befd37"
      },
      "outputs": [
        {
          "data": {
            "image/png": "[encoded data removed]",
            "text/plain": [
              "<Figure size 1800x720 with 1 Axes>"
            ]
          },
          "metadata": {},
          "output_type": "display_data"
        }
      ],
      "source": [
        "mostrar_frecuencias(ds_sin_palabras_comunes)"
      ]
    },
    {
      "cell_type": "markdown",
      "metadata": {
        "id": "_hG2io9Qo6ZQ"
      },
      "source": [
        "Una vez analizada la frecuencia de las palabras anteriores, nos dimos cuenta que encontramos palabras que son obvias en una descripcion que no se nos habian ocurrido antes. Decidimos eliminarlas y repetir el analisis."
      ]
    },
    {
      "cell_type": "code",
      "execution_count": null,
      "metadata": {
        "id": "EbgRUTYAkIrM"
      },
      "outputs": [],
      "source": [
        "palabras_obvias = ['cocina', 'baño', 'piso', 'comedor', 'living', 'balcon', 'pisos', 'amplio', 'gran', 'vista', 'aire', 'terraza', 'metros', 'placard',\n",
        "                   'lavadero','planta', 'patio', 'balcón', 'cochera']\n",
        "ds_sin_palabras_obvias = ds_sin_palabras_comunes[~ds_sin_palabras_comunes.palabra.isin(palabras_obvias)]"
      ]
    },
    {
      "cell_type": "code",
      "execution_count": null,
      "metadata": {
        "colab": {
          "base_uri": "https://localhost:8080/",
          "height": 689
        },
        "id": "96blkMPEnq3y",
        "outputId": "b80a94bd-75d6-4442-ffd0-ee55e8ebef88"
      },
      "outputs": [
        {
          "data": {
            "image/png": "[encoded data removed]",
            "text/plain": [
              "<Figure size 1800x720 with 1 Axes>"
            ]
          },
          "metadata": {},
          "output_type": "display_data"
        }
      ],
      "source": [
        "mostrar_frecuencias(ds_sin_palabras_obvias)"
      ]
    },
    {
      "cell_type": "markdown",
      "metadata": {
        "id": "BR33ouYjuweR"
      },
      "source": [
        "Nos llamo la atencion que la palabra \"simula\" tiene una muy alta frecuencia, por lo tanto analizaremos sus palabras contiguas para entender la razón de su elevada frecuencia."
      ]
    },
    {
      "cell_type": "code",
      "execution_count": null,
      "metadata": {
        "colab": {
          "base_uri": "https://localhost:8080/"
        },
        "id": "UCkKBuJFq5Ms",
        "outputId": "92d81081-8330-425a-880f-1f41e320209d"
      },
      "outputs": [
        {
          "name": "stdout",
          "output_type": "stream",
          "text": [
            "-------------------------------------------------\n",
            "Simula + ...\n",
            "tu    22192\n",
            "Name: palabra, dtype: int64\n",
            "-------------------------------------------------\n",
            "Simula + ... + ...\n",
            "cuota       22144\n",
            "préstamo       27\n",
            "crédito        12\n",
            "Name: palabra, dtype: int64\n",
            "-------------------------------------------------\n",
            "Simula + ... + ... + ...\n",
            "en            22147\n",
            "ingresando       25\n",
            "\\n\\n              4\n",
            "Name: palabra, dtype: int64\n",
            "-------------------------------------------------\n",
            "Simula + ... + ... + ... + ...\n",
            "lendar        22095\n",
            "a                25\n",
            "lendartoda       16\n",
            "Name: palabra, dtype: int64\n"
          ]
        }
      ],
      "source": [
        "ds_simula = buscar_palabra(nombre=['simulá'])\n",
        "indices_simula = ds_simula.index\n",
        "\n",
        "simula_mas_1=ds_cada_palabra_train.loc[indices_simula+1]\n",
        "simula_mas_2=ds_cada_palabra_train.loc[indices_simula+2]\n",
        "simula_mas_3=ds_cada_palabra_train.loc[indices_simula+3]\n",
        "simula_mas_4=ds_cada_palabra_train.loc[indices_simula+4]\n",
        "\n",
        "print('-------------------------------------------------')\n",
        "print(\"Simula + ...\")\n",
        "print(simula_mas_1.palabra.value_counts().head(3))\n",
        "print('-------------------------------------------------')\n",
        "print(\"Simula + ... + ...\")\n",
        "print(simula_mas_2.palabra.value_counts().head(3))\n",
        "print('-------------------------------------------------')\n",
        "print(\"Simula + ... + ... + ...\")\n",
        "print(simula_mas_3.palabra.value_counts().head(3))\n",
        "print('-------------------------------------------------')\n",
        "print(\"Simula + ... + ... + ... + ...\")\n",
        "print(simula_mas_4.palabra.value_counts().head(3))\n"
      ]
    },
    {
      "cell_type": "markdown",
      "metadata": {
        "id": "nf42xMeVtkJw"
      },
      "source": [
        "Vemos que en la mayoria de los casos en los cual aparece la palabra \"simulá\" en una descripcion, termina formando la frase \"Simulá tu cuota en Lendar\"."
      ]
    },
    {
      "cell_type": "markdown",
      "metadata": {
        "id": "kI1CKrT4gN3y"
      },
      "source": [
        "Al investigar encontramos que Lendar conecta directamente a personas que necesitan fondos para comprar o refaccionar su casa con personas que tienen disponibilidad de fondos para invertir."
      ]
    },
    {
      "cell_type": "markdown",
      "metadata": {
        "id": "Ct8FTKq8vdie"
      },
      "source": [
        "#### Análisis de frecuencias de posibles features"
      ]
    },
    {
      "cell_type": "markdown",
      "metadata": {
        "id": "7sUkPNyhVIEq"
      },
      "source": [
        "Definimos los amenities que se pueden llegar a tener en un departamento para luego buscar estas palabras en el dataset original y crear un dataset de amenities, donde se tiene por cada fila el id que tenga dicho amenity."
      ]
    },
    {
      "cell_type": "code",
      "execution_count": null,
      "metadata": {
        "id": "EWBKmeBG23WW"
      },
      "outputs": [],
      "source": [
        "amenities = ['gym', 'gimnasio', 'spa', 'jacuzzi', 'pileta', 'piscina', 'alberca', 'solarium', 'sum', 'quincho', 'sauna', 'lavadero', 'baulera', 'atico', 'ático', 'altillo', 'sotano', 'sótano', 'parrilla', 'garage', 'cochera', 'estacionamiento']\n",
        "ds_amenities = buscar_palabra(nombre=amenities)"
      ]
    },
    {
      "cell_type": "code",
      "execution_count": null,
      "metadata": {
        "colab": {
          "base_uri": "https://localhost:8080/",
          "height": 206
        },
        "id": "8cHuz4QjhOSJ",
        "outputId": "1fc87756-8349-4e1b-e456-dd1685a6edb1"
      },
      "outputs": [
        {
          "data": {
            "text/html": [
              "\n",
              "  <div id=\"df-1c2e6f2c-5a07-4775-a5c2-7a5ae9be8c45\">\n",
              "    <div class=\"colab-df-container\">\n",
              "      <div>\n",
              "<style scoped>\n",
              "    .dataframe tbody tr th:only-of-type {\n",
              "        vertical-align: middle;\n",
              "    }\n",
              "\n",
              "    .dataframe tbody tr th {\n",
              "        vertical-align: top;\n",
              "    }\n",
              "\n",
              "    .dataframe thead th {\n",
              "        text-align: right;\n",
              "    }\n",
              "</style>\n",
              "<table border=\"1\" class=\"dataframe\">\n",
              "  <thead>\n",
              "    <tr style=\"text-align: right;\">\n",
              "      <th></th>\n",
              "      <th>indice</th>\n",
              "      <th>palabra</th>\n",
              "    </tr>\n",
              "  </thead>\n",
              "  <tbody>\n",
              "    <tr>\n",
              "      <th>7256</th>\n",
              "      <td>36</td>\n",
              "      <td>gym</td>\n",
              "    </tr>\n",
              "    <tr>\n",
              "      <th>40935</th>\n",
              "      <td>205</td>\n",
              "      <td>gym</td>\n",
              "    </tr>\n",
              "    <tr>\n",
              "      <th>45056</th>\n",
              "      <td>226</td>\n",
              "      <td>gym</td>\n",
              "    </tr>\n",
              "    <tr>\n",
              "      <th>48443</th>\n",
              "      <td>242</td>\n",
              "      <td>gym</td>\n",
              "    </tr>\n",
              "    <tr>\n",
              "      <th>103698</th>\n",
              "      <td>485</td>\n",
              "      <td>gym</td>\n",
              "    </tr>\n",
              "  </tbody>\n",
              "</table>\n",
              "</div>\n",
              "      <button class=\"colab-df-convert\" onclick=\"convertToInteractive('df-1c2e6f2c-5a07-4775-a5c2-7a5ae9be8c45')\"\n",
              "              title=\"Convert this dataframe to an interactive table.\"\n",
              "              style=\"display:none;\">\n",
              "        \n",
              "  <svg xmlns=\"http://www.w3.org/2000/svg\" height=\"24px\"viewBox=\"0 0 24 24\"\n",
              "       width=\"24px\">\n",
              "    <path d=\"M0 0h24v24H0V0z\" fill=\"none\"/>\n",
              "    <path d=\"M18.56 5.44l.94 2.06.94-2.06 2.06-.94-2.06-.94-.94-2.06-.94 2.06-2.06.94zm-11 1L8.5 8.5l.94-2.06 2.06-.94-2.06-.94L8.5 2.5l-.94 2.06-2.06.94zm10 10l.94 2.06.94-2.06 2.06-.94-2.06-.94-.94-2.06-.94 2.06-2.06.94z\"/><path d=\"M17.41 7.96l-1.37-1.37c-.4-.4-.92-.59-1.43-.59-.52 0-1.04.2-1.43.59L10.3 9.45l-7.72 7.72c-.78.78-.78 2.05 0 2.83L4 21.41c.39.39.9.59 1.41.59.51 0 1.02-.2 1.41-.59l7.78-7.78 2.81-2.81c.8-.78.8-2.07 0-2.86zM5.41 20L4 18.59l7.72-7.72 1.47 1.35L5.41 20z\"/>\n",
              "  </svg>\n",
              "      </button>\n",
              "      \n",
              "  <style>\n",
              "    .colab-df-container {\n",
              "      display:flex;\n",
              "      flex-wrap:wrap;\n",
              "      gap: 12px;\n",
              "    }\n",
              "\n",
              "    .colab-df-convert {\n",
              "      background-color: #E8F0FE;\n",
              "      border: none;\n",
              "      border-radius: 50%;\n",
              "      cursor: pointer;\n",
              "      display: none;\n",
              "      fill: #1967D2;\n",
              "      height: 32px;\n",
              "      padding: 0 0 0 0;\n",
              "      width: 32px;\n",
              "    }\n",
              "\n",
              "    .colab-df-convert:hover {\n",
              "      background-color: #E2EBFA;\n",
              "      box-shadow: 0px 1px 2px rgba(60, 64, 67, 0.3), 0px 1px 3px 1px rgba(60, 64, 67, 0.15);\n",
              "      fill: #174EA6;\n",
              "    }\n",
              "\n",
              "    [theme=dark] .colab-df-convert {\n",
              "      background-color: #3B4455;\n",
              "      fill: #D2E3FC;\n",
              "    }\n",
              "\n",
              "    [theme=dark] .colab-df-convert:hover {\n",
              "      background-color: #434B5C;\n",
              "      box-shadow: 0px 1px 3px 1px rgba(0, 0, 0, 0.15);\n",
              "      filter: drop-shadow(0px 1px 2px rgba(0, 0, 0, 0.3));\n",
              "      fill: #FFFFFF;\n",
              "    }\n",
              "  </style>\n",
              "\n",
              "      <script>\n",
              "        const buttonEl =\n",
              "          document.querySelector('#df-1c2e6f2c-5a07-4775-a5c2-7a5ae9be8c45 button.colab-df-convert');\n",
              "        buttonEl.style.display =\n",
              "          google.colab.kernel.accessAllowed ? 'block' : 'none';\n",
              "\n",
              "        async function convertToInteractive(key) {\n",
              "          const element = document.querySelector('#df-1c2e6f2c-5a07-4775-a5c2-7a5ae9be8c45');\n",
              "          const dataTable =\n",
              "            await google.colab.kernel.invokeFunction('convertToInteractive',\n",
              "                                                     [key], {});\n",
              "          if (!dataTable) return;\n",
              "\n",
              "          const docLinkHtml = 'Like what you see? Visit the ' +\n",
              "            '<a target=\"_blank\" href=https://colab.research.google.com/notebooks/data_table.ipynb>data table notebook</a>'\n",
              "            + ' to learn more about interactive tables.';\n",
              "          element.innerHTML = '';\n",
              "          dataTable['output_type'] = 'display_data';\n",
              "          await google.colab.output.renderOutput(dataTable, element);\n",
              "          const docLink = document.createElement('div');\n",
              "          docLink.innerHTML = docLinkHtml;\n",
              "          element.appendChild(docLink);\n",
              "        }\n",
              "      </script>\n",
              "    </div>\n",
              "  </div>\n",
              "  "
            ],
            "text/plain": [
              "        indice palabra\n",
              "7256        36     gym\n",
              "40935      205     gym\n",
              "45056      226     gym\n",
              "48443      242     gym\n",
              "103698     485     gym"
            ]
          },
          "execution_count": 42,
          "metadata": {},
          "output_type": "execute_result"
        }
      ],
      "source": [
        "ds_amenities.head(5)"
      ]
    },
    {
      "cell_type": "code",
      "execution_count": null,
      "metadata": {
        "colab": {
          "base_uri": "https://localhost:8080/"
        },
        "id": "EYfWckttXR_L",
        "outputId": "08b91331-da7d-4b85-d377-8fdede3a1103"
      },
      "outputs": [
        {
          "name": "stdout",
          "output_type": "stream",
          "text": [
            "Hay 91338 filas con amenities\n"
          ]
        }
      ],
      "source": [
        "print(f\"Hay \" + str(ds_amenities.shape[0]) + \" filas con amenities\")"
      ]
    },
    {
      "cell_type": "markdown",
      "metadata": {
        "id": "GY3jNLSKXXqN"
      },
      "source": [
        "Realizamos el mismo procedimiento con las palabras \"terraza\", \"patio\" y sus palabras relacionadas, creando un nuevo dataset de patio_balcon"
      ]
    },
    {
      "cell_type": "code",
      "execution_count": null,
      "metadata": {
        "id": "tr_SngBZXpxB"
      },
      "outputs": [],
      "source": [
        "ds_patio_balcon = buscar_palabra(nombre=['terraza', 'patio', 'jardin', 'jardín', 'balcon', 'balcón'])"
      ]
    },
    {
      "cell_type": "code",
      "execution_count": null,
      "metadata": {
        "colab": {
          "base_uri": "https://localhost:8080/",
          "height": 206
        },
        "id": "rrQ3w2BhhT26",
        "outputId": "ef5881d3-2927-4afe-9dd2-7d1b3f08684c"
      },
      "outputs": [
        {
          "data": {
            "text/html": [
              "\n",
              "  <div id=\"df-a564f1e7-391d-4b9b-85bc-2aa63d7760a8\">\n",
              "    <div class=\"colab-df-container\">\n",
              "      <div>\n",
              "<style scoped>\n",
              "    .dataframe tbody tr th:only-of-type {\n",
              "        vertical-align: middle;\n",
              "    }\n",
              "\n",
              "    .dataframe tbody tr th {\n",
              "        vertical-align: top;\n",
              "    }\n",
              "\n",
              "    .dataframe thead th {\n",
              "        text-align: right;\n",
              "    }\n",
              "</style>\n",
              "<table border=\"1\" class=\"dataframe\">\n",
              "  <thead>\n",
              "    <tr style=\"text-align: right;\">\n",
              "      <th></th>\n",
              "      <th>indice</th>\n",
              "      <th>palabra</th>\n",
              "    </tr>\n",
              "  </thead>\n",
              "  <tbody>\n",
              "    <tr>\n",
              "      <th>457</th>\n",
              "      <td>3</td>\n",
              "      <td>terraza</td>\n",
              "    </tr>\n",
              "    <tr>\n",
              "      <th>540</th>\n",
              "      <td>3</td>\n",
              "      <td>terraza</td>\n",
              "    </tr>\n",
              "    <tr>\n",
              "      <th>1806</th>\n",
              "      <td>10</td>\n",
              "      <td>terraza</td>\n",
              "    </tr>\n",
              "    <tr>\n",
              "      <th>3979</th>\n",
              "      <td>17</td>\n",
              "      <td>terraza</td>\n",
              "    </tr>\n",
              "    <tr>\n",
              "      <th>5914</th>\n",
              "      <td>26</td>\n",
              "      <td>terraza</td>\n",
              "    </tr>\n",
              "  </tbody>\n",
              "</table>\n",
              "</div>\n",
              "      <button class=\"colab-df-convert\" onclick=\"convertToInteractive('df-a564f1e7-391d-4b9b-85bc-2aa63d7760a8')\"\n",
              "              title=\"Convert this dataframe to an interactive table.\"\n",
              "              style=\"display:none;\">\n",
              "        \n",
              "  <svg xmlns=\"http://www.w3.org/2000/svg\" height=\"24px\"viewBox=\"0 0 24 24\"\n",
              "       width=\"24px\">\n",
              "    <path d=\"M0 0h24v24H0V0z\" fill=\"none\"/>\n",
              "    <path d=\"M18.56 5.44l.94 2.06.94-2.06 2.06-.94-2.06-.94-.94-2.06-.94 2.06-2.06.94zm-11 1L8.5 8.5l.94-2.06 2.06-.94-2.06-.94L8.5 2.5l-.94 2.06-2.06.94zm10 10l.94 2.06.94-2.06 2.06-.94-2.06-.94-.94-2.06-.94 2.06-2.06.94z\"/><path d=\"M17.41 7.96l-1.37-1.37c-.4-.4-.92-.59-1.43-.59-.52 0-1.04.2-1.43.59L10.3 9.45l-7.72 7.72c-.78.78-.78 2.05 0 2.83L4 21.41c.39.39.9.59 1.41.59.51 0 1.02-.2 1.41-.59l7.78-7.78 2.81-2.81c.8-.78.8-2.07 0-2.86zM5.41 20L4 18.59l7.72-7.72 1.47 1.35L5.41 20z\"/>\n",
              "  </svg>\n",
              "      </button>\n",
              "      \n",
              "  <style>\n",
              "    .colab-df-container {\n",
              "      display:flex;\n",
              "      flex-wrap:wrap;\n",
              "      gap: 12px;\n",
              "    }\n",
              "\n",
              "    .colab-df-convert {\n",
              "      background-color: #E8F0FE;\n",
              "      border: none;\n",
              "      border-radius: 50%;\n",
              "      cursor: pointer;\n",
              "      display: none;\n",
              "      fill: #1967D2;\n",
              "      height: 32px;\n",
              "      padding: 0 0 0 0;\n",
              "      width: 32px;\n",
              "    }\n",
              "\n",
              "    .colab-df-convert:hover {\n",
              "      background-color: #E2EBFA;\n",
              "      box-shadow: 0px 1px 2px rgba(60, 64, 67, 0.3), 0px 1px 3px 1px rgba(60, 64, 67, 0.15);\n",
              "      fill: #174EA6;\n",
              "    }\n",
              "\n",
              "    [theme=dark] .colab-df-convert {\n",
              "      background-color: #3B4455;\n",
              "      fill: #D2E3FC;\n",
              "    }\n",
              "\n",
              "    [theme=dark] .colab-df-convert:hover {\n",
              "      background-color: #434B5C;\n",
              "      box-shadow: 0px 1px 3px 1px rgba(0, 0, 0, 0.15);\n",
              "      filter: drop-shadow(0px 1px 2px rgba(0, 0, 0, 0.3));\n",
              "      fill: #FFFFFF;\n",
              "    }\n",
              "  </style>\n",
              "\n",
              "      <script>\n",
              "        const buttonEl =\n",
              "          document.querySelector('#df-a564f1e7-391d-4b9b-85bc-2aa63d7760a8 button.colab-df-convert');\n",
              "        buttonEl.style.display =\n",
              "          google.colab.kernel.accessAllowed ? 'block' : 'none';\n",
              "\n",
              "        async function convertToInteractive(key) {\n",
              "          const element = document.querySelector('#df-a564f1e7-391d-4b9b-85bc-2aa63d7760a8');\n",
              "          const dataTable =\n",
              "            await google.colab.kernel.invokeFunction('convertToInteractive',\n",
              "                                                     [key], {});\n",
              "          if (!dataTable) return;\n",
              "\n",
              "          const docLinkHtml = 'Like what you see? Visit the ' +\n",
              "            '<a target=\"_blank\" href=https://colab.research.google.com/notebooks/data_table.ipynb>data table notebook</a>'\n",
              "            + ' to learn more about interactive tables.';\n",
              "          element.innerHTML = '';\n",
              "          dataTable['output_type'] = 'display_data';\n",
              "          await google.colab.output.renderOutput(dataTable, element);\n",
              "          const docLink = document.createElement('div');\n",
              "          docLink.innerHTML = docLinkHtml;\n",
              "          element.appendChild(docLink);\n",
              "        }\n",
              "      </script>\n",
              "    </div>\n",
              "  </div>\n",
              "  "
            ],
            "text/plain": [
              "      indice  palabra\n",
              "457        3  terraza\n",
              "540        3  terraza\n",
              "1806      10  terraza\n",
              "3979      17  terraza\n",
              "5914      26  terraza"
            ]
          },
          "execution_count": 45,
          "metadata": {},
          "output_type": "execute_result"
        }
      ],
      "source": [
        "ds_patio_balcon.head(5)"
      ]
    },
    {
      "cell_type": "code",
      "execution_count": null,
      "metadata": {
        "colab": {
          "base_uri": "https://localhost:8080/"
        },
        "id": "o9Olxw7ghyvi",
        "outputId": "e1632dd0-5cc0-4ccd-b54b-6b0aa70d794c"
      },
      "outputs": [
        {
          "name": "stdout",
          "output_type": "stream",
          "text": [
            "Hay 81916 filas con balncon o sinonimos\n"
          ]
        }
      ],
      "source": [
        "print(f\"Hay \" + str(ds_patio_balcon.shape[0]) + \" filas con balncon o sinonimos\")"
      ]
    },
    {
      "cell_type": "markdown",
      "metadata": {
        "id": "vW1efJ-PiRfK"
      },
      "source": [
        "Seguimos buscando a ver cuanto se repiten las siguientes palabras."
      ]
    },
    {
      "cell_type": "code",
      "execution_count": null,
      "metadata": {
        "colab": {
          "base_uri": "https://localhost:8080/"
        },
        "id": "foLy5RT_ksVC",
        "outputId": "aee4bf18-6423-4870-f8eb-9e79d2e5789f"
      },
      "outputs": [
        {
          "data": {
            "text/plain": [
              "31632"
            ]
          },
          "execution_count": 47,
          "metadata": {},
          "output_type": "execute_result"
        }
      ],
      "source": [
        "buscar_palabra(nombre=['luminoso','sol', 'luz', 'luminosidad', 'solar']).shape[0]"
      ]
    },
    {
      "cell_type": "code",
      "execution_count": null,
      "metadata": {
        "colab": {
          "base_uri": "https://localhost:8080/"
        },
        "id": "pA8wwTMgn1jJ",
        "outputId": "03d18dde-0837-4128-9890-919045927ab1"
      },
      "outputs": [
        {
          "data": {
            "text/plain": [
              "22157"
            ]
          },
          "execution_count": 48,
          "metadata": {},
          "output_type": "execute_result"
        }
      ],
      "source": [
        "buscar_palabra(nombre=['expensas']).shape[0]"
      ]
    },
    {
      "cell_type": "code",
      "execution_count": null,
      "metadata": {
        "colab": {
          "base_uri": "https://localhost:8080/"
        },
        "id": "w3VtkTTtozQe",
        "outputId": "5e8f1258-fc5b-4fa0-9c86-0fab9b2844c9"
      },
      "outputs": [
        {
          "data": {
            "text/plain": [
              "18387"
            ]
          },
          "execution_count": 49,
          "metadata": {},
          "output_type": "execute_result"
        }
      ],
      "source": [
        "buscar_palabra(nombre=['seguridad','vigilancia', 'camaras', 'porteria', 'portería', 'camara', 'cámara', 'cámaras', 'alarma', 'prosegur', 'portero', 'encargado', 'guardia' ]).shape[0]"
      ]
    },
    {
      "cell_type": "code",
      "execution_count": null,
      "metadata": {
        "colab": {
          "base_uri": "https://localhost:8080/"
        },
        "id": "wl-5t3UBqD9e",
        "outputId": "33fc44c5-793a-4fbd-d5c5-cb9cc8f42e03"
      },
      "outputs": [
        {
          "data": {
            "text/plain": [
              "28184"
            ]
          },
          "execution_count": 50,
          "metadata": {},
          "output_type": "execute_result"
        }
      ],
      "source": [
        "buscar_palabra(nombre=['amueblado','placard','armario','armarios','ropero','roperos','vestidor']).shape[0] "
      ]
    },
    {
      "cell_type": "code",
      "execution_count": null,
      "metadata": {
        "colab": {
          "base_uri": "https://localhost:8080/"
        },
        "id": "wzntVi0xrY9d",
        "outputId": "86e5b55e-fcd0-4a7f-efdd-552f8ad66e05"
      },
      "outputs": [
        {
          "data": {
            "text/plain": [
              "46426"
            ]
          },
          "execution_count": 51,
          "metadata": {},
          "output_type": "execute_result"
        }
      ],
      "source": [
        "buscar_palabra(nombre=['piso','pb']).shape[0] "
      ]
    },
    {
      "cell_type": "code",
      "execution_count": null,
      "metadata": {
        "colab": {
          "base_uri": "https://localhost:8080/"
        },
        "id": "QdtSEU8VsBzG",
        "outputId": "46485406-4ca4-4ce9-8fd8-e4cf0e851914"
      },
      "outputs": [
        {
          "data": {
            "text/plain": [
              "10309"
            ]
          },
          "execution_count": 52,
          "metadata": {},
          "output_type": "execute_result"
        }
      ],
      "source": [
        "buscar_palabra(nombre=['nuevo','estrenar']).shape[0]"
      ]
    },
    {
      "cell_type": "code",
      "execution_count": null,
      "metadata": {
        "colab": {
          "base_uri": "https://localhost:8080/"
        },
        "id": "DxKpOnl51XR5",
        "outputId": "94c5229e-32f9-4b04-89b7-b52e3def3add"
      },
      "outputs": [
        {
          "data": {
            "text/plain": [
              "32365"
            ]
          },
          "execution_count": 53,
          "metadata": {},
          "output_type": "execute_result"
        }
      ],
      "source": [
        "buscar_palabra(nombre=['metrobus','subte','colectivo','tren','estacion','estación']).shape[0] "
      ]
    },
    {
      "cell_type": "markdown",
      "metadata": {
        "id": "KUQp6_hrisB4"
      },
      "source": [
        "Por ahora no encontramos una presencia muy fuerte de las palabras. Procedemos a analizar la correlacion de los features con el precio. "
      ]
    },
    {
      "cell_type": "markdown",
      "metadata": {
        "id": "5kD05EVE6cKT"
      },
      "source": [
        "## Análisis de correlación de features"
      ]
    },
    {
      "cell_type": "code",
      "execution_count": null,
      "metadata": {
        "id": "dyx9TIbXevEL"
      },
      "outputs": [],
      "source": [
        "def eliminar_palabras_comunes(texto):\n",
        "    \n",
        "    texto = texto.lower()\n",
        "    texto = texto.replace('<br>', ' ')\n",
        "    # digito que podría o no tener \"hs\" o \"do\" o \"er\" o \"avo\" o \"to\" al final, por ejemplo 10hs o 10\n",
        "    texto = re.sub(r'\\d+(?:hs|do|er|avo|to)?', ' ', texto)\n",
        "\n",
        "    for palabra in palabras_comunes:\n",
        "        # reemplazamos la palabra por un espacio en blanco, si la palabra está entre 2 espacios \n",
        "        texto = texto.replace(' ' + palabra + ' ', ' ')\n",
        "\n",
        "    return texto\n",
        "\n",
        "x_train_for_word_correlation = x_train_con_desc[:5000].copy()\n",
        "\n",
        "# aplicar funcion para cada fila del dataset x_train\n",
        "x_train_for_word_correlation['property_description'] = x_train_for_word_correlation['property_description'].apply(eliminar_palabras_comunes)"
      ]
    },
    {
      "cell_type": "markdown",
      "metadata": {
        "id": "_KQTI4itO5Um"
      },
      "source": [
        "En la siguiente seccion decidimos analizar la correlacion que tienen las distintas palabras en las descripciones con el precio.\n",
        "Debido a problemas con las RAM no pudimos examinar absolutamente todos los registros, tuvimos que tomar una muestra mucho menor al tamaño total, como se puede ver agarramos los primeros 5000. \n",
        "\n",
        "Sabemos que al tomar los datos de esta forma podemos estar sesgandonos por algun motivo ajeno a los datos (orden de imputacion, etc), en vez de, por ejemplo, tomar una muestra de forma mas aleatoria. Sin embargo, decidimos quedarnos con estos resultados siendo que encontramos una correlacion suficientemente significativa como para considerarlos como potenciales features.  "
      ]
    },
    {
      "cell_type": "code",
      "execution_count": null,
      "metadata": {
        "id": "LQifv4mk2yDq"
      },
      "outputs": [],
      "source": [
        "from sklearn.feature_extraction.text import CountVectorizer\n",
        "\n",
        "# use only 10 rows for testing\n",
        "\n",
        "# initialize the CountVectorizer\n",
        "vectorizer = CountVectorizer()\n",
        "\n",
        "# fit the vectorizer on the descriptions\n",
        "descriptions = vectorizer.fit_transform(x_train_for_word_correlation['property_description'])\n",
        "\n",
        "# convert the descriptions to a DataFrame\n",
        "descriptions = pd.DataFrame(descriptions.toarray(), columns=vectorizer.get_feature_names())\n",
        "columns=vectorizer.get_feature_names()\n",
        "\n",
        "\n",
        "y_train_testing = y_train[:5000].copy()\n",
        "# calculate the correlation of each feature of descriptions with the target y_train\n",
        "correlations = descriptions.corrwith(y_train_testing, method='pearson')\n",
        "\n",
        "# sort the correlations by their absolute value\n",
        "correlations = correlations.sort_values(ascending=False)\n",
        "# leave only those which are above a certain threshold (0.4) "
      ]
    },
    {
      "cell_type": "code",
      "execution_count": null,
      "metadata": {
        "colab": {
          "base_uri": "https://localhost:8080/"
        },
        "id": "qCMG3KDI2yDr",
        "outputId": "134ba5d5-4a09-4728-9ba0-b3a3c8ca6a3b"
      },
      "outputs": [
        {
          "name": "stdout",
          "output_type": "stream",
          "text": [
            "suite 0.5156504884178066\n",
            "privado 0.43171209046766473\n",
            "palier 0.412514862507687\n",
            "diario 0.39042579280787354\n",
            "vestidor 0.38107068625214413\n",
            "toilette 0.3674510010562824\n",
            "servicio 0.3547763261947496\n",
            "recepción 0.32656704369199013\n",
            "comedor 0.31761952150186784\n",
            "dependencia 0.3144722326608654\n",
            "playroom 0.3061084280675854\n"
          ]
        }
      ],
      "source": [
        "corr = correlations.copy()\n",
        "corr = corr[corr > 0.3]\n",
        "for i in corr.index:\n",
        "    print(i, corr[i])"
      ]
    },
    {
      "cell_type": "markdown",
      "metadata": {
        "id": "1yeCQUVx6u_E"
      },
      "source": [
        "Como vemos, encontramos features con una correlación significativa con el precio de la propiedad. Por esta razón, decidimos agregarlos al dataset, como por ejemplo: suite, palier y vestidor. "
      ]
    },
    {
      "cell_type": "code",
      "execution_count": null,
      "metadata": {
        "id": "5SnXC_dEhV-F"
      },
      "outputs": [],
      "source": [
        "features_to_add = [ 'suite', 'palier', 'vestidor', 'toilette', 'recepción', 'playroom']"
      ]
    },
    {
      "cell_type": "code",
      "execution_count": null,
      "metadata": {
        "id": "1fAh2C_jhEDq"
      },
      "outputs": [],
      "source": [
        "for feature in features_to_add: \n",
        "  x_train[feature] = x_train_con_desc['property_description'].str.contains(feature).map({True: 1, False: 0})\n",
        "  x_test[feature] = x_test_con_desc['property_description'].str.contains(feature).map({True: 1, False: 0})"
      ]
    },
    {
      "cell_type": "markdown",
      "metadata": {
        "id": "uUaCYcKAZ-10"
      },
      "source": [
        "#### Creación de Features "
      ]
    },
    {
      "cell_type": "code",
      "execution_count": null,
      "metadata": {
        "id": "oxrYboI2paTO"
      },
      "outputs": [],
      "source": [
        "x_train_features_nuevos = x_train.copy()\n",
        "x_test_features_nuevos = x_test.copy()"
      ]
    },
    {
      "cell_type": "code",
      "execution_count": null,
      "metadata": {
        "id": "4kz_-s7kk3lA"
      },
      "outputs": [],
      "source": [
        "# ds_a_modificar es el dataset al que le agreamos el feature\n",
        "def crear_nuevo_feature(ds_a_modificar,nombre_feature, ds, crear_de_cero = True, valor=None):\n",
        "  if(crear_de_cero):\n",
        "    ds_a_modificar[nombre_feature] = ds_a_modificar['property_currency'].values # Creamos un nuevo feature como copia de uno existente\n",
        "    ds_a_modificar.loc[:, nombre_feature].replace(to_replace=[\"USD\"],value=[valor],inplace=True) # Modificamos el valor, para inicializarlo en nulo o un valor determinado\n",
        "  indices = ds['indice'].to_list() # Tomamos los indices reales y formamos una lista \n",
        "  for i in range(len(indices)):\n",
        "    ds_a_modificar.at[indices[i], nombre_feature] = ds[ds['indice'] == indices[i]].palabra.values # Remplazamos el valor de la fila segun su indice"
      ]
    },
    {
      "cell_type": "code",
      "execution_count": null,
      "metadata": {
        "id": "fVi9aiNsmci0"
      },
      "outputs": [],
      "source": [
        "def concatenar_ds(ds, ds_a_concatenar, combinaciones): \n",
        "  for i in range(len(combinaciones)):  \n",
        "    ds_a_concatenar = pd.concat([ds_a_concatenar,ds[ ds.palabra == combinaciones[i] ]]) \n",
        "  return ds_a_concatenar"
      ]
    },
    {
      "cell_type": "code",
      "execution_count": null,
      "metadata": {
        "id": "GQq2gs1cpNih"
      },
      "outputs": [],
      "source": [
        "def definir_numero_de_piso(ds_pisos, ds_pb, ds_plantas):  \n",
        "  ds_pisos.loc[:,\"palabra\"].replace(to_replace=['1','1°', '1er', 'primer'],value=[1,1,1,1],inplace=True)\n",
        "  ds_pisos.loc[:,\"palabra\"].replace(to_replace=['2','2°', '2do', 'segundo'],value=[2,2,2,2],inplace=True)\n",
        "  ds_pisos.loc[:,\"palabra\"].replace(to_replace=['3','3°', '3er', 'tercer'],value=[3,3,3,3],inplace=True)\n",
        "  ds_pisos.loc[:,\"palabra\"].replace(to_replace=['4','4°', '4to', 'cuarto'],value=[4,4,4,4],inplace=True)\n",
        "  ds_pisos.loc[:,\"palabra\"].replace(to_replace=['5','5°', '5to', 'quinto'],value=[5,5,5,5],inplace=True)\n",
        "  ds_pisos.loc[:,\"palabra\"].replace(to_replace=['6','6°', '6to', 'sexto'],value=[6,6,6,6],inplace=True)\n",
        "  ds_pisos.loc[:,\"palabra\"].replace(to_replace=['7','7°', '7mo', 'septimo'],value=[7,7,7,7],inplace=True)\n",
        "  ds_pisos.loc[:,\"palabra\"].replace(to_replace=['8','8°', '8vo', 'octavo'],value=[8,8,8,8],inplace=True)\n",
        "  ds_pisos.loc[:,\"palabra\"].replace(to_replace=['9','9°', '9no', 'noveno'],value=[9,9,9,9],inplace=True)\n",
        "  ds_pisos.loc[:,\"palabra\"].replace(to_replace=['10','10°', '10mo', 'decimo'],value=[10,10,10,10],inplace=True)\n",
        "  ds_pisos.loc[:,\"palabra\"].replace(to_replace=['11','11°', '11vo', '11avo', 'onceavo'],value=[11,11,11,11,11],inplace=True)\n",
        "  ds_pisos.loc[:,\"palabra\"].replace(to_replace=['12','12°', '12vo', '12avo', 'doceavo'],value=[12,12,12,12,12],inplace=True)\n",
        "  ds_pisos.loc[:,\"palabra\"].replace(to_replace=['13','13°', '13vo', '13avo', 'treceavo'],value=[13,13,13,13,13],inplace=True)\n",
        "\n",
        "  ds_pb.loc[:,\"palabra\"].replace(to_replace=['pb','pb,'],value=[0,0],inplace=True)\n",
        "  ds_plantas.loc[:,\"palabra\"].replace(to_replace=['baja'],value=[0],inplace=True)\n",
        "  \n",
        "  return ds_pisos,ds_pb,ds_plantas"
      ]
    },
    {
      "cell_type": "code",
      "execution_count": null,
      "metadata": {
        "id": "XKAVL9p_nzAy"
      },
      "outputs": [],
      "source": [
        "def asignar_comuna(ds, barrios, valor): \n",
        "  for i in range(len(barrios)):\n",
        "    ds.loc[:,\"comuna\"].replace(to_replace=[barrios[i]],value=[valor],inplace=True)"
      ]
    },
    {
      "cell_type": "code",
      "execution_count": null,
      "metadata": {
        "id": "9t5et9S4hYtG"
      },
      "outputs": [],
      "source": [
        "def cambiar_valor_de_celda(ds, valor_tp1, nuevo_valor, es_string=True):\n",
        "  for i in range(len(valor_tp1)):\n",
        "    if(es_string):\n",
        "      valor_seguido_de_coma = valor_tp1[i] + ','\n",
        "\n",
        "    ds.loc[:,\"palabra\"].replace(to_replace=[valor_tp1[i]],value=[nuevo_valor],inplace=True)\n",
        "    ds.loc[:,\"palabra\"].replace(to_replace=[valor_seguido_de_coma],value=[nuevo_valor],inplace=True)\n",
        "  return ds  "
      ]
    },
    {
      "cell_type": "code",
      "execution_count": null,
      "metadata": {
        "id": "h-nj1lApxZXJ"
      },
      "outputs": [],
      "source": [
        "# Agrupa todas las palabras en una sola\n",
        "def unificar_sinonimos_amenities(ds):\n",
        "  ds = cambiar_valor_de_celda(ds,['piscina', 'alberca'],'pileta')\n",
        "  ds = cambiar_valor_de_celda(ds,['gym'],'gimnasio')\n",
        "  ds = cambiar_valor_de_celda(ds,['altillo','ático','atico'],'baulera')\n",
        "  ds = cambiar_valor_de_celda(ds,['estacionamiento','garage'],'cochera')\n",
        "  ds = cambiar_valor_de_celda(ds,['sótano'],'sotano')\n",
        "  ds = cambiar_valor_de_celda(ds,['sum'],'quincho')\n",
        "  return ds"
      ]
    },
    {
      "cell_type": "code",
      "execution_count": null,
      "metadata": {
        "id": "xuWLkE6s8bOQ"
      },
      "outputs": [],
      "source": [
        "def obtener_sucesor_y_o_precesor_de_palabra(indices_palabra, ds = ds_cada_palabra_train, requiere_antes = True, requiere_despues = True):\n",
        "  palabra_antes = ds.loc[indices_palabra-1]\n",
        "  palabra_despues = ds.loc[indices_palabra+1]\n",
        "  if((requiere_antes) and (not requiere_despues)): return palabra_antes\n",
        "  if((not requiere_antes) and (requiere_despues)): return palabra_despues\n",
        "  return palabra_antes, palabra_despues"
      ]
    },
    {
      "cell_type": "markdown",
      "metadata": {
        "id": "K-nnIU3IaS_W"
      },
      "source": [
        "##### Piso"
      ]
    },
    {
      "cell_type": "markdown",
      "metadata": {
        "id": "fyekItmvlkHj"
      },
      "source": [
        "###### Train"
      ]
    },
    {
      "cell_type": "markdown",
      "metadata": {
        "id": "HTaDEx-ob831"
      },
      "source": [
        "Buscamos que las palabras que le siguen a la palabra \"planta\" sean sí o sí \"baja\""
      ]
    },
    {
      "cell_type": "code",
      "execution_count": null,
      "metadata": {
        "id": "9GNeJxpkeAzN"
      },
      "outputs": [],
      "source": [
        "ds_planta = buscar_palabra(nombre=['planta'])\n",
        "indices_planta = ds_planta.index\n",
        "planta_despues = ds_cada_palabra_train.loc[indices_planta+1]"
      ]
    },
    {
      "cell_type": "code",
      "execution_count": null,
      "metadata": {
        "id": "XdJeB8ikeJAR"
      },
      "outputs": [],
      "source": [
        "ds_planta_baja = planta_despues[0:0]\n",
        "ds_planta_baja = concatenar_ds(planta_despues, ds_planta_baja, ['baja'])\n",
        "ds_planta_baja = ds_planta_baja[~ds_planta_baja.duplicated(subset='indice',keep='first')]"
      ]
    },
    {
      "cell_type": "code",
      "execution_count": null,
      "metadata": {
        "id": "VdW-qDauFGQD"
      },
      "outputs": [],
      "source": [
        "ds_pb = buscar_palabra(nombre=['pb'])"
      ]
    },
    {
      "cell_type": "markdown",
      "metadata": {
        "id": "NtRTfjIPIRoU"
      },
      "source": [
        "Eliminamos las filas que tienen indice duplicado conservando una muestra de ellas."
      ]
    },
    {
      "cell_type": "code",
      "execution_count": null,
      "metadata": {
        "id": "1sLxWWlKsx16"
      },
      "outputs": [],
      "source": [
        "ds_pb=ds_pb[~ds_pb.duplicated(subset='indice',keep='first')]"
      ]
    },
    {
      "cell_type": "markdown",
      "metadata": {
        "id": "KWKJ3LedkGo0"
      },
      "source": [
        "Procedemos a realizar un analisis de las palabras que se encuentran antes y despues de cada palabra buscada, en este caso piso."
      ]
    },
    {
      "cell_type": "code",
      "execution_count": null,
      "metadata": {
        "id": "VD1eQap49R6y"
      },
      "outputs": [],
      "source": [
        "ds_piso = buscar_palabra(nombre=['piso'])\n",
        "indices_piso = ds_piso.index\n",
        "\n",
        "piso_antes=ds_cada_palabra_train.loc[indices_piso-1]\n",
        "piso_despues=ds_cada_palabra_train.loc[indices_piso+1]"
      ]
    },
    {
      "cell_type": "markdown",
      "metadata": {
        "id": "1AQbnAAAhe--"
      },
      "source": [
        "Debido a que tenemos un data frame que en cada fila contiene una palabra y respeta el orden en el que cada una de estas se encuentra en la descripción, tomamos las palabras que estan justo antes y después de la palabra a analizar para verificar que la interpretación de la misma sea la buscada."
      ]
    },
    {
      "cell_type": "code",
      "execution_count": null,
      "metadata": {
        "id": "QHLUHC0Lp1vb"
      },
      "outputs": [],
      "source": [
        "combinaciones_posibles_pre_piso=['1','1°','1er', '2', '2°', '2do','3', '3°', '3er','4', '4°', '4to','5', '5°', '5to','6', '6°', '6to','7', '7°', '7mo','8', '8°', '8vo',\n",
        "     '9', '9°', '9no','10', '10°', '10mo','11', '11°','primer','segundo', 'tercer', 'cuarto', 'quinto','sexto', 'septimo', 'octavo', 'noveno', 'decimo' ]\n",
        "ds_pisos = piso_antes[0:0]\n",
        "ds_pisos = concatenar_ds(piso_antes, ds_pisos, combinaciones_posibles_pre_piso)\n",
        "\n",
        "combinaciones_posibles_post_piso=['1','1°', '2', '2°','3', '3°','4', '4°','5', '5°','6', '6°','7', '7°','8', '8°','9', '9°','10', '10°','11', '11°']\n",
        "ds_pisos = concatenar_ds(piso_despues, ds_pisos, combinaciones_posibles_post_piso)"
      ]
    },
    {
      "cell_type": "markdown",
      "metadata": {
        "id": "KuYD2Eokb_g5"
      },
      "source": [
        "Buscamos la cantidad de filas con un mismo índice."
      ]
    },
    {
      "cell_type": "code",
      "execution_count": null,
      "metadata": {
        "colab": {
          "base_uri": "https://localhost:8080/"
        },
        "id": "plLRqgoxroS0",
        "outputId": "aa38544f-476a-4299-8a8f-86eea1835154"
      },
      "outputs": [
        {
          "name": "stdout",
          "output_type": "stream",
          "text": [
            "Cantidad de filas con un mismo indice: 1927\n"
          ]
        }
      ],
      "source": [
        "print(f\"Cantidad de filas con un mismo indice: {ds_pisos[ds_pisos.duplicated(subset='indice')].shape[0]}\")"
      ]
    },
    {
      "cell_type": "markdown",
      "metadata": {
        "id": "4jhZ6vtucU-h"
      },
      "source": [
        "Luego eliminamos las filas que contienen un mismo índice y conservamos una única muestra."
      ]
    },
    {
      "cell_type": "code",
      "execution_count": null,
      "metadata": {
        "id": "hnpD5_t4t5kr"
      },
      "outputs": [],
      "source": [
        "ds_pisos.drop(ds_pisos[ds_pisos.duplicated(subset='indice')].index, inplace=True)"
      ]
    },
    {
      "cell_type": "markdown",
      "metadata": {
        "id": "R7RCB8hPdIXi"
      },
      "source": [
        "Reemplazamos todas las palabras relacionadas a un determinado número que hagan referencia a lo mismo. "
      ]
    },
    {
      "cell_type": "code",
      "execution_count": null,
      "metadata": {
        "id": "pA84FxXno59J"
      },
      "outputs": [],
      "source": [
        "ds_pisos,ds_pb,ds_planta_baja = definir_numero_de_piso(ds_pisos,ds_pb,ds_planta_baja)"
      ]
    },
    {
      "cell_type": "markdown",
      "metadata": {
        "id": "LJUlvwBMeATe"
      },
      "source": [
        "Tomamos una columna del dataset para crear una nueva con el mismo tamaño y la inicializamos con valor nulo."
      ]
    },
    {
      "cell_type": "code",
      "execution_count": null,
      "metadata": {
        "id": "YZjHhgQJl8cv"
      },
      "outputs": [],
      "source": [
        "crear_nuevo_feature(x_train_features_nuevos,'piso', ds_pisos, valor=-1)"
      ]
    },
    {
      "cell_type": "markdown",
      "metadata": {
        "id": "PLKoJ0pieJWC"
      },
      "source": [
        "Agregamos los valores del feature piso teniendo en cuenta el índice tanto para los pisos que ya tienen un número asignado como para los pisos que tienen asignado PB, en este caso se le va a agregar un valor de piso 0. "
      ]
    },
    {
      "cell_type": "code",
      "execution_count": null,
      "metadata": {
        "id": "3FCcfPd2HveY"
      },
      "outputs": [],
      "source": [
        "crear_nuevo_feature(x_train_features_nuevos, 'piso', ds_pb, crear_de_cero=False)\n",
        "crear_nuevo_feature(x_train_features_nuevos, 'piso', ds_planta_baja, crear_de_cero=False)"
      ]
    },
    {
      "cell_type": "markdown",
      "metadata": {
        "id": "Sxh0vNH5eLfa"
      },
      "source": [
        "Asignamos como piso 0 a todas las casas y phs existentes en el dataset de train."
      ]
    },
    {
      "cell_type": "code",
      "execution_count": null,
      "metadata": {
        "id": "a1s7FZKwB13y"
      },
      "outputs": [],
      "source": [
        "x_train_features_nuevos[x_train_features_nuevos.property_type=='Casa'] = x_train_features_nuevos[x_train_features_nuevos.property_type=='Casa'].assign(piso=0) \n",
        "x_train_features_nuevos[x_train_features_nuevos.property_type=='PH'] = x_train_features_nuevos[x_train_features_nuevos.property_type=='PH'].assign(piso=0) "
      ]
    },
    {
      "cell_type": "markdown",
      "metadata": {
        "id": "WOYW_cDC0XeL"
      },
      "source": [
        "Observamos el porcentaje de valores válidos para el nuevo feature creado."
      ]
    },
    {
      "cell_type": "code",
      "execution_count": null,
      "metadata": {
        "colab": {
          "base_uri": "https://localhost:8080/"
        },
        "id": "2dmLKcPwJi-Q",
        "outputId": "b3b6523e-ac85-4fa8-f06e-faa5f20c698a"
      },
      "outputs": [
        {
          "name": "stdout",
          "output_type": "stream",
          "text": [
            "El porcentaje de valores válidos en la nueva variable piso es de: 36.430634241797776\n"
          ]
        }
      ],
      "source": [
        "sin_piso = x_train_features_nuevos[x_train_features_nuevos.piso == -1].piso.shape[0]\n",
        "con_piso = 100 - (sin_piso/x_train.shape[0]*100)\n",
        "print(\"El porcentaje de valores válidos en la nueva variable piso es de:\",con_piso)"
      ]
    },
    {
      "cell_type": "markdown",
      "metadata": {
        "id": "Vzp1exebPXqS"
      },
      "source": [
        "Como el porcentaje de valores no nulos es superior al 12%, consideramos que es un feature factible."
      ]
    },
    {
      "cell_type": "markdown",
      "metadata": {
        "id": "wxJeRFtSlp05"
      },
      "source": [
        "###### Test"
      ]
    },
    {
      "cell_type": "markdown",
      "metadata": {
        "id": "N6--dsTdl2n3"
      },
      "source": [
        "Realizamos el mismo procedimiento anterior pero ahora con el dataset de test."
      ]
    },
    {
      "cell_type": "code",
      "execution_count": null,
      "metadata": {
        "id": "h4V4Q9SCf85o"
      },
      "outputs": [],
      "source": [
        "ds_planta_test = buscar_palabra(ds_cada_palabra_test,nombre=['planta'])\n",
        "indices_planta_test = ds_planta_test.index\n",
        "planta_despues_test=ds_cada_palabra_test.loc[indices_planta_test+1]"
      ]
    },
    {
      "cell_type": "code",
      "execution_count": null,
      "metadata": {
        "id": "ZdIxoWRkf85o"
      },
      "outputs": [],
      "source": [
        "ds_planta_baja_test = planta_despues_test[0:0]\n",
        "ds_planta_baja_test = concatenar_ds(planta_despues_test, ds_planta_baja, ['baja'])"
      ]
    },
    {
      "cell_type": "code",
      "execution_count": null,
      "metadata": {
        "id": "7q7N1_A3f85p"
      },
      "outputs": [],
      "source": [
        "ds_planta_baja_test=ds_planta_baja_test[~ds_planta_baja_test.duplicated(subset='indice',keep='first')]"
      ]
    },
    {
      "cell_type": "code",
      "execution_count": null,
      "metadata": {
        "id": "H9g6NI8VtVg5"
      },
      "outputs": [],
      "source": [
        "ds_pb_test = buscar_palabra(ds_cada_palabra_test, nombre=['pb'])"
      ]
    },
    {
      "cell_type": "markdown",
      "metadata": {
        "id": "bhLbvsqntVg5"
      },
      "source": [
        "Eliminamos los que tienen indice duplicado conservando una muestra de ellos."
      ]
    },
    {
      "cell_type": "code",
      "execution_count": null,
      "metadata": {
        "id": "JxI-1PwctVg5"
      },
      "outputs": [],
      "source": [
        "ds_pb_test=ds_pb_test[~ds_pb_test.duplicated(subset='indice',keep='first')]"
      ]
    },
    {
      "cell_type": "markdown",
      "metadata": {
        "id": "K-H5uae9tVg5"
      },
      "source": [
        "Procedemos a realizar un analisis de las palabras que se encuentran antes y despues de cada palabra buscada, en este caso piso."
      ]
    },
    {
      "cell_type": "code",
      "execution_count": null,
      "metadata": {
        "id": "8NQ2GBGHtVg5"
      },
      "outputs": [],
      "source": [
        "ds_piso_test = buscar_palabra(ds_cada_palabra_test,nombre=['piso'])\n",
        "indices_piso = ds_piso_test.index\n",
        "\n",
        "piso_antes_test=ds_cada_palabra_test.loc[indices_piso-1]\n",
        "piso_despues_test=ds_cada_palabra_test.loc[indices_piso+1]"
      ]
    },
    {
      "cell_type": "markdown",
      "metadata": {
        "id": "1nZRT_X6tVg6"
      },
      "source": [
        "Debido a que tenemos un data frame que en cada fila contiene una palabra y respeta el orden en el que cada una de estas se encuentra en la descripción, tomamos las palabras que estan justo antes y después de la palabra a analizar para verificar que la interpretación de la misma sea la buscada."
      ]
    },
    {
      "cell_type": "code",
      "execution_count": null,
      "metadata": {
        "id": "ZXxDbacrtVg6"
      },
      "outputs": [],
      "source": [
        "ds_pisos_test = piso_antes_test[0:0]\n",
        "ds_pisos_test = concatenar_ds(piso_antes_test, ds_pisos_test, combinaciones_posibles_pre_piso) #con palabras antes\n",
        "ds_pisos_test = concatenar_ds(piso_despues_test, ds_pisos_test, combinaciones_posibles_post_piso) #con palabras despues "
      ]
    },
    {
      "cell_type": "code",
      "execution_count": null,
      "metadata": {
        "id": "OxGsJ_oAtVg6"
      },
      "outputs": [],
      "source": [
        "ds_pisos_test.drop(ds_pisos_test[ds_pisos_test.duplicated(subset='indice')].index, inplace=True)"
      ]
    },
    {
      "cell_type": "code",
      "execution_count": null,
      "metadata": {
        "id": "7dDvLw9DtVg6"
      },
      "outputs": [],
      "source": [
        "ds_pisos_test,ds_pb_test,ds_planta_baja_test = definir_numero_de_piso(ds_pisos_test,ds_pb_test,ds_planta_baja_test)"
      ]
    },
    {
      "cell_type": "code",
      "execution_count": null,
      "metadata": {
        "id": "BN0MToLqtVg6"
      },
      "outputs": [],
      "source": [
        "crear_nuevo_feature(x_test_features_nuevos,'piso', ds_pisos_test, valor=-1)\n",
        "crear_nuevo_feature(x_test_features_nuevos,'piso', ds_pb_test, crear_de_cero=False)"
      ]
    },
    {
      "cell_type": "markdown",
      "metadata": {
        "id": "-9Do6oHltVg7"
      },
      "source": [
        "Asignamos como piso 0 a todas las casas y phs existentes en el dataset de test."
      ]
    },
    {
      "cell_type": "code",
      "execution_count": null,
      "metadata": {
        "id": "oqemdhvTtVg7"
      },
      "outputs": [],
      "source": [
        "x_test_features_nuevos[x_test_features_nuevos.property_type=='Casa'] = x_test_features_nuevos[x_test_features_nuevos.property_type=='Casa'].assign(piso=0) \n",
        "x_test_features_nuevos[x_test_features_nuevos.property_type=='PH'] = x_test_features_nuevos[x_test_features_nuevos.property_type=='PH'].assign(piso=0) "
      ]
    },
    {
      "cell_type": "markdown",
      "metadata": {
        "id": "NxZRiAImtVg7"
      },
      "source": [
        "Observamos el porcentaje de valores válidos para el nuevo feature creado."
      ]
    },
    {
      "cell_type": "code",
      "execution_count": null,
      "metadata": {
        "colab": {
          "base_uri": "https://localhost:8080/"
        },
        "id": "8wVqr3f2tVg7",
        "outputId": "3f62833e-7160-49f1-e49a-9eae2f78ebae"
      },
      "outputs": [
        {
          "name": "stdout",
          "output_type": "stream",
          "text": [
            "El porcentaje de valores validos en la nueva variable piso es de: 33.05371596762325\n"
          ]
        }
      ],
      "source": [
        "sin_piso_test= x_test_features_nuevos[x_test_features_nuevos.piso == -1].piso.shape[0]\n",
        "con_piso_test = 100 - (sin_piso_test/x_test.shape[0]*100)\n",
        "print(\"El porcentaje de valores validos en la nueva variable piso es de:\",con_piso_test)"
      ]
    },
    {
      "cell_type": "markdown",
      "metadata": {
        "id": "cgYdmtYwpqre"
      },
      "source": [
        "Como el porcentaje de valores no nulos es superior al 12%, consideramos que es un feature factible."
      ]
    },
    {
      "cell_type": "markdown",
      "metadata": {
        "id": "71j37dztfZEa"
      },
      "source": [
        "##### Amenities"
      ]
    },
    {
      "cell_type": "markdown",
      "metadata": {
        "id": "ZxaAZ6-flozR"
      },
      "source": [
        "###### Train"
      ]
    },
    {
      "cell_type": "markdown",
      "metadata": {
        "id": "SQmczLJ5gr4S"
      },
      "source": [
        "Buscamos la cantidad de amenities total que tiene cada propiedad, para ello filtramos por indice en el dataset ds_amenities."
      ]
    },
    {
      "cell_type": "code",
      "execution_count": null,
      "metadata": {
        "colab": {
          "base_uri": "https://localhost:8080/"
        },
        "id": "5eeeX-REfgdL",
        "outputId": "cb34768e-8710-46ca-eb86-9e25a13812e3"
      },
      "outputs": [
        {
          "data": {
            "text/plain": [
              "50511    24\n",
              "41189    24\n",
              "51704    23\n",
              "39128    23\n",
              "61225    22\n",
              "         ..\n",
              "43719     1\n",
              "43723     1\n",
              "43726     1\n",
              "43729     1\n",
              "54356     1\n",
              "Name: indice, Length: 37980, dtype: int64"
            ]
          },
          "execution_count": 92,
          "metadata": {},
          "output_type": "execute_result"
        }
      ],
      "source": [
        "ds_amenities['indice'].value_counts()"
      ]
    },
    {
      "cell_type": "markdown",
      "metadata": {
        "id": "CHEkV64C9D8K"
      },
      "source": [
        "Reemplazamos las palabras que son sinónimos entre sí. "
      ]
    },
    {
      "cell_type": "code",
      "execution_count": null,
      "metadata": {
        "id": "5dHvLmO_72fI"
      },
      "outputs": [],
      "source": [
        "ds_amenities = unificar_sinonimos_amenities(ds_amenities)"
      ]
    },
    {
      "cell_type": "markdown",
      "metadata": {
        "id": "kBMGwBF_icrH"
      },
      "source": [
        "Podemos obtener la cantidad total de amenities que tiene cada propiedad, sin duplicados. Para ello eliminamos las filas que tienen un mismo indice y palabras duplicadas y luego filtramos por indice en el dataset ds_amenities."
      ]
    },
    {
      "cell_type": "code",
      "execution_count": null,
      "metadata": {
        "colab": {
          "base_uri": "https://localhost:8080/"
        },
        "id": "oQO51CCqhSLS",
        "outputId": "697b8b3c-b4d2-41e1-90a3-6e1b50624a85"
      },
      "outputs": [
        {
          "name": "stdout",
          "output_type": "stream",
          "text": [
            "Cantidad de filas con mismo índice y palabra: 9816\n"
          ]
        }
      ],
      "source": [
        "print(\"Cantidad de filas con mismo índice y palabra:\", ds_amenities[ds_amenities.duplicated(subset=['indice','palabra'])].shape[0])"
      ]
    },
    {
      "cell_type": "code",
      "execution_count": null,
      "metadata": {
        "id": "Ql7ZqFCDhGdw"
      },
      "outputs": [],
      "source": [
        "ds_amenities.drop(ds_amenities[ds_amenities.duplicated(subset=['indice','palabra'])].index, inplace=True)\n",
        "cant_amenities = ds_amenities['indice'].value_counts().values"
      ]
    },
    {
      "cell_type": "markdown",
      "metadata": {
        "id": "riLhtjPC8LJO"
      },
      "source": [
        "Eliminamos todas las filas que tienen el mismo indice, quedandonos con solo una fila por indice, es decir que va a conservar solo un amenitie. Esto es para luego asignar en su lugar la cantidad de amenities correspondientes a cada indice."
      ]
    },
    {
      "cell_type": "code",
      "execution_count": null,
      "metadata": {
        "id": "a8_0dm7S6ju-"
      },
      "outputs": [],
      "source": [
        "ds_amenities.drop(ds_amenities[ds_amenities.duplicated(subset=['indice'])].index, inplace=True)\n",
        "ds_amenities.palabra = cant_amenities"
      ]
    },
    {
      "cell_type": "markdown",
      "metadata": {
        "id": "fp_lNAoOqCAq"
      },
      "source": [
        "Finalmente, procedemos a crear el nuevo feature \"amenities\" en el dataset de train."
      ]
    },
    {
      "cell_type": "code",
      "execution_count": null,
      "metadata": {
        "id": "6B_RqECc2xd-"
      },
      "outputs": [],
      "source": [
        "crear_nuevo_feature(x_train_features_nuevos,'amenities', ds_amenities, valor=0)"
      ]
    },
    {
      "cell_type": "markdown",
      "metadata": {
        "id": "fUdx4T670eVT"
      },
      "source": [
        "Observamos el porcentaje de valores válidos para el nuevo feature creado."
      ]
    },
    {
      "cell_type": "code",
      "execution_count": null,
      "metadata": {
        "colab": {
          "base_uri": "https://localhost:8080/"
        },
        "id": "zTdybWAR0O8i",
        "outputId": "afaaf3ec-bad1-43b2-daff-63a8d8515bff"
      },
      "outputs": [
        {
          "name": "stdout",
          "output_type": "stream",
          "text": [
            "El porcentaje de valores con amenities es de: 59.936560039137085\n"
          ]
        }
      ],
      "source": [
        "sin_amenities = x_train_features_nuevos[x_train_features_nuevos.amenities == 0].amenities.shape[0]\n",
        "con_amenities = 100 - (sin_amenities/x_train.shape[0]*100)\n",
        "print(\"El porcentaje de valores con amenities es de:\",con_amenities)"
      ]
    },
    {
      "cell_type": "markdown",
      "metadata": {
        "id": "A-jmB3bo0h7p"
      },
      "source": [
        "Como el porcentaje de valores no nulos es superior al 12%, consideramos que es un feature factible."
      ]
    },
    {
      "cell_type": "markdown",
      "metadata": {
        "id": "rL1R8irEwcvA"
      },
      "source": [
        "######Test"
      ]
    },
    {
      "cell_type": "markdown",
      "metadata": {
        "id": "UvOpmlO9rIsG"
      },
      "source": [
        "Realizamos el mismo procedimiento anterior pero ahora con el dataset de test."
      ]
    },
    {
      "cell_type": "code",
      "execution_count": null,
      "metadata": {
        "id": "3wMXfHGywfoE"
      },
      "outputs": [],
      "source": [
        "ds_amenities_test = buscar_palabra(ds_cada_palabra_test,nombre=amenities)"
      ]
    },
    {
      "cell_type": "markdown",
      "metadata": {
        "id": "ZLlLwZYlwfoF"
      },
      "source": [
        "Reemplazamos las palabras que son sinónimos entre sí. "
      ]
    },
    {
      "cell_type": "code",
      "execution_count": null,
      "metadata": {
        "id": "Kkj_UloRxj6T"
      },
      "outputs": [],
      "source": [
        "ds_amenities_test = unificar_sinonimos_amenities(ds_amenities_test)"
      ]
    },
    {
      "cell_type": "code",
      "execution_count": null,
      "metadata": {
        "id": "-g9inat2wfoF"
      },
      "outputs": [],
      "source": [
        "ds_amenities_test.drop(ds_amenities_test[ds_amenities_test.duplicated(subset=['indice','palabra'])].index, inplace=True)"
      ]
    },
    {
      "cell_type": "code",
      "execution_count": null,
      "metadata": {
        "id": "u4nX4aMq9t6o"
      },
      "outputs": [],
      "source": [
        "cant_amenities_test = ds_amenities_test['indice'].value_counts().values"
      ]
    },
    {
      "cell_type": "code",
      "execution_count": null,
      "metadata": {
        "id": "ZjMDNd5vwfoG"
      },
      "outputs": [],
      "source": [
        "ds_amenities_test.drop(ds_amenities_test[ds_amenities_test.duplicated(subset=['indice'])].index, inplace=True)"
      ]
    },
    {
      "cell_type": "code",
      "execution_count": null,
      "metadata": {
        "id": "yFik2_2R95KE"
      },
      "outputs": [],
      "source": [
        "ds_amenities_test.palabra = cant_amenities_test"
      ]
    },
    {
      "cell_type": "markdown",
      "metadata": {
        "id": "NyZTH8jMwfoG"
      },
      "source": [
        "Observamos el porcentaje de valores válidos para el nuevo feature creado."
      ]
    },
    {
      "cell_type": "code",
      "execution_count": null,
      "metadata": {
        "id": "SdhEQNtZ_SxU"
      },
      "outputs": [],
      "source": [
        "crear_nuevo_feature(x_test_features_nuevos,'amenities', ds_amenities_test, valor=0)"
      ]
    },
    {
      "cell_type": "code",
      "execution_count": null,
      "metadata": {
        "colab": {
          "base_uri": "https://localhost:8080/"
        },
        "id": "mzIgLwmjwfoG",
        "outputId": "b0435057-4101-4625-e078-884ba31e5382"
      },
      "outputs": [
        {
          "name": "stdout",
          "output_type": "stream",
          "text": [
            "El porcentaje de valores con amenities es de: 59.84179543782193\n"
          ]
        }
      ],
      "source": [
        "sin_amenities = x_test_features_nuevos[x_test_features_nuevos.amenities == 0].amenities.shape[0]\n",
        "con_amenities = 100 - (sin_amenities/x_test.shape[0]*100)\n",
        "print(\"El porcentaje de valores con amenities es de:\",con_amenities)"
      ]
    },
    {
      "cell_type": "markdown",
      "metadata": {
        "id": "wQiE7D6-0jf3"
      },
      "source": [
        "##### Patio/Balcón"
      ]
    },
    {
      "cell_type": "markdown",
      "metadata": {
        "id": "YdhnKGjizTRo"
      },
      "source": [
        "######Train"
      ]
    },
    {
      "cell_type": "markdown",
      "metadata": {
        "id": "Rd43SBLJriTg"
      },
      "source": [
        "Podemos ver que se tiene mas de una fila por cada índice."
      ]
    },
    {
      "cell_type": "code",
      "execution_count": null,
      "metadata": {
        "colab": {
          "base_uri": "https://localhost:8080/"
        },
        "id": "wtNzxHjK41E8",
        "outputId": "dffb93c4-3579-4f10-e420-271e4fbc95d3"
      },
      "outputs": [
        {
          "name": "stdout",
          "output_type": "stream",
          "text": [
            "Cantidad de filas con mismo índice: 39481\n"
          ]
        }
      ],
      "source": [
        "print(\"Cantidad de filas con mismo índice:\", ds_patio_balcon[ds_patio_balcon.duplicated(subset=['indice'])].shape[0])"
      ]
    },
    {
      "cell_type": "markdown",
      "metadata": {
        "id": "ydNH3jk8rbWx"
      },
      "source": [
        "Eliminamos todas las filas que tienen el mismo indice, quedandonos con solo una fila por indice."
      ]
    },
    {
      "cell_type": "code",
      "execution_count": null,
      "metadata": {
        "colab": {
          "base_uri": "https://localhost:8080/"
        },
        "id": "9jUbjed95IeU",
        "outputId": "a9ad4fdd-a75f-4a94-f5f9-7cc1bec1e824"
      },
      "outputs": [
        {
          "data": {
            "text/plain": [
              "3        1\n",
              "11573    1\n",
              "11578    1\n",
              "11580    1\n",
              "11581    1\n",
              "        ..\n",
              "11737    1\n",
              "11759    1\n",
              "11765    1\n",
              "11773    1\n",
              "63320    1\n",
              "Name: indice, Length: 42435, dtype: int64"
            ]
          },
          "execution_count": 108,
          "metadata": {},
          "output_type": "execute_result"
        }
      ],
      "source": [
        "ds_patio_balcon.drop(ds_patio_balcon[ds_patio_balcon.duplicated(subset=['indice'])].index, inplace=True)\n",
        "ds_patio_balcon['indice'].value_counts()"
      ]
    },
    {
      "cell_type": "markdown",
      "metadata": {
        "id": "_uVtEc8ar21k"
      },
      "source": [
        "Como tenemos que hacer un feature booleano, tomamos la cantidad de veces que se repite el índice sabiendo que será 0 o 1, y de esta forma tenemos la afirmación o negación del booleano, respectivamente. "
      ]
    },
    {
      "cell_type": "code",
      "execution_count": null,
      "metadata": {
        "id": "9rqlgBdR7oMY"
      },
      "outputs": [],
      "source": [
        "tiene_patio_o_balcon = ds_patio_balcon['indice'].value_counts().values"
      ]
    },
    {
      "cell_type": "code",
      "execution_count": null,
      "metadata": {
        "id": "FW5Cw_zE8E-J"
      },
      "outputs": [],
      "source": [
        "ds_patio_balcon.palabra = tiene_patio_o_balcon"
      ]
    },
    {
      "cell_type": "markdown",
      "metadata": {
        "id": "A_FLHi-68jWB"
      },
      "source": [
        "Agregamos los valores 0 y 1 para el caso de si una propiedad tiene patio o balcón. 0 para el caso negativo y 1 para el caso positivo."
      ]
    },
    {
      "cell_type": "code",
      "execution_count": null,
      "metadata": {
        "id": "tuf111-w5PxO"
      },
      "outputs": [],
      "source": [
        "crear_nuevo_feature(x_train_features_nuevos,'tiene_patio_o_balcon', ds_patio_balcon, valor=0)"
      ]
    },
    {
      "cell_type": "code",
      "execution_count": null,
      "metadata": {
        "colab": {
          "base_uri": "https://localhost:8080/"
        },
        "id": "eM0D9GOi_mo_",
        "outputId": "d779d92d-e230-41a1-9f2c-2d8bae38908f"
      },
      "outputs": [
        {
          "name": "stdout",
          "output_type": "stream",
          "text": [
            "El porcentaje de valores con patio o balcon es de: 66.96703331386999\n"
          ]
        }
      ],
      "source": [
        "sin_patio_o_balcon= x_train_features_nuevos[x_train_features_nuevos.tiene_patio_o_balcon == 0].tiene_patio_o_balcon.shape[0]\n",
        "con_patio_o_balcon= 100 - (sin_patio_o_balcon/x_train.shape[0]*100)\n",
        "print(\"El porcentaje de valores con patio o balcon es de:\",con_patio_o_balcon)"
      ]
    },
    {
      "cell_type": "markdown",
      "metadata": {
        "id": "dKR-yWuXr0De"
      },
      "source": [
        "Como el porcentaje de valores no nulos es superior al 12%, consideramos que es un feature factible."
      ]
    },
    {
      "cell_type": "markdown",
      "metadata": {
        "id": "XMwDVHu-zXdq"
      },
      "source": [
        "######Test"
      ]
    },
    {
      "cell_type": "markdown",
      "metadata": {
        "id": "kpSiZekGsknS"
      },
      "source": [
        "Realizamos el mismo procedimiento anterior pero ahora con el dataset de test."
      ]
    },
    {
      "cell_type": "code",
      "execution_count": null,
      "metadata": {
        "id": "kLyIUW26zc1B"
      },
      "outputs": [],
      "source": [
        "ds_patio_balcon_test = buscar_palabra(ds_cada_palabra_test,nombre=['terraza','patio','jardin', 'jardín', 'balcon','balcón'])"
      ]
    },
    {
      "cell_type": "code",
      "execution_count": null,
      "metadata": {
        "id": "DItM8OaMzc1C"
      },
      "outputs": [],
      "source": [
        "ds_patio_balcon_test.drop(ds_patio_balcon_test[ds_patio_balcon_test.duplicated(subset=['indice'])].index, inplace=True)"
      ]
    },
    {
      "cell_type": "code",
      "execution_count": null,
      "metadata": {
        "id": "tyJ_PK-rzc1C"
      },
      "outputs": [],
      "source": [
        "tiene_patio_o_balcon_test = ds_patio_balcon_test['indice'].value_counts().values"
      ]
    },
    {
      "cell_type": "code",
      "execution_count": null,
      "metadata": {
        "id": "Pkz3sL4izc1C"
      },
      "outputs": [],
      "source": [
        "ds_patio_balcon_test.palabra = tiene_patio_o_balcon_test"
      ]
    },
    {
      "cell_type": "markdown",
      "metadata": {
        "id": "bgQzo65pzc1C"
      },
      "source": [
        "Agregamos los valores 0 y 1 para el caso de si una propiedad tiene patio o balcón. 0 para el caso negativo y 1 para el caso positivo."
      ]
    },
    {
      "cell_type": "code",
      "execution_count": null,
      "metadata": {
        "id": "mz_R4MT9zc1C"
      },
      "outputs": [],
      "source": [
        "crear_nuevo_feature(x_test_features_nuevos,'tiene_patio_o_balcon', ds_patio_balcon_test, valor=0)"
      ]
    },
    {
      "cell_type": "code",
      "execution_count": null,
      "metadata": {
        "colab": {
          "base_uri": "https://localhost:8080/"
        },
        "id": "kRxU_FlHzc1C",
        "outputId": "1d63c053-feb5-4f95-ef20-62d224186959"
      },
      "outputs": [
        {
          "name": "stdout",
          "output_type": "stream",
          "text": [
            "El porcentaje de valores con patio o balcon es de: 67.1596762325239\n"
          ]
        }
      ],
      "source": [
        "sin_patio_o_balcon_test= x_test_features_nuevos[x_test_features_nuevos.tiene_patio_o_balcon== 0].tiene_patio_o_balcon.shape[0]\n",
        "con_patio_o_balcon_test= 100 - (sin_patio_o_balcon_test/x_test.shape[0]*100)\n",
        "print(\"El porcentaje de valores con patio o balcon es de:\",con_patio_o_balcon_test)"
      ]
    },
    {
      "cell_type": "markdown",
      "metadata": {
        "id": "eKWGWnB0AHww"
      },
      "source": [
        "#####Avenidas"
      ]
    },
    {
      "cell_type": "markdown",
      "metadata": {
        "id": "lRej5qS52nvO"
      },
      "source": [
        "######Train"
      ]
    },
    {
      "cell_type": "markdown",
      "metadata": {
        "id": "DRSc95ZmJHqh"
      },
      "source": [
        "En base al analisis de la frecuencia hecho anteriormente, detectamos que la palabra \"av.\" y \"avenida\" tenian una alta frecuencia, por lo tanto realizamos un análisis de si es posible crear un feature en el cual se indique si la propiedad se encuentra sobre una avenida o no."
      ]
    },
    {
      "cell_type": "code",
      "execution_count": null,
      "metadata": {
        "id": "EqD9HZdKwF9R"
      },
      "outputs": [],
      "source": [
        "ds_av = buscar_palabra(nombre=['av.', 'avenida'])\n",
        "indices_av = ds_av.index\n",
        "\n",
        "av_antes = ds_cada_palabra_train.loc[indices_av-1] #obtiene las palabras que estan antes de la palabra av. o avenida \n",
        "av_despues = ds_cada_palabra_train.loc[indices_av+1] #obtiene las palabras que estan despues de la palabra av. o avenida "
      ]
    },
    {
      "cell_type": "markdown",
      "metadata": {
        "id": "-FTrzYmNi4ZS"
      },
      "source": [
        "Analizamos cual es el porcentaje, respecto del total de veces que aparece la palabra avenida, de la cantidad de veces que precede la palabra \"de\" a \"av.\" o \"avenida\", teniendo en cuenta que si se forman las frases \"de av.\" o \"de avenida\" muy probablemente se este haciendo referencia a una propiedad que se encuentra en las cercanías de una avenida en particular. "
      ]
    },
    {
      "cell_type": "code",
      "execution_count": null,
      "metadata": {
        "colab": {
          "base_uri": "https://localhost:8080/"
        },
        "id": "xkDep9IqjjDS",
        "outputId": "cdd0f4ee-b650-48e3-e1e9-76862fc408ac"
      },
      "outputs": [
        {
          "data": {
            "text/plain": [
              "de                          19659\n",
              "la                           8488\n",
              "y                            3088\n",
              "sobre                        2275\n",
              "a                             975\n",
              "                            ...  \n",
              "(metrobús                       1\n",
              "vélez,                          1\n",
              "cañitas<br><br><br>sobre        1\n",
              "574.-<br><br>entre              1\n",
              "salvador).<br><br>sobre         1\n",
              "Name: palabra, Length: 1322, dtype: int64"
            ]
          },
          "execution_count": 120,
          "metadata": {},
          "output_type": "execute_result"
        }
      ],
      "source": [
        "av_antes.palabra.value_counts()"
      ]
    },
    {
      "cell_type": "markdown",
      "metadata": {
        "id": "2bWg6Q0Autyf"
      },
      "source": [
        "Buscamos las palabras anteriores a LA en donde despues de LA va \"avenida\" o \"av.\""
      ]
    },
    {
      "cell_type": "code",
      "execution_count": null,
      "metadata": {
        "colab": {
          "base_uri": "https://localhost:8080/"
        },
        "id": "PugRv_utprxC",
        "outputId": "3ed765b4-edd9-4219-cd23-83a65a3fa8fe"
      },
      "outputs": [
        {
          "data": {
            "text/plain": [
              "de                         5031\n",
              "sobre                      1357\n",
              "a                           471\n",
              "y                           291\n",
              "en                          270\n",
              "                           ... \n",
              "categoría!<br><br>sobre       1\n",
              "lópez,                        1\n",
              "esta                          1\n",
              "o                             1\n",
              "ríos,                         1\n",
              "Name: palabra, Length: 211, dtype: int64"
            ]
          },
          "execution_count": 121,
          "metadata": {},
          "output_type": "execute_result"
        }
      ],
      "source": [
        "palabra_LA_indices = av_antes[av_antes.palabra == 'la'].index\n",
        "palabra_LA_antes_de_avenida = obtener_sucesor_y_o_precesor_de_palabra(palabra_LA_indices, requiere_despues = False)\n",
        "palabra_LA_antes_de_avenida.palabra.value_counts()"
      ]
    },
    {
      "cell_type": "markdown",
      "metadata": {
        "id": "4l7P1iiYu0dC"
      },
      "source": [
        "Buscamos las palabras anteriores a DE en donde despues de DE va \"la avenida\" o \"la av.\""
      ]
    },
    {
      "cell_type": "code",
      "execution_count": null,
      "metadata": {
        "colab": {
          "base_uri": "https://localhost:8080/"
        },
        "id": "E1zIFef2tM9L",
        "outputId": "1483e8fe-2284-4cdd-f11e-690a2fa5b3b7"
      },
      "outputs": [
        {
          "data": {
            "text/plain": [
              "cuadras            7226\n",
              "cuadra             4311\n",
              "metros             2915\n",
              "mts                 625\n",
              "y                   340\n",
              "                   ... \n",
              "70mts                 1\n",
              "8300                  1\n",
              "equina                1\n",
              "medio                 1\n",
              "aproximadamente       1\n",
              "Name: palabra, Length: 383, dtype: int64"
            ]
          },
          "execution_count": 122,
          "metadata": {},
          "output_type": "execute_result"
        }
      ],
      "source": [
        "palabra_DE_antes_de_la_avenida_indices = av_antes[av_antes.palabra == 'de'].index\n",
        "palabra_DE_antes_de_la_avenida = obtener_sucesor_y_o_precesor_de_palabra(palabra_DE_antes_de_la_avenida_indices, requiere_despues = False)\n",
        "palabra_DE_antes_de_la_avenida.palabra.value_counts()"
      ]
    },
    {
      "cell_type": "markdown",
      "metadata": {
        "id": "lKIMeAxGuojG"
      },
      "source": [
        "Concluimos en que cuando la palabra \"la\" precede a \"avenida\" o \"av.\" hace referencia a que la propiedad que hace referencia a tal descripción esta cerca de la avenida mencionada. Teniendo en cuenta las palabras que preceden a \"de la avenida\" o \"de av.\", encontramos todas medidas de longitud, como por ejemplo cuadras, metros, etc. "
      ]
    },
    {
      "cell_type": "code",
      "execution_count": null,
      "metadata": {
        "colab": {
          "base_uri": "https://localhost:8080/"
        },
        "id": "AX4X-bgYEL5o",
        "outputId": "2448ea4f-7239-4dd6-c3c1-39997604105e"
      },
      "outputs": [
        {
          "name": "stdout",
          "output_type": "stream",
          "text": [
            "El porcentaje de veces que figura la palabra 'de av.' o 'de avenida' respecto del total es:  43.99659825884565\n"
          ]
        }
      ],
      "source": [
        "palabra_1 = \"'de av.'\"\n",
        "palabra_2 = \"'de avenida'\"\n",
        "\n",
        "de_indices = av_antes[av_antes.palabra == 'de'].index\n",
        "palabra_DE_antes_de_avenida = obtener_sucesor_y_o_precesor_de_palabra(de_indices, requiere_despues = False)\n",
        "\n",
        "print(f'El porcentaje de veces que figura la palabra {palabra_1} o {palabra_2} respecto del total es: ',palabra_DE_antes_de_avenida.shape[0]/av_antes.palabra.shape[0]*100)"
      ]
    },
    {
      "cell_type": "markdown",
      "metadata": {
        "id": "qZV_nAkAJaSK"
      },
      "source": [
        "Vemos que la frase 'de av.' o 'de avenida' es la mas frecuente, ocupando casi un 50% de todos los casos."
      ]
    },
    {
      "cell_type": "markdown",
      "metadata": {
        "id": "-_8TMxiwwVp3"
      },
      "source": [
        "En general, se puede decir que cuando se tiene la frase \"de la avenida\" o \"de avenida\", la misma indica que la propiedad se encuentra en las cercanias de una avenida ya que la palabra precesora a cualquiera de las dos frases esta relacionada a medidas de longitud como pueden ser las cuadras, metros, entre otras. "
      ]
    },
    {
      "cell_type": "markdown",
      "metadata": {
        "id": "Wsq8r0kyxV0R"
      },
      "source": [
        "Tomamos la decision de armar un feature el cual indique si la propiedad esta cerca o no de una avenida. Para ello, tomamos de las descripciones las palabras que preceden a la palabra \"avenida\" y sean alguna de las siguientes: \"de\", \"sobre\", \"en\", \"y\", \"la\".\n",
        "\n",
        "Para el caso de la palabra \"la\", tomaremos las descripciones que cumplan con \n",
        "la condicion de que antes de la misma se tenga como predecesores a las palabras \"de\", \"sobre\", \"en\", \"y\". "
      ]
    },
    {
      "cell_type": "code",
      "execution_count": null,
      "metadata": {
        "id": "9V0oa57fzv-8"
      },
      "outputs": [],
      "source": [
        "# Tanto la frase \"de avenida\" como \"la avenida\" ya las tenemos\n",
        "\n",
        "sobre_indices = av_antes[av_antes.palabra == 'sobre'].index\n",
        "palabra_SOBRE_antes_de_avenida = obtener_sucesor_y_o_precesor_de_palabra(sobre_indices, requiere_despues = False)\n",
        "\n",
        "en_indices = av_antes[av_antes.palabra == 'en'].index\n",
        "palabra_EN_antes_de_avenida = obtener_sucesor_y_o_precesor_de_palabra(en_indices, requiere_despues = False)\n",
        "\n",
        "y_indices = av_antes[av_antes.palabra == 'y'].index\n",
        "palabra_Y_antes_de_avenida = obtener_sucesor_y_o_precesor_de_palabra(y_indices, requiere_despues = False)"
      ]
    },
    {
      "cell_type": "code",
      "execution_count": null,
      "metadata": {
        "id": "XjZlqLLb0mBw"
      },
      "outputs": [],
      "source": [
        "# La frase \"de la avenida\" ya lo tenemos\n",
        "\n",
        "sobre_indices = palabra_LA_antes_de_avenida[palabra_LA_antes_de_avenida.palabra == 'sobre'].index\n",
        "palabra_SOBRE_antes_de_la_avenida = obtener_sucesor_y_o_precesor_de_palabra(sobre_indices, requiere_despues = False)\n",
        "\n",
        "en_indices = palabra_LA_antes_de_avenida[palabra_LA_antes_de_avenida.palabra == 'en'].index\n",
        "palabra_EN_antes_de_la_avenida = obtener_sucesor_y_o_precesor_de_palabra(en_indices, requiere_despues = False)\n",
        "\n",
        "y_indices = palabra_LA_antes_de_avenida[palabra_LA_antes_de_avenida.palabra == 'y'].index\n",
        "palabra_Y_antes_de_la_avenida = obtener_sucesor_y_o_precesor_de_palabra(y_indices, requiere_despues = False)"
      ]
    },
    {
      "cell_type": "code",
      "execution_count": null,
      "metadata": {
        "id": "1Uyn7k9J103b"
      },
      "outputs": [],
      "source": [
        "ds_a_concatenar = ds_av[0:0]\n",
        "ds_a_concatenar = pd.concat([ds_a_concatenar,palabra_DE_antes_de_avenida, palabra_DE_antes_de_la_avenida, palabra_EN_antes_de_avenida, palabra_EN_antes_de_la_avenida, palabra_SOBRE_antes_de_avenida, palabra_SOBRE_antes_de_la_avenida, palabra_Y_antes_de_avenida, palabra_Y_antes_de_la_avenida ])"
      ]
    },
    {
      "cell_type": "markdown",
      "metadata": {
        "id": "qSdbR5CowqSV"
      },
      "source": [
        "Eliminamos todas las filas con índice duplicado quedandonos con una unica muestra. "
      ]
    },
    {
      "cell_type": "code",
      "execution_count": null,
      "metadata": {
        "id": "gL4eS8TqvSIv"
      },
      "outputs": [],
      "source": [
        "ds_a_concatenar = ds_a_concatenar.drop_duplicates(subset='indice')"
      ]
    },
    {
      "cell_type": "markdown",
      "metadata": {
        "id": "DG3z9tcuxJnG"
      },
      "source": [
        "Una vez que tenemos solo una unica muestra, procedemos a crear el feature \"esta_cerca_de_av\"."
      ]
    },
    {
      "cell_type": "code",
      "execution_count": null,
      "metadata": {
        "id": "KXhIVpD61Adq"
      },
      "outputs": [],
      "source": [
        "esta_cerca_de_av = ds_a_concatenar['indice'].value_counts().values"
      ]
    },
    {
      "cell_type": "code",
      "execution_count": null,
      "metadata": {
        "id": "TEudwJO31J2e"
      },
      "outputs": [],
      "source": [
        "ds_a_concatenar.palabra = esta_cerca_de_av"
      ]
    },
    {
      "cell_type": "code",
      "execution_count": null,
      "metadata": {
        "id": "5GlItxvHxan2"
      },
      "outputs": [],
      "source": [
        "crear_nuevo_feature(x_train_features_nuevos,\"esta_cerca_de_av\", ds_a_concatenar, crear_de_cero = True, valor=0)"
      ]
    },
    {
      "cell_type": "code",
      "execution_count": null,
      "metadata": {
        "colab": {
          "base_uri": "https://localhost:8080/"
        },
        "id": "UhZvjgDK2BzG",
        "outputId": "fd07db1e-b1cd-494a-bfc8-12bfc8a40f63"
      },
      "outputs": [
        {
          "name": "stdout",
          "output_type": "stream",
          "text": [
            "El porcentaje de propiedades que estan cerca de una avenida es de: 28.787854877144255\n"
          ]
        }
      ],
      "source": [
        "lejos_de_av= x_train_features_nuevos[x_train_features_nuevos.esta_cerca_de_av== 0].esta_cerca_de_av.shape[0]\n",
        "cerca_de_av= 100 - (lejos_de_av/x_train.shape[0]*100)\n",
        "print(\"El porcentaje de propiedades que estan cerca de una avenida es de:\",cerca_de_av)"
      ]
    },
    {
      "cell_type": "markdown",
      "metadata": {
        "id": "JGlzwMfC2ai-"
      },
      "source": [
        "Como el porcentaje de valores no nulos es superior al 12%, consideramos que es un feature factible"
      ]
    },
    {
      "cell_type": "markdown",
      "metadata": {
        "id": "iKw_eyF62t-A"
      },
      "source": [
        "######Test"
      ]
    },
    {
      "cell_type": "markdown",
      "metadata": {
        "id": "agcmH0cfxq-K"
      },
      "source": [
        "Realizamos el mismo procedimiento anterior pero ahora con el dataset de test."
      ]
    },
    {
      "cell_type": "code",
      "execution_count": null,
      "metadata": {
        "id": "8F1zjqUQ23HX"
      },
      "outputs": [],
      "source": [
        "ds_av_test = buscar_palabra(ds_cada_palabra_test,nombre=['av.', 'avenida'])\n",
        "indices_av_test = ds_av_test.index\n",
        "\n",
        "av_antes_test = ds_cada_palabra_test.loc[indices_av_test-1] #obtiene las palabras que estan antes de la palabra av. o avenida \n",
        "av_despues_test = ds_cada_palabra_test.loc[indices_av_test+1] #obtiene las palabras que estan despues de la palabra av. o avenida "
      ]
    },
    {
      "cell_type": "code",
      "execution_count": null,
      "metadata": {
        "id": "EYcMlQWG23HZ"
      },
      "outputs": [],
      "source": [
        "DE_indices_test = av_antes_test[av_antes_test.palabra == 'de'].index\n",
        "palabra_DE_antes_de_avenida_test = obtener_sucesor_y_o_precesor_de_palabra(DE_indices_test, requiere_despues = False, ds = ds_cada_palabra_test)\n",
        "\n",
        "LA_indices_test = av_antes_test[av_antes_test.palabra == 'la'].index\n",
        "palabra_LA_antes_de_avenida_test = obtener_sucesor_y_o_precesor_de_palabra(LA_indices_test, requiere_despues = False, ds = ds_cada_palabra_test)\n",
        "\n",
        "sobre_indices_test = av_antes_test[av_antes_test.palabra == 'sobre'].index\n",
        "palabra_SOBRE_antes_de_avenida_test = obtener_sucesor_y_o_precesor_de_palabra(sobre_indices_test, requiere_despues = False, ds = ds_cada_palabra_test)\n",
        "\n",
        "en_indices_test = av_antes_test[av_antes_test.palabra == 'en'].index\n",
        "palabra_EN_antes_de_avenida_test = obtener_sucesor_y_o_precesor_de_palabra(en_indices_test, requiere_despues = False, ds = ds_cada_palabra_test)\n",
        "\n",
        "y_indices_test = av_antes_test[av_antes_test.palabra == 'y'].index\n",
        "palabra_Y_antes_de_avenida_test = obtener_sucesor_y_o_precesor_de_palabra(y_indices_test, requiere_despues = False, ds = ds_cada_palabra_test)"
      ]
    },
    {
      "cell_type": "code",
      "execution_count": null,
      "metadata": {
        "id": "hmcF6gJ-23HZ"
      },
      "outputs": [],
      "source": [
        "DE_indices_test = palabra_LA_antes_de_avenida_test[palabra_LA_antes_de_avenida_test.palabra == 'de'].index\n",
        "palabra_DE_antes_de_la_avenida_test = obtener_sucesor_y_o_precesor_de_palabra(DE_indices_test, requiere_despues = False, ds = ds_cada_palabra_test)\n",
        "\n",
        "sobre_indices_test = palabra_LA_antes_de_avenida_test[palabra_LA_antes_de_avenida_test.palabra == 'sobre'].index\n",
        "palabra_SOBRE_antes_de_la_avenida_test = obtener_sucesor_y_o_precesor_de_palabra(sobre_indices_test, requiere_despues = False, ds = ds_cada_palabra_test)\n",
        "\n",
        "en_indices_test = palabra_LA_antes_de_avenida_test[palabra_LA_antes_de_avenida_test.palabra == 'en'].index\n",
        "palabra_EN_antes_de_la_avenida_test = obtener_sucesor_y_o_precesor_de_palabra(en_indices_test, requiere_despues = False, ds = ds_cada_palabra_test)\n",
        "\n",
        "y_indices_test = palabra_LA_antes_de_avenida_test[palabra_LA_antes_de_avenida_test.palabra == 'y'].index\n",
        "palabra_Y_antes_de_la_avenida_test = obtener_sucesor_y_o_precesor_de_palabra(y_indices_test, requiere_despues = False, ds = ds_cada_palabra_test)"
      ]
    },
    {
      "cell_type": "code",
      "execution_count": null,
      "metadata": {
        "id": "IvVzx_T123HZ"
      },
      "outputs": [],
      "source": [
        "ds_a_concatenar_test = ds_av[0:0]\n",
        "ds_a_concatenar_test = pd.concat([ds_a_concatenar_test,palabra_DE_antes_de_avenida_test, palabra_DE_antes_de_la_avenida_test, palabra_EN_antes_de_avenida_test, palabra_EN_antes_de_la_avenida_test, palabra_SOBRE_antes_de_avenida_test, palabra_SOBRE_antes_de_la_avenida_test, palabra_Y_antes_de_avenida_test, palabra_Y_antes_de_la_avenida_test ])"
      ]
    },
    {
      "cell_type": "code",
      "execution_count": null,
      "metadata": {
        "id": "uapl7t8G23HZ"
      },
      "outputs": [],
      "source": [
        "ds_a_concatenar_test = ds_a_concatenar_test.drop_duplicates(subset='indice')"
      ]
    },
    {
      "cell_type": "code",
      "execution_count": null,
      "metadata": {
        "id": "eftyMyx323HZ"
      },
      "outputs": [],
      "source": [
        "esta_cerca_de_av_test = ds_a_concatenar_test['indice'].value_counts().values"
      ]
    },
    {
      "cell_type": "code",
      "execution_count": null,
      "metadata": {
        "id": "V0Bcaowm23HZ"
      },
      "outputs": [],
      "source": [
        "ds_a_concatenar_test.palabra = esta_cerca_de_av_test"
      ]
    },
    {
      "cell_type": "code",
      "execution_count": null,
      "metadata": {
        "id": "4foVL6CL23HZ"
      },
      "outputs": [],
      "source": [
        "crear_nuevo_feature(x_test_features_nuevos,\"esta_cerca_de_av\", ds_a_concatenar_test, crear_de_cero = True, valor=0)"
      ]
    },
    {
      "cell_type": "code",
      "execution_count": null,
      "metadata": {
        "colab": {
          "base_uri": "https://localhost:8080/"
        },
        "id": "l-0QduoF23Ha",
        "outputId": "f7a8e35b-807f-4b39-e445-31f971ab1f27"
      },
      "outputs": [
        {
          "name": "stdout",
          "output_type": "stream",
          "text": [
            "El porcentaje de propiedades que estan cerca de una avenida es de: 32.59381898454747\n"
          ]
        }
      ],
      "source": [
        "lejos_de_av= x_test_features_nuevos[x_test_features_nuevos.esta_cerca_de_av== 0].esta_cerca_de_av.shape[0]\n",
        "cerca_de_av= 100 - (lejos_de_av/x_test.shape[0]*100)\n",
        "print(\"El porcentaje de propiedades que estan cerca de una avenida es de:\",cerca_de_av)"
      ]
    },
    {
      "cell_type": "markdown",
      "metadata": {
        "id": "dqlssLRB23Ha"
      },
      "source": [
        "Como el porcentaje de valores no nulos es superior al 12%, consideramos que es un feature factible"
      ]
    },
    {
      "cell_type": "markdown",
      "metadata": {
        "id": "MXBKoQUcigUX"
      },
      "source": [
        "##### Comuna"
      ]
    },
    {
      "cell_type": "markdown",
      "metadata": {
        "id": "1Slo-XnQw5dJ"
      },
      "source": [
        "Decidimos ampliar el dataset creando el feature Comuna, el cual es un derivado del feature place_l3 con la diferencia de que, como place_l3 tiene todos los barrios, tiene una mayor cantidad de valores posibles que el feature Comuna, ya que las comunas estan conformadas por un conjunto de barrios.\n",
        "\n",
        " De esta manera tenemos un feature con valores numericos que posiblemente ayude a mejorar lo modelos de prediccion."
      ]
    },
    {
      "cell_type": "markdown",
      "metadata": {
        "id": "YT5yjBlsyOoV"
      },
      "source": [
        "Para asignar a los barrios su respectiva columna tomamos la informacion brindada por el Gobierno de la Ciudad de Buenos Aires: https://www.buenosaires.gob.ar/sindicatura/universo-de-control/comunas-15"
      ]
    },
    {
      "cell_type": "markdown",
      "metadata": {
        "id": "VxIk_iFnkxHa"
      },
      "source": [
        "* COMUNA 1 Retiro, San Nicolás, Puerto Madero, San Telmo, Montserrat y Constitución\n",
        "\n",
        "* COMUNA 2 Recoleta\n",
        "\n",
        "* COMUNA 3 Balvanera y San Cristóbal\n",
        "\n",
        "* COMUNA 4 La Boca, Barracas, Parque Patricios y Nueva Pompeya\n",
        "\n",
        "* COMUNA 5 Almagro y Boedo\n",
        "\n",
        "* COMUNA 6 Caballito\n",
        "\n",
        "* COMUNA 7 Flores y Parque Chacabuco\n",
        "\n",
        "* COMUNA 8 Villa Soldati, Villa Riachuelo y Villa Lugano\n",
        "\n",
        "* COMUNA 9 Liniers, Mataderos y Parque Avellaneda\n",
        "\n",
        "* COMUNA 10 Villa Real, Monte Castro, Versalles, Floresta, Vélez Sarfield y Villa Luro\n",
        "\n",
        "* COMUNA 11 Villa General Mitre, Villa Devoto, Villa del Parque y Villa Santa Rita\n",
        "\n",
        "* COMUNA 12 Coghlan, Saavedra, Villa Urquiza y Villa Pueyrredón\n",
        "\n",
        "* COMUNA 13 Núñez, Belgrano y Colegiales\n",
        "\n",
        "* COMUNA 14 Palermo\n",
        "\n",
        "* COMUNA 15 Chacarita, Villa Crespo, La Paternal, Villa Ortúzar, Agronomía y Parque Chas"
      ]
    },
    {
      "cell_type": "markdown",
      "metadata": {
        "id": "F2avuIprw0Jk"
      },
      "source": [
        "######Train"
      ]
    },
    {
      "cell_type": "markdown",
      "metadata": {
        "id": "95BINcBbx-sB"
      },
      "source": [
        "Creamos un nuevo feature como copia de uno existente"
      ]
    },
    {
      "cell_type": "code",
      "execution_count": null,
      "metadata": {
        "id": "UdQEVVOuijRd"
      },
      "outputs": [],
      "source": [
        "x_train_features_nuevos['comuna'] = x_train_features_nuevos['place_l3'].values   "
      ]
    },
    {
      "cell_type": "code",
      "execution_count": null,
      "metadata": {
        "id": "HoD1dvvzoQqy"
      },
      "outputs": [],
      "source": [
        "asignar_comuna(x_train_features_nuevos, ['Retiro', 'San Nicolás', 'Puerto Madero', 'San Telmo', 'Constitución'], 1)\n",
        "asignar_comuna(x_train_features_nuevos, ['Recoleta', 'Barrio Norte'], 2)\n",
        "asignar_comuna(x_train_features_nuevos, ['Balvanera', 'San Cristobal', 'Monserrat', 'Congreso', 'Tribunales', 'Centro / Microcentro', 'Monserrat', 'Once', 'Abasto' ], 3)\n",
        "asignar_comuna(x_train_features_nuevos, ['Boca', 'Barracas', 'Parque Patricios', 'Nueva Pompeya', 'Pompeya', 'Catalinas'], 4)\n",
        "asignar_comuna(x_train_features_nuevos, ['Almagro', 'Boedo'], 5)\n",
        "asignar_comuna(x_train_features_nuevos, ['Caballito'], 6)\n",
        "asignar_comuna(x_train_features_nuevos, ['Flores','Parque Chacabuco', 'Parque Centenario'], 7)\n",
        "asignar_comuna(x_train_features_nuevos, ['Villa Soldati','Villa Riachuelo','Villa Lugano'], 8)\n",
        "asignar_comuna(x_train_features_nuevos, ['Liniers', 'Mataderos' ,'Parque Avellaneda'], 9)\n",
        "asignar_comuna(x_train_features_nuevos, [ 'Villa Real', 'Monte Castro', 'Versalles', 'Floresta', 'Velez Sarsfield', 'Villa Luro'], 10)\n",
        "asignar_comuna(x_train_features_nuevos, ['Villa General Mitre', 'Villa Devoto', 'Villa del Parque' , 'Villa Santa Rita'], 11)\n",
        "asignar_comuna(x_train_features_nuevos, ['Coghlan', 'Saavedra', 'Villa Urquiza','Villa Pueyrredón'], 12)\n",
        "asignar_comuna(x_train_features_nuevos, ['Nuñez', 'Belgrano', 'Colegiales'], 13)\n",
        "asignar_comuna(x_train_features_nuevos, ['Palermo', 'Las Cañitas'], 14)\n",
        "asignar_comuna(x_train_features_nuevos, ['Chacarita', 'Villa Crespo', 'La Paternal', 'Villa Ortuzar', 'Agronomía', 'Parque Chas', 'Paternal'], 15)"
      ]
    },
    {
      "cell_type": "markdown",
      "metadata": {
        "id": "eMqwGRGivIfr"
      },
      "source": [
        "######Test"
      ]
    },
    {
      "cell_type": "markdown",
      "metadata": {
        "id": "iVFxHBl5yE3c"
      },
      "source": [
        "Realizamos el mismo procedimiento anterior pero ahora con el dataset de test."
      ]
    },
    {
      "cell_type": "code",
      "execution_count": null,
      "metadata": {
        "id": "Ukk0GO9_vOlZ"
      },
      "outputs": [],
      "source": [
        "x_test_features_nuevos['comuna'] = x_test_features_nuevos['place_l3'].values "
      ]
    },
    {
      "cell_type": "code",
      "execution_count": null,
      "metadata": {
        "id": "CMOyEf9gvJjz"
      },
      "outputs": [],
      "source": [
        "asignar_comuna(x_test_features_nuevos, ['Retiro', 'San Nicolás', 'Puerto Madero', 'San Telmo', 'Constitución'], 1)\n",
        "asignar_comuna(x_test_features_nuevos, ['Recoleta', 'Barrio Norte'], 2)\n",
        "asignar_comuna(x_test_features_nuevos, ['Balvanera', 'San Cristobal', 'Monserrat', 'Congreso', 'Tribunales', 'Centro / Microcentro', 'Monserrat', 'Once', 'Abasto' ], 3)\n",
        "asignar_comuna(x_test_features_nuevos, ['Boca', 'Barracas', 'Parque Patricios', 'Nueva Pompeya', 'Pompeya', 'Catalinas'], 4)\n",
        "asignar_comuna(x_test_features_nuevos, ['Almagro', 'Boedo'], 5)\n",
        "asignar_comuna(x_test_features_nuevos, ['Caballito'], 6)\n",
        "asignar_comuna(x_test_features_nuevos, ['Flores','Parque Chacabuco', 'Parque Centenario'], 7)\n",
        "asignar_comuna(x_test_features_nuevos, ['Villa Soldati','Villa Riachuelo','Villa Lugano'], 8)\n",
        "asignar_comuna(x_test_features_nuevos, ['Liniers', 'Mataderos' ,'Parque Avellaneda'], 9)\n",
        "asignar_comuna(x_test_features_nuevos, [ 'Villa Real', 'Monte Castro', 'Versalles', 'Floresta', 'Velez Sarsfield', 'Villa Luro'], 10)\n",
        "asignar_comuna(x_test_features_nuevos, ['Villa General Mitre', 'Villa Devoto', 'Villa del Parque' , 'Villa Santa Rita'], 11)\n",
        "asignar_comuna(x_test_features_nuevos, ['Coghlan', 'Saavedra', 'Villa Urquiza','Villa Pueyrredón'], 12)\n",
        "asignar_comuna(x_test_features_nuevos, ['Nuñez', 'Belgrano', 'Colegiales'], 13)\n",
        "asignar_comuna(x_test_features_nuevos, ['Palermo', 'Las Cañitas'], 14)\n",
        "asignar_comuna(x_test_features_nuevos, ['Chacarita', 'Villa Crespo', 'La Paternal', 'Villa Ortuzar', 'Agronomía', 'Parque Chas', 'Paternal'], 15)"
      ]
    },
    {
      "cell_type": "markdown",
      "metadata": {
        "id": "oX3RdRezg8JU"
      },
      "source": [
        "# Modelos: XGB"
      ]
    },
    {
      "cell_type": "code",
      "execution_count": null,
      "metadata": {
        "id": "u-PAGpdtB4ub"
      },
      "outputs": [],
      "source": [
        "def cross_validation_function(x_ds, y_ds, params_grid=None,folds=5, base_tree=None, scorer=None, n=10): \n",
        "  #Conjunto de parámetros que quiero usar\n",
        "  if(params_grid == None):\n",
        "    params_grid = {'criterion':['gini','entropy'],\n",
        "                  'ccp_alpha':np.linspace(0,0.05,n), \n",
        "                  'max_depth':list(range(1,10))},\n",
        "\n",
        "  #Kfold estratificado\n",
        "  kfoldcv = StratifiedKFold(n_splits=folds, shuffle=True, random_state=2)#preguntar si el shuffle rompe algo\n",
        "\n",
        "  #Random Search Cross Validation\n",
        "  randomcv = RandomizedSearchCV(estimator=base_tree,\n",
        "                                param_distributions = params_grid,\n",
        "                                scoring=scorer,\n",
        "                                cv=kfoldcv,\n",
        "                                n_iter=n,\n",
        "                                return_train_score= True,\n",
        "                                random_state=2) \n",
        "\n",
        "  #Busco los hiperparamtros que optimizan F1 Score\n",
        "  randomcv.fit(x_ds, y_ds)\n",
        "\n",
        "  return randomcv"
      ]
    },
    {
      "cell_type": "code",
      "execution_count": null,
      "metadata": {
        "id": "gRycnrfOXX8S"
      },
      "outputs": [],
      "source": [
        "def encontrar_mejor_metrica_de_cv(randomcv):  \n",
        "  #creo una lista que contiene todas las metricas obtenidas en todos los spits de cv\n",
        "  metricas_totales = []\n",
        "  metricas_totales.extend(randomcv.cv_results_['split0_test_score'])\n",
        "  metricas_totales.extend(randomcv.cv_results_['split1_test_score'])\n",
        "  metricas_totales.extend(randomcv.cv_results_['split2_test_score'])\n",
        "  metricas_totales.extend(randomcv.cv_results_['split3_test_score'])\n",
        "  metricas_totales.extend(randomcv.cv_results_['split4_test_score'])\n",
        "\n",
        "  print('La mejor metrica obtenida mediante cv en train es de:',max(metricas_totales))\n",
        "\n",
        "  return metricas_totales,max(metricas_totales)"
      ]
    },
    {
      "cell_type": "code",
      "execution_count": null,
      "metadata": {
        "id": "fbelWiwkvO0T"
      },
      "outputs": [],
      "source": [
        "def mostrar_resultados_cv(params, score, arbol):\n",
        "  print(f\"Para {arbol}\")\n",
        "  print(f\"\\tMejores parametros: \\n\\t\\t{params}\")\n",
        "  print(f\"\\Best Score: \\n\\t\\t{score}\")"
      ]
    },
    {
      "cell_type": "code",
      "execution_count": null,
      "metadata": {
        "id": "kPF66MxkZq3_"
      },
      "outputs": [],
      "source": [
        "def calcular_metricas_de_regresion(y_pred):  \n",
        "  #Mean Square Error\n",
        "  mse = sk.metrics.mean_squared_error(\n",
        "          y_true  = y_test,\n",
        "          y_pred  = y_pred,\n",
        "          squared = True\n",
        "        )\n",
        "\n",
        "  print(f\"El error (mse) de test es: {mse}\")\n",
        "\n",
        "  #Root Mean Square Error\n",
        "  rmse = sk.metrics.mean_squared_error(\n",
        "          y_true  = y_test,\n",
        "          y_pred  = y_pred,\n",
        "          squared = False\n",
        "        )\n",
        "\n",
        "  print(f\"El error (rmse) de test es: {rmse}\")"
      ]
    },
    {
      "cell_type": "markdown",
      "metadata": {
        "id": "0K57lNMhtC89"
      },
      "source": [
        "##Hiperparametros TP1"
      ]
    },
    {
      "cell_type": "markdown",
      "metadata": {
        "id": "He-E3Qm06WOt"
      },
      "source": [
        "Hacemos one hot encoding para property_type"
      ]
    },
    {
      "cell_type": "code",
      "execution_count": null,
      "metadata": {
        "id": "1nmIJrLQyjU_"
      },
      "outputs": [],
      "source": [
        "train_con_dummi = pd.get_dummies(x_train, columns=[\"property_type\"], drop_first=False)\n",
        "test_con_dummi = pd.get_dummies(x_test, columns=[\"property_type\"], drop_first=False)"
      ]
    },
    {
      "cell_type": "code",
      "execution_count": null,
      "metadata": {
        "id": "AgHWPe-ytvMs"
      },
      "outputs": [],
      "source": [
        "train_features_nuevos_con_dummi = pd.get_dummies(x_train_features_nuevos, columns=[\"property_type\"], drop_first=False)\n",
        "test_features_nuevos_con_dummi = pd.get_dummies(x_test_features_nuevos, columns=[\"property_type\"], drop_first=False)"
      ]
    },
    {
      "cell_type": "markdown",
      "metadata": {
        "id": "SSU5jVz_6ciB"
      },
      "source": [
        "Conseguimos los data set de entrenamiento para la regresion habiendo trabajado la variable propery_type con dummies y eliminado el precio."
      ]
    },
    {
      "cell_type": "code",
      "execution_count": null,
      "metadata": {
        "id": "fBMy2tbrlSWZ"
      },
      "outputs": [],
      "source": [
        "x_train_reg_features_nuevos = train_features_nuevos_con_dummi[['property_rooms', 'property_bedrooms', 'property_surface_total','property_surface_covered',\n",
        "                               'piso', 'amenities', 'tiene_patio_o_balcon', 'esta_cerca_de_av', 'comuna']]\n",
        "x_test_reg_features_nuevos = test_features_nuevos_con_dummi[['property_rooms', 'property_bedrooms', 'property_surface_total','property_surface_covered',\n",
        "                             'piso', 'amenities', 'tiene_patio_o_balcon', 'esta_cerca_de_av', 'comuna']]"
      ]
    },
    {
      "cell_type": "code",
      "execution_count": null,
      "metadata": {
        "id": "OlXPUUDOBtYw"
      },
      "outputs": [],
      "source": [
        "x_train_reg_tp1 = x_train_reg_features_nuevos[['property_rooms', 'property_bedrooms', 'property_surface_total',\n",
        "       'property_surface_covered']]\n",
        "x_test_reg_tp1 = x_test_reg_features_nuevos[['property_rooms', 'property_bedrooms', 'property_surface_total',\n",
        "       'property_surface_covered']]"
      ]
    },
    {
      "cell_type": "code",
      "execution_count": null,
      "metadata": {
        "colab": {
          "base_uri": "https://localhost:8080/"
        },
        "id": "0R2c6yxTuhYe",
        "outputId": "2aa64139-21c4-4d9d-90f9-de6b4895617f"
      },
      "outputs": [
        {
          "name": "stdout",
          "output_type": "stream",
          "text": [
            "Columnas con features nuevos: \n"
          ]
        },
        {
          "data": {
            "text/plain": [
              "['property_rooms',\n",
              " 'property_bedrooms',\n",
              " 'property_surface_total',\n",
              " 'property_surface_covered',\n",
              " 'piso',\n",
              " 'amenities',\n",
              " 'tiene_patio_o_balcon',\n",
              " 'esta_cerca_de_av',\n",
              " 'comuna']"
            ]
          },
          "execution_count": 153,
          "metadata": {},
          "output_type": "execute_result"
        }
      ],
      "source": [
        "print(\"Columnas con features nuevos: \")\n",
        "x_train_reg_features_nuevos.columns.to_list()"
      ]
    },
    {
      "cell_type": "code",
      "execution_count": null,
      "metadata": {
        "colab": {
          "base_uri": "https://localhost:8080/"
        },
        "id": "pE_crKCAujyL",
        "outputId": "cf360f23-4b1d-4a28-c2c6-3276aeff5a76"
      },
      "outputs": [
        {
          "name": "stdout",
          "output_type": "stream",
          "text": [
            "Columnas con features del tp1: \n"
          ]
        },
        {
          "data": {
            "text/plain": [
              "['property_rooms',\n",
              " 'property_bedrooms',\n",
              " 'property_surface_total',\n",
              " 'property_surface_covered']"
            ]
          },
          "execution_count": 154,
          "metadata": {},
          "output_type": "execute_result"
        }
      ],
      "source": [
        "print(\"Columnas con features del tp1: \")\n",
        "x_train_reg_tp1.columns.to_list()"
      ]
    },
    {
      "cell_type": "markdown",
      "metadata": {
        "id": "FK0hUs876l8D"
      },
      "source": [
        "Seteamos los parámetros de XGBoost conseguidos con el tp anterior."
      ]
    },
    {
      "cell_type": "code",
      "execution_count": null,
      "metadata": {
        "id": "5pbCB2Lq3iS4"
      },
      "outputs": [],
      "source": [
        "xgb_params = {'subsample': 0.4, 'reg_alpha': 0.005, 'n_estimators': 15, 'min_child_weight': 10, 'max_depth': 5, 'learning_rate': 0.3, 'gamma': 0.01, 'colsample_bytree': 1}"
      ]
    },
    {
      "cell_type": "code",
      "execution_count": null,
      "metadata": {
        "id": "d1G8OgGSlpl0"
      },
      "outputs": [],
      "source": [
        "xgbr = XGBRegressor(objective='reg:squarederror').set_params(**xgb_params)\n",
        "\n",
        "xgbr.fit(x_train_reg_tp1, y_train)\n",
        "\n",
        "xgb_y_pred = xgbr.predict(x_test_reg_tp1)"
      ]
    },
    {
      "cell_type": "code",
      "execution_count": null,
      "metadata": {
        "colab": {
          "base_uri": "https://localhost:8080/"
        },
        "id": "-i4YDuzERRY_",
        "outputId": "ecdd21a7-3cff-41c5-ddbe-4d95e8601018"
      },
      "outputs": [
        {
          "data": {
            "text/html": [
              "\n",
              "  <div id=\"df-72bba85c-7dc2-4dab-abcc-4e19cb68e002\">\n",
              "    <div class=\"colab-df-container\">\n",
              "      <div>\n",
              "<style scoped>\n",
              "    .dataframe tbody tr th:only-of-type {\n",
              "        vertical-align: middle;\n",
              "    }\n",
              "\n",
              "    .dataframe tbody tr th {\n",
              "        vertical-align: top;\n",
              "    }\n",
              "\n",
              "    .dataframe thead th {\n",
              "        text-align: right;\n",
              "    }\n",
              "</style>\n",
              "<table border=\"1\" class=\"dataframe\">\n",
              "  <thead>\n",
              "    <tr style=\"text-align: right;\">\n",
              "      <th></th>\n",
              "      <th>Valor Real</th>\n",
              "      <th>Prediccion</th>\n",
              "      <th>Error</th>\n",
              "    </tr>\n",
              "  </thead>\n",
              "  <tbody>\n",
              "    <tr>\n",
              "      <th>0</th>\n",
              "      <td>82900.0</td>\n",
              "      <td>124179.843750</td>\n",
              "      <td>-41279.843750</td>\n",
              "    </tr>\n",
              "    <tr>\n",
              "      <th>1</th>\n",
              "      <td>250000.0</td>\n",
              "      <td>189865.843750</td>\n",
              "      <td>60134.156250</td>\n",
              "    </tr>\n",
              "    <tr>\n",
              "      <th>2</th>\n",
              "      <td>100000.0</td>\n",
              "      <td>127280.304688</td>\n",
              "      <td>-27280.304688</td>\n",
              "    </tr>\n",
              "    <tr>\n",
              "      <th>3</th>\n",
              "      <td>500000.0</td>\n",
              "      <td>215529.437500</td>\n",
              "      <td>284470.562500</td>\n",
              "    </tr>\n",
              "    <tr>\n",
              "      <th>4</th>\n",
              "      <td>110000.0</td>\n",
              "      <td>284704.218750</td>\n",
              "      <td>-174704.218750</td>\n",
              "    </tr>\n",
              "  </tbody>\n",
              "</table>\n",
              "</div>\n",
              "      <button class=\"colab-df-convert\" onclick=\"convertToInteractive('df-72bba85c-7dc2-4dab-abcc-4e19cb68e002')\"\n",
              "              title=\"Convert this dataframe to an interactive table.\"\n",
              "              style=\"display:none;\">\n",
              "        \n",
              "  <svg xmlns=\"http://www.w3.org/2000/svg\" height=\"24px\"viewBox=\"0 0 24 24\"\n",
              "       width=\"24px\">\n",
              "    <path d=\"M0 0h24v24H0V0z\" fill=\"none\"/>\n",
              "    <path d=\"M18.56 5.44l.94 2.06.94-2.06 2.06-.94-2.06-.94-.94-2.06-.94 2.06-2.06.94zm-11 1L8.5 8.5l.94-2.06 2.06-.94-2.06-.94L8.5 2.5l-.94 2.06-2.06.94zm10 10l.94 2.06.94-2.06 2.06-.94-2.06-.94-.94-2.06-.94 2.06-2.06.94z\"/><path d=\"M17.41 7.96l-1.37-1.37c-.4-.4-.92-.59-1.43-.59-.52 0-1.04.2-1.43.59L10.3 9.45l-7.72 7.72c-.78.78-.78 2.05 0 2.83L4 21.41c.39.39.9.59 1.41.59.51 0 1.02-.2 1.41-.59l7.78-7.78 2.81-2.81c.8-.78.8-2.07 0-2.86zM5.41 20L4 18.59l7.72-7.72 1.47 1.35L5.41 20z\"/>\n",
              "  </svg>\n",
              "      </button>\n",
              "      \n",
              "  <style>\n",
              "    .colab-df-container {\n",
              "      display:flex;\n",
              "      flex-wrap:wrap;\n",
              "      gap: 12px;\n",
              "    }\n",
              "\n",
              "    .colab-df-convert {\n",
              "      background-color: #E8F0FE;\n",
              "      border: none;\n",
              "      border-radius: 50%;\n",
              "      cursor: pointer;\n",
              "      display: none;\n",
              "      fill: #1967D2;\n",
              "      height: 32px;\n",
              "      padding: 0 0 0 0;\n",
              "      width: 32px;\n",
              "    }\n",
              "\n",
              "    .colab-df-convert:hover {\n",
              "      background-color: #E2EBFA;\n",
              "      box-shadow: 0px 1px 2px rgba(60, 64, 67, 0.3), 0px 1px 3px 1px rgba(60, 64, 67, 0.15);\n",
              "      fill: #174EA6;\n",
              "    }\n",
              "\n",
              "    [theme=dark] .colab-df-convert {\n",
              "      background-color: #3B4455;\n",
              "      fill: #D2E3FC;\n",
              "    }\n",
              "\n",
              "    [theme=dark] .colab-df-convert:hover {\n",
              "      background-color: #434B5C;\n",
              "      box-shadow: 0px 1px 3px 1px rgba(0, 0, 0, 0.15);\n",
              "      filter: drop-shadow(0px 1px 2px rgba(0, 0, 0, 0.3));\n",
              "      fill: #FFFFFF;\n",
              "    }\n",
              "  </style>\n",
              "\n",
              "      <script>\n",
              "        const buttonEl =\n",
              "          document.querySelector('#df-72bba85c-7dc2-4dab-abcc-4e19cb68e002 button.colab-df-convert');\n",
              "        buttonEl.style.display =\n",
              "          google.colab.kernel.accessAllowed ? 'block' : 'none';\n",
              "\n",
              "        async function convertToInteractive(key) {\n",
              "          const element = document.querySelector('#df-72bba85c-7dc2-4dab-abcc-4e19cb68e002');\n",
              "          const dataTable =\n",
              "            await google.colab.kernel.invokeFunction('convertToInteractive',\n",
              "                                                     [key], {});\n",
              "          if (!dataTable) return;\n",
              "\n",
              "          const docLinkHtml = 'Like what you see? Visit the ' +\n",
              "            '<a target=\"_blank\" href=https://colab.research.google.com/notebooks/data_table.ipynb>data table notebook</a>'\n",
              "            + ' to learn more about interactive tables.';\n",
              "          element.innerHTML = '';\n",
              "          dataTable['output_type'] = 'display_data';\n",
              "          await google.colab.output.renderOutput(dataTable, element);\n",
              "          const docLink = document.createElement('div');\n",
              "          docLink.innerHTML = docLinkHtml;\n",
              "          element.appendChild(docLink);\n",
              "        }\n",
              "      </script>\n",
              "    </div>\n",
              "  </div>\n",
              "  "
            ],
            "text/plain": [
              "   Valor Real     Prediccion          Error\n",
              "0     82900.0  124179.843750  -41279.843750\n",
              "1    250000.0  189865.843750   60134.156250\n",
              "2    100000.0  127280.304688  -27280.304688\n",
              "3    500000.0  215529.437500  284470.562500\n",
              "4    110000.0  284704.218750 -174704.218750"
            ]
          },
          "execution_count": 157,
          "metadata": {},
          "output_type": "execute_result"
        }
      ],
      "source": [
        "# Performance\n",
        "xgb_performance = pd.DataFrame({'Valor Real': y_test,\n",
        "                            'Prediccion': xgb_y_pred,\n",
        "                            'Error': y_test - xgb_y_pred})\n",
        "# View\n",
        "xgb_performance.head()"
      ]
    },
    {
      "cell_type": "code",
      "execution_count": null,
      "metadata": {
        "colab": {
          "base_uri": "https://localhost:8080/"
        },
        "id": "Rma94BtkR7at",
        "outputId": "9d6d53b0-4d6e-4caf-f00a-031de0d689dd"
      },
      "outputs": [
        {
          "name": "stdout",
          "output_type": "stream",
          "text": [
            "El error (mse) de test es: 20136158403.007263\n",
            "El error (rmse) de test es: 141901.93234416246\n"
          ]
        }
      ],
      "source": [
        "calcular_metricas_de_regresion(xgb_y_pred)"
      ]
    },
    {
      "cell_type": "code",
      "execution_count": null,
      "metadata": {
        "colab": {
          "base_uri": "https://localhost:8080/"
        },
        "id": "PJdLsHISR_f4",
        "outputId": "b8b1fd8a-4f6f-44eb-8f42-453a0b480e18"
      },
      "outputs": [
        {
          "name": "stdout",
          "output_type": "stream",
          "text": [
            "El score del xgboost es:  0.6734957565016195\n"
          ]
        }
      ],
      "source": [
        "#Coef. de Determinación R2\n",
        "xgb_score = xgbr.score(x_test_reg_tp1, y_test)\n",
        "print(\"El score del xgboost es: \", xgb_score)"
      ]
    },
    {
      "cell_type": "markdown",
      "metadata": {
        "id": "yaQ6t7ObtKaC"
      },
      "source": [
        "##Hiperparametros nuevos"
      ]
    },
    {
      "cell_type": "markdown",
      "metadata": {
        "id": "iwIWOT8l7B_B"
      },
      "source": [
        "Seteamos los nuevos hiperparámetros de XGBoost para hacer Cross Validation."
      ]
    },
    {
      "cell_type": "code",
      "execution_count": null,
      "metadata": {
        "id": "Ik30ONTIVuR-"
      },
      "outputs": [],
      "source": [
        "xgb_reg_params_fn = {\n",
        "    'learning_rate':     [0.05, 0.3], # Default 0.3\n",
        "    'max_depth':        [5, 16, 5], # Default 6\n",
        "    'min_child_weight': [1, 10, 1], # Default 1\n",
        "    'colsample_bytree': [0.3, 1], # Default 1\n",
        "    'subsample':        [0.4, 1], #  >= 0.5 for good results.\n",
        "    'n_estimators':     [5, 10, 15, 20],\n",
        "    'reg_alpha':        [0, 0.001, 0.005, 0.01, 0.05], # Default 0\n",
        "    'gamma':            [0, 0.005, 0.01, 0.05, 1] # Default 0\n",
        "}"
      ]
    },
    {
      "cell_type": "code",
      "execution_count": null,
      "metadata": {
        "id": "1QXy-g4-Nlja"
      },
      "outputs": [],
      "source": [
        "xgbr_fn = XGBRegressor(objective='reg:squarederror')\n",
        "\n",
        "xgb_scorer_fn = make_scorer(sk.metrics.r2_score)\n",
        "\n",
        "xgb_randomcv_fn = cross_validation_function(x_train_reg_features_nuevos, y_train, base_tree=xgbr_fn, scorer=xgb_scorer_fn, params_grid=xgb_reg_params_fn)"
      ]
    },
    {
      "cell_type": "code",
      "execution_count": null,
      "metadata": {
        "colab": {
          "base_uri": "https://localhost:8080/"
        },
        "id": "KdiWk44lTEAy",
        "outputId": "aab7e739-910f-4f83-8148-c06fd62db1fe"
      },
      "outputs": [
        {
          "name": "stdout",
          "output_type": "stream",
          "text": [
            "Para XGBoost con el de Features Nuevos\n",
            "\tMejores parametros: \n",
            "\t\t{'subsample': 0.4, 'reg_alpha': 0.005, 'n_estimators': 15, 'min_child_weight': 10, 'max_depth': 5, 'learning_rate': 0.3, 'gamma': 0.01, 'colsample_bytree': 1}\n",
            "\\Best Score: \n",
            "\t\t0.8319967591049799\n"
          ]
        }
      ],
      "source": [
        "mostrar_resultados_cv(xgb_randomcv_fn.best_params_, xgb_randomcv_fn.best_score_, \"XGBoost con el de Features Nuevos\")"
      ]
    },
    {
      "cell_type": "code",
      "execution_count": null,
      "metadata": {
        "colab": {
          "base_uri": "https://localhost:8080/"
        },
        "id": "o60MXLcYTIla",
        "outputId": "d0eac697-9972-4e01-a1da-84dacf162133"
      },
      "outputs": [
        {
          "name": "stdout",
          "output_type": "stream",
          "text": [
            "La mejor metrica obtenida mediante cv en train es de: 0.8421373315210269\n"
          ]
        }
      ],
      "source": [
        "xgb_metricas_fn, xgb_mejor_metrica_fn = encontrar_mejor_metrica_de_cv(xgb_randomcv_fn) "
      ]
    },
    {
      "cell_type": "code",
      "execution_count": null,
      "metadata": {
        "id": "WjJfgyRgU2X3"
      },
      "outputs": [],
      "source": [
        "xgbr_fn = XGBRegressor(objective='reg:squarederror').set_params(**xgb_randomcv_fn.best_params_)\n",
        "\n",
        "xgbr_fn.fit(x_train_reg_features_nuevos, y_train)\n",
        " \n",
        "xgb_y_pred_fn = xgbr_fn.predict(x_test_reg_features_nuevos)"
      ]
    },
    {
      "cell_type": "code",
      "execution_count": null,
      "metadata": {
        "colab": {
          "base_uri": "https://localhost:8080/"
        },
        "id": "1ZxuiO1Ru0g8",
        "outputId": "21db7236-ea96-48ee-fb93-bf04014339e3"
      },
      "outputs": [
        {
          "data": {
            "text/html": [
              "\n",
              "  <div id=\"df-c0916fb2-b4e9-4409-b647-77f9314d7308\">\n",
              "    <div class=\"colab-df-container\">\n",
              "      <div>\n",
              "<style scoped>\n",
              "    .dataframe tbody tr th:only-of-type {\n",
              "        vertical-align: middle;\n",
              "    }\n",
              "\n",
              "    .dataframe tbody tr th {\n",
              "        vertical-align: top;\n",
              "    }\n",
              "\n",
              "    .dataframe thead th {\n",
              "        text-align: right;\n",
              "    }\n",
              "</style>\n",
              "<table border=\"1\" class=\"dataframe\">\n",
              "  <thead>\n",
              "    <tr style=\"text-align: right;\">\n",
              "      <th></th>\n",
              "      <th>Valor Real</th>\n",
              "      <th>Prediccion</th>\n",
              "      <th>Error</th>\n",
              "    </tr>\n",
              "  </thead>\n",
              "  <tbody>\n",
              "    <tr>\n",
              "      <th>0</th>\n",
              "      <td>82900.0</td>\n",
              "      <td>119330.132812</td>\n",
              "      <td>-36430.132812</td>\n",
              "    </tr>\n",
              "    <tr>\n",
              "      <th>1</th>\n",
              "      <td>250000.0</td>\n",
              "      <td>149701.968750</td>\n",
              "      <td>100298.031250</td>\n",
              "    </tr>\n",
              "    <tr>\n",
              "      <th>2</th>\n",
              "      <td>100000.0</td>\n",
              "      <td>115286.476562</td>\n",
              "      <td>-15286.476562</td>\n",
              "    </tr>\n",
              "    <tr>\n",
              "      <th>3</th>\n",
              "      <td>500000.0</td>\n",
              "      <td>300531.093750</td>\n",
              "      <td>199468.906250</td>\n",
              "    </tr>\n",
              "    <tr>\n",
              "      <th>4</th>\n",
              "      <td>110000.0</td>\n",
              "      <td>210700.500000</td>\n",
              "      <td>-100700.500000</td>\n",
              "    </tr>\n",
              "  </tbody>\n",
              "</table>\n",
              "</div>\n",
              "      <button class=\"colab-df-convert\" onclick=\"convertToInteractive('df-c0916fb2-b4e9-4409-b647-77f9314d7308')\"\n",
              "              title=\"Convert this dataframe to an interactive table.\"\n",
              "              style=\"display:none;\">\n",
              "        \n",
              "  <svg xmlns=\"http://www.w3.org/2000/svg\" height=\"24px\"viewBox=\"0 0 24 24\"\n",
              "       width=\"24px\">\n",
              "    <path d=\"M0 0h24v24H0V0z\" fill=\"none\"/>\n",
              "    <path d=\"M18.56 5.44l.94 2.06.94-2.06 2.06-.94-2.06-.94-.94-2.06-.94 2.06-2.06.94zm-11 1L8.5 8.5l.94-2.06 2.06-.94-2.06-.94L8.5 2.5l-.94 2.06-2.06.94zm10 10l.94 2.06.94-2.06 2.06-.94-2.06-.94-.94-2.06-.94 2.06-2.06.94z\"/><path d=\"M17.41 7.96l-1.37-1.37c-.4-.4-.92-.59-1.43-.59-.52 0-1.04.2-1.43.59L10.3 9.45l-7.72 7.72c-.78.78-.78 2.05 0 2.83L4 21.41c.39.39.9.59 1.41.59.51 0 1.02-.2 1.41-.59l7.78-7.78 2.81-2.81c.8-.78.8-2.07 0-2.86zM5.41 20L4 18.59l7.72-7.72 1.47 1.35L5.41 20z\"/>\n",
              "  </svg>\n",
              "      </button>\n",
              "      \n",
              "  <style>\n",
              "    .colab-df-container {\n",
              "      display:flex;\n",
              "      flex-wrap:wrap;\n",
              "      gap: 12px;\n",
              "    }\n",
              "\n",
              "    .colab-df-convert {\n",
              "      background-color: #E8F0FE;\n",
              "      border: none;\n",
              "      border-radius: 50%;\n",
              "      cursor: pointer;\n",
              "      display: none;\n",
              "      fill: #1967D2;\n",
              "      height: 32px;\n",
              "      padding: 0 0 0 0;\n",
              "      width: 32px;\n",
              "    }\n",
              "\n",
              "    .colab-df-convert:hover {\n",
              "      background-color: #E2EBFA;\n",
              "      box-shadow: 0px 1px 2px rgba(60, 64, 67, 0.3), 0px 1px 3px 1px rgba(60, 64, 67, 0.15);\n",
              "      fill: #174EA6;\n",
              "    }\n",
              "\n",
              "    [theme=dark] .colab-df-convert {\n",
              "      background-color: #3B4455;\n",
              "      fill: #D2E3FC;\n",
              "    }\n",
              "\n",
              "    [theme=dark] .colab-df-convert:hover {\n",
              "      background-color: #434B5C;\n",
              "      box-shadow: 0px 1px 3px 1px rgba(0, 0, 0, 0.15);\n",
              "      filter: drop-shadow(0px 1px 2px rgba(0, 0, 0, 0.3));\n",
              "      fill: #FFFFFF;\n",
              "    }\n",
              "  </style>\n",
              "\n",
              "      <script>\n",
              "        const buttonEl =\n",
              "          document.querySelector('#df-c0916fb2-b4e9-4409-b647-77f9314d7308 button.colab-df-convert');\n",
              "        buttonEl.style.display =\n",
              "          google.colab.kernel.accessAllowed ? 'block' : 'none';\n",
              "\n",
              "        async function convertToInteractive(key) {\n",
              "          const element = document.querySelector('#df-c0916fb2-b4e9-4409-b647-77f9314d7308');\n",
              "          const dataTable =\n",
              "            await google.colab.kernel.invokeFunction('convertToInteractive',\n",
              "                                                     [key], {});\n",
              "          if (!dataTable) return;\n",
              "\n",
              "          const docLinkHtml = 'Like what you see? Visit the ' +\n",
              "            '<a target=\"_blank\" href=https://colab.research.google.com/notebooks/data_table.ipynb>data table notebook</a>'\n",
              "            + ' to learn more about interactive tables.';\n",
              "          element.innerHTML = '';\n",
              "          dataTable['output_type'] = 'display_data';\n",
              "          await google.colab.output.renderOutput(dataTable, element);\n",
              "          const docLink = document.createElement('div');\n",
              "          docLink.innerHTML = docLinkHtml;\n",
              "          element.appendChild(docLink);\n",
              "        }\n",
              "      </script>\n",
              "    </div>\n",
              "  </div>\n",
              "  "
            ],
            "text/plain": [
              "   Valor Real     Prediccion          Error\n",
              "0     82900.0  119330.132812  -36430.132812\n",
              "1    250000.0  149701.968750  100298.031250\n",
              "2    100000.0  115286.476562  -15286.476562\n",
              "3    500000.0  300531.093750  199468.906250\n",
              "4    110000.0  210700.500000 -100700.500000"
            ]
          },
          "execution_count": 165,
          "metadata": {},
          "output_type": "execute_result"
        }
      ],
      "source": [
        "# Performance\n",
        "xgb_performance_fn = pd.DataFrame({'Valor Real': y_test,\n",
        "                            'Prediccion': xgb_y_pred_fn,\n",
        "                            'Error': y_test - xgb_y_pred_fn})\n",
        "# View\n",
        "xgb_performance_fn.head()"
      ]
    },
    {
      "cell_type": "code",
      "execution_count": null,
      "metadata": {
        "colab": {
          "base_uri": "https://localhost:8080/"
        },
        "id": "8dQYUNN9u0g9",
        "outputId": "dcd4d67d-0f3d-44e0-b167-3cf4470f6c1a"
      },
      "outputs": [
        {
          "name": "stdout",
          "output_type": "stream",
          "text": [
            "El error (mse) de test es: 9740892610.387033\n",
            "El error (rmse) de test es: 98695.9604562772\n"
          ]
        }
      ],
      "source": [
        "calcular_metricas_de_regresion(xgb_y_pred_fn)"
      ]
    },
    {
      "cell_type": "code",
      "execution_count": null,
      "metadata": {
        "colab": {
          "base_uri": "https://localhost:8080/"
        },
        "id": "G52tUFTeu0g9",
        "outputId": "c82aae7f-699d-4a89-c958-d0a424795eeb"
      },
      "outputs": [
        {
          "name": "stdout",
          "output_type": "stream",
          "text": [
            "El score del xgboost es:  0.6734957565016195\n"
          ]
        }
      ],
      "source": [
        "#Coef. de Determinación R2\n",
        "xgb_score_fn = xgbr_fn.score(x_test_reg_features_nuevos, y_test)\n",
        "print(\"El score del xgboost es: \", xgb_score)"
      ]
    },
    {
      "cell_type": "code",
      "execution_count": null,
      "metadata": {
        "colab": {
          "base_uri": "https://localhost:8080/"
        },
        "id": "x9IwTqRqTMXH",
        "outputId": "a9f8db92-f3fa-46e4-bc27-033bdf5b9b98"
      },
      "outputs": [
        {
          "name": "stdout",
          "output_type": "stream",
          "text": [
            "Diferencia entre las metricas del train y test 8.418062201498433e-05\n"
          ]
        }
      ],
      "source": [
        "print('Diferencia entre las metricas del train y test', xgb_mejor_metrica_fn - xgb_score_fn)"
      ]
    },
    {
      "cell_type": "markdown",
      "metadata": {
        "id": "bvn_OfA4yEzB"
      },
      "source": [
        "## Conclusion"
      ]
    },
    {
      "cell_type": "markdown",
      "metadata": {
        "id": "HBz2hlOExwUN"
      },
      "source": [
        "Comparemos lso resultados utilizando los features nuevos y los del tp1: "
      ]
    },
    {
      "cell_type": "code",
      "execution_count": null,
      "metadata": {
        "colab": {
          "base_uri": "https://localhost:8080/"
        },
        "id": "GBzPCPeTxz-b",
        "outputId": "860ef762-b17b-488e-9551-06d8403e2713"
      },
      "outputs": [
        {
          "name": "stdout",
          "output_type": "stream",
          "text": [
            "Metricas utilizando el dataset del tp1\n",
            "El error (mse) de test es: 9740892610.387033\n",
            "El error (rmse) de test es: 98695.9604562772\n",
            "\n",
            "Metricas utilizando el dataset con features nuevos\n",
            "El error (mse) de test es: 20136158403.007263\n",
            "El error (rmse) de test es: 141901.93234416246\n"
          ]
        }
      ],
      "source": [
        "print(\"Metricas utilizando el dataset del tp1\")\n",
        "calcular_metricas_de_regresion(xgb_y_pred_fn)\n",
        "print(\"\\nMetricas utilizando el dataset con features nuevos\")\n",
        "calcular_metricas_de_regresion(xgb_y_pred)"
      ]
    },
    {
      "cell_type": "markdown",
      "metadata": {
        "id": "JfF9BANWyD0p"
      },
      "source": [
        "Vemos una gran diferencia, una notable mejora al utilizar la informacion encontrada al analizar las descripciones."
      ]
    },
    {
      "cell_type": "markdown",
      "metadata": {
        "id": "mn-C_NXVcnPG"
      },
      "source": [
        "#Redes neuronales"
      ]
    },
    {
      "cell_type": "markdown",
      "metadata": {
        "id": "STlcT0uTyWpy"
      },
      "source": [
        "Creamos los datset train y test especificos a utilizar en redes neuronales para la parte de regresión ya que se tienen que escalar las variables de estos dataset. Utilizamos un y de train y test que lleva el precio en sí. \n",
        "\n",
        "Por otro lado, para la parte de clasificación creamos los dataset train y test target en donde se utilizarán los mismos features que en el TP1.\n",
        "Utilizamos un y_target tanto de train y test que lleva el tipo de precio generico (feature creado en el TP1). "
      ]
    },
    {
      "cell_type": "code",
      "execution_count": 255,
      "metadata": {
        "id": "XA3f7oZPDTSy"
      },
      "outputs": [],
      "source": [
        "train_con_dummi = pd.get_dummies(x_train, columns=[\"property_type\", \"place_l3\"], drop_first=False)\n",
        "test_con_dummi = pd.get_dummies(x_test, columns=[\"property_type\", \"place_l3\"], drop_first=False)\n",
        "\n",
        "y_train_target = train_con_dummi['tipo_precio_generico'].copy()\n",
        "y_train_target = pd.get_dummies(y_train_target, columns=[\"tipo_precio_generico\"], drop_first=False)\n",
        "\n",
        "y_test_target = test_con_dummi['tipo_precio_generico'].copy()"
      ]
    },
    {
      "cell_type": "markdown",
      "metadata": {
        "id": "5lwGVe4e3h6G"
      },
      "source": [
        "Obtenemos el dataset a utilizar en regresion"
      ]
    },
    {
      "cell_type": "code",
      "execution_count": 256,
      "metadata": {
        "id": "f-K4jYCT3KV_"
      },
      "outputs": [],
      "source": [
        "columnas_regresion = ['property_rooms', 'property_bedrooms', 'property_surface_total','property_surface_covered', \n",
        "                      'property_type_Departamento', 'property_type_PH','latitud', 'longitud', \n",
        "                      'place_l3_Abasto', 'place_l3_Agronomía', 'place_l3_Almagro', 'place_l3_Balvanera',\n",
        "                      'place_l3_Barracas', 'place_l3_Barrio Norte', 'place_l3_Belgrano',\n",
        "                      'place_l3_Boca', 'place_l3_Boedo', 'place_l3_Caballito',\n",
        "                      'place_l3_Catalinas', 'place_l3_Centro / Microcentro',\n",
        "                      'place_l3_Chacarita', 'place_l3_Coghlan', 'place_l3_Colegiales',\n",
        "                      'place_l3_Congreso', 'place_l3_Constitución', 'place_l3_Flores',\n",
        "                      'place_l3_Floresta', 'place_l3_Las Cañitas', 'place_l3_Liniers',\n",
        "                      'place_l3_Mataderos', 'place_l3_Monserrat', 'place_l3_Monte Castro',\n",
        "                      'place_l3_Nuñez', 'place_l3_Once', 'place_l3_Palermo',\n",
        "                      'place_l3_Parque Avellaneda', 'place_l3_Parque Centenario',\n",
        "                      'place_l3_Parque Chacabuco', 'place_l3_Parque Chas',\n",
        "                      'place_l3_Parque Patricios', 'place_l3_Paternal', 'place_l3_Pompeya',\n",
        "                      'place_l3_Puerto Madero', 'place_l3_Recoleta', 'place_l3_Retiro',\n",
        "                      'place_l3_Saavedra', 'place_l3_San Cristobal', 'place_l3_San Nicolás',\n",
        "                      'place_l3_San Telmo', 'place_l3_Tribunales', 'place_l3_Velez Sarsfield',\n",
        "                      'place_l3_Versalles', 'place_l3_Villa Crespo', 'place_l3_Villa Devoto',\n",
        "                      'place_l3_Villa General Mitre', 'place_l3_Villa Lugano',\n",
        "                      'place_l3_Villa Luro', 'place_l3_Villa Ortuzar',\n",
        "                      'place_l3_Villa Pueyrredón', 'place_l3_Villa Real',\n",
        "                      'place_l3_Villa Riachuelo', 'place_l3_Villa Santa Rita',\n",
        "                      'place_l3_Villa Soldati', 'place_l3_Villa Urquiza',\n",
        "                      'place_l3_Villa del Parque']\n",
        "            \n",
        "x_train_redes_reg = train_con_dummi[columnas_regresion]\n",
        "x_test_redes_reg = test_con_dummi[columnas_regresion]"
      ]
    },
    {
      "cell_type": "markdown",
      "metadata": {
        "id": "X_UsevIR3lH2"
      },
      "source": [
        "Obtenemos el dataset a utilizar en clasificacion."
      ]
    },
    {
      "cell_type": "code",
      "execution_count": 257,
      "metadata": {
        "id": "ktXgJxgc3cB-"
      },
      "outputs": [],
      "source": [
        "columnas_clasificacion = ['property_rooms', 'property_bedrooms', 'property_surface_total','property_surface_covered', 'latitud', 'longitud', 'property_type_Departamento',\n",
        "            'property_type_PH'] \n",
        "            \n",
        "x_train_redes_clas = train_con_dummi[columnas_clasificacion]\n",
        "x_test_redes_clas = test_con_dummi[columnas_clasificacion]"
      ]
    },
    {
      "cell_type": "markdown",
      "metadata": {
        "id": "9OgVXJ68ZlHD"
      },
      "source": [
        "##Regresion"
      ]
    },
    {
      "cell_type": "code",
      "execution_count": 258,
      "metadata": {
        "colab": {
          "base_uri": "https://localhost:8080/"
        },
        "id": "kCFgitfL6IpO",
        "outputId": "70c49316-7de4-454d-8d20-c4ed797644a8"
      },
      "outputs": [
        {
          "output_type": "stream",
          "name": "stdout",
          "text": [
            "Looking in indexes: https://pypi.org/simple, https://us-python.pkg.dev/colab-wheels/public/simple/\n",
            "Collecting git+https://github.com/paulgavrikov/visualkeras\n",
            "  Cloning https://github.com/paulgavrikov/visualkeras to /tmp/pip-req-build-t1cef15_\n",
            "  Running command git clone -q https://github.com/paulgavrikov/visualkeras /tmp/pip-req-build-t1cef15_\n",
            "Requirement already satisfied: pillow>=6.2.0 in /usr/local/lib/python3.8/dist-packages (from visualkeras==0.0.2) (7.1.2)\n",
            "Requirement already satisfied: numpy>=1.18.1 in /usr/local/lib/python3.8/dist-packages (from visualkeras==0.0.2) (1.21.6)\n",
            "Requirement already satisfied: aggdraw>=1.3.11 in /usr/local/lib/python3.8/dist-packages (from visualkeras==0.0.2) (1.3.15)\n"
          ]
        }
      ],
      "source": [
        "!pip install git+https://github.com/paulgavrikov/visualkeras --upgrade"
      ]
    },
    {
      "cell_type": "code",
      "execution_count": 259,
      "metadata": {
        "id": "X8zrjI3QwFmz"
      },
      "outputs": [],
      "source": [
        "import tensorflow as tf\n",
        "from tensorflow import keras\n",
        "from keras.utils.vis_utils import plot_model\n",
        "import visualkeras\n",
        "from keras import losses\n",
        "np.random.seed(1)\n",
        "tf.random.set_seed(1) \n",
        "import matplotlib.pyplot as pp\n",
        "\n",
        "from tensorflow.keras import layers\n",
        "\n",
        "import warnings\n",
        "warnings.filterwarnings(\"ignore\", category=DeprecationWarning) "
      ]
    },
    {
      "cell_type": "code",
      "execution_count": 260,
      "metadata": {
        "id": "ylnGCc9ssGTv"
      },
      "outputs": [],
      "source": [
        "def plot_regression(modelo,x,y,title=\"\",xlabel=\"x\",ylabel=\"y\"):\n",
        "    for i in range(0, 8, 2):\n",
        "      plt.figure()\n",
        "      plt.plot(x.iloc[:,i],y,\"o\",label=\"Valores verdaderos\")\n",
        "      plt.plot(x.iloc[:,i],modelo.predict(x),\"x\",label=\"Valores estimados\")\n",
        "      \n",
        "      plt.title(title)\n",
        "      plt.legend()\n",
        "      plt.show()"
      ]
    },
    {
      "cell_type": "code",
      "execution_count": 261,
      "metadata": {
        "id": "xGvVpz8csDYn"
      },
      "outputs": [],
      "source": [
        "def plot_loss(history):\n",
        "  plt.plot(history.history['loss'], label='loss')\n",
        "  plt.plot(history.history['mse'], label='mse')\n",
        "  plt.xlabel = \"epoch\"\n",
        "  plt.ylabel = \"Error [MPG]\"\n",
        "  plt.legend()\n",
        "  plt.grid(True)"
      ]
    },
    {
      "cell_type": "code",
      "execution_count": 262,
      "metadata": {
        "id": "K5FWamKjps0v"
      },
      "outputs": [],
      "source": [
        "import warnings\n",
        "\n",
        "def escalar_variable(palabra, ds_train =x_train_redes_reg, ds_test = x_test_redes_reg):\n",
        "  warnings.filterwarnings('ignore')\n",
        "  \n",
        "  sscaler=StandardScaler()\n",
        "\n",
        "  sscaler.fit(pd.DataFrame(ds_train[[palabra]]))\n",
        "\n",
        "  ds_train_transform = sscaler.transform(pd.DataFrame(ds_train[palabra]))\n",
        "  ds_test_transform = sscaler.transform(pd.DataFrame(ds_test[palabra]))\n",
        "\n",
        "  ds_train[palabra] = ds_train_transform[:,0]\n",
        "  ds_test[palabra] = ds_test_transform[:,0]\n",
        "  return ds_train, ds_test"
      ]
    },
    {
      "cell_type": "markdown",
      "metadata": {
        "id": "nkgYQ0ft1cNm"
      },
      "source": [
        "Comenzamos escalando las variables."
      ]
    },
    {
      "cell_type": "code",
      "execution_count": 263,
      "metadata": {
        "id": "jl_A5zN0fra0"
      },
      "outputs": [],
      "source": [
        "x_train_redes_reg, x_test_redes_reg = escalar_variable('property_surface_total')\n",
        "x_train_redes_reg, x_test_redes_reg = escalar_variable('property_surface_covered')\n",
        "x_train_redes_reg, x_test_redes_reg = escalar_variable('latitud')\n",
        "x_train_redes_reg, x_test_redes_reg = escalar_variable('longitud')\n",
        "x_train_redes_reg, x_test_redes_reg = escalar_variable('property_rooms')\n",
        "x_train_redes_reg, x_test_redes_reg = escalar_variable('property_bedrooms')"
      ]
    },
    {
      "cell_type": "markdown",
      "metadata": {
        "id": "DGc5wDIZ24vK"
      },
      "source": [
        "Creamos la red neuronal que tiene 8 capas con un input de 65 features debido a que se aplica One Hot Encoding a algunas variables como place_l3. "
      ]
    },
    {
      "cell_type": "code",
      "execution_count": 264,
      "metadata": {
        "id": "ydfQ_1g7wS1R"
      },
      "outputs": [],
      "source": [
        "red_reg = keras.Sequential()\n",
        "red_reg.add(layers.Dense(65, activation='relu', input_dim=65))\n",
        "red_reg.add(layers.Dense(45, activation='relu'))\n",
        "red_reg.add(layers.Dense(35, activation='sigmoid'))\n",
        "red_reg.add(layers.Dense(15, activation='relu'))\n",
        "red_reg.add(layers.Dense(10, activation='relu'))\n",
        "red_reg.add(layers.Dense(1, activation='linear'))\n",
        "\n",
        "# red_reg.compile(optimizer='Adadelta',\n",
        "#               loss='mean_squared_error', \n",
        "#               metrics=['mean_squared_error'])\n",
        "\n",
        "# red_reg.summary()\n",
        "\n",
        "red_reg.compile(loss='mse', optimizer='Adadelta', metrics=['mse', 'mae', 'mape'])"
      ]
    },
    {
      "cell_type": "markdown",
      "metadata": {
        "id": "bhxZA2UA3sd4"
      },
      "source": [
        "En el presente trabajo no presentamos todos los intentos y combinaciones que fuimos haciendo con los epochs y batchsize para no hacerlo engorroso. Luego de un tiempo vimos que con un epochs de 700 y batch_size de 800 obteniamos de las mejores metricas de nuestros intentos, por lo que decidimos encarar los problemas con esos numeros. "
      ]
    },
    {
      "cell_type": "code",
      "execution_count": 273,
      "metadata": {
        "id": "zlKDDZHPaX8u"
      },
      "outputs": [],
      "source": [
        "red_reg_historia = red_reg.fit(x=x_train_redes_reg, y=y_train, epochs=700, batch_size=800, verbose=False)"
      ]
    },
    {
      "cell_type": "code",
      "execution_count": 274,
      "metadata": {
        "colab": {
          "base_uri": "https://localhost:8080/"
        },
        "id": "IPoYdYY3PRv9",
        "outputId": "eeef789e-6aa8-46be-d999-5cc91a5040b3"
      },
      "outputs": [
        {
          "output_type": "stream",
          "name": "stdout",
          "text": [
            "850/850 [==============================] - 1s 2ms/step\n"
          ]
        },
        {
          "output_type": "execute_result",
          "data": {
            "text/plain": [
              "array([[ 89643.766],\n",
              "       [150953.58 ],\n",
              "       [ 99720.29 ],\n",
              "       ...,\n",
              "       [263756.8  ],\n",
              "       [ 75459.16 ],\n",
              "       [273222.06 ]], dtype=float32)"
            ]
          },
          "metadata": {},
          "execution_count": 274
        }
      ],
      "source": [
        "y_pred_red_reg = red_reg.predict(x_test_redes_reg)\n",
        "y_pred_red_reg"
      ]
    },
    {
      "cell_type": "code",
      "execution_count": 275,
      "metadata": {
        "id": "2ojkQSNjxDVm"
      },
      "outputs": [],
      "source": [
        "y_pred_red_reg_ds = pd.DataFrame(y_pred_red_reg)\n",
        "y_pred_red_reg_ds['real'] = y_test.values"
      ]
    },
    {
      "cell_type": "code",
      "execution_count": 276,
      "metadata": {
        "id": "NlXF1_z4xUiy"
      },
      "outputs": [],
      "source": [
        "y_pred_red_reg_ds.columns=['y_pred','y_real']\n",
        "y_pred_red_reg_ds['y_real'] = y_pred_red_reg_ds['y_real'].round()\n",
        "y_pred_red_reg_ds['y_pred'] = y_pred_red_reg_ds['y_pred'].round()"
      ]
    },
    {
      "cell_type": "code",
      "execution_count": 277,
      "metadata": {
        "colab": {
          "base_uri": "https://localhost:8080/"
        },
        "id": "wi710jWSkHzB",
        "outputId": "8244caeb-5fab-4b6b-c4c3-34d6d70160bf"
      },
      "outputs": [
        {
          "output_type": "stream",
          "name": "stdout",
          "text": [
            "Error absoluto medio 45257.09385577631\n",
            "Error cuadrático medio 8805884848.616373\n",
            "El error (rmse) de test es: 93839.67630281113\n",
            "El r2 score es: 0.8572141362176638\n"
          ]
        }
      ],
      "source": [
        "from sklearn.metrics import mean_absolute_error, mean_squared_error, r2_score\n",
        "\n",
        "mae_red_reg = mean_absolute_error(y_test,y_pred_red_reg)\n",
        "mse_red_reg = mean_squared_error(y_test,y_pred_red_reg)\n",
        "rmse_red_reg = sk.metrics.mean_squared_error(y_true=y_test, y_pred=y_pred_red_reg, squared = False)\n",
        "r2score_red_reg=r2_score(y_test, y_pred_red_reg)\n",
        "\n",
        "print(f\"Error absoluto medio {mae_red_reg}\")\n",
        "print(f\"Error cuadrático medio {mse_red_reg}\")\n",
        "print(f\"El error (rmse) de test es: {rmse_red_reg}\")\n",
        "print(f\"El r2 score es: {r2score_red_reg}\")"
      ]
    },
    {
      "cell_type": "code",
      "execution_count": 278,
      "metadata": {
        "colab": {
          "base_uri": "https://localhost:8080/",
          "height": 1000
        },
        "id": "EaBPiYtIrk23",
        "outputId": "01c97d9a-a01e-4e1a-999b-d35601998d89"
      },
      "outputs": [
        {
          "output_type": "stream",
          "name": "stdout",
          "text": [
            "850/850 [==============================] - 2s 2ms/step\n"
          ]
        },
        {
          "output_type": "display_data",
          "data": {
            "text/plain": [
              "<Figure size 432x288 with 1 Axes>"
            ],
            "image/png": "[encoded data removed]"
          },
          "metadata": {
            "needs_background": "light"
          }
        },
        {
          "output_type": "display_data",
          "data": {
            "text/plain": [
              "<Figure size 432x288 with 1 Axes>"
            ],
            "image/png": "[encoded data removed]"
          },
          "metadata": {
            "needs_background": "light"
          }
        },
        {
          "output_type": "stream",
          "name": "stdout",
          "text": [
            "850/850 [==============================] - 4s 5ms/step\n"
          ]
        },
        {
          "output_type": "display_data",
          "data": {
            "text/plain": [
              "<Figure size 432x288 with 1 Axes>"
            ],
            "image/png": "[encoded data removed]"
          },
          "metadata": {
            "needs_background": "light"
          }
        },
        {
          "output_type": "stream",
          "name": "stdout",
          "text": [
            "850/850 [==============================] - 2s 2ms/step\n"
          ]
        },
        {
          "output_type": "display_data",
          "data": {
            "text/plain": [
              "<Figure size 432x288 with 1 Axes>"
            ],
            "image/png": "[encoded data removed]"
          },
          "metadata": {
            "needs_background": "light"
          }
        },
        {
          "output_type": "stream",
          "name": "stdout",
          "text": [
            "850/850 [==============================] - 1s 2ms/step\n"
          ]
        },
        {
          "output_type": "display_data",
          "data": {
            "text/plain": [
              "<Figure size 432x288 with 1 Axes>"
            ],
            "image/png": "[encoded data removed]"
          },
          "metadata": {
            "needs_background": "light"
          }
        }
      ],
      "source": [
        "hist = pd.DataFrame(red_reg_historia.history)\n",
        "hist['epoch'] = red_reg_historia.epoch\n",
        "hist.tail()\n",
        "plot_loss(red_reg_historia)\n",
        "plot_regression(red_reg,x_test_redes_reg,y_test,title=f\"Modelo Final\",xlabel=\"sup total\",ylabel=\"price\")"
      ]
    },
    {
      "cell_type": "markdown",
      "metadata": {
        "id": "rKssPi-_ZoAL"
      },
      "source": [
        "##Clasificacion"
      ]
    },
    {
      "cell_type": "markdown",
      "metadata": {
        "id": "SGQRNxrBgO3p"
      },
      "source": [
        "Procedemos a escalar las variables para realizar el metodo de clasificacion. "
      ]
    },
    {
      "cell_type": "code",
      "execution_count": 279,
      "metadata": {
        "id": "z9CPtuXA_dh2"
      },
      "outputs": [],
      "source": [
        "x_train_target_escalado_clas, x_test_target_escalado_clas = escalar_variable('property_surface_total', ds_train =x_train_redes_clas, ds_test = x_test_redes_clas)\n",
        "x_train_target_escalado_clas, x_test_target_escalado_clas = escalar_variable('property_surface_covered', ds_train =x_train_redes_clas, ds_test = x_test_redes_clas)\n",
        "x_train_target_escalado_clas, x_test_target_escalado_clas = escalar_variable('latitud', ds_train =x_train_redes_clas, ds_test = x_test_redes_clas)\n",
        "x_train_target_escalado_clas, x_test_target_escalado_clas = escalar_variable('longitud', ds_train =x_train_redes_clas, ds_test = x_test_redes_clas)\n",
        "x_train_target_escalado_clas, x_test_target_escalado_clas = escalar_variable('property_rooms', ds_train =x_train_redes_clas, ds_test = x_test_redes_clas)\n",
        "x_train_target_escalado_clas, x_test_target_escalado_clas = escalar_variable('property_bedrooms', ds_train =x_train_redes_clas, ds_test = x_test_redes_clas)"
      ]
    },
    {
      "cell_type": "markdown",
      "metadata": {
        "id": "zRepf9w9gU6y"
      },
      "source": [
        "Creamos la red neuronal."
      ]
    },
    {
      "cell_type": "code",
      "execution_count": 280,
      "metadata": {
        "colab": {
          "base_uri": "https://localhost:8080/"
        },
        "id": "3gdz9Dl5tkTU",
        "outputId": "29127ed0-76ab-40c3-a746-a607e58b1faa"
      },
      "outputs": [
        {
          "output_type": "stream",
          "name": "stdout",
          "text": [
            "Model: \"sequential_3\"\n",
            "_________________________________________________________________\n",
            " Layer (type)                Output Shape              Param #   \n",
            "=================================================================\n",
            " dense_17 (Dense)            (None, 71)                639       \n",
            "                                                                 \n",
            " dense_18 (Dense)            (None, 24)                1728      \n",
            "                                                                 \n",
            " dense_19 (Dense)            (None, 17)                425       \n",
            "                                                                 \n",
            " dense_20 (Dense)            (None, 6)                 108       \n",
            "                                                                 \n",
            " dense_21 (Dense)            (None, 3)                 21        \n",
            "                                                                 \n",
            "=================================================================\n",
            "Total params: 2,921\n",
            "Trainable params: 2,921\n",
            "Non-trainable params: 0\n",
            "_________________________________________________________________\n"
          ]
        }
      ],
      "source": [
        "red_clas = keras.Sequential()\n",
        "red_clas.add(layers.Dense(71, activation='relu', input_dim=8))\n",
        "red_clas.add(layers.Dense(24, activation='relu'))\n",
        "red_clas.add(layers.Dense(17, activation='relu'))\n",
        "red_clas.add(layers.Dense(6, activation='relu'))\n",
        "red_clas.add(layers.Dense(3, activation='softmax'))\n",
        "\n",
        "red_clas.compile(optimizer='adam', #adadelta el mas rapido\n",
        "              loss='categorical_crossentropy', \n",
        "              metrics=['accuracy'])\n",
        "\n",
        "red_clas.summary()"
      ]
    },
    {
      "cell_type": "markdown",
      "metadata": {
        "id": "anOXOB-RhYbE"
      },
      "source": [
        "Repitiendo el analisis realizado en regresion, podemos concluir en que con un epoch igual a 15 y un batch size igual a 400, se pueden obtener los mejores resultados. "
      ]
    },
    {
      "cell_type": "code",
      "execution_count": 282,
      "metadata": {
        "id": "Rv_JPavdtkTU"
      },
      "outputs": [],
      "source": [
        "historia_red_clas=red_clas.fit(x_train_target_escalado_clas,y_train_target,epochs=15,batch_size=400,verbose=False)"
      ]
    },
    {
      "cell_type": "code",
      "execution_count": 283,
      "metadata": {
        "colab": {
          "base_uri": "https://localhost:8080/"
        },
        "id": "4Y5yXqtYtkTU",
        "outputId": "5f5c4672-e7fd-4eaf-ae26-e8ebadf80dbb"
      },
      "outputs": [
        {
          "output_type": "stream",
          "name": "stdout",
          "text": [
            "850/850 [==============================] - 1s 2ms/step\n"
          ]
        }
      ],
      "source": [
        "y_predic_red_clas = red_clas.predict(x_test_target_escalado_clas)"
      ]
    },
    {
      "cell_type": "code",
      "execution_count": 284,
      "metadata": {
        "id": "Gv9CkK-htkTV"
      },
      "outputs": [],
      "source": [
        "y_predic_red_clas_clases=np.argmax(y_predic_red_clas,axis=1).tolist()"
      ]
    },
    {
      "cell_type": "code",
      "execution_count": 285,
      "metadata": {
        "id": "lCPeru163iY_"
      },
      "outputs": [],
      "source": [
        "y_test_target_clases = y_test_target.replace(to_replace=['high_price','low_price', 'medium_price'],value=[0,1,2],inplace=False)"
      ]
    },
    {
      "cell_type": "code",
      "execution_count": 286,
      "metadata": {
        "colab": {
          "base_uri": "https://localhost:8080/"
        },
        "id": "SJsVy5ivC_Rd",
        "outputId": "fca22844-e88a-4147-f00d-d6a18fa6d950"
      },
      "outputs": [
        {
          "output_type": "stream",
          "name": "stdout",
          "text": [
            "Accuracy:  0.633149374540103\n",
            "Precision:  0.6526260408944845\n",
            "Recall:  0.5868828692942235\n",
            "f1_score:  0.6065529914425908\n"
          ]
        }
      ],
      "source": [
        "from sklearn.metrics import f1_score,  recall_score, precision_score, accuracy_score\n",
        "\n",
        "print(\"Accuracy: \", accuracy_score(y_test_target_clases, y_predic_red_clas_clases))\n",
        "print(\"Precision: \" ,precision_score(y_test_target_clases, y_predic_red_clas_clases, average=\"macro\"))\n",
        "print(\"Recall: \",recall_score(y_test_target_clases, y_predic_red_clas_clases , average=\"macro\"))\n",
        "print(\"f1_score: \",f1_score(y_test_target_clases, y_predic_red_clas_clases, average=\"macro\"))"
      ]
    },
    {
      "cell_type": "code",
      "execution_count": 287,
      "metadata": {
        "colab": {
          "base_uri": "https://localhost:8080/",
          "height": 280
        },
        "id": "A1za6VPdtkTV",
        "outputId": "83bacb21-a735-4191-d181-a598ebf48fd9"
      },
      "outputs": [
        {
          "output_type": "display_data",
          "data": {
            "text/plain": [
              "<Figure size 432x288 with 2 Axes>"
            ],
            "image/png": "[encoded data removed]"
          },
          "metadata": {
            "needs_background": "light"
          }
        }
      ],
      "source": [
        "ds_validation=pd.DataFrame(y_predic_red_clas_clases,y_test_target_clases).reset_index()\n",
        "ds_validation.columns=['y_pred','y_real']\n",
        "\n",
        "tabla_iris=pd.crosstab(ds_validation.y_pred, ds_validation.y_real)\n",
        "grf=sns.heatmap(tabla_iris,annot=True, cmap = 'Blues')\n",
        "plt.show()"
      ]
    },
    {
      "cell_type": "markdown",
      "metadata": {
        "id": "nHkp7IQCq5m5"
      },
      "source": [
        "#Ensambles"
      ]
    },
    {
      "cell_type": "markdown",
      "metadata": {
        "id": "n6op_1SR8stn"
      },
      "source": [
        "Creamos los datasets con los features del tp1 y con los nuevos. "
      ]
    },
    {
      "cell_type": "code",
      "execution_count": null,
      "metadata": {
        "id": "19ED-DiIfKIq"
      },
      "outputs": [],
      "source": [
        "columnas_tp1 = ['property_rooms', 'property_bedrooms', 'property_surface_total','property_surface_covered', 'latitud', 'longitud',\n",
        "                   'property_type_Departamento','property_type_PH']\n",
        "\n",
        "columnas_fn = ['property_rooms', 'property_bedrooms', 'property_surface_total','property_surface_covered', 'latitud', 'longitud', 'property_type_Departamento',\n",
        "            'property_type_PH', 'amenities', 'piso', 'comuna', 'tiene_patio_o_balcon', 'esta_cerca_de_av', 'suite', 'palier', 'vestidor', 'toilette', 'recepción', 'playroom']\n",
        "\n",
        "x_train_ensamble_tp1 = train_con_dummi[columnas_tp1]\n",
        "x_test_ensamble_tp1  = test_con_dummi[columnas_tp1]\n",
        "\n",
        "x_train_ensamble_fn = train_features_nuevos_con_dummi[columnas_fn]\n",
        "x_test_ensamble_fn = test_features_nuevos_con_dummi[columnas_fn]\n",
        "\n",
        "y_train_ensamble = train_con_dummi['tipo_precio_generico'].copy()\n",
        "y_test_ensamble = test_con_dummi['tipo_precio_generico'].copy()"
      ]
    },
    {
      "cell_type": "code",
      "execution_count": null,
      "metadata": {
        "id": "Ximes5-69Caq"
      },
      "outputs": [],
      "source": [
        "def identificar_clasificacion(y_pred, tabla):\n",
        "  counts = collections.Counter(y_pred)\n",
        "  \n",
        "  claves = list(counts.keys())\n",
        "  claves[0]\n",
        "\n",
        "  clase_0 = tabla[0][0]+tabla[1][0]+tabla[2][0]\n",
        "  clase_1 = tabla[0][1]+tabla[1][1]+tabla[2][1]\n",
        "  clase_2 = tabla[0][2]+tabla[1][2]+tabla[2][2]\n",
        "\n",
        "  lista = ['a', 'b', 'c']\n",
        "\n",
        "  for i in range(len(claves)):  \n",
        "    if(counts[claves[i]] == clase_0):\n",
        "      lista[0] = claves[i]\n",
        "    elif(counts[claves[i]] == clase_1):\n",
        "      lista[1] = claves[i]\n",
        "    else:\n",
        "      lista[2] = claves[i]\n",
        "\n",
        "  return lista"
      ]
    },
    {
      "cell_type": "markdown",
      "metadata": {
        "id": "iZGJsoHQ7v2y"
      },
      "source": [
        "##Voting"
      ]
    },
    {
      "cell_type": "markdown",
      "metadata": {
        "id": "EDc3SyKegzAh"
      },
      "source": [
        "\n",
        "###Dataset con features nuevos"
      ]
    },
    {
      "cell_type": "markdown",
      "metadata": {
        "id": "9Cr-DcdB9Te-"
      },
      "source": [
        "Realizamos Cross Validation y Random Search para cada uno de los tres clasificadores: arbol de decision, random forest y adaboost. De esta forma, buscamos encontrar los mejores parametros para hallar el mejor ensamble. "
      ]
    },
    {
      "cell_type": "code",
      "execution_count": null,
      "metadata": {
        "id": "v0u0GJ2Eq8DJ"
      },
      "outputs": [],
      "source": [
        "#Clasificador\n",
        "dt_fn = DecisionTreeClassifier()\n",
        "\n",
        "#Metrica\n",
        "dt_scorer_fn = make_scorer(sk.metrics.f1_score, average = 'macro')\n",
        "\n",
        "dt_randomcv_fn = cross_validation_function(x_train_ensamble_fn, y_train_ensamble, base_tree=dt_fn, scorer=dt_scorer_fn)\n",
        "\n",
        "#Creo el árbol con los mejores hiperparámetros\n",
        "dt_fn=DecisionTreeClassifier(random_state=2).set_params(**dt_randomcv_fn.best_params_)"
      ]
    },
    {
      "cell_type": "code",
      "execution_count": null,
      "metadata": {
        "id": "jQ_MD7rRrCyy"
      },
      "outputs": [],
      "source": [
        "#Clasificador\n",
        "rmf_fn = RandomForestClassifier()\n",
        "\n",
        "#Metrica\n",
        "rmf_scorer_fn = make_scorer(sk.metrics.f1_score, average = 'macro') \n",
        "\n",
        "rmf_randomcv_fn = cross_validation_function(x_train_ensamble_fn, y_train_ensamble,  base_tree=rmf_fn, scorer=rmf_scorer_fn)\n",
        "\n",
        "#Creo el árbol con los mejores hiperparámetros\n",
        "rmf_fn=RandomForestClassifier(random_state=2).set_params(**rmf_randomcv_fn.best_params_)"
      ]
    },
    {
      "cell_type": "code",
      "execution_count": null,
      "metadata": {
        "id": "Qn45F04YrJa4"
      },
      "outputs": [],
      "source": [
        "#Clasificador\n",
        "ab_fn = AdaBoostClassifier()\n",
        "\n",
        "# Metrica\n",
        "ab_scorer_fn = make_scorer(sk.metrics.f1_score, average = 'macro')\n",
        "\n",
        "ab_params_grid_fn = {'learning_rate':np.linspace(0.01,0.1,10),\n",
        "               'n_estimators': list(range(1,100))}\n",
        "\n",
        "ab_randomcv_fn = cross_validation_function(x_train_ensamble_fn, y_train_ensamble, base_tree=ab_fn, scorer=ab_scorer_fn, params_grid=ab_params_grid_fn)\n",
        "\n",
        "ab_fn=AdaBoostClassifier(random_state=2).set_params(**ab_randomcv_fn.best_params_)"
      ]
    },
    {
      "cell_type": "code",
      "execution_count": null,
      "metadata": {
        "id": "-QNhEC3urYaQ"
      },
      "outputs": [],
      "source": [
        "vot_clf_fn = VotingClassifier(estimators = [('randomforest', rmf_fn), ('dtree', dt_fn), ('adaboost', ab_fn)], voting = 'soft')"
      ]
    },
    {
      "cell_type": "code",
      "execution_count": null,
      "metadata": {
        "colab": {
          "base_uri": "https://localhost:8080/"
        },
        "id": "9UUHTMYR6_yi",
        "outputId": "5d27f657-3c8c-4bc5-b0e5-120c0ca7496f"
      },
      "outputs": [
        {
          "data": {
            "text/plain": [
              "VotingClassifier(estimators=[('randomforest',\n",
              "                              RandomForestClassifier(ccp_alpha=0.005555555555555556,\n",
              "                                                     criterion='entropy',\n",
              "                                                     max_depth=9,\n",
              "                                                     random_state=2)),\n",
              "                             ('dtree',\n",
              "                              DecisionTreeClassifier(criterion='entropy',\n",
              "                                                     max_depth=5,\n",
              "                                                     random_state=2)),\n",
              "                             ('adaboost',\n",
              "                              AdaBoostClassifier(learning_rate=0.1,\n",
              "                                                 n_estimators=84,\n",
              "                                                 random_state=2))],\n",
              "                 voting='soft')"
            ]
          },
          "execution_count": 203,
          "metadata": {},
          "output_type": "execute_result"
        }
      ],
      "source": [
        "vot_clf_fn"
      ]
    },
    {
      "cell_type": "markdown",
      "metadata": {
        "id": "7ZKIGdc6-A2o"
      },
      "source": [
        "Observamos los hiperparametros conseguidos para cada uno de los modelos utilizados en este ensable, mediante la tecnica de Cross Validation."
      ]
    },
    {
      "cell_type": "markdown",
      "metadata": {
        "id": "Ni1zrvW0-KhR"
      },
      "source": [
        "Paso siguiente, entrenamos el ensamble y evaluamos el conjunto de test."
      ]
    },
    {
      "cell_type": "code",
      "execution_count": null,
      "metadata": {
        "id": "9hFBDIgo7Ihz"
      },
      "outputs": [],
      "source": [
        "vot_clf_fn.fit(x_train_ensamble_fn, y_train_ensamble)\n",
        "y_pred_vot_fn = vot_clf_fn.predict(x_test_ensamble_fn)"
      ]
    },
    {
      "cell_type": "code",
      "execution_count": null,
      "metadata": {
        "colab": {
          "base_uri": "https://localhost:8080/"
        },
        "id": "HvgtSLvXUAwx",
        "outputId": "8517d983-555f-436c-8d5f-6c4c0dd66d6c"
      },
      "outputs": [
        {
          "name": "stdout",
          "output_type": "stream",
          "text": [
            "Accuracy: 0.60813097866078\n",
            "Recall: 0.5486314883430544\n",
            "f1 score: 0.5692665713963133\n"
          ]
        }
      ],
      "source": [
        "vot_accuracy_fn=accuracy_score(y_test_ensamble,y_pred_vot_fn)\n",
        "vot_recall_fn=recall_score(y_test_ensamble,y_pred_vot_fn, average='macro')\n",
        "vot_f1_fn=f1_score(y_test_ensamble,y_pred_vot_fn, average='macro')\n",
        "\n",
        "print(\"Accuracy: \"+str(vot_accuracy_fn))\n",
        "print(\"Recall: \"+str(vot_recall_fn))\n",
        "print(\"f1 score: \"+str(vot_f1_fn))"
      ]
    },
    {
      "cell_type": "code",
      "execution_count": null,
      "metadata": {
        "colab": {
          "base_uri": "https://localhost:8080/"
        },
        "id": "737kdMO5XPXm",
        "outputId": "38340cbe-3081-44a9-9e90-ac85f584fc26"
      },
      "outputs": [
        {
          "data": {
            "text/plain": [
              "[Text(32.09375, 0.5, 'True'), Text(0.5, 14.09375, 'Predicted')]"
            ]
          },
          "execution_count": 206,
          "metadata": {},
          "output_type": "execute_result"
        },
        {
          "data": {
            "image/png": "[encoded data removed]",
            "text/plain": [
              "<Figure size 432x288 with 2 Axes>"
            ]
          },
          "metadata": {},
          "output_type": "display_data"
        }
      ],
      "source": [
        "#Creo la matriz de confusión\n",
        "vot_tabla_fn=confusion_matrix(y_test_ensamble, y_pred_vot_fn)\n",
        "vot_columnas_fn=identificar_clasificacion(y_pred_vot_fn,vot_tabla_fn)\n",
        "\n",
        "#Grafico la matriz de confusión\n",
        "sns.heatmap(vot_tabla_fn,cmap='GnBu',annot=True,fmt='g', yticklabels = vot_columnas_fn, xticklabels = vot_columnas_fn).set(xlabel=\"Predicted\", ylabel=\"True\")"
      ]
    },
    {
      "cell_type": "markdown",
      "metadata": {
        "id": "TVnGgsXs-Xs-"
      },
      "source": [
        "Podemos concluir en que en el medium_price se predice mucho mejor que en el caso de low_price y high_price. \n",
        "Esto se lo podemos atribuir al hecho de que predomina la cantidad de registros con medium_price en el dataset de train. "
      ]
    },
    {
      "cell_type": "markdown",
      "metadata": {
        "id": "tvEbI_mHg-ti"
      },
      "source": [
        "###Dataset con features TP1"
      ]
    },
    {
      "cell_type": "markdown",
      "metadata": {
        "id": "QhtcmJlL_HrQ"
      },
      "source": [
        "Realizamos el mismo procedimiento anterior con los features del TP1."
      ]
    },
    {
      "cell_type": "code",
      "execution_count": null,
      "metadata": {
        "id": "GYtLWxWsBQ4Z"
      },
      "outputs": [],
      "source": [
        "#Clasificador\n",
        "dt_tp1 = DecisionTreeClassifier()\n",
        "\n",
        "#Metrica\n",
        "dt_scorer_tp1 = make_scorer(sk.metrics.f1_score, average = 'macro')\n",
        "\n",
        "dt_randomcv_tp1 = cross_validation_function(x_train_ensamble_tp1, y_train_ensamble, base_tree=dt_tp1, scorer=dt_scorer_tp1)\n",
        "\n",
        "#Creo el árbol con los mejores hiperparámetros\n",
        "dt_tp1=DecisionTreeClassifier(random_state=2).set_params(**dt_randomcv_tp1.best_params_)"
      ]
    },
    {
      "cell_type": "code",
      "execution_count": null,
      "metadata": {
        "id": "AmUeJ-LdBQ4a"
      },
      "outputs": [],
      "source": [
        "#Clasificador\n",
        "rmf_tp1 = RandomForestClassifier()\n",
        "\n",
        "#Metrica\n",
        "rmf_scorer_tp1 = make_scorer(sk.metrics.f1_score, average = 'macro') \n",
        "\n",
        "rmf_randomcv_tp1 = cross_validation_function(x_train_ensamble_tp1, y_train_ensamble,  base_tree=rmf_tp1, scorer=rmf_scorer_tp1)\n",
        "\n",
        "#Creo el árbol con los mejores hiperparámetros\n",
        "rmf_tp1=RandomForestClassifier(random_state=2).set_params(**rmf_randomcv_tp1.best_params_)"
      ]
    },
    {
      "cell_type": "code",
      "execution_count": null,
      "metadata": {
        "id": "4_VIk0BUBQ4a"
      },
      "outputs": [],
      "source": [
        "#Clasificador\n",
        "ab_tp1 = AdaBoostClassifier()\n",
        "\n",
        "# Metrica\n",
        "ab_scorer_tp1 = make_scorer(sk.metrics.f1_score, average = 'macro')\n",
        "\n",
        "ab_params_grid_tp1 = {'learning_rate':np.linspace(0.01,0.1,10),\n",
        "               'n_estimators': list(range(1,100))}\n",
        "\n",
        "ab_randomcv_tp1 = cross_validation_function(x_train_ensamble_tp1, y_train_ensamble, base_tree=ab_tp1, scorer=ab_scorer_tp1, params_grid=ab_params_grid_tp1)\n",
        "\n",
        "ab_tp1=AdaBoostClassifier(random_state=2).set_params(**ab_randomcv_tp1.best_params_)"
      ]
    },
    {
      "cell_type": "code",
      "execution_count": null,
      "metadata": {
        "id": "cLGMD6AjBQ4b"
      },
      "outputs": [],
      "source": [
        "vot_clf_tp1 = VotingClassifier(estimators = [('randomforest', rmf_tp1), ('dtree', dt_tp1), ('adaboost', ab_tp1)], voting = 'soft')"
      ]
    },
    {
      "cell_type": "code",
      "execution_count": null,
      "metadata": {
        "colab": {
          "base_uri": "https://localhost:8080/"
        },
        "id": "XdBc0ajABQ4b",
        "outputId": "4eb8cb75-abc4-4989-c3c6-dd23783f8f67"
      },
      "outputs": [
        {
          "data": {
            "text/plain": [
              "VotingClassifier(estimators=[('randomforest',\n",
              "                              RandomForestClassifier(criterion='entropy',\n",
              "                                                     max_depth=5,\n",
              "                                                     random_state=2)),\n",
              "                             ('dtree',\n",
              "                              DecisionTreeClassifier(criterion='entropy',\n",
              "                                                     max_depth=5,\n",
              "                                                     random_state=2)),\n",
              "                             ('adaboost',\n",
              "                              AdaBoostClassifier(learning_rate=0.1,\n",
              "                                                 n_estimators=84,\n",
              "                                                 random_state=2))],\n",
              "                 voting='soft')"
            ]
          },
          "execution_count": 211,
          "metadata": {},
          "output_type": "execute_result"
        }
      ],
      "source": [
        "vot_clf_tp1"
      ]
    },
    {
      "cell_type": "markdown",
      "metadata": {
        "id": "FvwZaEciBQ4b"
      },
      "source": [
        "Observamos los hiperparametros conseguidos para cada uno de los modelos utilizados en este ensable, mediante la tecnica de Cross Validation."
      ]
    },
    {
      "cell_type": "markdown",
      "metadata": {
        "id": "DbGRT0csBQ4b"
      },
      "source": [
        "Paso siguiente, entrenamos el ensamble y evaluamos el conjunto de test."
      ]
    },
    {
      "cell_type": "code",
      "execution_count": null,
      "metadata": {
        "id": "TWL0FfXdBQ4c"
      },
      "outputs": [],
      "source": [
        "vot_clf_tp1.fit(x_train_ensamble_tp1, y_train_ensamble)\n",
        "y_pred_vot_tp1 = vot_clf_tp1.predict(x_test_ensamble_tp1)"
      ]
    },
    {
      "cell_type": "code",
      "execution_count": null,
      "metadata": {
        "colab": {
          "base_uri": "https://localhost:8080/"
        },
        "id": "CoSq1u0DBQ4c",
        "outputId": "533d57f6-1cba-4137-f771-79457c72d282"
      },
      "outputs": [
        {
          "name": "stdout",
          "output_type": "stream",
          "text": [
            "Accuracy: 0.5838852097130243\n",
            "Recall: 0.5065272837896727\n",
            "f1 score: 0.522733325552808\n"
          ]
        }
      ],
      "source": [
        "vot_accuracy_tp1=accuracy_score(y_test_target,y_pred_vot_tp1)\n",
        "vot_recall_tp1=recall_score(y_test_target,y_pred_vot_tp1, average='macro')\n",
        "vot_f1_tp1=f1_score(y_test_target,y_pred_vot_tp1, average='macro')\n",
        "\n",
        "print(\"Accuracy: \"+str(vot_accuracy_tp1))\n",
        "print(\"Recall: \"+str(vot_recall_tp1))\n",
        "print(\"f1 score: \"+str(vot_f1_tp1))"
      ]
    },
    {
      "cell_type": "code",
      "execution_count": null,
      "metadata": {
        "colab": {
          "base_uri": "https://localhost:8080/",
          "height": 297
        },
        "id": "WmlKqQKoBQ4c",
        "outputId": "a5c2de89-30ed-45d2-8429-d469b8bf1d60"
      },
      "outputs": [
        {
          "data": {
            "text/plain": [
              "[Text(32.09375, 0.5, 'True'), Text(0.5, 14.09375, 'Predicted')]"
            ]
          },
          "execution_count": 214,
          "metadata": {},
          "output_type": "execute_result"
        },
        {
          "data": {
            "image/png": "[encoded data removed]",
            "text/plain": [
              "<Figure size 432x288 with 2 Axes>"
            ]
          },
          "metadata": {},
          "output_type": "display_data"
        }
      ],
      "source": [
        "#Creo la matriz de confusión\n",
        "vot_tabla_tp1=confusion_matrix(y_test_ensamble, y_pred_vot_tp1)\n",
        "vot_columnas_tp1=identificar_clasificacion(y_pred_vot_tp1,vot_tabla_tp1)\n",
        "\n",
        "#Grafico la matriz de confusión\n",
        "sns.heatmap(vot_tabla_tp1,cmap='GnBu',annot=True,fmt='g', yticklabels = vot_columnas_tp1, xticklabels = vot_columnas_tp1).set(xlabel=\"Predicted\", ylabel=\"True\")"
      ]
    },
    {
      "cell_type": "markdown",
      "metadata": {
        "id": "6j63QWYL_2Lp"
      },
      "source": [
        "### Conclusion en Voting\n"
      ]
    },
    {
      "cell_type": "code",
      "execution_count": null,
      "metadata": {
        "colab": {
          "base_uri": "https://localhost:8080/"
        },
        "id": "BGV8LruB_6dv",
        "outputId": "cf048f17-3da9-4379-ee58-45017dca6b03"
      },
      "outputs": [
        {
          "name": "stdout",
          "output_type": "stream",
          "text": [
            "Accuracy con features nuevos: 0.60813097866078\n",
            "Recall con features nuevos: 0.5486314883430544\n",
            "f1 score con features nuevos: 0.5692665713963133\n",
            "Accuracy: 0.5838852097130243\n",
            "Recall: 0.5065272837896727\n",
            "f1 score: 0.522733325552808\n",
            "Diferencia en Accuracy al agregar features nuevos: 0.024245768947755764\n",
            "Diferencia en Recall al agregar features nuevos: 0.04210420455338171\n",
            "Diferencia en f1 score al agregar features nuevos: 0.046533245843505266\n"
          ]
        }
      ],
      "source": [
        "print(\"Accuracy con features nuevos: \"+str(vot_accuracy_fn))\n",
        "print(\"Recall con features nuevos: \"+str(vot_recall_fn))\n",
        "print(\"f1 score con features nuevos: \"+str(vot_f1_fn))\n",
        "\n",
        "print(\"Accuracy: \"+str(vot_accuracy_tp1))\n",
        "print(\"Recall: \"+str(vot_recall_tp1))\n",
        "print(\"f1 score: \"+str(vot_f1_tp1))\n",
        "\n",
        "print(\"Diferencia en Accuracy al agregar features nuevos: \"+str(vot_accuracy_fn - vot_accuracy_tp1))\n",
        "print(\"Diferencia en Recall al agregar features nuevos: \"+str(vot_recall_fn - vot_recall_tp1))\n",
        "print(\"Diferencia en f1 score al agregar features nuevos: \"+str(vot_f1_fn - vot_f1_tp1))"
      ]
    },
    {
      "cell_type": "markdown",
      "metadata": {
        "id": "9d7Vkb2m_syP"
      },
      "source": [
        "Se puede observar una mejora en las metricas del ensamble al utilizar los features:\n",
        "* Piso \n",
        "* Amentinies \n",
        "* Estar cerca de avenida\n",
        "* Booleano al tener: \n",
        "    * Patio o balcon \n",
        "    * Palier \n",
        "    * Vestidor \n",
        "    * Suite \n",
        "    * Toilette\n",
        "    * Recepcion\n",
        "    * Playroom\n",
        "\n",
        "Esto ultimo tiene sentido, siendo que se estaria utilizando informacion que todo comprador considera relevante."
      ]
    },
    {
      "cell_type": "markdown",
      "metadata": {
        "id": "GC0ith7r9i3q"
      },
      "source": [
        "##Stacking"
      ]
    },
    {
      "cell_type": "markdown",
      "metadata": {
        "id": "kjkXeEchBmWA"
      },
      "source": [
        "Procedemos a crear un ensamble de tipo Stacking"
      ]
    },
    {
      "cell_type": "code",
      "execution_count": null,
      "metadata": {
        "id": "32J-g4eUuvLv"
      },
      "outputs": [],
      "source": [
        "#Funcion para evaluar los modelos 5fold -CV (repite 2 veces)\n",
        "def evaluate_model(model, x, y):\n",
        "    cv = RepeatedStratifiedKFold(n_splits=5, n_repeats=2, random_state=1)\n",
        "    scores = cross_val_score(model, x, y, scoring='accuracy', cv=cv, verbose=1, n_jobs=3, error_score='raise')\n",
        "    return scores"
      ]
    },
    {
      "cell_type": "code",
      "execution_count": null,
      "metadata": {
        "id": "HUq4CDj3vA9Y"
      },
      "outputs": [],
      "source": [
        "#Funcion para plotear a performance\n",
        "def plot_results(model_scores, name):\n",
        "    \n",
        "    model_names = list(model_scores.keys())\n",
        "    results = [model_scores[model] for model in model_names]\n",
        "    fig = go.Figure()\n",
        "    for model, result in zip(model_names, results):\n",
        "        fig.add_trace(go.Box(\n",
        "            y=result,\n",
        "            name=model,\n",
        "            boxpoints='all',\n",
        "            jitter=0.5,\n",
        "            whiskerwidth=0.2,\n",
        "            marker_size=2,\n",
        "            line_width=1)\n",
        "        )\n",
        "    \n",
        "\n",
        "    fig.update_layout(\n",
        "    title='Performance of Different Models Using 5-Fold Cross-Validation',\n",
        "    paper_bgcolor='rgb(243, 243, 243)',\n",
        "    plot_bgcolor='rgb(243, 243, 243)',\n",
        "    xaxis_title='Model',\n",
        "    yaxis_title='Accuracy',\n",
        "    showlegend=False)\n",
        "    fig.show()"
      ]
    },
    {
      "cell_type": "markdown",
      "metadata": {
        "id": "9fRidYXrF9N_"
      },
      "source": [
        "### Dataset con features nuevos"
      ]
    },
    {
      "cell_type": "code",
      "execution_count": null,
      "metadata": {
        "id": "Cpjd4EZZLlao"
      },
      "outputs": [],
      "source": [
        "#Clasificador\n",
        "dt_st_fn = DecisionTreeClassifier()\n",
        "\n",
        "#Metrica\n",
        "dt_st_scorer_fn = make_scorer(sk.metrics.f1_score, average = 'macro')\n",
        "\n",
        "dt_st_randomcv_fn = cross_validation_function(x_train_ensamble_fn, y_train_ensamble, base_tree=dt_st_fn, scorer=dt_st_scorer_fn)\n",
        "\n",
        "#Creo el árbol con los mejores hiperparámetros\n",
        "dt_st_fn=DecisionTreeClassifier(random_state=2).set_params(**dt_st_randomcv_fn.best_params_)"
      ]
    },
    {
      "cell_type": "code",
      "execution_count": null,
      "metadata": {
        "id": "76ziXz5GLlap"
      },
      "outputs": [],
      "source": [
        "#Clasificador\n",
        "rmf_st_fn = RandomForestClassifier()\n",
        "\n",
        "#Metrica\n",
        "rmf_st_scorer_fn = make_scorer(sk.metrics.f1_score, average = 'macro') \n",
        "\n",
        "rmf_st_randomcv_fn = cross_validation_function(x_train_ensamble_fn, y_train_ensamble,  base_tree=rmf_st_fn, scorer=rmf_st_scorer_fn)\n",
        "\n",
        "#Creo el árbol con los mejores hiperparámetros\n",
        "rmf_st_fn=RandomForestClassifier(random_state=2).set_params(**rmf_st_randomcv_fn.best_params_)"
      ]
    },
    {
      "cell_type": "code",
      "execution_count": null,
      "metadata": {
        "id": "2iY6TjEFLlap"
      },
      "outputs": [],
      "source": [
        "#Clasificador\n",
        "ab_st_fn = AdaBoostClassifier()\n",
        "\n",
        "# Metrica\n",
        "ab_st_scorer_fn = make_scorer(sk.metrics.f1_score, average = 'macro')\n",
        "\n",
        "ab_st_params_grid_fn = {'learning_rate':np.linspace(0.01,0.1,10),\n",
        "               'n_estimators': list(range(1,100))}\n",
        "\n",
        "ab_st_randomcv_fn = cross_validation_function(x_train_ensamble_fn, y_train_ensamble, base_tree=ab_st_fn, scorer=ab_st_scorer_fn, params_grid=ab_st_params_grid_fn)\n",
        "\n",
        "ab_st_fn=AdaBoostClassifier(random_state=2).set_params(**ab_st_randomcv_fn.best_params_)"
      ]
    },
    {
      "cell_type": "code",
      "execution_count": null,
      "metadata": {
        "colab": {
          "base_uri": "https://localhost:8080/"
        },
        "id": "wbyuajOWZXAu",
        "outputId": "a7bb38b2-e935-437d-885e-7b2fcd603706"
      },
      "outputs": [
        {
          "name": "stdout",
          "output_type": "stream",
          "text": [
            "Evaluating random_forest\n"
          ]
        },
        {
          "name": "stderr",
          "output_type": "stream",
          "text": [
            "[Parallel(n_jobs=3)]: Using backend LokyBackend with 3 concurrent workers.\n",
            "[Parallel(n_jobs=3)]: Done  10 out of  10 | elapsed:   53.7s finished\n",
            "[Parallel(n_jobs=3)]: Using backend LokyBackend with 3 concurrent workers.\n"
          ]
        },
        {
          "name": "stdout",
          "output_type": "stream",
          "text": [
            "Evaluating adab_stoost\n"
          ]
        },
        {
          "name": "stderr",
          "output_type": "stream",
          "text": [
            "[Parallel(n_jobs=3)]: Done  10 out of  10 | elapsed:  1.4min finished\n",
            "[Parallel(n_jobs=3)]: Using backend LokyBackend with 3 concurrent workers.\n"
          ]
        },
        {
          "name": "stdout",
          "output_type": "stream",
          "text": [
            "Evaluating DecisionTree\n"
          ]
        },
        {
          "name": "stderr",
          "output_type": "stream",
          "text": [
            "[Parallel(n_jobs=3)]: Done  10 out of  10 | elapsed:    2.4s finished\n"
          ]
        }
      ],
      "source": [
        "#Modelos Base\n",
        "base_models_st_fn = {'random_forest':RandomForestClassifier(random_state=2).set_params(**rmf_st_randomcv_fn.best_params_),\n",
        "               'adab_stoost': AdaBoostClassifier(random_state=2).set_params(**ab_st_randomcv_fn.best_params_),\n",
        "               'DecisionTree': DecisionTreeClassifier(random_state=2).set_params(**dt_st_randomcv_fn.best_params_)}\n",
        "\n",
        "#Guarda los scores de cada modelo\n",
        "model_scores_st_fn = defaultdict()\n",
        "\n",
        "#Entreno los clasificadores\n",
        "for name, model in base_models_st_fn.items():\n",
        "    print('Evaluating {}'.format(name))\n",
        "    scores = evaluate_model(model, x_train_ensamble_fn, y_train_ensamble)\n",
        "    model_scores_st_fn[name] = scores"
      ]
    },
    {
      "cell_type": "markdown",
      "metadata": {
        "id": "lmx4tm6oCGcW"
      },
      "source": [
        "Utilizaremos modelos de random forest, adab_stoost y decision tree para el ensamble. Como modelo de salida utilizaremos LogisticRegressionCV."
      ]
    },
    {
      "cell_type": "code",
      "execution_count": null,
      "metadata": {
        "id": "5f5BaM07aRH3"
      },
      "outputs": [],
      "source": [
        "from sklearn.ensemble import StackingClassifier\n",
        "\n",
        "# #Modelos Base\n",
        "base_models_st_fn = [('random_forest',RandomForestClassifier(random_state=2).set_params(**rmf_st_randomcv_fn.best_params_)),\n",
        "               ('adab_stoost', AdaBoostClassifier(random_state=2).set_params(**ab_st_randomcv_fn.best_params_)),\n",
        "               ('DecisionTree', DecisionTreeClassifier(random_state=2).set_params(**dt_st_randomcv_fn.best_params_))]\n",
        "\n",
        "#Meta Modelo\n",
        "meta_model = LogisticRegressionCV()\n",
        "\n",
        "#Ensemble Stacking\n",
        "st_clf_fn = StackingClassifier(estimators=base_models_st_fn, \n",
        "                                    final_estimator=meta_model, \n",
        "                                    passthrough=True, \n",
        "                                    cv=5,\n",
        "                                    verbose=2)"
      ]
    },
    {
      "cell_type": "code",
      "execution_count": null,
      "metadata": {
        "colab": {
          "base_uri": "https://localhost:8080/"
        },
        "id": "rBJ-OYP8aoGu",
        "outputId": "93a886f9-1a52-4454-96d1-2250709e6881"
      },
      "outputs": [
        {
          "name": "stderr",
          "output_type": "stream",
          "text": [
            "[Parallel(n_jobs=3)]: Using backend LokyBackend with 3 concurrent workers.\n",
            "[Parallel(n_jobs=3)]: Done  10 out of  10 | elapsed: 21.7min finished\n"
          ]
        }
      ],
      "source": [
        "#Performance el modelo en entrenamiento\n",
        "stacking_scores = evaluate_model(st_clf_fn, x_train_ensamble_fn, y_train_ensamble)\n",
        "model_scores_st_fn['stacking'] = stacking_scores"
      ]
    },
    {
      "cell_type": "markdown",
      "metadata": {
        "id": "JYA-ZHvgCUp0"
      },
      "source": [
        "Observamos las metricas de los distintos modelos dentro del ensamble."
      ]
    },
    {
      "cell_type": "code",
      "execution_count": null,
      "metadata": {
        "colab": {
          "base_uri": "https://localhost:8080/"
        },
        "id": "aWsChCZgmwJl",
        "outputId": "3b14e256-9fa9-4f1a-d947-b5adeef1ca02"
      },
      "outputs": [
        {
          "data": {
            "text/plain": [
              "defaultdict(None,\n",
              "            {'random_forest': array([0.59665457, 0.61188259, 0.59472895, 0.59512349, 0.59780636,\n",
              "                    0.59736468, 0.60351902, 0.59433441, 0.60206739, 0.60001578]),\n",
              "             'adab_stoost': array([0.5653306 , 0.56588291, 0.56442831, 0.56498067, 0.56371814,\n",
              "                    0.56840776, 0.56848667, 0.56458613, 0.56442831, 0.56253452]),\n",
              "             'DecisionTree': array([0.59744359, 0.60848982, 0.60246193, 0.61129961, 0.60940582,\n",
              "                    0.60225659, 0.612356  , 0.6091691 , 0.60246193, 0.60396118]),\n",
              "             'stacking': array([0.62403345, 0.6357109 , 0.62526631, 0.640101  , 0.63236803,\n",
              "                    0.63121351, 0.63752564, 0.63173676, 0.63134222, 0.62660775])})"
            ]
          },
          "execution_count": 224,
          "metadata": {},
          "output_type": "execute_result"
        }
      ],
      "source": [
        "model_scores_st_fn"
      ]
    },
    {
      "cell_type": "code",
      "execution_count": null,
      "metadata": {
        "colab": {
          "base_uri": "https://localhost:8080/"
        },
        "id": "ijQJJcJIayzo",
        "outputId": "b8fa70bd-b500-4bfe-eaf1-afec8242482e"
      },
      "outputs": [
        {
          "data": {
            "text/html": [
              "<html>\n",
              "<head><meta charset=\"utf-8\" /></head>\n",
              "<body>\n",
              "    <div>            <script src=\"https://cdnjs.cloudflare.com/ajax/libs/mathjax/2.7.5/MathJax.js?config=TeX-AMS-MML_SVG\"></script><script type=\"text/javascript\">if (window.MathJax) {MathJax.Hub.Config({SVG: {font: \"STIX-Web\"}});}</script>                <script type=\"text/javascript\">window.PlotlyConfig = {MathJaxConfig: 'local'};</script>\n",
              "        <script src=\"https://cdn.plot.ly/plotly-2.8.3.min.js\"></script>                <div id=\"5319a40a-1dda-4489-952f-e1a5b8419bb5\" class=\"plotly-graph-div\" style=\"height:525px; width:100%;\"></div>            <script type=\"text/javascript\">                                    window.PLOTLYENV=window.PLOTLYENV || {};                                    if (document.getElementById(\"5319a40a-1dda-4489-952f-e1a5b8419bb5\")) {                    Plotly.newPlot(                        \"5319a40a-1dda-4489-952f-e1a5b8419bb5\",                        [{\"boxpoints\":\"all\",\"jitter\":0.5,\"line\":{\"width\":1},\"marker\":{\"size\":2},\"name\":\"random_forest\",\"whiskerwidth\":0.2,\"y\":[0.5966545684077639,0.6118825942875178,0.5947289513138168,0.5951234908861359,0.5978063599779058,0.5973646836042291,0.6035190153069275,0.5943344117414977,0.6020673873589522,0.6000157815828928],\"type\":\"box\"},{\"boxpoints\":\"all\",\"jitter\":0.5,\"line\":{\"width\":1},\"marker\":{\"size\":2},\"name\":\"adab_stoost\",\"whiskerwidth\":0.2,\"y\":[0.5653305980747988,0.5658829098942717,0.5644283121597096,0.5649806675609563,0.5637181409295352,0.568407763926148,0.5684866656146441,0.5645861279886373,0.5644283121597096,0.5625345222125779],\"type\":\"box\"},{\"boxpoints\":\"all\",\"jitter\":0.5,\"line\":{\"width\":1},\"marker\":{\"size\":2},\"name\":\"DecisionTree\",\"whiskerwidth\":0.2,\"y\":[0.5974435852927252,0.608489821682184,0.6024619269312712,0.6112996133512191,0.6094058234040874,0.6022565882909894,0.6123560044184946,0.609169099660696,0.6024619269312712,0.6039611773060838],\"type\":\"box\"},{\"boxpoints\":\"all\",\"jitter\":0.5,\"line\":{\"width\":1},\"marker\":{\"size\":2},\"name\":\"stacking\",\"whiskerwidth\":0.2,\"y\":[0.6240334543159224,0.6357109042133502,0.6252663142113154,0.6401010021305137,0.6323680265130592,0.6312135079690705,0.6375256430487612,0.6317367631973487,0.6313422236250296,0.6266077487572004],\"type\":\"box\"}],                        {\"template\":{\"data\":{\"bar\":[{\"error_x\":{\"color\":\"#2a3f5f\"},\"error_y\":{\"color\":\"#2a3f5f\"},\"marker\":{\"line\":{\"color\":\"#E5ECF6\",\"width\":0.5},\"pattern\":{\"fillmode\":\"overlay\",\"size\":10,\"solidity\":0.2}},\"type\":\"bar\"}],\"barpolar\":[{\"marker\":{\"line\":{\"color\":\"#E5ECF6\",\"width\":0.5},\"pattern\":{\"fillmode\":\"overlay\",\"size\":10,\"solidity\":0.2}},\"type\":\"barpolar\"}],\"carpet\":[{\"aaxis\":{\"endlinecolor\":\"#2a3f5f\",\"gridcolor\":\"white\",\"linecolor\":\"white\",\"minorgridcolor\":\"white\",\"startlinecolor\":\"#2a3f5f\"},\"baxis\":{\"endlinecolor\":\"#2a3f5f\",\"gridcolor\":\"white\",\"linecolor\":\"white\",\"minorgridcolor\":\"white\",\"startlinecolor\":\"#2a3f5f\"},\"type\":\"carpet\"}],\"choropleth\":[{\"colorbar\":{\"outlinewidth\":0,\"ticks\":\"\"},\"type\":\"choropleth\"}],\"contour\":[{\"colorbar\":{\"outlinewidth\":0,\"ticks\":\"\"},\"colorscale\":[[0.0,\"#0d0887\"],[0.1111111111111111,\"#46039f\"],[0.2222222222222222,\"#7201a8\"],[0.3333333333333333,\"#9c179e\"],[0.4444444444444444,\"#bd3786\"],[0.5555555555555556,\"#d8576b\"],[0.6666666666666666,\"#ed7953\"],[0.7777777777777778,\"#fb9f3a\"],[0.8888888888888888,\"#fdca26\"],[1.0,\"#f0f921\"]],\"type\":\"contour\"}],\"contourcarpet\":[{\"colorbar\":{\"outlinewidth\":0,\"ticks\":\"\"},\"type\":\"contourcarpet\"}],\"heatmap\":[{\"colorbar\":{\"outlinewidth\":0,\"ticks\":\"\"},\"colorscale\":[[0.0,\"#0d0887\"],[0.1111111111111111,\"#46039f\"],[0.2222222222222222,\"#7201a8\"],[0.3333333333333333,\"#9c179e\"],[0.4444444444444444,\"#bd3786\"],[0.5555555555555556,\"#d8576b\"],[0.6666666666666666,\"#ed7953\"],[0.7777777777777778,\"#fb9f3a\"],[0.8888888888888888,\"#fdca26\"],[1.0,\"#f0f921\"]],\"type\":\"heatmap\"}],\"heatmapgl\":[{\"colorbar\":{\"outlinewidth\":0,\"ticks\":\"\"},\"colorscale\":[[0.0,\"#0d0887\"],[0.1111111111111111,\"#46039f\"],[0.2222222222222222,\"#7201a8\"],[0.3333333333333333,\"#9c179e\"],[0.4444444444444444,\"#bd3786\"],[0.5555555555555556,\"#d8576b\"],[0.6666666666666666,\"#ed7953\"],[0.7777777777777778,\"#fb9f3a\"],[0.8888888888888888,\"#fdca26\"],[1.0,\"#f0f921\"]],\"type\":\"heatmapgl\"}],\"histogram\":[{\"marker\":{\"pattern\":{\"fillmode\":\"overlay\",\"size\":10,\"solidity\":0.2}},\"type\":\"histogram\"}],\"histogram2d\":[{\"colorbar\":{\"outlinewidth\":0,\"ticks\":\"\"},\"colorscale\":[[0.0,\"#0d0887\"],[0.1111111111111111,\"#46039f\"],[0.2222222222222222,\"#7201a8\"],[0.3333333333333333,\"#9c179e\"],[0.4444444444444444,\"#bd3786\"],[0.5555555555555556,\"#d8576b\"],[0.6666666666666666,\"#ed7953\"],[0.7777777777777778,\"#fb9f3a\"],[0.8888888888888888,\"#fdca26\"],[1.0,\"#f0f921\"]],\"type\":\"histogram2d\"}],\"histogram2dcontour\":[{\"colorbar\":{\"outlinewidth\":0,\"ticks\":\"\"},\"colorscale\":[[0.0,\"#0d0887\"],[0.1111111111111111,\"#46039f\"],[0.2222222222222222,\"#7201a8\"],[0.3333333333333333,\"#9c179e\"],[0.4444444444444444,\"#bd3786\"],[0.5555555555555556,\"#d8576b\"],[0.6666666666666666,\"#ed7953\"],[0.7777777777777778,\"#fb9f3a\"],[0.8888888888888888,\"#fdca26\"],[1.0,\"#f0f921\"]],\"type\":\"histogram2dcontour\"}],\"mesh3d\":[{\"colorbar\":{\"outlinewidth\":0,\"ticks\":\"\"},\"type\":\"mesh3d\"}],\"parcoords\":[{\"line\":{\"colorbar\":{\"outlinewidth\":0,\"ticks\":\"\"}},\"type\":\"parcoords\"}],\"pie\":[{\"automargin\":true,\"type\":\"pie\"}],\"scatter\":[{\"marker\":{\"colorbar\":{\"outlinewidth\":0,\"ticks\":\"\"}},\"type\":\"scatter\"}],\"scatter3d\":[{\"line\":{\"colorbar\":{\"outlinewidth\":0,\"ticks\":\"\"}},\"marker\":{\"colorbar\":{\"outlinewidth\":0,\"ticks\":\"\"}},\"type\":\"scatter3d\"}],\"scattercarpet\":[{\"marker\":{\"colorbar\":{\"outlinewidth\":0,\"ticks\":\"\"}},\"type\":\"scattercarpet\"}],\"scattergeo\":[{\"marker\":{\"colorbar\":{\"outlinewidth\":0,\"ticks\":\"\"}},\"type\":\"scattergeo\"}],\"scattergl\":[{\"marker\":{\"colorbar\":{\"outlinewidth\":0,\"ticks\":\"\"}},\"type\":\"scattergl\"}],\"scattermapbox\":[{\"marker\":{\"colorbar\":{\"outlinewidth\":0,\"ticks\":\"\"}},\"type\":\"scattermapbox\"}],\"scatterpolar\":[{\"marker\":{\"colorbar\":{\"outlinewidth\":0,\"ticks\":\"\"}},\"type\":\"scatterpolar\"}],\"scatterpolargl\":[{\"marker\":{\"colorbar\":{\"outlinewidth\":0,\"ticks\":\"\"}},\"type\":\"scatterpolargl\"}],\"scatterternary\":[{\"marker\":{\"colorbar\":{\"outlinewidth\":0,\"ticks\":\"\"}},\"type\":\"scatterternary\"}],\"surface\":[{\"colorbar\":{\"outlinewidth\":0,\"ticks\":\"\"},\"colorscale\":[[0.0,\"#0d0887\"],[0.1111111111111111,\"#46039f\"],[0.2222222222222222,\"#7201a8\"],[0.3333333333333333,\"#9c179e\"],[0.4444444444444444,\"#bd3786\"],[0.5555555555555556,\"#d8576b\"],[0.6666666666666666,\"#ed7953\"],[0.7777777777777778,\"#fb9f3a\"],[0.8888888888888888,\"#fdca26\"],[1.0,\"#f0f921\"]],\"type\":\"surface\"}],\"table\":[{\"cells\":{\"fill\":{\"color\":\"#EBF0F8\"},\"line\":{\"color\":\"white\"}},\"header\":{\"fill\":{\"color\":\"#C8D4E3\"},\"line\":{\"color\":\"white\"}},\"type\":\"table\"}]},\"layout\":{\"annotationdefaults\":{\"arrowcolor\":\"#2a3f5f\",\"arrowhead\":0,\"arrowwidth\":1},\"autotypenumbers\":\"strict\",\"coloraxis\":{\"colorbar\":{\"outlinewidth\":0,\"ticks\":\"\"}},\"colorscale\":{\"diverging\":[[0,\"#8e0152\"],[0.1,\"#c51b7d\"],[0.2,\"#de77ae\"],[0.3,\"#f1b6da\"],[0.4,\"#fde0ef\"],[0.5,\"#f7f7f7\"],[0.6,\"#e6f5d0\"],[0.7,\"#b8e186\"],[0.8,\"#7fbc41\"],[0.9,\"#4d9221\"],[1,\"#276419\"]],\"sequential\":[[0.0,\"#0d0887\"],[0.1111111111111111,\"#46039f\"],[0.2222222222222222,\"#7201a8\"],[0.3333333333333333,\"#9c179e\"],[0.4444444444444444,\"#bd3786\"],[0.5555555555555556,\"#d8576b\"],[0.6666666666666666,\"#ed7953\"],[0.7777777777777778,\"#fb9f3a\"],[0.8888888888888888,\"#fdca26\"],[1.0,\"#f0f921\"]],\"sequentialminus\":[[0.0,\"#0d0887\"],[0.1111111111111111,\"#46039f\"],[0.2222222222222222,\"#7201a8\"],[0.3333333333333333,\"#9c179e\"],[0.4444444444444444,\"#bd3786\"],[0.5555555555555556,\"#d8576b\"],[0.6666666666666666,\"#ed7953\"],[0.7777777777777778,\"#fb9f3a\"],[0.8888888888888888,\"#fdca26\"],[1.0,\"#f0f921\"]]},\"colorway\":[\"#636efa\",\"#EF553B\",\"#00cc96\",\"#ab63fa\",\"#FFA15A\",\"#19d3f3\",\"#FF6692\",\"#B6E880\",\"#FF97FF\",\"#FECB52\"],\"font\":{\"color\":\"#2a3f5f\"},\"geo\":{\"bgcolor\":\"white\",\"lakecolor\":\"white\",\"landcolor\":\"#E5ECF6\",\"showlakes\":true,\"showland\":true,\"subunitcolor\":\"white\"},\"hoverlabel\":{\"align\":\"left\"},\"hovermode\":\"closest\",\"mapbox\":{\"style\":\"light\"},\"paper_bgcolor\":\"white\",\"plot_bgcolor\":\"#E5ECF6\",\"polar\":{\"angularaxis\":{\"gridcolor\":\"white\",\"linecolor\":\"white\",\"ticks\":\"\"},\"bgcolor\":\"#E5ECF6\",\"radialaxis\":{\"gridcolor\":\"white\",\"linecolor\":\"white\",\"ticks\":\"\"}},\"scene\":{\"xaxis\":{\"backgroundcolor\":\"#E5ECF6\",\"gridcolor\":\"white\",\"gridwidth\":2,\"linecolor\":\"white\",\"showbackground\":true,\"ticks\":\"\",\"zerolinecolor\":\"white\"},\"yaxis\":{\"backgroundcolor\":\"#E5ECF6\",\"gridcolor\":\"white\",\"gridwidth\":2,\"linecolor\":\"white\",\"showbackground\":true,\"ticks\":\"\",\"zerolinecolor\":\"white\"},\"zaxis\":{\"backgroundcolor\":\"#E5ECF6\",\"gridcolor\":\"white\",\"gridwidth\":2,\"linecolor\":\"white\",\"showbackground\":true,\"ticks\":\"\",\"zerolinecolor\":\"white\"}},\"shapedefaults\":{\"line\":{\"color\":\"#2a3f5f\"}},\"ternary\":{\"aaxis\":{\"gridcolor\":\"white\",\"linecolor\":\"white\",\"ticks\":\"\"},\"baxis\":{\"gridcolor\":\"white\",\"linecolor\":\"white\",\"ticks\":\"\"},\"bgcolor\":\"#E5ECF6\",\"caxis\":{\"gridcolor\":\"white\",\"linecolor\":\"white\",\"ticks\":\"\"}},\"title\":{\"x\":0.05},\"xaxis\":{\"automargin\":true,\"gridcolor\":\"white\",\"linecolor\":\"white\",\"ticks\":\"\",\"title\":{\"standoff\":15},\"zerolinecolor\":\"white\",\"zerolinewidth\":2},\"yaxis\":{\"automargin\":true,\"gridcolor\":\"white\",\"linecolor\":\"white\",\"ticks\":\"\",\"title\":{\"standoff\":15},\"zerolinecolor\":\"white\",\"zerolinewidth\":2}}},\"title\":{\"text\":\"Performance of Different Models Using 5-Fold Cross-Validation\"},\"paper_bgcolor\":\"rgb(243, 243, 243)\",\"plot_bgcolor\":\"rgb(243, 243, 243)\",\"xaxis\":{\"title\":{\"text\":\"Model\"}},\"yaxis\":{\"title\":{\"text\":\"Accuracy\"}},\"showlegend\":false},                        {\"responsive\": true}                    ).then(function(){\n",
              "                            \n",
              "var gd = document.getElementById('5319a40a-1dda-4489-952f-e1a5b8419bb5');\n",
              "var x = new MutationObserver(function (mutations, observer) {{\n",
              "        var display = window.getComputedStyle(gd).display;\n",
              "        if (!display || display === 'none') {{\n",
              "            console.log([gd, 'removed!']);\n",
              "            Plotly.purge(gd);\n",
              "            observer.disconnect();\n",
              "        }}\n",
              "}});\n",
              "\n",
              "// Listen for the removal of the full notebook cells\n",
              "var notebookContainer = gd.closest('#notebook-container');\n",
              "if (notebookContainer) {{\n",
              "    x.observe(notebookContainer, {childList: true});\n",
              "}}\n",
              "\n",
              "// Listen for the clearing of the current output cell\n",
              "var outputEl = gd.closest('.output');\n",
              "if (outputEl) {{\n",
              "    x.observe(outputEl, {childList: true});\n",
              "}}\n",
              "\n",
              "                        })                };                            </script>        </div>\n",
              "</body>\n",
              "</html>"
            ]
          },
          "metadata": {},
          "output_type": "display_data"
        }
      ],
      "source": [
        "#Grafico performance\n",
        "plot_results(model_scores_st_fn, name='st_clf_fn_cv')"
      ]
    },
    {
      "cell_type": "markdown",
      "metadata": {
        "id": "RBkGzK1_DB6K"
      },
      "source": [
        "Analizando el grafico, vemos el resultado que se mencionaba en las clases: muchos modelos mediocres juntos pueden resultar en un modelo mucho mejor. \n",
        "\n",
        "Como observamos, las metricas de cada uno de los modelos no pasa de 0.62, al contrario de la metrica final del ensamble."
      ]
    },
    {
      "cell_type": "markdown",
      "metadata": {
        "id": "boiKVaGUCbrM"
      },
      "source": [
        "Habiendo hecho este analisis, procedemos a entrenar el modelo y predecir con el mismo. "
      ]
    },
    {
      "cell_type": "code",
      "execution_count": null,
      "metadata": {
        "colab": {
          "base_uri": "https://localhost:8080/"
        },
        "id": "w7cjJgj13yie",
        "outputId": "791b2ad0-6785-428a-d851-07a6c9a05702"
      },
      "outputs": [
        {
          "name": "stderr",
          "output_type": "stream",
          "text": [
            "[Parallel(n_jobs=1)]: Using backend SequentialBackend with 1 concurrent workers.\n",
            "[Parallel(n_jobs=1)]: Done   1 out of   1 | elapsed:    5.9s remaining:    0.0s\n",
            "[Parallel(n_jobs=1)]: Done   5 out of   5 | elapsed:   29.9s finished\n",
            "[Parallel(n_jobs=1)]: Using backend SequentialBackend with 1 concurrent workers.\n",
            "[Parallel(n_jobs=1)]: Done   1 out of   1 | elapsed:    4.4s remaining:    0.0s\n",
            "[Parallel(n_jobs=1)]: Done   5 out of   5 | elapsed:   22.5s finished\n",
            "[Parallel(n_jobs=1)]: Using backend SequentialBackend with 1 concurrent workers.\n",
            "[Parallel(n_jobs=1)]: Done   1 out of   1 | elapsed:    0.2s remaining:    0.0s\n",
            "[Parallel(n_jobs=1)]: Done   5 out of   5 | elapsed:    1.0s finished\n"
          ]
        }
      ],
      "source": [
        "#Evaluo en conjunto de test\n",
        "st_clf_fn.fit(x_train_ensamble_fn,y_train_ensamble).score(x_test_ensamble_fn,y_test_ensamble)\n",
        "y_pred_st_fn = st_clf_fn.predict(x_test_ensamble_fn)"
      ]
    },
    {
      "cell_type": "code",
      "execution_count": null,
      "metadata": {
        "colab": {
          "base_uri": "https://localhost:8080/"
        },
        "id": "Q3Ur9lM7ef63",
        "outputId": "4eb8384f-3772-4317-b6ab-6cba2ef365b8"
      },
      "outputs": [
        {
          "name": "stdout",
          "output_type": "stream",
          "text": [
            "Accuracy: 0.6330389992641648\n",
            "Recall: 0.581219091118423\n",
            "f1 score: 0.6027942050914362\n"
          ]
        }
      ],
      "source": [
        "st_accuracy_nuevos=accuracy_score(y_test_target,y_pred_st_fn)\n",
        "st_recall_nuevos=recall_score(y_test_target,y_pred_st_fn, average='macro')\n",
        "st_f1_nuevos=f1_score(y_test_target,y_pred_st_fn, average='macro')\n",
        "\n",
        "print(\"Accuracy: \"+str(st_accuracy_nuevos))\n",
        "print(\"Recall: \"+str(st_recall_nuevos))\n",
        "print(\"f1 score: \"+str(st_f1_nuevos))"
      ]
    },
    {
      "cell_type": "markdown",
      "metadata": {
        "id": "N-tka7otD5Fa"
      },
      "source": [
        "Obtenemos la siguiente metrica de accuracy."
      ]
    },
    {
      "cell_type": "code",
      "execution_count": null,
      "metadata": {
        "colab": {
          "base_uri": "https://localhost:8080/"
        },
        "id": "FR8-qblpDxYC",
        "outputId": "26e83a7e-9945-4d3c-9512-205cbe24353a"
      },
      "outputs": [
        {
          "name": "stdout",
          "output_type": "stream",
          "text": [
            "Accuracy obtenida con el ensamble de stackig:  0.6330389992641648\n"
          ]
        }
      ],
      "source": [
        "print(\"Accuracy obtenida con el ensamble de stackig: \", accuracy_score(y_test_ensamble, y_pred_st_fn))"
      ]
    },
    {
      "cell_type": "markdown",
      "metadata": {
        "id": "tKk-DkUGD8u7"
      },
      "source": [
        "Analicemos la matriz de confusion obtenida luego de las predicciones."
      ]
    },
    {
      "cell_type": "code",
      "execution_count": null,
      "metadata": {
        "colab": {
          "base_uri": "https://localhost:8080/"
        },
        "id": "EG1WFCf7N4PZ",
        "outputId": "40b53a1b-b724-4a74-ae24-c1304faa0b3b"
      },
      "outputs": [
        {
          "data": {
            "text/plain": [
              "0           low_price\n",
              "1          high_price\n",
              "2           low_price\n",
              "3        medium_price\n",
              "4           low_price\n",
              "             ...     \n",
              "27175    medium_price\n",
              "27176       low_price\n",
              "27177       low_price\n",
              "27178    medium_price\n",
              "27179       low_price\n",
              "Name: tipo_precio_generico, Length: 27180, dtype: object"
            ]
          },
          "execution_count": 229,
          "metadata": {},
          "output_type": "execute_result"
        }
      ],
      "source": [
        "y_test_ensamble"
      ]
    },
    {
      "cell_type": "code",
      "execution_count": null,
      "metadata": {
        "colab": {
          "base_uri": "https://localhost:8080/"
        },
        "id": "BqFhUwgK_YHe",
        "outputId": "ea25f698-9af1-418e-ef1f-87936b810741"
      },
      "outputs": [
        {
          "data": {
            "text/plain": [
              "[Text(32.09375, 0.5, 'True'), Text(0.5, 14.09375, 'Predicted')]"
            ]
          },
          "execution_count": 230,
          "metadata": {},
          "output_type": "execute_result"
        },
        {
          "data": {
            "image/png": "[encoded data removed]",
            "text/plain": [
              "<Figure size 432x288 with 2 Axes>"
            ]
          },
          "metadata": {},
          "output_type": "display_data"
        }
      ],
      "source": [
        "#Creo la matriz de confusión\n",
        "st_tabla_fn=confusion_matrix(y_test_ensamble, y_pred_st_fn)\n",
        "st_columnas=identificar_clasificacion(y_pred_st_fn,st_tabla_fn)\n",
        "\n",
        "#Grafico la matriz de confusión\n",
        "\n",
        "sns.heatmap(st_tabla_fn,cmap='GnBu',annot=True,fmt='g', yticklabels = st_columnas, xticklabels = st_columnas).set(xlabel=\"Predicted\", ylabel=\"True\")"
      ]
    },
    {
      "cell_type": "markdown",
      "metadata": {
        "id": "lVDcUtR2Hlk_"
      },
      "source": [
        "### Dataset con features TP1"
      ]
    },
    {
      "cell_type": "markdown",
      "metadata": {
        "id": "D49Obbxxilf_"
      },
      "source": [
        "Realizamos el mismo procedimiento anterior con los features del TP1."
      ]
    },
    {
      "cell_type": "code",
      "execution_count": null,
      "metadata": {
        "id": "Ea7xmQdLHllA"
      },
      "outputs": [],
      "source": [
        "#Clasificador\n",
        "dt_st_tp1 = DecisionTreeClassifier()\n",
        "\n",
        "#Metrica\n",
        "dt_st_scorer_tp1 = make_scorer(sk.metrics.f1_score, average = 'macro')\n",
        "\n",
        "dt_st_randomcv_tp1 = cross_validation_function(x_train_ensamble_tp1, y_train_ensamble, base_tree=dt_st_tp1, scorer=dt_st_scorer_tp1)\n",
        "\n",
        "#Creo el árbol con los mejores hiperparámetros\n",
        "dt_st_tp1=DecisionTreeClassifier(random_state=2).set_params(**dt_st_randomcv_tp1.best_params_)"
      ]
    },
    {
      "cell_type": "code",
      "execution_count": null,
      "metadata": {
        "id": "Humxo8o_HllB"
      },
      "outputs": [],
      "source": [
        "#Clasificador\n",
        "rmf_st_tp1 = RandomForestClassifier()\n",
        "\n",
        "#Metrica\n",
        "rmf_st_scorer_tp1 = make_scorer(sk.metrics.f1_score, average = 'macro') \n",
        "\n",
        "rmf_st_randomcv_tp1 = cross_validation_function(x_train_ensamble_tp1, y_train_ensamble,  base_tree=rmf_st_tp1, scorer=rmf_st_scorer_tp1)\n",
        "\n",
        "#Creo el árbol con los mejores hiperparámetros\n",
        "rmf_st_tp1=RandomForestClassifier(random_state=2).set_params(**rmf_st_randomcv_tp1.best_params_)"
      ]
    },
    {
      "cell_type": "code",
      "execution_count": null,
      "metadata": {
        "colab": {
          "background_save": true
        },
        "id": "w5kmtszDHllC"
      },
      "outputs": [],
      "source": [
        "#Clasificador\n",
        "ab_st_tp1 = AdaBoostClassifier()\n",
        "\n",
        "# Metrica\n",
        "ab_st_scorer_tp1 = make_scorer(sk.metrics.f1_score, average = 'macro')\n",
        "\n",
        "ab_st_params_grid_tp1 = {'learning_rate':np.linspace(0.01,0.1,10),\n",
        "               'n_estimators': list(range(1,100))}\n",
        "\n",
        "ab_st_randomcv_tp1 = cross_validation_function(x_train_ensamble_tp1, y_train_ensamble, base_tree=ab_st_tp1, scorer=ab_st_scorer_tp1, params_grid=ab_st_params_grid_tp1)\n",
        "\n",
        "ab_st_tp1=AdaBoostClassifier(random_state=2).set_params(**ab_st_randomcv_tp1.best_params_)"
      ]
    },
    {
      "cell_type": "code",
      "execution_count": null,
      "metadata": {
        "colab": {
          "background_save": true
        },
        "id": "8WCR9_zhHllD",
        "outputId": "7b0789c1-2565-4224-ddae-c5cc48c5089f"
      },
      "outputs": [
        {
          "name": "stdout",
          "output_type": "stream",
          "text": [
            "Evaluating random_forest\n"
          ]
        },
        {
          "name": "stderr",
          "output_type": "stream",
          "text": [
            "[Parallel(n_jobs=3)]: Using backend LokyBackend with 3 concurrent workers.\n",
            "[Parallel(n_jobs=3)]: Done  10 out of  10 | elapsed:   30.6s finished\n",
            "[Parallel(n_jobs=3)]: Using backend LokyBackend with 3 concurrent workers.\n"
          ]
        },
        {
          "name": "stdout",
          "output_type": "stream",
          "text": [
            "Evaluating adab_stoost\n"
          ]
        },
        {
          "name": "stderr",
          "output_type": "stream",
          "text": [
            "[Parallel(n_jobs=3)]: Done  10 out of  10 | elapsed:  1.3min finished\n",
            "[Parallel(n_jobs=3)]: Using backend LokyBackend with 3 concurrent workers.\n"
          ]
        },
        {
          "name": "stdout",
          "output_type": "stream",
          "text": [
            "Evaluating DecisionTree\n"
          ]
        },
        {
          "name": "stderr",
          "output_type": "stream",
          "text": [
            "[Parallel(n_jobs=3)]: Done  10 out of  10 | elapsed:    2.1s finished\n"
          ]
        }
      ],
      "source": [
        "#Modelos Base\n",
        "base_models_st_tp1 = {'random_forest':RandomForestClassifier(random_state=2).set_params(**rmf_st_randomcv_tp1.best_params_),\n",
        "               'adab_stoost': AdaBoostClassifier(random_state=2).set_params(**ab_st_randomcv_tp1.best_params_),\n",
        "               'DecisionTree': DecisionTreeClassifier(random_state=2).set_params(**dt_st_randomcv_tp1.best_params_)}\n",
        "\n",
        "#Guarda los scores de cada modelo\n",
        "model_scores_st_tp1 = defaultdict()\n",
        "\n",
        "#Entreno los clasificadores\n",
        "for name, model in base_models_st_tp1.items():\n",
        "    print('Evaluating {}'.format(name))\n",
        "    scores = evaluate_model(model, x_train_ensamble_tp1, y_train_ensamble)\n",
        "    model_scores_st_tp1[name] = scores"
      ]
    },
    {
      "cell_type": "markdown",
      "metadata": {
        "id": "ozpmdqEvHllF"
      },
      "source": [
        "Utilizaremos modelos de random forest, adab_stoost y decision tree para el ensamble. Como modelo de salida utilizaremos LogisticRegressionCV."
      ]
    },
    {
      "cell_type": "code",
      "execution_count": null,
      "metadata": {
        "colab": {
          "background_save": true
        },
        "id": "MMHOzBM0HllF"
      },
      "outputs": [],
      "source": [
        "from sklearn.ensemble import StackingClassifier\n",
        "\n",
        "# #Modelos Base\n",
        "base_models_st_tp1 = [('random_forest',RandomForestClassifier(random_state=2).set_params(**rmf_st_randomcv_tp1.best_params_)),\n",
        "               ('adab_stoost', AdaBoostClassifier(random_state=2).set_params(**ab_st_randomcv_tp1.best_params_)),\n",
        "               ('DecisionTree', DecisionTreeClassifier(random_state=2).set_params(**dt_st_randomcv_tp1.best_params_))]\n",
        "\n",
        "#Meta Modelo\n",
        "meta_model = LogisticRegressionCV()\n",
        "\n",
        "#Ensemble Stacking\n",
        "st_clf_tp1 = StackingClassifier(estimators=base_models_st_tp1, \n",
        "                                    final_estimator=meta_model, \n",
        "                                    passthrough=True, \n",
        "                                    cv=5,\n",
        "                                    verbose=2)"
      ]
    },
    {
      "cell_type": "code",
      "execution_count": null,
      "metadata": {
        "colab": {
          "background_save": true
        },
        "id": "Byv0PlbQHllG",
        "outputId": "7aa10293-cae2-45b7-bad6-f81139b227c3"
      },
      "outputs": [
        {
          "name": "stderr",
          "output_type": "stream",
          "text": [
            "[Parallel(n_jobs=3)]: Using backend LokyBackend with 3 concurrent workers.\n",
            "[Parallel(n_jobs=3)]: Done  10 out of  10 | elapsed: 17.8min finished\n"
          ]
        }
      ],
      "source": [
        "#Performance el modelo en entrenamiento\n",
        "stacking_scores = evaluate_model(st_clf_tp1, x_train_ensamble_tp1, y_train_ensamble)\n",
        "model_scores_st_tp1['stacking'] = stacking_scores"
      ]
    },
    {
      "cell_type": "markdown",
      "metadata": {
        "id": "1DlEc9TiHllH"
      },
      "source": [
        "Observamos las metricas de los distintos modelos dentro del ensamble."
      ]
    },
    {
      "cell_type": "code",
      "execution_count": null,
      "metadata": {
        "colab": {
          "background_save": true
        },
        "id": "Z9n-m7NgHllH",
        "outputId": "e03f7909-509e-4825-cb8d-cc39565d8cd0"
      },
      "outputs": [
        {
          "data": {
            "text/plain": [
              "defaultdict(None,\n",
              "            {'random_forest': array([0.57566672, 0.584267  , 0.57350272, 0.57476525, 0.5753176 ,\n",
              "                    0.57574562, 0.57527221, 0.57437071, 0.57705358, 0.57208238]),\n",
              "             'adab_stoost': array([0.55033928, 0.55041818, 0.55314448, 0.55274994, 0.54485915,\n",
              "                    0.55459997, 0.55199621, 0.5523554 , 0.54998816, 0.54983035]),\n",
              "             'DecisionTree': array([0.58174215, 0.58947451, 0.58257713, 0.58557563, 0.59015229,\n",
              "                    0.57748146, 0.59065804, 0.5812357 , 0.58857413, 0.58415529]),\n",
              "             'stacking': array([0.60557046, 0.62316554, 0.60569715, 0.61082617, 0.61051053,\n",
              "                    0.60123087, 0.62032507, 0.60372445, 0.61382467, 0.61271996])})"
            ]
          },
          "execution_count": 237,
          "metadata": {},
          "output_type": "execute_result"
        }
      ],
      "source": [
        "model_scores_st_tp1"
      ]
    },
    {
      "cell_type": "code",
      "execution_count": null,
      "metadata": {
        "colab": {
          "background_save": true
        },
        "id": "dhhDangzHllI",
        "outputId": "ae452e7e-50cf-42f4-ff94-7e0fb605fdf2"
      },
      "outputs": [
        {
          "data": {
            "text/html": [
              "<html>\n",
              "<head><meta charset=\"utf-8\" /></head>\n",
              "<body>\n",
              "    <div>            <script src=\"https://cdnjs.cloudflare.com/ajax/libs/mathjax/2.7.5/MathJax.js?config=TeX-AMS-MML_SVG\"></script><script type=\"text/javascript\">if (window.MathJax) {MathJax.Hub.Config({SVG: {font: \"STIX-Web\"}});}</script>                <script type=\"text/javascript\">window.PlotlyConfig = {MathJaxConfig: 'local'};</script>\n",
              "        <script src=\"https://cdn.plot.ly/plotly-2.8.3.min.js\"></script>                <div id=\"698944b6-4b02-4f88-a48d-3da16c36c1ee\" class=\"plotly-graph-div\" style=\"height:525px; width:100%;\"></div>            <script type=\"text/javascript\">                                    window.PLOTLYENV=window.PLOTLYENV || {};                                    if (document.getElementById(\"698944b6-4b02-4f88-a48d-3da16c36c1ee\")) {                    Plotly.newPlot(                        \"698944b6-4b02-4f88-a48d-3da16c36c1ee\",                        [{\"boxpoints\":\"all\",\"jitter\":0.5,\"line\":{\"width\":1},\"marker\":{\"size\":2},\"name\":\"random_forest\",\"whiskerwidth\":0.2,\"y\":[0.5756667192677923,0.5842670033138709,0.573502722323049,0.5747652489544701,0.5753176043557169,0.5757456209562885,0.5752722108253117,0.5743707093821511,0.5770535784739209,0.5720823798627003],\"type\":\"box\"},{\"boxpoints\":\"all\",\"jitter\":0.5,\"line\":{\"width\":1},\"marker\":{\"size\":2},\"name\":\"adab_stoost\",\"whiskerwidth\":0.2,\"y\":[0.5503392772605333,0.5504181789490296,0.5531444803913833,0.5527499408190641,0.5448591493726821,0.5545999684393246,0.5519962127189522,0.5523554012467451,0.5499881638128304,0.5498303479839027],\"type\":\"box\"},{\"boxpoints\":\"all\",\"jitter\":0.5,\"line\":{\"width\":1},\"marker\":{\"size\":2},\"name\":\"DecisionTree\",\"whiskerwidth\":0.2,\"y\":[0.5817421492819946,0.5894745147546158,0.5825771324863884,0.5855756332360136,0.5901522922749152,0.5774814581032034,0.5906580400820578,0.5812356979405034,0.5885741339856387,0.5841552907756647],\"type\":\"box\"},{\"boxpoints\":\"all\",\"jitter\":0.5,\"line\":{\"width\":1},\"marker\":{\"size\":2},\"name\":\"stacking\",\"whiskerwidth\":0.2,\"y\":[0.605570459207827,0.6231655357424649,0.6056971514242878,0.6108261658644362,0.610510534206581,0.6012308663405397,0.620325074956604,0.6037244535626923,0.6138246666140614,0.6127199558115679],\"type\":\"box\"}],                        {\"template\":{\"data\":{\"bar\":[{\"error_x\":{\"color\":\"#2a3f5f\"},\"error_y\":{\"color\":\"#2a3f5f\"},\"marker\":{\"line\":{\"color\":\"#E5ECF6\",\"width\":0.5},\"pattern\":{\"fillmode\":\"overlay\",\"size\":10,\"solidity\":0.2}},\"type\":\"bar\"}],\"barpolar\":[{\"marker\":{\"line\":{\"color\":\"#E5ECF6\",\"width\":0.5},\"pattern\":{\"fillmode\":\"overlay\",\"size\":10,\"solidity\":0.2}},\"type\":\"barpolar\"}],\"carpet\":[{\"aaxis\":{\"endlinecolor\":\"#2a3f5f\",\"gridcolor\":\"white\",\"linecolor\":\"white\",\"minorgridcolor\":\"white\",\"startlinecolor\":\"#2a3f5f\"},\"baxis\":{\"endlinecolor\":\"#2a3f5f\",\"gridcolor\":\"white\",\"linecolor\":\"white\",\"minorgridcolor\":\"white\",\"startlinecolor\":\"#2a3f5f\"},\"type\":\"carpet\"}],\"choropleth\":[{\"colorbar\":{\"outlinewidth\":0,\"ticks\":\"\"},\"type\":\"choropleth\"}],\"contour\":[{\"colorbar\":{\"outlinewidth\":0,\"ticks\":\"\"},\"colorscale\":[[0.0,\"#0d0887\"],[0.1111111111111111,\"#46039f\"],[0.2222222222222222,\"#7201a8\"],[0.3333333333333333,\"#9c179e\"],[0.4444444444444444,\"#bd3786\"],[0.5555555555555556,\"#d8576b\"],[0.6666666666666666,\"#ed7953\"],[0.7777777777777778,\"#fb9f3a\"],[0.8888888888888888,\"#fdca26\"],[1.0,\"#f0f921\"]],\"type\":\"contour\"}],\"contourcarpet\":[{\"colorbar\":{\"outlinewidth\":0,\"ticks\":\"\"},\"type\":\"contourcarpet\"}],\"heatmap\":[{\"colorbar\":{\"outlinewidth\":0,\"ticks\":\"\"},\"colorscale\":[[0.0,\"#0d0887\"],[0.1111111111111111,\"#46039f\"],[0.2222222222222222,\"#7201a8\"],[0.3333333333333333,\"#9c179e\"],[0.4444444444444444,\"#bd3786\"],[0.5555555555555556,\"#d8576b\"],[0.6666666666666666,\"#ed7953\"],[0.7777777777777778,\"#fb9f3a\"],[0.8888888888888888,\"#fdca26\"],[1.0,\"#f0f921\"]],\"type\":\"heatmap\"}],\"heatmapgl\":[{\"colorbar\":{\"outlinewidth\":0,\"ticks\":\"\"},\"colorscale\":[[0.0,\"#0d0887\"],[0.1111111111111111,\"#46039f\"],[0.2222222222222222,\"#7201a8\"],[0.3333333333333333,\"#9c179e\"],[0.4444444444444444,\"#bd3786\"],[0.5555555555555556,\"#d8576b\"],[0.6666666666666666,\"#ed7953\"],[0.7777777777777778,\"#fb9f3a\"],[0.8888888888888888,\"#fdca26\"],[1.0,\"#f0f921\"]],\"type\":\"heatmapgl\"}],\"histogram\":[{\"marker\":{\"pattern\":{\"fillmode\":\"overlay\",\"size\":10,\"solidity\":0.2}},\"type\":\"histogram\"}],\"histogram2d\":[{\"colorbar\":{\"outlinewidth\":0,\"ticks\":\"\"},\"colorscale\":[[0.0,\"#0d0887\"],[0.1111111111111111,\"#46039f\"],[0.2222222222222222,\"#7201a8\"],[0.3333333333333333,\"#9c179e\"],[0.4444444444444444,\"#bd3786\"],[0.5555555555555556,\"#d8576b\"],[0.6666666666666666,\"#ed7953\"],[0.7777777777777778,\"#fb9f3a\"],[0.8888888888888888,\"#fdca26\"],[1.0,\"#f0f921\"]],\"type\":\"histogram2d\"}],\"histogram2dcontour\":[{\"colorbar\":{\"outlinewidth\":0,\"ticks\":\"\"},\"colorscale\":[[0.0,\"#0d0887\"],[0.1111111111111111,\"#46039f\"],[0.2222222222222222,\"#7201a8\"],[0.3333333333333333,\"#9c179e\"],[0.4444444444444444,\"#bd3786\"],[0.5555555555555556,\"#d8576b\"],[0.6666666666666666,\"#ed7953\"],[0.7777777777777778,\"#fb9f3a\"],[0.8888888888888888,\"#fdca26\"],[1.0,\"#f0f921\"]],\"type\":\"histogram2dcontour\"}],\"mesh3d\":[{\"colorbar\":{\"outlinewidth\":0,\"ticks\":\"\"},\"type\":\"mesh3d\"}],\"parcoords\":[{\"line\":{\"colorbar\":{\"outlinewidth\":0,\"ticks\":\"\"}},\"type\":\"parcoords\"}],\"pie\":[{\"automargin\":true,\"type\":\"pie\"}],\"scatter\":[{\"marker\":{\"colorbar\":{\"outlinewidth\":0,\"ticks\":\"\"}},\"type\":\"scatter\"}],\"scatter3d\":[{\"line\":{\"colorbar\":{\"outlinewidth\":0,\"ticks\":\"\"}},\"marker\":{\"colorbar\":{\"outlinewidth\":0,\"ticks\":\"\"}},\"type\":\"scatter3d\"}],\"scattercarpet\":[{\"marker\":{\"colorbar\":{\"outlinewidth\":0,\"ticks\":\"\"}},\"type\":\"scattercarpet\"}],\"scattergeo\":[{\"marker\":{\"colorbar\":{\"outlinewidth\":0,\"ticks\":\"\"}},\"type\":\"scattergeo\"}],\"scattergl\":[{\"marker\":{\"colorbar\":{\"outlinewidth\":0,\"ticks\":\"\"}},\"type\":\"scattergl\"}],\"scattermapbox\":[{\"marker\":{\"colorbar\":{\"outlinewidth\":0,\"ticks\":\"\"}},\"type\":\"scattermapbox\"}],\"scatterpolar\":[{\"marker\":{\"colorbar\":{\"outlinewidth\":0,\"ticks\":\"\"}},\"type\":\"scatterpolar\"}],\"scatterpolargl\":[{\"marker\":{\"colorbar\":{\"outlinewidth\":0,\"ticks\":\"\"}},\"type\":\"scatterpolargl\"}],\"scatterternary\":[{\"marker\":{\"colorbar\":{\"outlinewidth\":0,\"ticks\":\"\"}},\"type\":\"scatterternary\"}],\"surface\":[{\"colorbar\":{\"outlinewidth\":0,\"ticks\":\"\"},\"colorscale\":[[0.0,\"#0d0887\"],[0.1111111111111111,\"#46039f\"],[0.2222222222222222,\"#7201a8\"],[0.3333333333333333,\"#9c179e\"],[0.4444444444444444,\"#bd3786\"],[0.5555555555555556,\"#d8576b\"],[0.6666666666666666,\"#ed7953\"],[0.7777777777777778,\"#fb9f3a\"],[0.8888888888888888,\"#fdca26\"],[1.0,\"#f0f921\"]],\"type\":\"surface\"}],\"table\":[{\"cells\":{\"fill\":{\"color\":\"#EBF0F8\"},\"line\":{\"color\":\"white\"}},\"header\":{\"fill\":{\"color\":\"#C8D4E3\"},\"line\":{\"color\":\"white\"}},\"type\":\"table\"}]},\"layout\":{\"annotationdefaults\":{\"arrowcolor\":\"#2a3f5f\",\"arrowhead\":0,\"arrowwidth\":1},\"autotypenumbers\":\"strict\",\"coloraxis\":{\"colorbar\":{\"outlinewidth\":0,\"ticks\":\"\"}},\"colorscale\":{\"diverging\":[[0,\"#8e0152\"],[0.1,\"#c51b7d\"],[0.2,\"#de77ae\"],[0.3,\"#f1b6da\"],[0.4,\"#fde0ef\"],[0.5,\"#f7f7f7\"],[0.6,\"#e6f5d0\"],[0.7,\"#b8e186\"],[0.8,\"#7fbc41\"],[0.9,\"#4d9221\"],[1,\"#276419\"]],\"sequential\":[[0.0,\"#0d0887\"],[0.1111111111111111,\"#46039f\"],[0.2222222222222222,\"#7201a8\"],[0.3333333333333333,\"#9c179e\"],[0.4444444444444444,\"#bd3786\"],[0.5555555555555556,\"#d8576b\"],[0.6666666666666666,\"#ed7953\"],[0.7777777777777778,\"#fb9f3a\"],[0.8888888888888888,\"#fdca26\"],[1.0,\"#f0f921\"]],\"sequentialminus\":[[0.0,\"#0d0887\"],[0.1111111111111111,\"#46039f\"],[0.2222222222222222,\"#7201a8\"],[0.3333333333333333,\"#9c179e\"],[0.4444444444444444,\"#bd3786\"],[0.5555555555555556,\"#d8576b\"],[0.6666666666666666,\"#ed7953\"],[0.7777777777777778,\"#fb9f3a\"],[0.8888888888888888,\"#fdca26\"],[1.0,\"#f0f921\"]]},\"colorway\":[\"#636efa\",\"#EF553B\",\"#00cc96\",\"#ab63fa\",\"#FFA15A\",\"#19d3f3\",\"#FF6692\",\"#B6E880\",\"#FF97FF\",\"#FECB52\"],\"font\":{\"color\":\"#2a3f5f\"},\"geo\":{\"bgcolor\":\"white\",\"lakecolor\":\"white\",\"landcolor\":\"#E5ECF6\",\"showlakes\":true,\"showland\":true,\"subunitcolor\":\"white\"},\"hoverlabel\":{\"align\":\"left\"},\"hovermode\":\"closest\",\"mapbox\":{\"style\":\"light\"},\"paper_bgcolor\":\"white\",\"plot_bgcolor\":\"#E5ECF6\",\"polar\":{\"angularaxis\":{\"gridcolor\":\"white\",\"linecolor\":\"white\",\"ticks\":\"\"},\"bgcolor\":\"#E5ECF6\",\"radialaxis\":{\"gridcolor\":\"white\",\"linecolor\":\"white\",\"ticks\":\"\"}},\"scene\":{\"xaxis\":{\"backgroundcolor\":\"#E5ECF6\",\"gridcolor\":\"white\",\"gridwidth\":2,\"linecolor\":\"white\",\"showbackground\":true,\"ticks\":\"\",\"zerolinecolor\":\"white\"},\"yaxis\":{\"backgroundcolor\":\"#E5ECF6\",\"gridcolor\":\"white\",\"gridwidth\":2,\"linecolor\":\"white\",\"showbackground\":true,\"ticks\":\"\",\"zerolinecolor\":\"white\"},\"zaxis\":{\"backgroundcolor\":\"#E5ECF6\",\"gridcolor\":\"white\",\"gridwidth\":2,\"linecolor\":\"white\",\"showbackground\":true,\"ticks\":\"\",\"zerolinecolor\":\"white\"}},\"shapedefaults\":{\"line\":{\"color\":\"#2a3f5f\"}},\"ternary\":{\"aaxis\":{\"gridcolor\":\"white\",\"linecolor\":\"white\",\"ticks\":\"\"},\"baxis\":{\"gridcolor\":\"white\",\"linecolor\":\"white\",\"ticks\":\"\"},\"bgcolor\":\"#E5ECF6\",\"caxis\":{\"gridcolor\":\"white\",\"linecolor\":\"white\",\"ticks\":\"\"}},\"title\":{\"x\":0.05},\"xaxis\":{\"automargin\":true,\"gridcolor\":\"white\",\"linecolor\":\"white\",\"ticks\":\"\",\"title\":{\"standoff\":15},\"zerolinecolor\":\"white\",\"zerolinewidth\":2},\"yaxis\":{\"automargin\":true,\"gridcolor\":\"white\",\"linecolor\":\"white\",\"ticks\":\"\",\"title\":{\"standoff\":15},\"zerolinecolor\":\"white\",\"zerolinewidth\":2}}},\"title\":{\"text\":\"Performance of Different Models Using 5-Fold Cross-Validation\"},\"paper_bgcolor\":\"rgb(243, 243, 243)\",\"plot_bgcolor\":\"rgb(243, 243, 243)\",\"xaxis\":{\"title\":{\"text\":\"Model\"}},\"yaxis\":{\"title\":{\"text\":\"Accuracy\"}},\"showlegend\":false},                        {\"responsive\": true}                    ).then(function(){\n",
              "                            \n",
              "var gd = document.getElementById('698944b6-4b02-4f88-a48d-3da16c36c1ee');\n",
              "var x = new MutationObserver(function (mutations, observer) {{\n",
              "        var display = window.getComputedStyle(gd).display;\n",
              "        if (!display || display === 'none') {{\n",
              "            console.log([gd, 'removed!']);\n",
              "            Plotly.purge(gd);\n",
              "            observer.disconnect();\n",
              "        }}\n",
              "}});\n",
              "\n",
              "// Listen for the removal of the full notebook cells\n",
              "var notebookContainer = gd.closest('#notebook-container');\n",
              "if (notebookContainer) {{\n",
              "    x.observe(notebookContainer, {childList: true});\n",
              "}}\n",
              "\n",
              "// Listen for the clearing of the current output cell\n",
              "var outputEl = gd.closest('.output');\n",
              "if (outputEl) {{\n",
              "    x.observe(outputEl, {childList: true});\n",
              "}}\n",
              "\n",
              "                        })                };                            </script>        </div>\n",
              "</body>\n",
              "</html>"
            ]
          },
          "metadata": {},
          "output_type": "display_data"
        }
      ],
      "source": [
        "#Grafico performance\n",
        "plot_results(model_scores_st_tp1, name='st_clf_tp1_cv')"
      ]
    },
    {
      "cell_type": "markdown",
      "metadata": {
        "id": "796oFDMyHllJ"
      },
      "source": [
        "Vemos el resultado que se mencionab_sta en las clases de como muchos modelos mediocres, juntos, podrían resultar en un modelo mucho mejor. Como observamos, las metricas de cada uno de los modelos no pasa el 0.62, no como la metrica final del ensamble."
      ]
    },
    {
      "cell_type": "markdown",
      "metadata": {
        "id": "YUnD1iHyHllJ"
      },
      "source": [
        "Habiendo hecho este analisis, procedemos a entrenar el modelo y predecir con el mismo. "
      ]
    },
    {
      "cell_type": "code",
      "execution_count": null,
      "metadata": {
        "colab": {
          "background_save": true
        },
        "id": "I7X8KPypHllK",
        "outputId": "5040f96c-305d-4c9e-9308-af4f829951b7"
      },
      "outputs": [
        {
          "name": "stderr",
          "output_type": "stream",
          "text": [
            "[Parallel(n_jobs=1)]: Using backend SequentialBackend with 1 concurrent workers.\n",
            "[Parallel(n_jobs=1)]: Done   1 out of   1 | elapsed:    3.4s remaining:    0.0s\n",
            "[Parallel(n_jobs=1)]: Done   5 out of   5 | elapsed:   19.0s finished\n",
            "[Parallel(n_jobs=1)]: Using backend SequentialBackend with 1 concurrent workers.\n",
            "[Parallel(n_jobs=1)]: Done   1 out of   1 | elapsed:    3.6s remaining:    0.0s\n",
            "[Parallel(n_jobs=1)]: Done   5 out of   5 | elapsed:   17.8s finished\n",
            "[Parallel(n_jobs=1)]: Using backend SequentialBackend with 1 concurrent workers.\n",
            "[Parallel(n_jobs=1)]: Done   1 out of   1 | elapsed:    0.1s remaining:    0.0s\n",
            "[Parallel(n_jobs=1)]: Done   5 out of   5 | elapsed:    0.8s finished\n"
          ]
        }
      ],
      "source": [
        "#Evaluo en conjunto de test\n",
        "st_clf_tp1.fit(x_train_ensamble_tp1,y_train_ensamble).score(x_test_ensamble_tp1,y_test_ensamble)\n",
        "y_pred_st_tp1 = st_clf_tp1.predict(x_test_ensamble_tp1)"
      ]
    },
    {
      "cell_type": "code",
      "execution_count": null,
      "metadata": {
        "colab": {
          "background_save": true
        },
        "id": "TPZoDRGeeS6e",
        "outputId": "5ab06fea-977b-408b-fb4b-648f4bd7bb51"
      },
      "outputs": [
        {
          "name": "stdout",
          "output_type": "stream",
          "text": [
            "Accuracy: 0.6122516556291391\n",
            "Recall: 0.5564235964392118\n",
            "f1 score: 0.5764413487607402\n"
          ]
        }
      ],
      "source": [
        "st_accuracy_tp1=accuracy_score(y_test_target,y_pred_st_tp1)\n",
        "st_recall_tp1=recall_score(y_test_target,y_pred_st_tp1, average='macro')\n",
        "st_f1_tp1=f1_score(y_test_target,y_pred_st_tp1, average='macro')\n",
        "\n",
        "print(\"Accuracy: \"+str(st_accuracy_tp1))\n",
        "print(\"Recall: \"+str(st_recall_tp1))\n",
        "print(\"f1 score: \"+str(st_f1_tp1))"
      ]
    },
    {
      "cell_type": "markdown",
      "metadata": {
        "id": "okH6YkNgHllL"
      },
      "source": [
        "Obtenemos la siguiente metrica de accuracy."
      ]
    },
    {
      "cell_type": "code",
      "execution_count": null,
      "metadata": {
        "colab": {
          "background_save": true
        },
        "id": "6Lw2PjaEHllL",
        "outputId": "0ad62ffc-3a7e-40ab-c35b-d875fc21629f"
      },
      "outputs": [
        {
          "name": "stdout",
          "output_type": "stream",
          "text": [
            "Accuracy obtenida con el ensamble de stackig:  0.6122516556291391\n"
          ]
        }
      ],
      "source": [
        "print(\"Accuracy obtenida con el ensamble de stackig: \", accuracy_score(y_test_ensamble, y_pred_st_tp1))"
      ]
    },
    {
      "cell_type": "markdown",
      "metadata": {
        "id": "3IfQVnoKHllM"
      },
      "source": [
        "Analicemos la matriz de confusion obtenida luego de las predicciones."
      ]
    },
    {
      "cell_type": "code",
      "execution_count": null,
      "metadata": {
        "colab": {
          "background_save": true
        },
        "id": "5RrSQH8pHllM",
        "outputId": "946e54e1-a9d8-4564-d422-aff1c22bea0f"
      },
      "outputs": [
        {
          "data": {
            "text/plain": [
              "[Text(32.09375, 0.5, 'True'), Text(0.5, 14.09375, 'Predicted')]"
            ]
          },
          "execution_count": 242,
          "metadata": {},
          "output_type": "execute_result"
        },
        {
          "data": {
            "image/png": "[encoded data removed]",
            "text/plain": [
              "<Figure size 432x288 with 2 Axes>"
            ]
          },
          "metadata": {},
          "output_type": "display_data"
        }
      ],
      "source": [
        "#Creo la matriz de confusión\n",
        "st_tabla_tp1=confusion_matrix(y_test_ensamble, y_pred_st_tp1)\n",
        "st_columnas=identificar_clasificacion(y_pred_st_tp1,st_tabla_tp1)\n",
        "\n",
        "#Grafico la matriz de confusión\n",
        "sns.heatmap(st_tabla_tp1,cmap='GnBu',annot=True,fmt='g', yticklabels = st_columnas, xticklabels = st_columnas).set(xlabel=\"Predicted\", ylabel=\"True\")"
      ]
    },
    {
      "cell_type": "markdown",
      "metadata": {
        "id": "uF7-9goxFfdK"
      },
      "source": [
        "### Conclusion de Stacking"
      ]
    },
    {
      "cell_type": "code",
      "execution_count": null,
      "metadata": {
        "colab": {
          "background_save": true
        },
        "id": "T34WMwVOdka_",
        "outputId": "5cc3b827-e544-48d6-d32d-226be8455bf2"
      },
      "outputs": [
        {
          "name": "stdout",
          "output_type": "stream",
          "text": [
            "Accuracy con features nuevos: 0.6330389992641648\n",
            "Recall con features nuevos: 0.581219091118423\n",
            "f1 score con features nuevos: 0.6027942050914362\n",
            "Accuracy: 0.6122516556291391\n",
            "Recall: 0.5564235964392118\n",
            "f1 score: 0.5764413487607402\n",
            "Diferencia en Accuracy al agregar features nuevos: 0.020787343635025768\n",
            "Diferencia en Recall al agregar features nuevos: 0.02479549467921116\n",
            "Diferencia en f1 score al agregar features nuevos: 0.02635285633069606\n"
          ]
        }
      ],
      "source": [
        "print(\"Accuracy con features nuevos: \"+str(st_accuracy_nuevos))\n",
        "print(\"Recall con features nuevos: \"+str(st_recall_nuevos))\n",
        "print(\"f1 score con features nuevos: \"+str(st_f1_nuevos))\n",
        "\n",
        "print(\"Accuracy: \"+str(st_accuracy_tp1))\n",
        "print(\"Recall: \"+str(st_recall_tp1))\n",
        "print(\"f1 score: \"+str(st_f1_tp1))\n",
        "\n",
        "print(\"Diferencia en Accuracy al agregar features nuevos: \"+str(st_accuracy_nuevos - st_accuracy_tp1))\n",
        "print(\"Diferencia en Recall al agregar features nuevos: \"+str(st_recall_nuevos - st_recall_tp1))\n",
        "print(\"Diferencia en f1 score al agregar features nuevos: \"+str(st_f1_nuevos - st_f1_tp1))"
      ]
    },
    {
      "cell_type": "markdown",
      "metadata": {
        "id": "pMxgclJGBvqm"
      },
      "source": [
        "# Conclusion general"
      ]
    },
    {
      "cell_type": "markdown",
      "source": [
        "XGBoost:"
      ],
      "metadata": {
        "id": "7K9Atd1Y75n_"
      }
    },
    {
      "cell_type": "code",
      "source": [
        "print(\"------------------------------------------------------------------------------------\")\n",
        "print(\"Metricas utilizando el dataset del tp1\")\n",
        "calcular_metricas_de_regresion(xgb_y_pred)\n",
        "print(\"----------------------------------------------------------\")\n",
        "print(\"Metricas utilizando el dataset con features nuevos\")\n",
        "calcular_metricas_de_regresion(xgb_y_pred_fn)\n",
        "print(\"------------------------------------------------------------------------------------\")"
      ],
      "metadata": {
        "colab": {
          "base_uri": "https://localhost:8080/"
        },
        "id": "YC2NT1P_66g4",
        "outputId": "1e44e081-4301-4c11-cf1a-6aa6b38373db"
      },
      "execution_count": 288,
      "outputs": [
        {
          "output_type": "stream",
          "name": "stdout",
          "text": [
            "------------------------------------------------------------------------------------\n",
            "Metricas utilizando el dataset del tp1\n",
            "El error (mse) de test es: 20136158403.007263\n",
            "El error (rmse) de test es: 141901.93234416246\n",
            "----------------------------------------------------------\n",
            "Metricas utilizando el dataset con features nuevos\n",
            "El error (mse) de test es: 9740892610.387033\n",
            "El error (rmse) de test es: 98695.9604562772\n",
            "------------------------------------------------------------------------------------\n"
          ]
        }
      ]
    },
    {
      "cell_type": "markdown",
      "source": [
        "Redes Neuronales Regresion"
      ],
      "metadata": {
        "id": "BtNrabHo77T4"
      }
    },
    {
      "cell_type": "code",
      "source": [
        "print(\"------------------------------------------------------------------------------------\")\n",
        "print(\"Metricas de redes neuronales - regresion\")\n",
        "print(f\"Error absoluto medio {mae_red_reg}\")\n",
        "print(f\"Error cuadrático medio {mse_red_reg}\")\n",
        "print(f\"El error (rmse) de test es: {rmse_red_reg}\")\n",
        "print(f\"El r2 score es: {r2score_red_reg}\")\n",
        "print(\"------------------------------------------------------------------------------------\")"
      ],
      "metadata": {
        "colab": {
          "base_uri": "https://localhost:8080/"
        },
        "id": "kHGzhGHZ6-6m",
        "outputId": "a8d50207-60ce-4c24-a5c4-73584b5a5440"
      },
      "execution_count": 289,
      "outputs": [
        {
          "output_type": "stream",
          "name": "stdout",
          "text": [
            "------------------------------------------------------------------------------------\n",
            "Metricas de redes neuronales - regresion\n",
            "Error absoluto medio 45257.09385577631\n",
            "Error cuadrático medio 8805884848.616373\n",
            "El error (rmse) de test es: 93839.67630281113\n",
            "El r2 score es: 0.8572141362176638\n",
            "------------------------------------------------------------------------------------\n"
          ]
        }
      ]
    },
    {
      "cell_type": "markdown",
      "source": [
        "Redes Neuronales Clasificacion"
      ],
      "metadata": {
        "id": "YyrIMs6s8AJ9"
      }
    },
    {
      "cell_type": "code",
      "source": [
        "print(\"------------------------------------------------------------------------------------\")\n",
        "print(\"Metricas de redes neuronales - clasificacion\")\n",
        "print(\"Accuracy: \", accuracy_score(y_test_target_clases, y_predic_red_clas_clases))\n",
        "print(\"Precision: \" ,precision_score(y_test_target_clases, y_predic_red_clas_clases, average=\"macro\"))\n",
        "print(\"Recall: \",recall_score(y_test_target_clases, y_predic_red_clas_clases , average=\"macro\"))\n",
        "print(\"f1_score: \",f1_score(y_test_target_clases, y_predic_red_clas_clases, average=\"macro\"))\n",
        "print(\"------------------------------------------------------------------------------------\")"
      ],
      "metadata": {
        "colab": {
          "base_uri": "https://localhost:8080/"
        },
        "id": "JcACUAQw7Aal",
        "outputId": "b7bc690f-77df-486f-b112-0e37f1834b3e"
      },
      "execution_count": 290,
      "outputs": [
        {
          "output_type": "stream",
          "name": "stdout",
          "text": [
            "------------------------------------------------------------------------------------\n",
            "Metricas de redes neuronales - clasificacion\n",
            "Accuracy:  0.633149374540103\n",
            "Precision:  0.6526260408944845\n",
            "Recall:  0.5868828692942235\n",
            "f1_score:  0.6065529914425908\n",
            "------------------------------------------------------------------------------------\n"
          ]
        }
      ]
    },
    {
      "cell_type": "markdown",
      "source": [
        "Voting"
      ],
      "metadata": {
        "id": "iCHhbDvl8CFi"
      }
    },
    {
      "cell_type": "code",
      "source": [
        "print(\"------------------------------------------------------------------------------------\")\n",
        "print(\"Metricas de ensambles - voting\")\n",
        "print(\"Accuracy con features nuevos: \"+str(vot_accuracy_fn))\n",
        "print(\"Recall con features nuevos: \"+str(vot_recall_fn))\n",
        "print(\"f1 score con features nuevos: \"+str(vot_f1_fn))\n",
        "print(\"----------------------------------------------------------\")\n",
        "print(\"Accuracy: \"+str(vot_accuracy_tp1))\n",
        "print(\"Recall: \"+str(vot_recall_tp1))\n",
        "print(\"f1 score: \"+str(vot_f1_tp1))\n",
        "print(\"----------------------------------------------------------\")\n",
        "print(\"Diferencia en Accuracy al agregar features nuevos: \"+str(vot_accuracy_fn - vot_accuracy_tp1))\n",
        "print(\"Diferencia en Recall al agregar features nuevos: \"+str(vot_recall_fn - vot_recall_tp1))\n",
        "print(\"Diferencia en f1 score al agregar features nuevos: \"+str(vot_f1_fn - vot_f1_tp1))\n",
        "print(\"------------------------------------------------------------------------------------\")"
      ],
      "metadata": {
        "colab": {
          "base_uri": "https://localhost:8080/"
        },
        "id": "Gj74bDb77B6i",
        "outputId": "e1308f1a-8fdf-4750-dad6-eae8b53caf92"
      },
      "execution_count": 291,
      "outputs": [
        {
          "output_type": "stream",
          "name": "stdout",
          "text": [
            "------------------------------------------------------------------------------------\n",
            "Metricas de ensambles - voting\n",
            "Accuracy con features nuevos: 0.60813097866078\n",
            "Recall con features nuevos: 0.5486314883430544\n",
            "f1 score con features nuevos: 0.5692665713963133\n",
            "----------------------------------------------------------\n",
            "Accuracy: 0.5838852097130243\n",
            "Recall: 0.5065272837896727\n",
            "f1 score: 0.522733325552808\n",
            "----------------------------------------------------------\n",
            "Diferencia en Accuracy al agregar features nuevos: 0.024245768947755764\n",
            "Diferencia en Recall al agregar features nuevos: 0.04210420455338171\n",
            "Diferencia en f1 score al agregar features nuevos: 0.046533245843505266\n",
            "------------------------------------------------------------------------------------\n"
          ]
        }
      ]
    },
    {
      "cell_type": "markdown",
      "source": [
        "Stacking"
      ],
      "metadata": {
        "id": "PYAst4Aw8Dtr"
      }
    },
    {
      "cell_type": "code",
      "execution_count": 292,
      "metadata": {
        "colab": {
          "base_uri": "https://localhost:8080/"
        },
        "id": "LMM_C4-Giwq3",
        "outputId": "51eed47e-72db-46a2-d3c4-21b0668b35f3"
      },
      "outputs": [
        {
          "output_type": "stream",
          "name": "stdout",
          "text": [
            "------------------------------------------------------------------------------------\n",
            "Metricas de ensambles - stacking\n",
            "Accuracy con features nuevos: 0.6330389992641648\n",
            "Recall con features nuevos: 0.581219091118423\n",
            "f1 score con features nuevos: 0.6027942050914362\n",
            "----------------------------------------------------------\n",
            "Accuracy: 0.6122516556291391\n",
            "Recall: 0.5564235964392118\n",
            "f1 score: 0.5764413487607402\n",
            "----------------------------------------------------------\n",
            "Diferencia en Accuracy al agregar features nuevos: 0.020787343635025768\n",
            "Diferencia en Recall al agregar features nuevos: 0.02479549467921116\n",
            "Diferencia en f1 score al agregar features nuevos: 0.02635285633069606\n",
            "------------------------------------------------------------------------------------\n"
          ]
        }
      ],
      "source": [
        "print(\"------------------------------------------------------------------------------------\")\n",
        "print(\"Metricas de ensambles - stacking\")\n",
        "print(\"Accuracy con features nuevos: \"+str(st_accuracy_nuevos))\n",
        "print(\"Recall con features nuevos: \"+str(st_recall_nuevos))\n",
        "print(\"f1 score con features nuevos: \"+str(st_f1_nuevos))\n",
        "print(\"----------------------------------------------------------\")\n",
        "print(\"Accuracy: \"+str(st_accuracy_tp1))\n",
        "print(\"Recall: \"+str(st_recall_tp1))\n",
        "print(\"f1 score: \"+str(st_f1_tp1))\n",
        "print(\"----------------------------------------------------------\")\n",
        "print(\"Diferencia en Accuracy al agregar features nuevos: \"+str(st_accuracy_nuevos - st_accuracy_tp1))\n",
        "print(\"Diferencia en Recall al agregar features nuevos: \"+str(st_recall_nuevos - st_recall_tp1))\n",
        "print(\"Diferencia en f1 score al agregar features nuevos: \"+str(st_f1_nuevos - st_f1_tp1))\n",
        "print(\"------------------------------------------------------------------------------------\")"
      ]
    },
    {
      "cell_type": "markdown",
      "metadata": {
        "id": "F1VhFlhNipFi"
      },
      "source": [
        "En conclusion, con la realizacion de este trabajo practico pudimos estudiar la mejora en el uso de modelos de ciencias de datos al agregagar features impiricamente importantes para la prediccion de alguna caracteristica.\n",
        "\n",
        "Como podemos observar, todas las metricas de los modelos utilizados a lo largo del trabajo presentan mejores resultados al haber usado los features agregados. De esta manera podemos ver la importancia, y correlacion de los features nuevos con el precio, validando asi el hecho de haberlos considerado para el estudio y prediccion de precios."
      ]
    }
  ],
  "metadata": {
    "colab": {
      "collapsed_sections": [
        "6vcvjw4UYujD",
        "Xm3h5TbLZ5A2",
        "uUaCYcKAZ-10",
        "0K57lNMhtC89",
        "yaQ6t7ObtKaC",
        "bvn_OfA4yEzB",
        "rKssPi-_ZoAL",
        "EDc3SyKegzAh",
        "6j63QWYL_2Lp",
        "9fRidYXrF9N_",
        "lVDcUtR2Hlk_",
        "uF7-9goxFfdK"
      ],
      "provenance": [],
      "toc_visible": true,
      "include_colab_link": true
    },
    "kernelspec": {
      "display_name": "Python 3",
      "name": "python3"
    },
    "language_info": {
      "name": "python"
    }
  },
  "nbformat": 4,
  "nbformat_minor": 0
}